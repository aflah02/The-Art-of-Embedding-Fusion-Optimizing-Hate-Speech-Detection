{
 "cells": [
  {
   "cell_type": "code",
   "execution_count": 2,
   "metadata": {},
   "outputs": [],
   "source": [
    "import cleansetext\n",
    "import pandas as pd"
   ]
  },
  {
   "cell_type": "code",
   "execution_count": 3,
   "metadata": {},
   "outputs": [],
   "source": [
    "df_dynabench = pd.read_csv(\"Raw_Data\\DynaHate\\DynaHate.csv\")"
   ]
  },
  {
   "cell_type": "code",
   "execution_count": 4,
   "metadata": {},
   "outputs": [],
   "source": [
    "df_dynabench = df_dynabench[['text', 'label', 'split']]"
   ]
  },
  {
   "cell_type": "code",
   "execution_count": 5,
   "metadata": {},
   "outputs": [],
   "source": [
    "import cleansetext\n",
    "from cleansetext.pipeline import Pipeline\n",
    "from cleansetext.steps import *\n",
    "from nltk.tokenize import TweetTokenizer\n",
    "\n",
    "tk = TweetTokenizer()\n",
    "\n",
    "# Create a pipeline with a list of preprocessing steps\n",
    "pipeline = Pipeline([\n",
    "    RemoveEmojis(),\n",
    "    RemoveAllPunctuations(),\n",
    "    RemoveTokensWithOnlyPunctuations(),\n",
    "    ReplaceURLsandHTMLTags(),\n",
    "    ReplaceUsernames(),\n",
    "    RemoveWhiteSpaceOrChunksOfWhiteSpace()\n",
    "], track_diffs=False)\n",
    "\n",
    "def apply_preprocessing(text):\n",
    "    text = tk.tokenize(text)\n",
    "    text = pipeline.process(text)\n",
    "    return \" \".join(text)"
   ]
  },
  {
   "cell_type": "code",
   "execution_count": 6,
   "metadata": {},
   "outputs": [],
   "source": [
    "df_dynabench['text'] = df_dynabench['text'].apply(apply_preprocessing)"
   ]
  },
  {
   "cell_type": "code",
   "execution_count": 7,
   "metadata": {},
   "outputs": [],
   "source": [
    "df_dynabench['label'] = df_dynabench['label'].map({'hate': 1, 'nothate': 0})"
   ]
  },
  {
   "cell_type": "code",
   "execution_count": 8,
   "metadata": {},
   "outputs": [],
   "source": [
    "df_dynabench_train = df_dynabench[df_dynabench['split'] == 'train']\n",
    "df_dynabench_dev = df_dynabench[df_dynabench['split'] == 'dev']\n",
    "df_dynabench_test = df_dynabench[df_dynabench['split'] == 'test']"
   ]
  },
  {
   "cell_type": "code",
   "execution_count": 10,
   "metadata": {},
   "outputs": [
    {
     "name": "stdout",
     "output_type": "stream",
     "text": [
      "17740 2167 2268\n",
      "15184 1933 1852\n"
     ]
    }
   ],
   "source": [
    "hate_train = (df_dynabench_train['label'] == 1).sum()\n",
    "hate_dev = (df_dynabench_dev['label'] == 1).sum()\n",
    "hate_test = (df_dynabench_test['label'] == 1).sum()\n",
    "\n",
    "non_hate_train = (df_dynabench_train['label'] == 0).sum()\n",
    "non_hate_dev = (df_dynabench_dev['label'] == 0).sum()\n",
    "non_hate_test = (df_dynabench_test['label'] == 0).sum()\n",
    "\n",
    "print(hate_train, hate_dev, hate_test)\n",
    "print(non_hate_train, non_hate_dev, non_hate_test)"
   ]
  },
  {
   "cell_type": "code",
   "execution_count": 14,
   "metadata": {},
   "outputs": [],
   "source": [
    "df_dynabench_train = df_dynabench_train[['text', 'label']]\n",
    "df_dynabench_dev = df_dynabench_dev[['text', 'label']]\n",
    "df_dynabench_test = df_dynabench_test[['text', 'label']]"
   ]
  },
  {
   "cell_type": "code",
   "execution_count": 15,
   "metadata": {},
   "outputs": [],
   "source": [
    "df_dynabench_train.to_csv('PreProcessed_Data\\DynaHate\\DynaHate_Training.txt', sep='\\t', index=False)\n",
    "df_dynabench_dev.to_csv('PreProcessed_Data\\DynaHate\\DynaHate_Val.txt', sep='\\t', index=False)\n",
    "df_dynabench_test.to_csv('PreProcessed_Data\\DynaHate\\DynaHate_Test.txt', sep='\\t', index=False)"
   ]
  }
 ],
 "metadata": {
  "kernelspec": {
   "display_name": "Python 3 (ipykernel)",
   "language": "python",
   "name": "python3"
  },
  "orig_nbformat": 4,
  "vscode": {
   "interpreter": {
    "hash": "a5a87ee616be0254e3f1af9223138e3faeac65b2c9d91bc22a9fc5a4a8bd8eb0"
   }
  }
 },
 "nbformat": 4,
 "nbformat_minor": 2
}
