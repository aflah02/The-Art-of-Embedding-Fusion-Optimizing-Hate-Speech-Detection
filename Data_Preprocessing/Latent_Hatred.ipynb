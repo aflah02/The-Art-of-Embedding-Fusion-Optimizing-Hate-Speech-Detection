{
 "cells": [
  {
   "cell_type": "code",
   "execution_count": 1,
   "metadata": {},
   "outputs": [],
   "source": [
    "import cleansetext\n",
    "import pandas as pd"
   ]
  },
  {
   "cell_type": "code",
   "execution_count": 2,
   "metadata": {},
   "outputs": [],
   "source": [
    "df_stg_1_post_label = pd.read_csv('Raw_Data\\Latent_Hatred\\implicit_hate_v1_stg1_posts.tsv',\n",
    "                      delimiter = '\\t')\n",
    "df_stg_1_id_label = pd.read_csv('Raw_Data\\Latent_Hatred\\implicit_hate_v1_stg1.tsv',\n",
    "                      delimiter = '\\t')\n",
    "df_stg_2_post_implicit_class = pd.read_csv('Raw_Data\\Latent_Hatred\\implicit_hate_v1_stg2_posts.tsv',\n",
    "                                  delimiter = '\\t')\n",
    "df_stg_2_id_implicit_class = pd.read_csv('Raw_Data\\Latent_Hatred\\implicit_hate_v1_stg2.tsv',\n",
    "                                  delimiter = '\\t')\n",
    "df_stg3_implicit_post_target_implied_statement = pd.read_csv(\"Raw_Data\\Latent_Hatred\\implicit_hate_v1_stg3_posts.tsv\", delimiter = '\\t')\n",
    "df_mre = pd.merge(df_stg_1_post_label, df_stg_2_post_implicit_class, on='post', how='outer')"
   ]
  },
  {
   "cell_type": "code",
   "execution_count": 3,
   "metadata": {},
   "outputs": [],
   "source": [
    "df_stg_1_posts = df_stg_1_post_label['post'].to_list()\n",
    "df_stg_1_classes = df_stg_1_post_label['class'].to_list()\n",
    "df_stg_2_posts = df_stg_2_post_implicit_class['post'].to_list()\n",
    "df_stg_2_implicit_class = df_stg_2_post_implicit_class['implicit_class'].to_list()\n",
    "df_stg_3_posts = df_stg3_implicit_post_target_implied_statement['post'].to_list()\n",
    "df_stg_3_targets = df_stg3_implicit_post_target_implied_statement['target'].to_list()\n",
    "df_stg_3_implied_statement = df_stg3_implicit_post_target_implied_statement['implied_statement'].to_list()"
   ]
  },
  {
   "cell_type": "code",
   "execution_count": 4,
   "metadata": {},
   "outputs": [],
   "source": [
    "final_posts = []\n",
    "final_labels = []\n",
    "final_implicit_class = []\n",
    "c = 0\n",
    "for idx in range(len(df_stg_1_posts)):\n",
    "    if df_stg_1_classes[idx] == 'implicit_hate':\n",
    "        if df_stg_1_posts[idx] not in df_stg_2_posts:\n",
    "            final_posts.append(df_stg_1_posts[idx])\n",
    "            final_labels.append(df_stg_1_classes[idx])\n",
    "            final_implicit_class.append('implicit_but_not_implicit_class_annotated')\n",
    "        else:\n",
    "            final_posts.append(df_stg_1_posts[idx])\n",
    "            final_labels.append(df_stg_1_classes[idx])\n",
    "            final_implicit_class.append(df_stg_2_implicit_class[df_stg_2_posts.index(df_stg_1_posts[idx])])\n",
    "    else:\n",
    "        final_posts.append(df_stg_1_posts[idx])\n",
    "        final_labels.append(df_stg_1_classes[idx])\n",
    "        final_implicit_class.append(df_stg_1_classes[idx])"
   ]
  },
  {
   "cell_type": "code",
   "execution_count": 14,
   "metadata": {},
   "outputs": [],
   "source": [
    "df_latenthatred = pd.DataFrame({'final_posts':final_posts, \n",
    "                              'final_labels':final_labels, \n",
    "                            })"
   ]
  },
  {
   "cell_type": "code",
   "execution_count": 15,
   "metadata": {},
   "outputs": [],
   "source": [
    "import cleansetext\n",
    "from cleansetext.pipeline import Pipeline\n",
    "from cleansetext.steps import *\n",
    "from nltk.tokenize import TweetTokenizer\n",
    "\n",
    "tk = TweetTokenizer()\n",
    "\n",
    "# Create a pipeline with a list of preprocessing steps\n",
    "pipeline = Pipeline([\n",
    "    RemoveEmojis(),\n",
    "    RemoveAllPunctuations(),\n",
    "    RemoveTokensWithOnlyPunctuations(),\n",
    "    ReplaceURLsandHTMLTags(),\n",
    "    ReplaceUsernames(),\n",
    "    RemoveWhiteSpaceOrChunksOfWhiteSpace()\n",
    "], track_diffs=False)\n",
    "\n",
    "def apply_preprocessing(text):\n",
    "    text = tk.tokenize(text)\n",
    "    text = pipeline.process(text)\n",
    "    return \" \".join(text)"
   ]
  },
  {
   "cell_type": "code",
   "execution_count": 16,
   "metadata": {},
   "outputs": [],
   "source": [
    "df_latenthatred['final_posts'] = df_latenthatred['final_posts'].apply(lambda x: apply_preprocessing(x))"
   ]
  },
  {
   "cell_type": "code",
   "execution_count": 22,
   "metadata": {},
   "outputs": [],
   "source": [
    "df_latenthatred_labels = df_latenthatred[['final_posts', 'final_labels']]"
   ]
  },
  {
   "cell_type": "code",
   "execution_count": 25,
   "metadata": {},
   "outputs": [],
   "source": [
    "from sklearn.model_selection import train_test_split\n",
    "\n",
    "df_latenthatred_labels_train, df_latenthatred_labels_test = train_test_split(df_latenthatred_labels, random_state=42, test_size=0.25)"
   ]
  },
  {
   "cell_type": "code",
   "execution_count": 26,
   "metadata": {},
   "outputs": [],
   "source": [
    "df_latenthatred_labels_train['final_labels'] = df_latenthatred_labels_train['final_labels'].map({'implicit_hate': 1, 'not_hate': 0, 'explicit_hate': 2})\n",
    "df_latenthatred_labels_test['final_labels'] = df_latenthatred_labels_test['final_labels'].map({'implicit_hate': 1, 'not_hate': 0, 'explicit_hate': 2})"
   ]
  },
  {
   "cell_type": "code",
   "execution_count": 27,
   "metadata": {},
   "outputs": [],
   "source": [
    "# Train Dev Split\n",
    "df_latenthatred_labels_train, df_latenthatred_labels_dev = train_test_split(df_latenthatred_labels_train, random_state=42, test_size=0.25)"
   ]
  },
  {
   "cell_type": "code",
   "execution_count": 29,
   "metadata": {},
   "outputs": [],
   "source": [
    "df_latenthatred_labels_train.to_csv('PreProcessed_Data\\Latent_Hatred\\LatentHatred_Training.txt', sep='\\t', index=False)\n",
    "df_latenthatred_labels_dev.to_csv('PreProcessed_Data\\Latent_Hatred\\LatentHatred_Val.txt', sep='\\t', index=False)\n",
    "df_latenthatred_labels_test.to_csv('PreProcessed_Data\\Latent_Hatred\\LatentHatred_Test.txt', sep='\\t', index=False)"
   ]
  },
  {
   "cell_type": "code",
   "execution_count": null,
   "metadata": {},
   "outputs": [],
   "source": []
  }
 ],
 "metadata": {
  "kernelspec": {
   "display_name": "Python 3",
   "language": "python",
   "name": "python3"
  },
  "language_info": {
   "codemirror_mode": {
    "name": "ipython",
    "version": 3
   },
   "file_extension": ".py",
   "mimetype": "text/x-python",
   "name": "python",
   "nbconvert_exporter": "python",
   "pygments_lexer": "ipython3",
   "version": "3.9.13"
  },
  "orig_nbformat": 4,
  "vscode": {
   "interpreter": {
    "hash": "a5a87ee616be0254e3f1af9223138e3faeac65b2c9d91bc22a9fc5a4a8bd8eb0"
   }
  }
 },
 "nbformat": 4,
 "nbformat_minor": 2
}
