{
 "cells": [
  {
   "cell_type": "code",
   "execution_count": 9,
   "metadata": {},
   "outputs": [],
   "source": [
    "import cleansetext\n",
    "import pandas as pd"
   ]
  },
  {
   "cell_type": "code",
   "execution_count": 10,
   "metadata": {},
   "outputs": [],
   "source": [
    "df_training = pd.read_csv('Raw_Data\\OLID\\OLID_Training.txt', sep='\\t')\n",
    "df_training = df_training[['id', 'tweet', 'subtask_a']]\n",
    "df_training.columns = ['id', 'text', 'label']\n",
    "df_training['label'] = df_training['label'].map({'OFF': 1, 'NOT': 0})"
   ]
  },
  {
   "cell_type": "code",
   "execution_count": 11,
   "metadata": {},
   "outputs": [],
   "source": [
    "df_test_sentences = pd.read_csv('Raw_Data\\OLID\\OLID_Test_Sentences.txt', sep='\\t')\n",
    "df_test_labels = pd.read_csv('Raw_Data\\OLID\\OLID_Test_Labels.csv', names=['id', 'label'])\n",
    "df_test = pd.merge(df_test_sentences, df_test_labels, on='id')\n",
    "df_test = df_test[['id', 'tweet', 'label']]\n",
    "df_test.columns = ['id', 'text', 'label']\n",
    "df_test['label'] = df_test['label'].map({'OFF': 1, 'NOT': 0})"
   ]
  },
  {
   "cell_type": "code",
   "execution_count": 12,
   "metadata": {},
   "outputs": [],
   "source": [
    "import cleansetext\n",
    "from cleansetext.pipeline import Pipeline\n",
    "from cleansetext.steps import *\n",
    "from nltk.tokenize import TweetTokenizer\n",
    "\n",
    "tk = TweetTokenizer()\n",
    "\n",
    "# Create a pipeline with a list of preprocessing steps\n",
    "pipeline = Pipeline([\n",
    "    RemoveEmojis(),\n",
    "    RemoveAllPunctuations(),\n",
    "    RemoveTokensWithOnlyPunctuations(),\n",
    "    ReplaceURLsandHTMLTags(),\n",
    "    ReplaceUsernames(),\n",
    "    RemoveWhiteSpaceOrChunksOfWhiteSpace()\n",
    "], track_diffs=False)\n",
    "\n",
    "def apply_preprocessing(text):\n",
    "    text = tk.tokenize(text)\n",
    "    text = pipeline.process(text)\n",
    "    return \" \".join(text)"
   ]
  },
  {
   "cell_type": "code",
   "execution_count": 13,
   "metadata": {},
   "outputs": [],
   "source": [
    "df_training['text'] = df_training['text'].apply(apply_preprocessing)"
   ]
  },
  {
   "cell_type": "code",
   "execution_count": 14,
   "metadata": {},
   "outputs": [],
   "source": [
    "df_test['text'] = df_test['text'].apply(apply_preprocessing)"
   ]
  },
  {
   "cell_type": "code",
   "execution_count": 15,
   "metadata": {},
   "outputs": [],
   "source": [
    "# Train Val Split\n",
    "from sklearn.model_selection import train_test_split\n",
    "df_training, df_val = train_test_split(df_training, test_size=0.2, random_state=42)"
   ]
  },
  {
   "cell_type": "code",
   "execution_count": 16,
   "metadata": {},
   "outputs": [],
   "source": [
    "df_training.to_csv('PreProcessed_Data\\OLID\\OLID_Training.txt', sep='\\t', index=False)\n",
    "df_val.to_csv('PreProcessed_Data\\OLID\\OLID_Val.txt', sep='\\t', index=False)\n",
    "df_test.to_csv('PreProcessed_Data\\OLID\\OLID_Test.txt', sep='\\t', index=False)"
   ]
  }
 ],
 "metadata": {
  "kernelspec": {
   "display_name": "Python 3",
   "language": "python",
   "name": "python3"
  },
  "language_info": {
   "codemirror_mode": {
    "name": "ipython",
    "version": 3
   },
   "file_extension": ".py",
   "mimetype": "text/x-python",
   "name": "python",
   "nbconvert_exporter": "python",
   "pygments_lexer": "ipython3",
   "version": "3.9.13"
  },
  "orig_nbformat": 4,
  "vscode": {
   "interpreter": {
    "hash": "a5a87ee616be0254e3f1af9223138e3faeac65b2c9d91bc22a9fc5a4a8bd8eb0"
   }
  }
 },
 "nbformat": 4,
 "nbformat_minor": 2
}
