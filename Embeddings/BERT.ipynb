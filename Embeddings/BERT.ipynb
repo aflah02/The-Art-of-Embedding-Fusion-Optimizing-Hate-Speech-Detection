{
 "cells": [
  {
   "cell_type": "code",
   "execution_count": 1,
   "metadata": {},
   "outputs": [
    {
     "name": "stderr",
     "output_type": "stream",
     "text": [
      "c:\\Kyode\\PersonalProjects\\HateSpeechModelCombination\\venv\\lib\\site-packages\\tqdm\\auto.py:22: TqdmWarning: IProgress not found. Please update jupyter and ipywidgets. See https://ipywidgets.readthedocs.io/en/stable/user_install.html\n",
      "  from .autonotebook import tqdm as notebook_tqdm\n"
     ]
    }
   ],
   "source": [
    "from transformers import BertTokenizer, BertForTokenClassification\n",
    "import os, pickle, torch\n",
    "from tqdm import tqdm"
   ]
  },
  {
   "cell_type": "code",
   "execution_count": 2,
   "metadata": {},
   "outputs": [
    {
     "name": "stderr",
     "output_type": "stream",
     "text": [
      "Some weights of the model checkpoint at bert-base-uncased were not used when initializing BertForTokenClassification: ['cls.predictions.decoder.weight', 'cls.predictions.bias', 'cls.seq_relationship.weight', 'cls.predictions.transform.LayerNorm.bias', 'cls.seq_relationship.bias', 'cls.predictions.transform.dense.bias', 'cls.predictions.transform.dense.weight', 'cls.predictions.transform.LayerNorm.weight']\n",
      "- This IS expected if you are initializing BertForTokenClassification from the checkpoint of a model trained on another task or with another architecture (e.g. initializing a BertForSequenceClassification model from a BertForPreTraining model).\n",
      "- This IS NOT expected if you are initializing BertForTokenClassification from the checkpoint of a model that you expect to be exactly identical (initializing a BertForSequenceClassification model from a BertForSequenceClassification model).\n",
      "Some weights of BertForTokenClassification were not initialized from the model checkpoint at bert-base-uncased and are newly initialized: ['classifier.bias', 'classifier.weight']\n",
      "You should probably TRAIN this model on a down-stream task to be able to use it for predictions and inference.\n"
     ]
    }
   ],
   "source": [
    "tokenizer = BertTokenizer.from_pretrained('bert-base-uncased')\n",
    "model = BertForTokenClassification.from_pretrained('bert-base-uncased')"
   ]
  },
  {
   "cell_type": "code",
   "execution_count": 3,
   "metadata": {},
   "outputs": [],
   "source": [
    "dynahate_dataset_path = \"..\\\\Data_Preprocessing\\\\PreProcessed_Data\\\\DynaHate\\\\\"\n",
    "latenthatred_dataset_path = \"..\\\\Data_Preprocessing\\\\PreProcessed_Data\\\\Latent_Hatred\\\\\"\n",
    "olid_dataset_path = \"..\\\\Data_Preprocessing\\\\PreProcessed_Data\\\\OLID\\\\\"\n",
    "\n",
    "dynahate_embeddings_path = \"Model_Embeddings\\\\DynaHate\\\\\"\n",
    "latenthatred_embeddings_path = \"Model_Embeddings\\\\Latent_Hatred\\\\\"\n",
    "olid_embeddings_path = \"Model_Embeddings\\\\OLID\\\\\""
   ]
  },
  {
   "cell_type": "code",
   "execution_count": 6,
   "metadata": {},
   "outputs": [],
   "source": [
    "def dump_embeddings(dataset = \"dynahate\", task = \"train\"):\n",
    "    dataset_path = None\n",
    "    curr_task = None\n",
    "    embedding_path = None\n",
    "    text_column = 0\n",
    "    text = []\n",
    "    labels = []\n",
    "    embeddings = []\n",
    "    \n",
    "    if dataset == \"dynahate\":\n",
    "        dataset_path = dynahate_dataset_path\n",
    "        if task == \"train\":\n",
    "            curr_task = \"DynaHate_Training\"\n",
    "        elif task == \"dev\":\n",
    "            curr_task = \"DynaHate_Val\"\n",
    "        else:\n",
    "            curr_task = \"DynaHate_Test\"\n",
    "        embedding_path = os.path.join(dynahate_embeddings_path, curr_task)\n",
    "    elif dataset == \"latenthatred\":\n",
    "        dataset_path = latenthatred_dataset_path\n",
    "        if task == \"train\":\n",
    "            curr_task = \"LatentHatred_Training\"\n",
    "        elif task == \"dev\":\n",
    "            curr_task = \"LatentHatred_Val\"\n",
    "        else:\n",
    "            curr_task = \"LatentHatred_Test\"\n",
    "        embedding_path = os.path.join(latenthatred_embeddings_path, curr_task)\n",
    "    else:\n",
    "        text_column = 1\n",
    "        dataset_path = olid_dataset_path\n",
    "        if task == \"train\":\n",
    "            curr_task = \"OLID_Training\"\n",
    "        elif task == \"dev\":\n",
    "            curr_task = \"OLID_Val\"\n",
    "        else:\n",
    "            curr_task = \"OLID_Test\"\n",
    "        embedding_path = os.path.join(olid_embeddings_path, curr_task)\n",
    "    dataset_path = os.path.join(dataset_path, curr_task + \".txt\")\n",
    "    with open(dataset_path, \"r\", encoding=\"utf8\") as file:\n",
    "        temp = file.readlines()\n",
    "    file.close()\n",
    "    for each in temp[1:]:\n",
    "        curr = each.split()\n",
    "        text.append(' '.join(curr[text_column:-1]))\n",
    "        labels.append(curr[-1])\n",
    "    \n",
    "    for each in tqdm(text):\n",
    "        tokenized_text = tokenizer(each, return_tensors = \"pt\")\n",
    "        inputs = {k: v for k, v in tokenized_text.items()}\n",
    "        outputs = model(**inputs, output_hidden_states=True)\n",
    "        hidden_states = outputs[-1]\n",
    "        cls_state = hidden_states[0][0, 0, :]\n",
    "        embeddings.append(cls_state)\n",
    "    \n",
    "    embeddings = torch.stack(embeddings)\n",
    "    print(embeddings.shape)\n",
    "\n",
    "    with open(embedding_path, \"wb+\") as file:\n",
    "        pickle.dump(embeddings, file)\n",
    "    file.close()"
   ]
  },
  {
   "cell_type": "code",
   "execution_count": 7,
   "metadata": {},
   "outputs": [
    {
     "name": "stderr",
     "output_type": "stream",
     "text": [
      "100%|██████████| 32924/32924 [1:23:53<00:00,  6.54it/s]  \n"
     ]
    },
    {
     "name": "stdout",
     "output_type": "stream",
     "text": [
      "torch.Size([32924, 768])\n"
     ]
    },
    {
     "name": "stderr",
     "output_type": "stream",
     "text": [
      "100%|██████████| 4100/4100 [07:47<00:00,  8.77it/s]\n"
     ]
    },
    {
     "name": "stdout",
     "output_type": "stream",
     "text": [
      "torch.Size([4100, 768])\n"
     ]
    },
    {
     "name": "stderr",
     "output_type": "stream",
     "text": [
      "100%|██████████| 4120/4120 [07:42<00:00,  8.90it/s]\n"
     ]
    },
    {
     "name": "stdout",
     "output_type": "stream",
     "text": [
      "torch.Size([4120, 768])\n"
     ]
    },
    {
     "name": "stderr",
     "output_type": "stream",
     "text": [
      "100%|██████████| 12082/12082 [19:32<00:00, 10.31it/s]\n"
     ]
    },
    {
     "name": "stdout",
     "output_type": "stream",
     "text": [
      "torch.Size([12082, 768])\n"
     ]
    },
    {
     "name": "stderr",
     "output_type": "stream",
     "text": [
      "100%|██████████| 4028/4028 [05:49<00:00, 11.53it/s]\n"
     ]
    },
    {
     "name": "stdout",
     "output_type": "stream",
     "text": [
      "torch.Size([4028, 768])\n"
     ]
    },
    {
     "name": "stderr",
     "output_type": "stream",
     "text": [
      "100%|██████████| 5370/5370 [07:50<00:00, 11.42it/s]\n"
     ]
    },
    {
     "name": "stdout",
     "output_type": "stream",
     "text": [
      "torch.Size([5370, 768])\n"
     ]
    },
    {
     "name": "stderr",
     "output_type": "stream",
     "text": [
      "100%|██████████| 10592/10592 [23:54<00:00,  7.38it/s]\n"
     ]
    },
    {
     "name": "stdout",
     "output_type": "stream",
     "text": [
      "torch.Size([10592, 768])\n"
     ]
    },
    {
     "name": "stderr",
     "output_type": "stream",
     "text": [
      "100%|██████████| 2648/2648 [05:31<00:00,  7.99it/s]\n"
     ]
    },
    {
     "name": "stdout",
     "output_type": "stream",
     "text": [
      "torch.Size([2648, 768])\n"
     ]
    },
    {
     "name": "stderr",
     "output_type": "stream",
     "text": [
      "100%|██████████| 860/860 [01:58<00:00,  7.25it/s]\n"
     ]
    },
    {
     "name": "stdout",
     "output_type": "stream",
     "text": [
      "torch.Size([860, 768])\n"
     ]
    }
   ],
   "source": [
    "for dataset in [\"dynahate\", \"latenthatred\", \"olid\"]:\n",
    "    for task in [\"train\", \"dev\", \"test\"]:\n",
    "        dump_embeddings(dataset = dataset, task = task)"
   ]
  },
  {
   "cell_type": "code",
   "execution_count": null,
   "metadata": {},
   "outputs": [],
   "source": []
  }
 ],
 "metadata": {
  "kernelspec": {
   "display_name": "venv",
   "language": "python",
   "name": "python3"
  },
  "language_info": {
   "codemirror_mode": {
    "name": "ipython",
    "version": 3
   },
   "file_extension": ".py",
   "mimetype": "text/x-python",
   "name": "python",
   "nbconvert_exporter": "python",
   "pygments_lexer": "ipython3",
   "version": "3.10.2"
  },
  "orig_nbformat": 4,
  "vscode": {
   "interpreter": {
    "hash": "60376b4f6a889c7c18c5269982bf59a6dce4489e4bd41e29110865ea8d913ab2"
   }
  }
 },
 "nbformat": 4,
 "nbformat_minor": 2
}
