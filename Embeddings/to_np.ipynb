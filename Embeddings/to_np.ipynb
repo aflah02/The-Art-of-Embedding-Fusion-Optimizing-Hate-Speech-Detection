{
 "cells": [
  {
   "cell_type": "code",
   "execution_count": 24,
   "metadata": {},
   "outputs": [],
   "source": [
    "import numpy as np\n",
    "import torch\n",
    "import io\n",
    "import pickle\n",
    "import os"
   ]
  },
  {
   "cell_type": "code",
   "execution_count": 25,
   "metadata": {},
   "outputs": [],
   "source": [
    "class CPU_Unpickler(pickle.Unpickler):\n",
    "    def find_class(self, module, name):\n",
    "        if module == 'torch.storage' and name == '_load_from_bytes':\n",
    "            return lambda b: torch.load(io.BytesIO(b), map_location='cpu')\n",
    "        else: return super().find_class(module, name)"
   ]
  },
  {
   "cell_type": "code",
   "execution_count": 26,
   "metadata": {},
   "outputs": [],
   "source": [
    "embeddings = {}\n",
    "for model in [\"BERT\", \"BERTweet\", \"HateBERT\"]:\n",
    "    embeddings[model] = {}\n",
    "    for dataset in [\"OLID\", \"DynaHate\", \"Latent_Hatred\"]:\n",
    "        embeddings[model][dataset] = {}\n",
    "        for split in [\"Training\", \"Test\", \"Val\"]:\n",
    "            name = \"\".join(dataset.split(\"_\"))\n",
    "            embeddings[model][dataset][split] = CPU_Unpickler(open(f\"Torch_Model_Embeddings\\{model}\\{dataset}\\{name}_{split}\",\"rb\")).load()"
   ]
  },
  {
   "cell_type": "code",
   "execution_count": 27,
   "metadata": {},
   "outputs": [],
   "source": [
    "# Create new dict with same keys but with numpy arrays\n",
    "embeddings_np = {}\n",
    "for model in [\"BERT\", \"BERTweet\", \"HateBERT\"]:\n",
    "    embeddings_np[model] = {}\n",
    "    for dataset in [\"OLID\", \"DynaHate\", \"Latent_Hatred\"]:\n",
    "        embeddings_np[model][dataset] = {}\n",
    "        for split in [\"Training\", \"Test\", \"Val\"]:\n",
    "            embeddings_np[model][dataset][split] = {}\n",
    "            embeddings_np[model][dataset][split] = embeddings[model][dataset][split].numpy()"
   ]
  },
  {
   "cell_type": "code",
   "execution_count": 28,
   "metadata": {},
   "outputs": [
    {
     "name": "stdout",
     "output_type": "stream",
     "text": [
      "(4120, 1, 768)\n"
     ]
    }
   ],
   "source": [
    "# See an example\n",
    "print(embeddings_np[\"BERT\"][\"DynaHate\"][\"Test\"].shape)"
   ]
  },
  {
   "cell_type": "code",
   "execution_count": 30,
   "metadata": {},
   "outputs": [],
   "source": [
    "# Save as pickles\n",
    "for model in [\"BERT\", \"BERTweet\", \"HateBERT\"]:\n",
    "    for dataset in [\"OLID\", \"DynaHate\", \"Latent_Hatred\"]:\n",
    "        for split in [\"Training\", \"Test\", \"Val\"]:\n",
    "            name = \"\".join(dataset.split(\"_\"))\n",
    "            if not os.path.exists(f\"Numpy_Model_Embeddings\\{model}\"):\n",
    "                os.makedirs(f\"Numpy_Model_Embeddings\\{model}\")\n",
    "            if not os.path.exists(f\"Numpy_Model_Embeddings\\{model}\\{dataset}\"):\n",
    "                os.makedirs(f\"Numpy_Model_Embeddings\\{model}\\{dataset}\")\n",
    "            with open(f\"Numpy_Model_Embeddings\\{model}\\{dataset}\\{name}_{split}\", \"wb\") as f:\n",
    "                pickle.dump(embeddings_np[model][dataset][split], f)"
   ]
  },
  {
   "cell_type": "code",
   "execution_count": null,
   "metadata": {},
   "outputs": [],
   "source": []
  }
 ],
 "metadata": {
  "kernelspec": {
   "display_name": "Python 3",
   "language": "python",
   "name": "python3"
  },
  "language_info": {
   "codemirror_mode": {
    "name": "ipython",
    "version": 3
   },
   "file_extension": ".py",
   "mimetype": "text/x-python",
   "name": "python",
   "nbconvert_exporter": "python",
   "pygments_lexer": "ipython3",
   "version": "3.9.13"
  },
  "orig_nbformat": 4,
  "vscode": {
   "interpreter": {
    "hash": "a5a87ee616be0254e3f1af9223138e3faeac65b2c9d91bc22a9fc5a4a8bd8eb0"
   }
  }
 },
 "nbformat": 4,
 "nbformat_minor": 2
}
