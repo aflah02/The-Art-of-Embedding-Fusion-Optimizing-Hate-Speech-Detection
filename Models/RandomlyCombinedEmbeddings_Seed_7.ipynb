{
 "cells": [
  {
   "cell_type": "code",
   "execution_count": 1,
   "metadata": {},
   "outputs": [],
   "source": [
    "from utils import *\n",
    "import numpy as np\n",
    "import torch, os\n",
    "from sklearn.preprocessing import StandardScaler\n",
    "from sklearn.neural_network import MLPClassifier\n",
    "from sklearn.model_selection import GridSearchCV"
   ]
  },
  {
   "cell_type": "code",
   "execution_count": 2,
   "metadata": {},
   "outputs": [
    {
     "name": "stdout",
     "output_type": "stream",
     "text": [
      "Seed: 7\n"
     ]
    }
   ],
   "source": [
    "set_random_seed(7)"
   ]
  },
  {
   "cell_type": "code",
   "execution_count": 3,
   "metadata": {},
   "outputs": [],
   "source": [
    "# def scaling_embeddings(embeddings):\n",
    "#     for i in range(len(embeddings)):\n",
    "#         embeddings[i] = StandardScaler().fit_transform(embeddings[i])\n",
    "#     return embeddings\n",
    "\n",
    "def reshape_embeddings(embeddings):\n",
    "    if embeddings.shape[1] == 1:\n",
    "        embeddings = embeddings.squeeze(1)\n",
    "    return embeddings"
   ]
  },
  {
   "cell_type": "code",
   "execution_count": 4,
   "metadata": {},
   "outputs": [],
   "source": [
    "import random\n",
    "\n",
    "def randomlycombined_2_embeddings(embeddings1, embeddings2):\n",
    "    embeddings1 = reshape_embeddings(embeddings1)\n",
    "    embeddings2 = reshape_embeddings(embeddings2)\n",
    "    # new_embeddings = []\n",
    "    # for i in range(len(embeddings1)):\n",
    "    #     embedding = []\n",
    "    #     elements = list(range(len(embeddings1[i])+len(embeddings2[i])))\n",
    "    #     random.shuffle(elements)\n",
    "    #     for j in elements:\n",
    "    #         if j < len(embeddings1[i]):\n",
    "    #             embedding.append(embeddings1[i][j])\n",
    "    #         else:\n",
    "    #             embedding.append(embeddings2[i][j-len(embeddings1[i])])\n",
    "    #     new_embeddings.append(np.array(embedding))\n",
    "    new_embeddings = np.concatenate((embeddings1, embeddings2), axis=1)\n",
    "    # Shuffle values\n",
    "    np.random.shuffle(new_embeddings)\n",
    "    return np.array(new_embeddings)\n",
    "\n",
    "def randomlycombined_3_embeddings(embeddings1, embeddings2, embeddings3):\n",
    "    embeddings1 = reshape_embeddings(embeddings1)\n",
    "    embeddings2 = reshape_embeddings(embeddings2)\n",
    "    embeddings3 = reshape_embeddings(embeddings3)\n",
    "    # new_embeddings = []\n",
    "    # for i in range(len(embeddings1)):\n",
    "    #     embedding = []\n",
    "    #     elements = list(range(len(embeddings1[i])+len(embeddings2[i])+len(embeddings3[i])))\n",
    "    #     random.shuffle(elements)\n",
    "    #     for j in elements:\n",
    "    #         if j < len(embeddings1[i]):\n",
    "    #             embedding.append(embeddings1[i][j])\n",
    "    #         elif j < len(embeddings1[i])+len(embeddings2[i]):\n",
    "    #             embedding.append(embeddings2[i][j-len(embeddings1[i])])\n",
    "    #         else:\n",
    "    #             embedding.append(embeddings3[i][j-len(embeddings1[i])-len(embeddings2[i])])\n",
    "    #     new_embeddings.append(np.array(embedding))\n",
    "    new_embeddings = np.concatenate((embeddings1, embeddings2, embeddings3), axis=1)\n",
    "    # Shuffle values\n",
    "    np.random.shuffle(new_embeddings)\n",
    "    return np.array(new_embeddings)"
   ]
  },
  {
   "cell_type": "code",
   "execution_count": 5,
   "metadata": {},
   "outputs": [],
   "source": [
    "bert_hatebert_randomlycombined_dynahate_train = randomlycombined_2_embeddings(bert_dynahate_train_embeddings, hatebert_dynahate_train_embeddings)\n",
    "bert_hatebert_randomlycombined_dynahate_dev = randomlycombined_2_embeddings(bert_dynahate_dev_embeddings, hatebert_dynahate_dev_embeddings)\n",
    "bert_hatebert_randomlycombined_dynahate_test = randomlycombined_2_embeddings(bert_dynahate_test_embeddings, hatebert_dynahate_test_embeddings)\n",
    "\n",
    "bert_bertweet_randomlycombined_dynahate_train = randomlycombined_2_embeddings(bert_dynahate_train_embeddings, bertweet_dynahate_train_embeddings)\n",
    "bert_bertweet_randomlycombined_dynahate_dev = randomlycombined_2_embeddings(bert_dynahate_dev_embeddings, bertweet_dynahate_dev_embeddings)\n",
    "bert_bertweet_randomlycombined_dynahate_test = randomlycombined_2_embeddings(bert_dynahate_test_embeddings, bertweet_dynahate_test_embeddings)\n",
    "\n",
    "hatebert_bertweet_randomlycombined_dynahate_train = randomlycombined_2_embeddings(hatebert_dynahate_train_embeddings, bertweet_dynahate_train_embeddings)\n",
    "hatebert_bertweet_randomlycombined_dynahate_dev = randomlycombined_2_embeddings(hatebert_dynahate_dev_embeddings, bertweet_dynahate_dev_embeddings)\n",
    "hatebert_bertweet_randomlycombined_dynahate_test = randomlycombined_2_embeddings(hatebert_dynahate_test_embeddings, bertweet_dynahate_test_embeddings)\n",
    "\n",
    "bert_hatebert_bertweet_randomlycombined_dynahate_train = randomlycombined_3_embeddings(bert_dynahate_train_embeddings, hatebert_dynahate_train_embeddings, bertweet_dynahate_train_embeddings)\n",
    "bert_hatebert_bertweet_randomlycombined_dynahate_dev = randomlycombined_3_embeddings(bert_dynahate_dev_embeddings, hatebert_dynahate_dev_embeddings, bertweet_dynahate_dev_embeddings)\n",
    "bert_hatebert_bertweet_randomlycombined_dynahate_test = randomlycombined_3_embeddings(bert_dynahate_test_embeddings, hatebert_dynahate_test_embeddings, bertweet_dynahate_test_embeddings)\n",
    "\n",
    "bert_hatebert_randomlycombined_olid_train = randomlycombined_2_embeddings(bert_olid_train_embeddings, hatebert_olid_train_embeddings)\n",
    "bert_hatebert_randomlycombined_olid_dev = randomlycombined_2_embeddings(bert_olid_dev_embeddings, hatebert_olid_dev_embeddings)\n",
    "bert_hatebert_randomlycombined_olid_test = randomlycombined_2_embeddings(bert_olid_test_embeddings, hatebert_olid_test_embeddings)\n",
    "\n",
    "bert_bertweet_randomlycombined_olid_train = randomlycombined_2_embeddings(bert_olid_train_embeddings, bertweet_olid_train_embeddings)\n",
    "bert_bertweet_randomlycombined_olid_dev = randomlycombined_2_embeddings(bert_olid_dev_embeddings, bertweet_olid_dev_embeddings)\n",
    "bert_bertweet_randomlycombined_olid_test = randomlycombined_2_embeddings(bert_olid_test_embeddings, bertweet_olid_test_embeddings)\n",
    "\n",
    "hatebert_bertweet_randomlycombined_olid_train = randomlycombined_2_embeddings(hatebert_olid_train_embeddings, bertweet_olid_train_embeddings)\n",
    "hatebert_bertweet_randomlycombined_olid_dev = randomlycombined_2_embeddings(hatebert_olid_dev_embeddings, bertweet_olid_dev_embeddings)\n",
    "hatebert_bertweet_randomlycombined_olid_test = randomlycombined_2_embeddings(hatebert_olid_test_embeddings, bertweet_olid_test_embeddings)\n",
    "\n",
    "bert_hatebert_bertweet_randomlycombined_olid_train = randomlycombined_3_embeddings(bert_olid_train_embeddings, hatebert_olid_train_embeddings, bertweet_olid_train_embeddings)\n",
    "bert_hatebert_bertweet_randomlycombined_olid_dev = randomlycombined_3_embeddings(bert_olid_dev_embeddings, hatebert_olid_dev_embeddings, bertweet_olid_dev_embeddings)\n",
    "bert_hatebert_bertweet_randomlycombined_olid_test = randomlycombined_3_embeddings(bert_olid_test_embeddings, hatebert_olid_test_embeddings, bertweet_olid_test_embeddings)\n",
    "\n",
    "bert_hatebert_randomlycombined_latenthatred_train = randomlycombined_2_embeddings(bert_latenthatred_train_embeddings, hatebert_latenthatred_train_embeddings)\n",
    "bert_hatebert_randomlycombined_latenthatred_dev = randomlycombined_2_embeddings(bert_latenthatred_dev_embeddings, hatebert_latenthatred_dev_embeddings)\n",
    "bert_hatebert_randomlycombined_latenthatred_test = randomlycombined_2_embeddings(bert_latenthatred_test_embeddings, hatebert_latenthatred_test_embeddings)\n",
    "\n",
    "bert_bertweet_randomlycombined_latenthatred_train = randomlycombined_2_embeddings(bert_latenthatred_train_embeddings, bertweet_latenthatred_train_embeddings)\n",
    "bert_bertweet_randomlycombined_latenthatred_dev = randomlycombined_2_embeddings(bert_latenthatred_dev_embeddings, bertweet_latenthatred_dev_embeddings)\n",
    "bert_bertweet_randomlycombined_latenthatred_test = randomlycombined_2_embeddings(bert_latenthatred_test_embeddings, bertweet_latenthatred_test_embeddings)\n",
    "\n",
    "hatebert_bertweet_randomlycombined_latenthatred_train = randomlycombined_2_embeddings(hatebert_latenthatred_train_embeddings, bertweet_latenthatred_train_embeddings)\n",
    "hatebert_bertweet_randomlycombined_latenthatred_dev = randomlycombined_2_embeddings(hatebert_latenthatred_dev_embeddings, bertweet_latenthatred_dev_embeddings)\n",
    "hatebert_bertweet_randomlycombined_latenthatred_test = randomlycombined_2_embeddings(hatebert_latenthatred_test_embeddings, bertweet_latenthatred_test_embeddings)\n",
    "\n",
    "bert_hatebert_bertweet_randomlycombined_latenthatred_train = randomlycombined_3_embeddings(bert_latenthatred_train_embeddings, hatebert_latenthatred_train_embeddings, bertweet_latenthatred_train_embeddings)\n",
    "bert_hatebert_bertweet_randomlycombined_latenthatred_dev = randomlycombined_3_embeddings(bert_latenthatred_dev_embeddings, hatebert_latenthatred_dev_embeddings, bertweet_latenthatred_dev_embeddings)\n",
    "bert_hatebert_bertweet_randomlycombined_latenthatred_test = randomlycombined_3_embeddings(bert_latenthatred_test_embeddings, hatebert_latenthatred_test_embeddings, bertweet_latenthatred_test_embeddings)"
   ]
  },
  {
   "cell_type": "code",
   "execution_count": 6,
   "metadata": {},
   "outputs": [
    {
     "data": {
      "text/plain": [
       "(32924, 1536)"
      ]
     },
     "execution_count": 6,
     "metadata": {},
     "output_type": "execute_result"
    }
   ],
   "source": [
    "bert_hatebert_randomlycombined_dynahate_train.shape"
   ]
  },
  {
   "cell_type": "code",
   "execution_count": 7,
   "metadata": {},
   "outputs": [],
   "source": [
    "dynahate_labels_train = process_labels(read_labels(\"dynahate\", \"train\"))\n",
    "dynahate_labels_dev = process_labels(read_labels(\"dynahate\", \"dev\"))\n",
    "dynahate_labels_test = process_labels(read_labels(\"dynahate\", \"test\"))\n",
    "\n",
    "latenthatred_labels_train = read_labels(\"latenthatred\", \"train\")\n",
    "latenthatred_labels_dev = read_labels(\"latenthatred\", \"dev\")\n",
    "latenthatred_labels_test = read_labels(\"latenthatred\", \"test\")\n",
    "\n",
    "olid_labels_train = read_labels(\"olid\", \"train\")\n",
    "olid_labels_dev = read_labels(\"olid\", \"dev\")\n",
    "olid_labels_test = read_labels(\"olid\", \"test\")"
   ]
  },
  {
   "cell_type": "code",
   "execution_count": 8,
   "metadata": {},
   "outputs": [
    {
     "data": {
      "text/plain": [
       "32924"
      ]
     },
     "execution_count": 8,
     "metadata": {},
     "output_type": "execute_result"
    }
   ],
   "source": [
    "len(dynahate_labels_train)"
   ]
  },
  {
   "cell_type": "code",
   "execution_count": 9,
   "metadata": {},
   "outputs": [],
   "source": [
    "mlp = MLPClassifier(random_state=7)\n",
    "gridsearch = GridSearchCV(\n",
    "    mlp,\n",
    "    param_grid={\n",
    "        \"hidden_layer_sizes\": [(128), (128,64)],\n",
    "        \"activation\": [\"relu\"],\n",
    "        \"solver\": [\"adam\"],\n",
    "        \"learning_rate_init\": [0.001, 0.0001],\n",
    "        \"learning_rate\": [\"adaptive\"],\n",
    "        \"early_stopping\": [True],\n",
    "        \"max_iter\": [10000]\n",
    "    },\n",
    "    verbose=4,\n",
    "    n_jobs=os.cpu_count()//3,\n",
    "    cv=5\n",
    ")"
   ]
  },
  {
   "cell_type": "code",
   "execution_count": 10,
   "metadata": {},
   "outputs": [],
   "source": [
    "dynahate_labels_train_dev = np.concatenate((dynahate_labels_train, dynahate_labels_dev))\n",
    "latenthatred_labels_train_dev = np.concatenate((latenthatred_labels_train, latenthatred_labels_dev))\n",
    "olid_labels_train_dev = np.concatenate((olid_labels_train, olid_labels_dev))"
   ]
  },
  {
   "attachments": {},
   "cell_type": "markdown",
   "metadata": {},
   "source": [
    "### BERT-BERTweet"
   ]
  },
  {
   "attachments": {},
   "cell_type": "markdown",
   "metadata": {},
   "source": [
    "#### DynaHate"
   ]
  },
  {
   "cell_type": "code",
   "execution_count": 11,
   "metadata": {},
   "outputs": [
    {
     "name": "stdout",
     "output_type": "stream",
     "text": [
      "Fitting 5 folds for each of 4 candidates, totalling 20 fits\n",
      "Best params:  {'activation': 'relu', 'early_stopping': True, 'hidden_layer_sizes': 128, 'learning_rate': 'adaptive', 'learning_rate_init': 0.001, 'max_iter': 10000, 'solver': 'adam'}\n",
      "Accuracy Train Dev:  0.5377052722558341\n",
      "Accuracy Test:  0.5504854368932038\n",
      "Weighted F1 Train Dev:  0.3762242844681657\n",
      "Weighted F1 Test:  0.3908894711564766\n",
      "Macro F1 Train Dev:  0.34989278499840565\n",
      "Macro F1 Test:  0.3550407013149655\n",
      "Micro F1 Train Dev:  0.5377052722558341\n",
      "Micro F1 Test:  0.5504854368932038\n",
      "Weighted Recall Train Dev:  0.5377052722558341\n",
      "Weighted Recall Test:  0.5504854368932038\n",
      "Macro Recall Train Dev:  0.500041492525451\n",
      "Macro Recall Test:  0.5\n",
      "Micro Recall Train Dev:  0.5377052722558341\n",
      "Micro Recall Test:  0.5504854368932038\n",
      "Confusion Matrix Train Dev: \n",
      "[[    4 17113]\n",
      " [    3 19904]]\n",
      "Confusion Matrix Test: \n",
      "[[   0 1852]\n",
      " [   0 2268]]\n"
     ]
    }
   ],
   "source": [
    "bert_bertweet_randomlycombined_dynahate_train_dev = np.concatenate((bert_bertweet_randomlycombined_dynahate_train, bert_bertweet_randomlycombined_dynahate_dev))\n",
    "bert_bertweet_randomlycombined_dynahate_labels_train_dev = np.concatenate((dynahate_labels_train, dynahate_labels_dev))\n",
    "\n",
    "grid_results = gridsearch.fit(bert_bertweet_randomlycombined_dynahate_train_dev, dynahate_labels_train_dev)\n",
    "\n",
    "best_params = grid_results.best_params_\n",
    "mlp = grid_results.best_estimator_\n",
    "\n",
    "print(\"Best params: \", best_params)\n",
    "\n",
    "train_dev_preds = mlp.predict(bert_bertweet_randomlycombined_dynahate_train_dev)\n",
    "test_preds = mlp.predict(bert_bertweet_randomlycombined_dynahate_test)\n",
    "\n",
    "computeAllScores(train_dev_preds, test_preds, dynahate_labels_train_dev, dynahate_labels_test, \"Results/bert_bertweet_randomlycombined_dynahate_seed_7\")\n",
    "save_model(mlp, \"Saves/bert_bertweet_randomlycombined_dynahate_seed_7\")"
   ]
  },
  {
   "cell_type": "code",
   "execution_count": 12,
   "metadata": {},
   "outputs": [
    {
     "data": {
      "text/plain": [
       "37024"
      ]
     },
     "execution_count": 12,
     "metadata": {},
     "output_type": "execute_result"
    }
   ],
   "source": [
    "len(dynahate_labels_train_dev)"
   ]
  },
  {
   "cell_type": "code",
   "execution_count": 13,
   "metadata": {},
   "outputs": [
    {
     "data": {
      "text/plain": [
       "(32924, 4100)"
      ]
     },
     "execution_count": 13,
     "metadata": {},
     "output_type": "execute_result"
    }
   ],
   "source": [
    "len(bert_bertweet_randomlycombined_dynahate_train), len(bert_bertweet_randomlycombined_dynahate_dev)"
   ]
  },
  {
   "attachments": {},
   "cell_type": "markdown",
   "metadata": {},
   "source": [
    "#### LatentHatred"
   ]
  },
  {
   "cell_type": "code",
   "execution_count": 14,
   "metadata": {},
   "outputs": [
    {
     "name": "stdout",
     "output_type": "stream",
     "text": [
      "Fitting 5 folds for each of 4 candidates, totalling 20 fits\n",
      "Best params:  {'activation': 'relu', 'early_stopping': True, 'hidden_layer_sizes': 128, 'learning_rate': 'adaptive', 'learning_rate_init': 0.001, 'max_iter': 10000, 'solver': 'adam'}\n",
      "Accuracy Train Dev:  0.61731843575419\n",
      "Accuracy Test:  0.6230912476722532\n",
      "Weighted F1 Train Dev:  0.471251724703544\n",
      "Weighted F1 Test:  0.47839910846979333\n",
      "Macro F1 Train Dev:  0.25446171560161196\n",
      "Macro F1 Test:  0.25592779562490436\n",
      "Micro F1 Train Dev:  0.61731843575419\n",
      "Micro F1 Test:  0.6230912476722532\n",
      "Weighted Recall Train Dev:  0.61731843575419\n",
      "Weighted Recall Test:  0.6230912476722532\n",
      "Macro Recall Train Dev:  0.3333333333333333\n",
      "Macro Recall Test:  0.3333333333333333\n",
      "Micro Recall Train Dev:  0.61731843575419\n",
      "Micro Recall Test:  0.6230912476722532\n",
      "Confusion Matrix Train Dev: \n",
      "[[9945    0    0]\n",
      " [5347    0    0]\n",
      " [ 818    0    0]]\n",
      "Confusion Matrix Test: \n",
      "[[3346    0    0]\n",
      " [1753    0    0]\n",
      " [ 271    0    0]]\n"
     ]
    }
   ],
   "source": [
    "bert_bertweet_randomlycombined_latenthatred_train_dev = np.concatenate((bert_bertweet_randomlycombined_latenthatred_train, bert_bertweet_randomlycombined_latenthatred_dev))\n",
    "bert_bertweet_randomlycombined_latenthatred_labels_train_dev = np.concatenate((latenthatred_labels_train, latenthatred_labels_dev))\n",
    "\n",
    "grid_results = gridsearch.fit(bert_bertweet_randomlycombined_latenthatred_train_dev, bert_bertweet_randomlycombined_latenthatred_labels_train_dev)\n",
    "\n",
    "best_params = grid_results.best_params_\n",
    "mlp = grid_results.best_estimator_\n",
    "\n",
    "print(\"Best params: \", best_params)\n",
    "\n",
    "train_dev_preds = mlp.predict(bert_bertweet_randomlycombined_latenthatred_train_dev)\n",
    "test_preds = mlp.predict(bert_bertweet_randomlycombined_latenthatred_test)\n",
    "\n",
    "computeAllScores(train_dev_preds, test_preds, latenthatred_labels_train_dev, latenthatred_labels_test, \"Results/bert_bertweet_randomlycombined_latenthatred_seed_7\")\n",
    "save_model(mlp, \"Saves/bert_bertweet_randomlycombined_latenthatred_seed_7\")"
   ]
  },
  {
   "attachments": {},
   "cell_type": "markdown",
   "metadata": {},
   "source": [
    "#### OLID"
   ]
  },
  {
   "cell_type": "code",
   "execution_count": 15,
   "metadata": {},
   "outputs": [
    {
     "name": "stdout",
     "output_type": "stream",
     "text": [
      "Fitting 5 folds for each of 4 candidates, totalling 20 fits\n",
      "Best params:  {'activation': 'relu', 'early_stopping': True, 'hidden_layer_sizes': 128, 'learning_rate': 'adaptive', 'learning_rate_init': 0.001, 'max_iter': 10000, 'solver': 'adam'}\n",
      "Accuracy Train Dev:  0.6676737160120846\n",
      "Accuracy Test:  0.7209302325581395\n",
      "Weighted F1 Train Dev:  0.5346227943430097\n",
      "Weighted F1 Test:  0.6040226272784412\n",
      "Macro F1 Train Dev:  0.4003623188405797\n",
      "Macro F1 Test:  0.4189189189189189\n",
      "Micro F1 Train Dev:  0.6676737160120846\n",
      "Micro F1 Test:  0.7209302325581395\n",
      "Weighted Recall Train Dev:  0.6676737160120846\n",
      "Weighted Recall Test:  0.7209302325581395\n",
      "Macro Recall Train Dev:  0.5\n",
      "Macro Recall Test:  0.5\n",
      "Micro Recall Train Dev:  0.6676737160120846\n",
      "Micro Recall Test:  0.7209302325581395\n",
      "Confusion Matrix Train Dev: \n",
      "[[8840    0]\n",
      " [4400    0]]\n",
      "Confusion Matrix Test: \n",
      "[[620   0]\n",
      " [240   0]]\n"
     ]
    }
   ],
   "source": [
    "bert_bertweet_randomlycombined_olid_train_dev = np.concatenate((bert_bertweet_randomlycombined_olid_train, bert_bertweet_randomlycombined_olid_dev))\n",
    "bert_bertweet_randomlycombined_olid_labels_train_dev = np.concatenate((olid_labels_train, olid_labels_dev))\n",
    "\n",
    "grid_results = gridsearch.fit(bert_bertweet_randomlycombined_olid_train_dev, bert_bertweet_randomlycombined_olid_labels_train_dev)\n",
    "\n",
    "best_params = grid_results.best_params_\n",
    "mlp = grid_results.best_estimator_\n",
    "\n",
    "print(\"Best params: \", best_params)\n",
    "\n",
    "train_dev_preds = mlp.predict(bert_bertweet_randomlycombined_olid_train_dev)\n",
    "test_preds = mlp.predict(bert_bertweet_randomlycombined_olid_test)\n",
    "\n",
    "computeAllScores(train_dev_preds, test_preds, olid_labels_train_dev, olid_labels_test, \"Results/bert_bertweet_randomlycombined_olid_seed_7\")\n",
    "\n",
    "save_model(mlp, \"Saves/bert_bertweet_randomlycombined_olid_seed_7\")"
   ]
  },
  {
   "attachments": {},
   "cell_type": "markdown",
   "metadata": {},
   "source": [
    "### BERT-HateBERT"
   ]
  },
  {
   "cell_type": "markdown",
   "metadata": {},
   "source": [
    "#### DynaHate"
   ]
  },
  {
   "cell_type": "code",
   "execution_count": 16,
   "metadata": {},
   "outputs": [
    {
     "name": "stdout",
     "output_type": "stream",
     "text": [
      "Fitting 5 folds for each of 4 candidates, totalling 20 fits\n",
      "Best params:  {'activation': 'relu', 'early_stopping': True, 'hidden_layer_sizes': 128, 'learning_rate': 'adaptive', 'learning_rate_init': 0.0001, 'max_iter': 10000, 'solver': 'adam'}\n",
      "Accuracy Train Dev:  0.5376782627484875\n",
      "Accuracy Test:  0.5504854368932038\n",
      "Weighted F1 Train Dev:  0.37616369166794267\n",
      "Weighted F1 Test:  0.3908894711564766\n",
      "Macro F1 Train Dev:  0.3498282552051573\n",
      "Macro F1 Test:  0.3550407013149655\n",
      "Micro F1 Train Dev:  0.5376782627484875\n",
      "Micro F1 Test:  0.5504854368932038\n",
      "Weighted Recall Train Dev:  0.5376782627484875\n",
      "Weighted Recall Test:  0.5504854368932038\n",
      "Macro Recall Train Dev:  0.5000122817992724\n",
      "Macro Recall Test:  0.5\n",
      "Micro Recall Train Dev:  0.5376782627484875\n",
      "Micro Recall Test:  0.5504854368932038\n",
      "Confusion Matrix Train Dev: \n",
      "[[    3 17114]\n",
      " [    3 19904]]\n",
      "Confusion Matrix Test: \n",
      "[[   0 1852]\n",
      " [   0 2268]]\n"
     ]
    }
   ],
   "source": [
    "bert_hatebert_randomlycombined_dynahate_train_dev = np.concatenate((bert_hatebert_randomlycombined_dynahate_train, bert_hatebert_randomlycombined_dynahate_dev))\n",
    "bert_hatebert_randomlycombined_dynahate_labels_train_dev = np.concatenate((dynahate_labels_train, dynahate_labels_dev))\n",
    "\n",
    "grid_results = gridsearch.fit(bert_hatebert_randomlycombined_dynahate_train_dev, bert_hatebert_randomlycombined_dynahate_labels_train_dev)\n",
    "\n",
    "best_params = grid_results.best_params_\n",
    "mlp = grid_results.best_estimator_\n",
    "\n",
    "print(\"Best params: \", best_params)\n",
    "\n",
    "train_dev_preds = mlp.predict(bert_hatebert_randomlycombined_dynahate_train_dev)\n",
    "test_preds = mlp.predict(bert_hatebert_randomlycombined_dynahate_test)\n",
    "\n",
    "computeAllScores(train_dev_preds, test_preds, dynahate_labels_train_dev, dynahate_labels_test, \"Results/bert_hatebert_randomlycombined_dynahate_seed_7\")\n",
    "\n",
    "save_model(mlp, \"Saves/bert_hatebert_randomlycombined_dynahate_seed_7\")\n",
    "\n"
   ]
  },
  {
   "cell_type": "markdown",
   "metadata": {},
   "source": [
    "#### LatentHatred"
   ]
  },
  {
   "cell_type": "code",
   "execution_count": 17,
   "metadata": {},
   "outputs": [
    {
     "name": "stdout",
     "output_type": "stream",
     "text": [
      "Fitting 5 folds for each of 4 candidates, totalling 20 fits\n",
      "Best params:  {'activation': 'relu', 'early_stopping': True, 'hidden_layer_sizes': 128, 'learning_rate': 'adaptive', 'learning_rate_init': 0.001, 'max_iter': 10000, 'solver': 'adam'}\n",
      "Accuracy Train Dev:  0.6175667287399131\n",
      "Accuracy Test:  0.6227188081936685\n",
      "Weighted F1 Train Dev:  0.4721578534672951\n",
      "Weighted F1 Test:  0.4792895965390158\n",
      "Macro F1 Train Dev:  0.2553537605652035\n",
      "Macro F1 Test:  0.2569445757131061\n",
      "Micro F1 Train Dev:  0.6175667287399131\n",
      "Micro F1 Test:  0.6227188081936685\n",
      "Weighted Recall Train Dev:  0.6175667287399131\n",
      "Weighted Recall Test:  0.6227188081936685\n",
      "Macro Recall Train Dev:  0.3336691620633138\n",
      "Macro Recall Test:  0.33340567679668376\n",
      "Micro Recall Train Dev:  0.6175667287399131\n",
      "Micro Recall Test:  0.6227188081936685\n",
      "Confusion Matrix Train Dev: \n",
      "[[9942    3    0]\n",
      " [5340    7    0]\n",
      " [ 818    0    0]]\n",
      "Confusion Matrix Test: \n",
      "[[3341    5    0]\n",
      " [1750    3    0]\n",
      " [ 270    1    0]]\n"
     ]
    }
   ],
   "source": [
    "bert_hatebert_randomlycombined_latenthatred_train_dev = np.concatenate((bert_hatebert_randomlycombined_latenthatred_train, bert_hatebert_randomlycombined_latenthatred_dev))\n",
    "bert_hatebert_randomlycombined_latenthatred_labels_train_dev = np.concatenate((latenthatred_labels_train, latenthatred_labels_dev))\n",
    "\n",
    "grid_results = gridsearch.fit(bert_hatebert_randomlycombined_latenthatred_train_dev, bert_hatebert_randomlycombined_latenthatred_labels_train_dev)\n",
    "\n",
    "best_params = grid_results.best_params_\n",
    "mlp = grid_results.best_estimator_\n",
    "\n",
    "print(\"Best params: \", best_params)\n",
    "\n",
    "train_dev_preds = mlp.predict(bert_hatebert_randomlycombined_latenthatred_train_dev)\n",
    "test_preds = mlp.predict(bert_hatebert_randomlycombined_latenthatred_test)\n",
    "\n",
    "computeAllScores(train_dev_preds, test_preds, latenthatred_labels_train_dev, latenthatred_labels_test, \"Results/bert_hatebert_randomlycombined_latenthatred_seed_7\")\n",
    "\n",
    "save_model(mlp, \"Saves/bert_hatebert_randomlycombined_latenthatred_seed_7\")"
   ]
  },
  {
   "cell_type": "markdown",
   "metadata": {},
   "source": [
    "#### OLID"
   ]
  },
  {
   "cell_type": "code",
   "execution_count": 18,
   "metadata": {},
   "outputs": [
    {
     "name": "stdout",
     "output_type": "stream",
     "text": [
      "Fitting 5 folds for each of 4 candidates, totalling 20 fits\n",
      "Best params:  {'activation': 'relu', 'early_stopping': True, 'hidden_layer_sizes': 128, 'learning_rate': 'adaptive', 'learning_rate_init': 0.001, 'max_iter': 10000, 'solver': 'adam'}\n",
      "Accuracy Train Dev:  0.6676737160120846\n",
      "Accuracy Test:  0.7209302325581395\n",
      "Weighted F1 Train Dev:  0.5346227943430097\n",
      "Weighted F1 Test:  0.6040226272784412\n",
      "Macro F1 Train Dev:  0.4003623188405797\n",
      "Macro F1 Test:  0.4189189189189189\n",
      "Micro F1 Train Dev:  0.6676737160120846\n",
      "Micro F1 Test:  0.7209302325581395\n",
      "Weighted Recall Train Dev:  0.6676737160120846\n",
      "Weighted Recall Test:  0.7209302325581395\n",
      "Macro Recall Train Dev:  0.5\n",
      "Macro Recall Test:  0.5\n",
      "Micro Recall Train Dev:  0.6676737160120846\n",
      "Micro Recall Test:  0.7209302325581395\n",
      "Confusion Matrix Train Dev: \n",
      "[[8840    0]\n",
      " [4400    0]]\n",
      "Confusion Matrix Test: \n",
      "[[620   0]\n",
      " [240   0]]\n"
     ]
    }
   ],
   "source": [
    "bert_hatebert_randomlycombined_olid_train_dev = np.concatenate((bert_hatebert_randomlycombined_olid_train, bert_hatebert_randomlycombined_olid_dev))\n",
    "bert_hatebert_randomlycombined_olid_labels_train_dev = np.concatenate((olid_labels_train, olid_labels_dev))\n",
    "\n",
    "grid_results = gridsearch.fit(bert_hatebert_randomlycombined_olid_train_dev, bert_hatebert_randomlycombined_olid_labels_train_dev)\n",
    "\n",
    "best_params = grid_results.best_params_\n",
    "mlp = grid_results.best_estimator_\n",
    "\n",
    "print(\"Best params: \", best_params)\n",
    "\n",
    "train_dev_preds = mlp.predict(bert_hatebert_randomlycombined_olid_train_dev)\n",
    "test_preds = mlp.predict(bert_hatebert_randomlycombined_olid_test)\n",
    "\n",
    "computeAllScores(train_dev_preds, test_preds, olid_labels_train_dev, olid_labels_test, \"Results/bert_hatebert_randomlycombined_olid_seed_7\")\n",
    "\n",
    "save_model(mlp, \"Saves/bert_hatebert_randomlycombined_olid_seed_7\")"
   ]
  },
  {
   "attachments": {},
   "cell_type": "markdown",
   "metadata": {},
   "source": [
    "### BERTweet-HateBERT"
   ]
  },
  {
   "attachments": {},
   "cell_type": "markdown",
   "metadata": {},
   "source": [
    "#### DynaHate"
   ]
  },
  {
   "cell_type": "code",
   "execution_count": 19,
   "metadata": {},
   "outputs": [
    {
     "name": "stdout",
     "output_type": "stream",
     "text": [
      "Fitting 5 folds for each of 4 candidates, totalling 20 fits\n",
      "Best params:  {'activation': 'relu', 'early_stopping': True, 'hidden_layer_sizes': 128, 'learning_rate': 'adaptive', 'learning_rate_init': 0.0001, 'max_iter': 10000, 'solver': 'adam'}\n",
      "Accuracy Train Dev:  0.5417026793431288\n",
      "Accuracy Test:  0.5424757281553398\n",
      "Weighted F1 Train Dev:  0.42833197926666416\n",
      "Weighted F1 Test:  0.4266808645173573\n",
      "Macro F1 Train Dev:  0.4070377653705192\n",
      "Macro F1 Test:  0.39674260269423695\n",
      "Micro F1 Train Dev:  0.5417026793431288\n",
      "Micro F1 Test:  0.5424757281553398\n",
      "Weighted Recall Train Dev:  0.5417026793431288\n",
      "Weighted Recall Test:  0.5424757281553398\n",
      "Macro Recall Train Dev:  0.5086796854775888\n",
      "Macro Recall Test:  0.4979244517581451\n",
      "Micro Recall Train Dev:  0.5417026793431288\n",
      "Micro Recall Test:  0.5424757281553398\n",
      "Confusion Matrix Train Dev: \n",
      "[[ 1206 15911]\n",
      " [ 1057 18850]]\n",
      "Confusion Matrix Test: \n",
      "[[ 105 1747]\n",
      " [ 138 2130]]\n"
     ]
    }
   ],
   "source": [
    "hatebert_bertweet_randomlycombined_dynahate_train_dev = np.concatenate((hatebert_bertweet_randomlycombined_dynahate_train, hatebert_bertweet_randomlycombined_dynahate_dev))\n",
    "hatebert_bertweet_randomlycombined_dynahate_labels_train_dev = np.concatenate((dynahate_labels_train, dynahate_labels_dev))\n",
    "\n",
    "grid_results = gridsearch.fit(hatebert_bertweet_randomlycombined_dynahate_train_dev, hatebert_bertweet_randomlycombined_dynahate_labels_train_dev)\n",
    "\n",
    "best_params = grid_results.best_params_\n",
    "mlp = grid_results.best_estimator_\n",
    "\n",
    "print(\"Best params: \", best_params)\n",
    "\n",
    "train_dev_preds = mlp.predict(hatebert_bertweet_randomlycombined_dynahate_train_dev)\n",
    "test_preds = mlp.predict(hatebert_bertweet_randomlycombined_dynahate_test)\n",
    "\n",
    "computeAllScores(train_dev_preds, test_preds, dynahate_labels_train_dev, dynahate_labels_test, \"Results/hatebert_bertweet_randomlycombined_dynahate_seed_7\")\n",
    "\n",
    "save_model(mlp, \"Saves/hatebert_bertweet_randomlycombined_dynahate_seed_7\")"
   ]
  },
  {
   "cell_type": "markdown",
   "metadata": {},
   "source": [
    "#### LatentHatred"
   ]
  },
  {
   "cell_type": "code",
   "execution_count": 20,
   "metadata": {},
   "outputs": [
    {
     "name": "stdout",
     "output_type": "stream",
     "text": [
      "Fitting 5 folds for each of 4 candidates, totalling 20 fits\n",
      "Best params:  {'activation': 'relu', 'early_stopping': True, 'hidden_layer_sizes': 128, 'learning_rate': 'adaptive', 'learning_rate_init': 0.0001, 'max_iter': 10000, 'solver': 'adam'}\n",
      "Accuracy Train Dev:  0.61731843575419\n",
      "Accuracy Test:  0.6230912476722532\n",
      "Weighted F1 Train Dev:  0.471251724703544\n",
      "Weighted F1 Test:  0.47839910846979333\n",
      "Macro F1 Train Dev:  0.25446171560161196\n",
      "Macro F1 Test:  0.25592779562490436\n",
      "Micro F1 Train Dev:  0.61731843575419\n",
      "Micro F1 Test:  0.6230912476722532\n",
      "Weighted Recall Train Dev:  0.61731843575419\n",
      "Weighted Recall Test:  0.6230912476722532\n",
      "Macro Recall Train Dev:  0.3333333333333333\n",
      "Macro Recall Test:  0.3333333333333333\n",
      "Micro Recall Train Dev:  0.61731843575419\n",
      "Micro Recall Test:  0.6230912476722532\n",
      "Confusion Matrix Train Dev: \n",
      "[[9945    0    0]\n",
      " [5347    0    0]\n",
      " [ 818    0    0]]\n",
      "Confusion Matrix Test: \n",
      "[[3346    0    0]\n",
      " [1753    0    0]\n",
      " [ 271    0    0]]\n"
     ]
    }
   ],
   "source": [
    "hatebert_bertweet_randomlycombined_latenthatred_train_dev = np.concatenate((hatebert_bertweet_randomlycombined_latenthatred_train, hatebert_bertweet_randomlycombined_latenthatred_dev))\n",
    "hatebert_bertweet_randomlycombined_latenthatred_labels_train_dev = np.concatenate((latenthatred_labels_train, latenthatred_labels_dev))\n",
    "\n",
    "grid_results = gridsearch.fit(hatebert_bertweet_randomlycombined_latenthatred_train_dev, hatebert_bertweet_randomlycombined_latenthatred_labels_train_dev)\n",
    "\n",
    "best_params = grid_results.best_params_\n",
    "mlp = grid_results.best_estimator_\n",
    "\n",
    "print(\"Best params: \", best_params)\n",
    "\n",
    "train_dev_preds = mlp.predict(hatebert_bertweet_randomlycombined_latenthatred_train_dev)\n",
    "test_preds = mlp.predict(hatebert_bertweet_randomlycombined_latenthatred_test)\n",
    "\n",
    "computeAllScores(train_dev_preds, test_preds, latenthatred_labels_train_dev, latenthatred_labels_test, \"Results/hatebert_bertweet_randomlycombined_latenthatred_seed_7\")\n",
    "\n",
    "save_model(mlp, \"Saves/hatebert_bertweet_randomlycombined_latenthatred_seed_7\")"
   ]
  },
  {
   "cell_type": "markdown",
   "metadata": {},
   "source": [
    "#### OLID"
   ]
  },
  {
   "cell_type": "code",
   "execution_count": 21,
   "metadata": {},
   "outputs": [
    {
     "name": "stdout",
     "output_type": "stream",
     "text": [
      "Fitting 5 folds for each of 4 candidates, totalling 20 fits\n",
      "Best params:  {'activation': 'relu', 'early_stopping': True, 'hidden_layer_sizes': 128, 'learning_rate': 'adaptive', 'learning_rate_init': 0.001, 'max_iter': 10000, 'solver': 'adam'}\n",
      "Accuracy Train Dev:  0.6676737160120846\n",
      "Accuracy Test:  0.7209302325581395\n",
      "Weighted F1 Train Dev:  0.5346227943430097\n",
      "Weighted F1 Test:  0.6040226272784412\n",
      "Macro F1 Train Dev:  0.4003623188405797\n",
      "Macro F1 Test:  0.4189189189189189\n",
      "Micro F1 Train Dev:  0.6676737160120846\n",
      "Micro F1 Test:  0.7209302325581395\n",
      "Weighted Recall Train Dev:  0.6676737160120846\n",
      "Weighted Recall Test:  0.7209302325581395\n",
      "Macro Recall Train Dev:  0.5\n",
      "Macro Recall Test:  0.5\n",
      "Micro Recall Train Dev:  0.6676737160120846\n",
      "Micro Recall Test:  0.7209302325581395\n",
      "Confusion Matrix Train Dev: \n",
      "[[8840    0]\n",
      " [4400    0]]\n",
      "Confusion Matrix Test: \n",
      "[[620   0]\n",
      " [240   0]]\n"
     ]
    }
   ],
   "source": [
    "hatebert_bertweet_randomlycombined_olid_train_dev = np.concatenate((hatebert_bertweet_randomlycombined_olid_train, hatebert_bertweet_randomlycombined_olid_dev))\n",
    "hatebert_bertweet_randomlycombined_olid_labels_train_dev = np.concatenate((olid_labels_train, olid_labels_dev))\n",
    "\n",
    "grid_results = gridsearch.fit(hatebert_bertweet_randomlycombined_olid_train_dev, hatebert_bertweet_randomlycombined_olid_labels_train_dev)\n",
    "\n",
    "best_params = grid_results.best_params_\n",
    "mlp = grid_results.best_estimator_\n",
    "\n",
    "print(\"Best params: \", best_params)\n",
    "\n",
    "train_dev_preds = mlp.predict(hatebert_bertweet_randomlycombined_olid_train_dev)\n",
    "test_preds = mlp.predict(hatebert_bertweet_randomlycombined_olid_test)\n",
    "\n",
    "computeAllScores(train_dev_preds, test_preds, olid_labels_train_dev, olid_labels_test, \"Results/hatebert_bertweet_randomlycombined_olid_seed_7\")\n",
    "\n",
    "save_model(mlp, \"Saves/hatebert_bertweet_randomlycombined_olid_seed_7\")"
   ]
  },
  {
   "attachments": {},
   "cell_type": "markdown",
   "metadata": {},
   "source": [
    "### BERT-BERTweet-HateBERT"
   ]
  },
  {
   "attachments": {},
   "cell_type": "markdown",
   "metadata": {},
   "source": [
    "#### DynaHate"
   ]
  },
  {
   "cell_type": "code",
   "execution_count": 22,
   "metadata": {},
   "outputs": [
    {
     "name": "stdout",
     "output_type": "stream",
     "text": [
      "Fitting 5 folds for each of 4 candidates, totalling 20 fits\n",
      "Best params:  {'activation': 'relu', 'early_stopping': True, 'hidden_layer_sizes': (128, 64), 'learning_rate': 'adaptive', 'learning_rate_init': 0.0001, 'max_iter': 10000, 'solver': 'adam'}\n",
      "Accuracy Train Dev:  0.5377052722558341\n",
      "Accuracy Test:  0.5509708737864077\n",
      "Weighted F1 Train Dev:  0.3762242844681657\n",
      "Weighted F1 Test:  0.39198171836923484\n",
      "Macro F1 Train Dev:  0.34989278499840565\n",
      "Macro F1 Test:  0.3562306434213732\n",
      "Micro F1 Train Dev:  0.5377052722558341\n",
      "Micro F1 Test:  0.5509708737864077\n",
      "Weighted Recall Train Dev:  0.5377052722558341\n",
      "Weighted Recall Test:  0.5509708737864077\n",
      "Macro Recall Train Dev:  0.500041492525451\n",
      "Macro Recall Test:  0.5005399568034558\n",
      "Micro Recall Train Dev:  0.5377052722558341\n",
      "Micro Recall Test:  0.5509708737864077\n",
      "Confusion Matrix Train Dev: \n",
      "[[    4 17113]\n",
      " [    3 19904]]\n",
      "Confusion Matrix Test: \n",
      "[[   2 1850]\n",
      " [   0 2268]]\n"
     ]
    }
   ],
   "source": [
    "bert_bertweet_hatebert_randomlycombined_dynahate_train_dev = np.concatenate((bert_hatebert_bertweet_randomlycombined_dynahate_train, bert_hatebert_bertweet_randomlycombined_dynahate_dev))\n",
    "bert_bertweet_hatebert_randomlycombined_dynahate_labels_train_dev = np.concatenate((dynahate_labels_train, dynahate_labels_dev))\n",
    "\n",
    "grid_results = gridsearch.fit(bert_bertweet_hatebert_randomlycombined_dynahate_train_dev, bert_bertweet_hatebert_randomlycombined_dynahate_labels_train_dev)\n",
    "\n",
    "best_params = grid_results.best_params_\n",
    "mlp = grid_results.best_estimator_\n",
    "\n",
    "print(\"Best params: \", best_params)\n",
    "\n",
    "train_dev_preds = mlp.predict(bert_bertweet_hatebert_randomlycombined_dynahate_train_dev)\n",
    "test_preds = mlp.predict(bert_hatebert_bertweet_randomlycombined_dynahate_test)\n",
    "\n",
    "computeAllScores(train_dev_preds, test_preds, dynahate_labels_train_dev, dynahate_labels_test, \"Results/bert_bertweet_hatebert_randomlycombined_dynahate_seed_7\")\n",
    "\n",
    "save_model(mlp, \"Saves/bert_bertweet_hatebert_randomlycombined_dynahate_seed_7\")"
   ]
  },
  {
   "attachments": {},
   "cell_type": "markdown",
   "metadata": {},
   "source": [
    "#### LatentHatred"
   ]
  },
  {
   "cell_type": "code",
   "execution_count": 23,
   "metadata": {},
   "outputs": [
    {
     "name": "stdout",
     "output_type": "stream",
     "text": [
      "Fitting 5 folds for each of 4 candidates, totalling 20 fits\n",
      "Best params:  {'activation': 'relu', 'early_stopping': True, 'hidden_layer_sizes': (128, 64), 'learning_rate': 'adaptive', 'learning_rate_init': 0.001, 'max_iter': 10000, 'solver': 'adam'}\n",
      "Accuracy Train Dev:  0.6174425822470515\n",
      "Accuracy Test:  0.6230912476722532\n",
      "Weighted F1 Train Dev:  0.47153610124059964\n",
      "Weighted F1 Test:  0.47839910846979333\n",
      "Macro F1 Train Dev:  0.25473051753601267\n",
      "Macro F1 Test:  0.25592779562490436\n",
      "Micro F1 Train Dev:  0.6174425822470515\n",
      "Micro F1 Test:  0.6230912476722532\n",
      "Weighted Recall Train Dev:  0.6174425822470515\n",
      "Weighted Recall Test:  0.6230912476722532\n",
      "Macro Recall Train Dev:  0.3334580138395362\n",
      "Macro Recall Test:  0.3333333333333333\n",
      "Micro Recall Train Dev:  0.6174425822470515\n",
      "Micro Recall Test:  0.6230912476722532\n",
      "Confusion Matrix Train Dev: \n",
      "[[9945    0    0]\n",
      " [5345    2    0]\n",
      " [ 818    0    0]]\n",
      "Confusion Matrix Test: \n",
      "[[3346    0    0]\n",
      " [1753    0    0]\n",
      " [ 271    0    0]]\n"
     ]
    }
   ],
   "source": [
    "bert_bertweet_hatebert_randomlycombined_latenthatred_train_dev = np.concatenate((bert_hatebert_bertweet_randomlycombined_latenthatred_train, bert_hatebert_bertweet_randomlycombined_latenthatred_dev))\n",
    "bert_bertweet_hatebert_randomlycombined_latenthatred_labels_train_dev = np.concatenate((latenthatred_labels_train, latenthatred_labels_dev))\n",
    "\n",
    "grid_results = gridsearch.fit(bert_bertweet_hatebert_randomlycombined_latenthatred_train_dev, bert_bertweet_hatebert_randomlycombined_latenthatred_labels_train_dev)\n",
    "\n",
    "best_params = grid_results.best_params_\n",
    "mlp = grid_results.best_estimator_\n",
    "\n",
    "print(\"Best params: \", best_params)\n",
    "\n",
    "train_dev_preds = mlp.predict(bert_bertweet_hatebert_randomlycombined_latenthatred_train_dev)\n",
    "test_preds = mlp.predict(bert_hatebert_bertweet_randomlycombined_latenthatred_test)\n",
    "\n",
    "computeAllScores(train_dev_preds, test_preds, latenthatred_labels_train_dev, latenthatred_labels_test, \"Results/bert_bertweet_hatebert_randomlycombined_latenthatred_seed_7\")\n",
    "\n",
    "save_model(mlp, \"Saves/bert_bertweet_hatebert_randomlycombined_latenthatred_seed_7\")"
   ]
  },
  {
   "attachments": {},
   "cell_type": "markdown",
   "metadata": {},
   "source": [
    "#### OLID"
   ]
  },
  {
   "cell_type": "code",
   "execution_count": 24,
   "metadata": {},
   "outputs": [
    {
     "name": "stdout",
     "output_type": "stream",
     "text": [
      "Fitting 5 folds for each of 4 candidates, totalling 20 fits\n",
      "Best params:  {'activation': 'relu', 'early_stopping': True, 'hidden_layer_sizes': 128, 'learning_rate': 'adaptive', 'learning_rate_init': 0.001, 'max_iter': 10000, 'solver': 'adam'}\n",
      "Accuracy Train Dev:  0.6676737160120846\n",
      "Accuracy Test:  0.7209302325581395\n",
      "Weighted F1 Train Dev:  0.5346227943430097\n",
      "Weighted F1 Test:  0.6040226272784412\n",
      "Macro F1 Train Dev:  0.4003623188405797\n",
      "Macro F1 Test:  0.4189189189189189\n",
      "Micro F1 Train Dev:  0.6676737160120846\n",
      "Micro F1 Test:  0.7209302325581395\n",
      "Weighted Recall Train Dev:  0.6676737160120846\n",
      "Weighted Recall Test:  0.7209302325581395\n",
      "Macro Recall Train Dev:  0.5\n",
      "Macro Recall Test:  0.5\n",
      "Micro Recall Train Dev:  0.6676737160120846\n",
      "Micro Recall Test:  0.7209302325581395\n",
      "Confusion Matrix Train Dev: \n",
      "[[8840    0]\n",
      " [4400    0]]\n",
      "Confusion Matrix Test: \n",
      "[[620   0]\n",
      " [240   0]]\n"
     ]
    }
   ],
   "source": [
    "bert_bertweet_hatebert_randomlycombined_olid_train_dev = np.concatenate((bert_hatebert_bertweet_randomlycombined_olid_train, bert_hatebert_bertweet_randomlycombined_olid_dev))\n",
    "bert_bertweet_hatebert_randomlycombined_olid_labels_train_dev = np.concatenate((olid_labels_train, olid_labels_dev))\n",
    "\n",
    "grid_results = gridsearch.fit(bert_bertweet_hatebert_randomlycombined_olid_train_dev, bert_bertweet_hatebert_randomlycombined_olid_labels_train_dev)\n",
    "\n",
    "best_params = grid_results.best_params_\n",
    "mlp = grid_results.best_estimator_\n",
    "\n",
    "print(\"Best params: \", best_params)\n",
    "\n",
    "train_dev_preds = mlp.predict(bert_bertweet_hatebert_randomlycombined_olid_train_dev)\n",
    "test_preds = mlp.predict(bert_hatebert_bertweet_randomlycombined_olid_test)\n",
    "\n",
    "computeAllScores(train_dev_preds, test_preds, olid_labels_train_dev, olid_labels_test, \"Results/bert_bertweet_hatebert_randomlycombined_olid_seed_7\")\n",
    "\n",
    "save_model(mlp, \"Saves/bert_bertweet_hatebert_randomlycombined_olid_seed_7\")"
   ]
  },
  {
   "cell_type": "code",
   "execution_count": null,
   "metadata": {},
   "outputs": [],
   "source": []
  }
 ],
 "metadata": {
  "kernelspec": {
   "display_name": "Python 3",
   "language": "python",
   "name": "python3"
  },
  "language_info": {
   "codemirror_mode": {
    "name": "ipython",
    "version": 3
   },
   "file_extension": ".py",
   "mimetype": "text/x-python",
   "name": "python",
   "nbconvert_exporter": "python",
   "pygments_lexer": "ipython3",
   "version": "3.9.13"
  },
  "orig_nbformat": 4,
  "vscode": {
   "interpreter": {
    "hash": "a5a87ee616be0254e3f1af9223138e3faeac65b2c9d91bc22a9fc5a4a8bd8eb0"
   }
  }
 },
 "nbformat": 4,
 "nbformat_minor": 2
}
