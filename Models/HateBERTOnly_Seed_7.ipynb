{
 "cells": [
  {
   "cell_type": "code",
   "execution_count": 1,
   "metadata": {},
   "outputs": [
    {
     "name": "stderr",
     "output_type": "stream",
     "text": [
      "c:\\Python310\\lib\\site-packages\\tqdm\\auto.py:22: TqdmWarning: IProgress not found. Please update jupyter and ipywidgets. See https://ipywidgets.readthedocs.io/en/stable/user_install.html\n",
      "  from .autonotebook import tqdm as notebook_tqdm\n"
     ]
    }
   ],
   "source": [
    "from utils import *\n",
    "import numpy as np\n",
    "import torch, os\n",
    "from sklearn.preprocessing import StandardScaler\n",
    "from sklearn.neural_network import MLPClassifier\n",
    "from sklearn.model_selection import GridSearchCV"
   ]
  },
  {
   "cell_type": "code",
   "execution_count": 2,
   "metadata": {},
   "outputs": [
    {
     "name": "stdout",
     "output_type": "stream",
     "text": [
      "Seed: 7\n"
     ]
    }
   ],
   "source": [
    "set_random_seed(7)"
   ]
  },
  {
   "cell_type": "code",
   "execution_count": 3,
   "metadata": {},
   "outputs": [],
   "source": [
    "# def scaling_embeddings(embeddings):\n",
    "#     for i in range(len(embeddings)):\n",
    "#         embeddings[i] = StandardScaler().fit_transform(embeddings[i])\n",
    "#     return embeddings\n",
    "\n",
    "def reshape_embeddings(embeddings):\n",
    "    if embeddings.shape[1] == 1:\n",
    "        embeddings = embeddings.squeeze(1)\n",
    "    return embeddings"
   ]
  },
  {
   "cell_type": "code",
   "execution_count": 4,
   "metadata": {},
   "outputs": [],
   "source": [
    "dynahate_labels_train = process_labels(read_labels(\"dynahate\", \"train\"))\n",
    "dynahate_labels_dev = process_labels(read_labels(\"dynahate\", \"dev\"))\n",
    "dynahate_labels_test = process_labels(read_labels(\"dynahate\", \"test\"))\n",
    "\n",
    "latenthatred_labels_train = read_labels(\"latenthatred\", \"train\")\n",
    "latenthatred_labels_dev = read_labels(\"latenthatred\", \"dev\")\n",
    "latenthatred_labels_test = read_labels(\"latenthatred\", \"test\")\n",
    "\n",
    "olid_labels_train = read_labels(\"olid\", \"train\")\n",
    "olid_labels_dev = read_labels(\"olid\", \"dev\")\n",
    "olid_labels_test = read_labels(\"olid\", \"test\")"
   ]
  },
  {
   "cell_type": "code",
   "execution_count": 5,
   "metadata": {},
   "outputs": [],
   "source": [
    "mlp = MLPClassifier(random_state=7)\n",
    "gridsearch = GridSearchCV(\n",
    "    mlp,\n",
    "    param_grid={\n",
    "        \"hidden_layer_sizes\": [(128), (128,64)],\n",
    "        \"activation\": [\"relu\"],\n",
    "        \"solver\": [\"adam\"],\n",
    "        \"learning_rate_init\": [0.001, 0.0001],\n",
    "        \"learning_rate\": [\"adaptive\"],\n",
    "        \"early_stopping\": [True],\n",
    "        \"max_iter\": [10000]\n",
    "    },\n",
    "    verbose=4,\n",
    "    n_jobs=os.cpu_count()//3,\n",
    "    cv=5,\n",
    ")"
   ]
  },
  {
   "cell_type": "code",
   "execution_count": 6,
   "metadata": {},
   "outputs": [],
   "source": [
    "dynahate_labels_train_dev = np.concatenate((dynahate_labels_train, dynahate_labels_dev))\n",
    "latenthatred_labels_train_dev = np.concatenate((latenthatred_labels_train, latenthatred_labels_dev))\n",
    "olid_labels_train_dev = np.concatenate((olid_labels_train, olid_labels_dev))"
   ]
  },
  {
   "cell_type": "code",
   "execution_count": 7,
   "metadata": {},
   "outputs": [],
   "source": [
    "hatebert_dynahate_train_embeddings = reshape_embeddings(hatebert_dynahate_train_embeddings)\n",
    "hatebert_dynahate_dev_embeddings = reshape_embeddings(hatebert_dynahate_dev_embeddings)\n",
    "hatebert_dynahate_test_embeddings = reshape_embeddings(hatebert_dynahate_test_embeddings)\n",
    "\n",
    "hatebert_latenthatred_train_embeddings = reshape_embeddings(hatebert_latenthatred_train_embeddings)\n",
    "hatebert_latenthatred_dev_embeddings = reshape_embeddings(hatebert_latenthatred_dev_embeddings)\n",
    "hatebert_latenthatred_test_embeddings = reshape_embeddings(hatebert_latenthatred_test_embeddings)\n",
    "\n",
    "hatebert_olid_train_embeddings = reshape_embeddings(hatebert_olid_train_embeddings)\n",
    "hatebert_olid_dev_embeddings = reshape_embeddings(hatebert_olid_dev_embeddings)\n",
    "hatebert_olid_test_embeddings = reshape_embeddings(hatebert_olid_test_embeddings)"
   ]
  },
  {
   "attachments": {},
   "cell_type": "markdown",
   "metadata": {},
   "source": [
    "### HateBERT"
   ]
  },
  {
   "attachments": {},
   "cell_type": "markdown",
   "metadata": {},
   "source": [
    "#### DynaHate"
   ]
  },
  {
   "cell_type": "code",
   "execution_count": 8,
   "metadata": {},
   "outputs": [
    {
     "name": "stdout",
     "output_type": "stream",
     "text": [
      "Fitting 5 folds for each of 4 candidates, totalling 20 fits\n",
      "Best params:  {'activation': 'relu', 'early_stopping': True, 'hidden_layer_sizes': (128, 64), 'learning_rate': 'adaptive', 'learning_rate_init': 0.0001, 'max_iter': 10000, 'solver': 'adam'}\n",
      "Accuracy Train Dev:  0.7040568280034573\n",
      "Accuracy Test:  0.6859223300970874\n",
      "Weighted F1 Train Dev:  0.7016156398708624\n",
      "Weighted F1 Test:  0.6834324407120073\n",
      "Macro F1 Train Dev:  0.6985435086620486\n",
      "Macro F1 Test:  0.6785000884063246\n",
      "Micro F1 Train Dev:  0.7040568280034573\n",
      "Micro F1 Test:  0.6859223300970874\n",
      "Weighted Recall Train Dev:  0.7040568280034573\n",
      "Weighted Recall Test:  0.6859223300970874\n",
      "Macro Recall Train Dev:  0.6978285608672722\n",
      "Macro Recall Test:  0.6774877057454451\n",
      "Micro Recall Train Dev:  0.7040568280034573\n",
      "Micro Recall Test:  0.6859223300970874\n",
      "Confusion Matrix Train Dev: \n",
      "[[10530  6587]\n",
      " [ 4370 15537]]\n",
      "Confusion Matrix Test: \n",
      "[[1100  752]\n",
      " [ 542 1726]]\n"
     ]
    }
   ],
   "source": [
    "hatebert_dynahate_train_dev = np.concatenate((hatebert_dynahate_train_embeddings, hatebert_dynahate_dev_embeddings))\n",
    "\n",
    "grid_results = gridsearch.fit(hatebert_dynahate_train_dev, dynahate_labels_train_dev)\n",
    "\n",
    "best_params = grid_results.best_params_\n",
    "mlp = grid_results.best_estimator_\n",
    "\n",
    "print(\"Best params: \", best_params)\n",
    "\n",
    "train_dev_preds = mlp.predict(hatebert_dynahate_train_dev)\n",
    "test_preds = mlp.predict(hatebert_dynahate_test_embeddings)\n",
    "\n",
    "computeAllScores(train_dev_preds, test_preds, dynahate_labels_train_dev, dynahate_labels_test, \"Results/hatebert_dynahate_seed_7\")\n",
    "save_model(mlp, \"Saves/hatebert_dynahate_seed_7\")"
   ]
  },
  {
   "attachments": {},
   "cell_type": "markdown",
   "metadata": {},
   "source": [
    "#### LatentHatred"
   ]
  },
  {
   "cell_type": "code",
   "execution_count": 9,
   "metadata": {},
   "outputs": [
    {
     "name": "stdout",
     "output_type": "stream",
     "text": [
      "Fitting 5 folds for each of 4 candidates, totalling 20 fits\n",
      "Best params:  {'activation': 'relu', 'early_stopping': True, 'hidden_layer_sizes': (128, 64), 'learning_rate': 'adaptive', 'learning_rate_init': 0.0001, 'max_iter': 10000, 'solver': 'adam'}\n",
      "Accuracy Train Dev:  0.6908131595282433\n",
      "Accuracy Test:  0.6761638733705773\n",
      "Weighted F1 Train Dev:  0.6583417391428766\n",
      "Weighted F1 Test:  0.6402297198205446\n",
      "Macro F1 Train Dev:  0.44868676889483816\n",
      "Macro F1 Test:  0.4202525953335389\n",
      "Micro F1 Train Dev:  0.6908131595282433\n",
      "Micro F1 Test:  0.6761638733705773\n",
      "Weighted Recall Train Dev:  0.6908131595282433\n",
      "Weighted Recall Test:  0.6761638733705773\n",
      "Macro Recall Train Dev:  0.4469605855343905\n",
      "Macro Recall Test:  0.425545795533222\n",
      "Micro Recall Train Dev:  0.6908131595282433\n",
      "Micro Recall Test:  0.6761638733705773\n",
      "Confusion Matrix Train Dev: \n",
      "[[8839 1094   12]\n",
      " [3070 2267   10]\n",
      " [ 416  379   23]]\n",
      "Confusion Matrix Test: \n",
      "[[2949  396    1]\n",
      " [1071  680    2]\n",
      " [ 154  115    2]]\n"
     ]
    }
   ],
   "source": [
    "hatebert_latenthatred_train_dev = np.concatenate((hatebert_latenthatred_train_embeddings, hatebert_latenthatred_dev_embeddings))\n",
    "\n",
    "grid_results = gridsearch.fit(hatebert_latenthatred_train_dev, latenthatred_labels_train_dev)\n",
    "\n",
    "best_params = grid_results.best_params_\n",
    "mlp = grid_results.best_estimator_\n",
    "\n",
    "print(\"Best params: \", best_params)\n",
    "\n",
    "train_dev_preds = mlp.predict(hatebert_latenthatred_train_dev)\n",
    "test_preds = mlp.predict(hatebert_latenthatred_test_embeddings)\n",
    "\n",
    "computeAllScores(train_dev_preds, test_preds, latenthatred_labels_train_dev, latenthatred_labels_test, \"Results/hatebert_latenthatred_seed_7\")\n",
    "save_model(mlp, \"Saves/hatebert_latenthatred_seed_7\")"
   ]
  },
  {
   "attachments": {},
   "cell_type": "markdown",
   "metadata": {},
   "source": [
    "#### OLID"
   ]
  },
  {
   "cell_type": "code",
   "execution_count": 10,
   "metadata": {},
   "outputs": [
    {
     "name": "stdout",
     "output_type": "stream",
     "text": [
      "Fitting 5 folds for each of 4 candidates, totalling 20 fits\n",
      "Best params:  {'activation': 'relu', 'early_stopping': True, 'hidden_layer_sizes': 128, 'learning_rate': 'adaptive', 'learning_rate_init': 0.001, 'max_iter': 10000, 'solver': 'adam'}\n",
      "Accuracy Train Dev:  0.7462235649546828\n",
      "Accuracy Test:  0.7895348837209303\n",
      "Weighted F1 Train Dev:  0.7293536795911543\n",
      "Weighted F1 Test:  0.7627746964608499\n",
      "Macro F1 Train Dev:  0.6809671866880105\n",
      "Macro F1 Test:  0.6801009472020649\n",
      "Micro F1 Train Dev:  0.7462235649546827\n",
      "Micro F1 Test:  0.7895348837209303\n",
      "Weighted Recall Train Dev:  0.7462235649546828\n",
      "Weighted Recall Test:  0.7895348837209303\n",
      "Macro Recall Train Dev:  0.6698920197449609\n",
      "Macro Recall Test:  0.6599462365591398\n",
      "Micro Recall Train Dev:  0.7462235649546828\n",
      "Micro Recall Test:  0.7895348837209303\n",
      "Confusion Matrix Train Dev: \n",
      "[[7934  906]\n",
      " [2454 1946]]\n",
      "Confusion Matrix Test: \n",
      "[[591  29]\n",
      " [152  88]]\n"
     ]
    }
   ],
   "source": [
    "hatebert_olid_train_dev = np.concatenate((hatebert_olid_train_embeddings, hatebert_olid_dev_embeddings))\n",
    "\n",
    "grid_results = gridsearch.fit(hatebert_olid_train_dev, olid_labels_train_dev)\n",
    "\n",
    "best_params = grid_results.best_params_\n",
    "mlp = grid_results.best_estimator_\n",
    "\n",
    "print(\"Best params: \", best_params)\n",
    "\n",
    "train_dev_preds = mlp.predict(hatebert_olid_train_dev)\n",
    "test_preds = mlp.predict(hatebert_olid_test_embeddings)\n",
    "\n",
    "computeAllScores(train_dev_preds, test_preds, olid_labels_train_dev, olid_labels_test, \"Results/hatebert_olid_seed_7\")\n",
    "\n",
    "save_model(mlp, \"Saves/hatebert_olid_seed_7\")"
   ]
  }
 ],
 "metadata": {
  "kernelspec": {
   "display_name": "Python 3",
   "language": "python",
   "name": "python3"
  },
  "language_info": {
   "codemirror_mode": {
    "name": "ipython",
    "version": 3
   },
   "file_extension": ".py",
   "mimetype": "text/x-python",
   "name": "python",
   "nbconvert_exporter": "python",
   "pygments_lexer": "ipython3",
   "version": "3.10.1"
  },
  "orig_nbformat": 4,
  "vscode": {
   "interpreter": {
    "hash": "369f2c481f4da34e4445cda3fffd2e751bd1c4d706f27375911949ba6bb62e1c"
   }
  }
 },
 "nbformat": 4,
 "nbformat_minor": 2
}
