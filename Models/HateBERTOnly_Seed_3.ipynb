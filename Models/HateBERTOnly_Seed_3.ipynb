{
 "cells": [
  {
   "cell_type": "code",
   "execution_count": 1,
   "metadata": {},
   "outputs": [
    {
     "name": "stderr",
     "output_type": "stream",
     "text": [
      "c:\\Python310\\lib\\site-packages\\tqdm\\auto.py:22: TqdmWarning: IProgress not found. Please update jupyter and ipywidgets. See https://ipywidgets.readthedocs.io/en/stable/user_install.html\n",
      "  from .autonotebook import tqdm as notebook_tqdm\n"
     ]
    }
   ],
   "source": [
    "from utils import *\n",
    "import numpy as np\n",
    "import torch, os\n",
    "from sklearn.preprocessing import StandardScaler\n",
    "from sklearn.neural_network import MLPClassifier\n",
    "from sklearn.model_selection import GridSearchCV"
   ]
  },
  {
   "cell_type": "code",
   "execution_count": 2,
   "metadata": {},
   "outputs": [
    {
     "name": "stdout",
     "output_type": "stream",
     "text": [
      "Seed: 3\n"
     ]
    }
   ],
   "source": [
    "set_random_seed(3)"
   ]
  },
  {
   "cell_type": "code",
   "execution_count": 3,
   "metadata": {},
   "outputs": [],
   "source": [
    "# def scaling_embeddings(embeddings):\n",
    "#     for i in range(len(embeddings)):\n",
    "#         embeddings[i] = StandardScaler().fit_transform(embeddings[i])\n",
    "#     return embeddings\n",
    "\n",
    "def reshape_embeddings(embeddings):\n",
    "    if embeddings.shape[1] == 1:\n",
    "        embeddings = embeddings.squeeze(1)\n",
    "    return embeddings"
   ]
  },
  {
   "cell_type": "code",
   "execution_count": 4,
   "metadata": {},
   "outputs": [],
   "source": [
    "dynahate_labels_train = process_labels(read_labels(\"dynahate\", \"train\"))\n",
    "dynahate_labels_dev = process_labels(read_labels(\"dynahate\", \"dev\"))\n",
    "dynahate_labels_test = process_labels(read_labels(\"dynahate\", \"test\"))\n",
    "\n",
    "latenthatred_labels_train = read_labels(\"latenthatred\", \"train\")\n",
    "latenthatred_labels_dev = read_labels(\"latenthatred\", \"dev\")\n",
    "latenthatred_labels_test = read_labels(\"latenthatred\", \"test\")\n",
    "\n",
    "olid_labels_train = read_labels(\"olid\", \"train\")\n",
    "olid_labels_dev = read_labels(\"olid\", \"dev\")\n",
    "olid_labels_test = read_labels(\"olid\", \"test\")"
   ]
  },
  {
   "cell_type": "code",
   "execution_count": 5,
   "metadata": {},
   "outputs": [],
   "source": [
    "mlp = MLPClassifier(random_state=3)\n",
    "gridsearch = GridSearchCV(\n",
    "    mlp,\n",
    "    param_grid={\n",
    "        \"hidden_layer_sizes\": [(128), (128,64)],\n",
    "        \"activation\": [\"relu\"],\n",
    "        \"solver\": [\"adam\"],\n",
    "        \"learning_rate_init\": [0.001, 0.0001],\n",
    "        \"learning_rate\": [\"adaptive\"],\n",
    "        \"early_stopping\": [True],\n",
    "        \"max_iter\": [10000]\n",
    "    },\n",
    "    verbose=4,\n",
    "    n_jobs=os.cpu_count()//3,\n",
    "    cv=5,\n",
    ")"
   ]
  },
  {
   "cell_type": "code",
   "execution_count": 6,
   "metadata": {},
   "outputs": [],
   "source": [
    "dynahate_labels_train_dev = np.concatenate((dynahate_labels_train, dynahate_labels_dev))\n",
    "latenthatred_labels_train_dev = np.concatenate((latenthatred_labels_train, latenthatred_labels_dev))\n",
    "olid_labels_train_dev = np.concatenate((olid_labels_train, olid_labels_dev))"
   ]
  },
  {
   "cell_type": "code",
   "execution_count": 7,
   "metadata": {},
   "outputs": [],
   "source": [
    "hatebert_dynahate_train_embeddings = reshape_embeddings(hatebert_dynahate_train_embeddings)\n",
    "hatebert_dynahate_dev_embeddings = reshape_embeddings(hatebert_dynahate_dev_embeddings)\n",
    "hatebert_dynahate_test_embeddings = reshape_embeddings(hatebert_dynahate_test_embeddings)\n",
    "\n",
    "hatebert_latenthatred_train_embeddings = reshape_embeddings(hatebert_latenthatred_train_embeddings)\n",
    "hatebert_latenthatred_dev_embeddings = reshape_embeddings(hatebert_latenthatred_dev_embeddings)\n",
    "hatebert_latenthatred_test_embeddings = reshape_embeddings(hatebert_latenthatred_test_embeddings)\n",
    "\n",
    "hatebert_olid_train_embeddings = reshape_embeddings(hatebert_olid_train_embeddings)\n",
    "hatebert_olid_dev_embeddings = reshape_embeddings(hatebert_olid_dev_embeddings)\n",
    "hatebert_olid_test_embeddings = reshape_embeddings(hatebert_olid_test_embeddings)"
   ]
  },
  {
   "attachments": {},
   "cell_type": "markdown",
   "metadata": {},
   "source": [
    "### HateBERT"
   ]
  },
  {
   "attachments": {},
   "cell_type": "markdown",
   "metadata": {},
   "source": [
    "#### DynaHate"
   ]
  },
  {
   "cell_type": "code",
   "execution_count": 8,
   "metadata": {},
   "outputs": [
    {
     "name": "stdout",
     "output_type": "stream",
     "text": [
      "Fitting 5 folds for each of 4 candidates, totalling 20 fits\n",
      "Best params:  {'activation': 'relu', 'early_stopping': True, 'hidden_layer_sizes': (128, 64), 'learning_rate': 'adaptive', 'learning_rate_init': 0.001, 'max_iter': 10000, 'solver': 'adam'}\n",
      "Accuracy Train Dev:  0.7227744165946414\n",
      "Accuracy Test:  0.6844660194174758\n",
      "Weighted F1 Train Dev:  0.7217386198208466\n",
      "Weighted F1 Test:  0.6829655935355753\n",
      "Macro F1 Train Dev:  0.7194304145501702\n",
      "Macro F1 Test:  0.6785699796843745\n",
      "Micro F1 Train Dev:  0.7227744165946414\n",
      "Micro F1 Test:  0.6844660194174758\n",
      "Weighted Recall Train Dev:  0.7227744165946414\n",
      "Weighted Recall Test:  0.6844660194174758\n",
      "Macro Recall Train Dev:  0.7186283690094266\n",
      "Macro Recall Test:  0.677700069708709\n",
      "Micro Recall Train Dev:  0.7227744165946414\n",
      "Micro Recall Test:  0.6844660194174758\n",
      "Confusion Matrix Train Dev: \n",
      "[[11359  5758]\n",
      " [ 4506 15401]]\n",
      "Confusion Matrix Test: \n",
      "[[1131  721]\n",
      " [ 579 1689]]\n"
     ]
    }
   ],
   "source": [
    "hatebert_dynahate_train_dev = np.concatenate((hatebert_dynahate_train_embeddings, hatebert_dynahate_dev_embeddings))\n",
    "\n",
    "grid_results = gridsearch.fit(hatebert_dynahate_train_dev, dynahate_labels_train_dev)\n",
    "\n",
    "best_params = grid_results.best_params_\n",
    "mlp = grid_results.best_estimator_\n",
    "\n",
    "print(\"Best params: \", best_params)\n",
    "\n",
    "train_dev_preds = mlp.predict(hatebert_dynahate_train_dev)\n",
    "test_preds = mlp.predict(hatebert_dynahate_test_embeddings)\n",
    "\n",
    "computeAllScores(train_dev_preds, test_preds, dynahate_labels_train_dev, dynahate_labels_test, \"Results/hatebert_dynahate_seed_3\")\n",
    "save_model(mlp, \"Saves/hatebert_dynahate_seed_3\")"
   ]
  },
  {
   "attachments": {},
   "cell_type": "markdown",
   "metadata": {},
   "source": [
    "#### LatentHatred"
   ]
  },
  {
   "cell_type": "code",
   "execution_count": 9,
   "metadata": {},
   "outputs": [
    {
     "name": "stdout",
     "output_type": "stream",
     "text": [
      "Fitting 5 folds for each of 4 candidates, totalling 20 fits\n",
      "Best params:  {'activation': 'relu', 'early_stopping': True, 'hidden_layer_sizes': (128, 64), 'learning_rate': 'adaptive', 'learning_rate_init': 0.001, 'max_iter': 10000, 'solver': 'adam'}\n",
      "Accuracy Train Dev:  0.703227808814401\n",
      "Accuracy Test:  0.6849162011173184\n",
      "Weighted F1 Train Dev:  0.6769652743294887\n",
      "Weighted F1 Test:  0.6558743124989679\n",
      "Macro F1 Train Dev:  0.4891614648056841\n",
      "Macro F1 Test:  0.4633432913657562\n",
      "Micro F1 Train Dev:  0.703227808814401\n",
      "Micro F1 Test:  0.6849162011173184\n",
      "Weighted Recall Train Dev:  0.703227808814401\n",
      "Weighted Recall Test:  0.6849162011173184\n",
      "Macro Recall Train Dev:  0.4747892239647013\n",
      "Macro Recall Test:  0.4524785808161331\n",
      "Micro Recall Train Dev:  0.703227808814401\n",
      "Micro Recall Test:  0.6849162011173184\n",
      "Confusion Matrix Train Dev: \n",
      "[[8821 1094   30]\n",
      " [2860 2442   45]\n",
      " [ 401  351   66]]\n",
      "Confusion Matrix Test: \n",
      "[[2934  398   14]\n",
      " [1016  726   11]\n",
      " [ 151  102   18]]\n"
     ]
    }
   ],
   "source": [
    "hatebert_latenthatred_train_dev = np.concatenate((hatebert_latenthatred_train_embeddings, hatebert_latenthatred_dev_embeddings))\n",
    "\n",
    "grid_results = gridsearch.fit(hatebert_latenthatred_train_dev, latenthatred_labels_train_dev)\n",
    "\n",
    "best_params = grid_results.best_params_\n",
    "mlp = grid_results.best_estimator_\n",
    "\n",
    "print(\"Best params: \", best_params)\n",
    "\n",
    "train_dev_preds = mlp.predict(hatebert_latenthatred_train_dev)\n",
    "test_preds = mlp.predict(hatebert_latenthatred_test_embeddings)\n",
    "\n",
    "computeAllScores(train_dev_preds, test_preds, latenthatred_labels_train_dev, latenthatred_labels_test, \"Results/hatebert_latenthatred_seed_3\")\n",
    "save_model(mlp, \"Saves/hatebert_latenthatred_seed_3\")"
   ]
  },
  {
   "attachments": {},
   "cell_type": "markdown",
   "metadata": {},
   "source": [
    "#### OLID"
   ]
  },
  {
   "cell_type": "code",
   "execution_count": 10,
   "metadata": {},
   "outputs": [
    {
     "name": "stdout",
     "output_type": "stream",
     "text": [
      "Fitting 5 folds for each of 4 candidates, totalling 20 fits\n",
      "Best params:  {'activation': 'relu', 'early_stopping': True, 'hidden_layer_sizes': 128, 'learning_rate': 'adaptive', 'learning_rate_init': 0.001, 'max_iter': 10000, 'solver': 'adam'}\n",
      "Accuracy Train Dev:  0.7492447129909365\n",
      "Accuracy Test:  0.7872093023255814\n",
      "Weighted F1 Train Dev:  0.7376992182423182\n",
      "Weighted F1 Test:  0.7657245612518372\n",
      "Macro F1 Train Dev:  0.6941830920251142\n",
      "Macro F1 Test:  0.6879702602230484\n",
      "Micro F1 Train Dev:  0.7492447129909365\n",
      "Micro F1 Test:  0.7872093023255814\n",
      "Weighted Recall Train Dev:  0.7492447129909365\n",
      "Weighted Recall Test:  0.7872093023255814\n",
      "Macro Recall Train Dev:  0.683854895104895\n",
      "Macro Recall Test:  0.6685483870967742\n",
      "Micro Recall Train Dev:  0.7492447129909365\n",
      "Micro Recall Test:  0.7872093023255814\n",
      "Confusion Matrix Train Dev: \n",
      "[[7769 1071]\n",
      " [2249 2151]]\n",
      "Confusion Matrix Test: \n",
      "[[581  39]\n",
      " [144  96]]\n"
     ]
    }
   ],
   "source": [
    "hatebert_olid_train_dev = np.concatenate((hatebert_olid_train_embeddings, hatebert_olid_dev_embeddings))\n",
    "\n",
    "grid_results = gridsearch.fit(hatebert_olid_train_dev, olid_labels_train_dev)\n",
    "\n",
    "best_params = grid_results.best_params_\n",
    "mlp = grid_results.best_estimator_\n",
    "\n",
    "print(\"Best params: \", best_params)\n",
    "\n",
    "train_dev_preds = mlp.predict(hatebert_olid_train_dev)\n",
    "test_preds = mlp.predict(hatebert_olid_test_embeddings)\n",
    "\n",
    "computeAllScores(train_dev_preds, test_preds, olid_labels_train_dev, olid_labels_test, \"Results/hatebert_olid_seed_3\")\n",
    "\n",
    "save_model(mlp, \"Saves/hatebert_olid_seed_3\")"
   ]
  }
 ],
 "metadata": {
  "kernelspec": {
   "display_name": "Python 3",
   "language": "python",
   "name": "python3"
  },
  "language_info": {
   "codemirror_mode": {
    "name": "ipython",
    "version": 3
   },
   "file_extension": ".py",
   "mimetype": "text/x-python",
   "name": "python",
   "nbconvert_exporter": "python",
   "pygments_lexer": "ipython3",
   "version": "3.10.1"
  },
  "orig_nbformat": 4,
  "vscode": {
   "interpreter": {
    "hash": "369f2c481f4da34e4445cda3fffd2e751bd1c4d706f27375911949ba6bb62e1c"
   }
  }
 },
 "nbformat": 4,
 "nbformat_minor": 2
}
