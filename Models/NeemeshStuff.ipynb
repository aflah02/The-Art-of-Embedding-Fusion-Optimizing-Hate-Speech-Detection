{
 "cells": [
  {
   "cell_type": "code",
   "execution_count": 2,
   "metadata": {},
   "outputs": [],
   "source": [
    "from utils import *\n",
    "import torch, os\n",
    "from sklearn.preprocessing import StandardScaler\n",
    "from sklearn.neural_network import MLPClassifier\n",
    "from sklearn.model_selection import GridSearchCV"
   ]
  },
  {
   "cell_type": "code",
   "execution_count": null,
   "metadata": {},
   "outputs": [],
   "source": [
    "def scaling_embeddings(embeddings):\n",
    "    for i in range(len(embeddings)):\n",
    "        embeddings[i] = StandardScaler().fit_transform(embeddings[i])\n",
    "    return embeddings\n",
    "\n",
    "def reshape_embeddings(embeddings):\n",
    "    if embeddings.shape[1] == 1:\n",
    "        embeddings = embeddings.squeeze(1)\n",
    "    return embeddings"
   ]
  },
  {
   "cell_type": "code",
   "execution_count": 2,
   "metadata": {},
   "outputs": [],
   "source": [
    "def concat_embeddings(embeddings1, embeddings2, raw = True):\n",
    "    embeddings = []\n",
    "    for i in range(embeddings1.shape[0]):\n",
    "        if raw:\n",
    "            embeddings.append(torch.cat((embeddings1[i], embeddings2[i]), 1))\n",
    "        else:\n",
    "            embeddings.append(torch.cat((embeddings1[i], embeddings2[i]), 0))\n",
    "    embeddings = torch.stack(embeddings)\n",
    "    embeddings = embeddings.reshape(embeddings.shape[0], -1)\n",
    "    return embeddings\n",
    "\n",
    "def scaling_embeddings(embeddings):\n",
    "    embeddings = embeddings.cpu()\n",
    "    if embeddings.shape[1] == 1:\n",
    "        embeddings = embeddings.squeeze(1)\n",
    "    embeddings = embeddings.detach().numpy()\n",
    "    scaler = StandardScaler()\n",
    "    scaler.fit(embeddings)\n",
    "    return torch.from_numpy(scaler.transform(embeddings))"
   ]
  },
  {
   "cell_type": "code",
   "execution_count": 3,
   "metadata": {},
   "outputs": [],
   "source": [
    "# scaling embeddings for all the models with their respective datasets\n",
    "\n",
    "scaled_bert_dynahate_train_embeddings = scaling_embeddings(bert_dynahate_train_embeddings)\n",
    "scaled_bert_dynahate_test_embeddings = scaling_embeddings(bert_dynahate_test_embeddings)\n",
    "scaled_bert_dynahate_dev_embeddings = scaling_embeddings(bert_dynahate_dev_embeddings)\n",
    "\n",
    "scaled_bert_latenthatred_train_embeddings = scaling_embeddings(bert_latenthatred_train_embeddings)\n",
    "scaled_bert_latenthatred_test_embeddings = scaling_embeddings(bert_latenthatred_test_embeddings)\n",
    "scaled_bert_latenthatred_dev_embeddings = scaling_embeddings(bert_latenthatred_dev_embeddings)\n",
    "\n",
    "scaled_bert_olid_train_embeddings = scaling_embeddings(bert_olid_train_embeddings)\n",
    "scaled_bert_olid_test_embeddings = scaling_embeddings(bert_olid_test_embeddings)\n",
    "scaled_bert_olid_dev_embeddings = scaling_embeddings(bert_olid_dev_embeddings)\n",
    "\n",
    "scaled_bertweet_dynahate_train_embeddings = scaling_embeddings(bertweet_dynahate_train_embeddings)\n",
    "scaled_bertweet_dynahate_test_embeddings = scaling_embeddings(bertweet_dynahate_test_embeddings)\n",
    "scaled_bertweet_dynahate_dev_embeddings = scaling_embeddings(bertweet_dynahate_dev_embeddings)\n",
    "\n",
    "scaled_bertweet_latenthatred_train_embeddings = scaling_embeddings(bertweet_latenthatred_train_embeddings)\n",
    "scaled_bertweet_latenthatred_test_embeddings = scaling_embeddings(bertweet_latenthatred_test_embeddings)\n",
    "scaled_bertweet_latenthatred_dev_embeddings = scaling_embeddings(bertweet_latenthatred_dev_embeddings)\n",
    "\n",
    "scaled_bertweet_olid_train_embeddings = scaling_embeddings(bertweet_olid_train_embeddings)\n",
    "scaled_bertweet_olid_test_embeddings = scaling_embeddings(bertweet_olid_test_embeddings)\n",
    "scaled_bertweet_olid_dev_embeddings = scaling_embeddings(bertweet_olid_dev_embeddings)\n",
    "\n",
    "scaled_hatebert_dynahate_train_embeddings = scaling_embeddings(hatebert_dynahate_train_embeddings)\n",
    "scaled_hatebert_dynahate_test_embeddings = scaling_embeddings(hatebert_dynahate_test_embeddings)\n",
    "scaled_hatebert_dynahate_dev_embeddings = scaling_embeddings(hatebert_dynahate_dev_embeddings)\n",
    "\n",
    "scaled_hatebert_latenthatred_train_embeddings = scaling_embeddings(hatebert_latenthatred_train_embeddings)\n",
    "scaled_hatebert_latenthatred_test_embeddings = scaling_embeddings(hatebert_latenthatred_test_embeddings)\n",
    "scaled_hatebert_latenthatred_dev_embeddings = scaling_embeddings(hatebert_latenthatred_dev_embeddings)\n",
    "\n",
    "scaled_hatebert_olid_train_embeddings = scaling_embeddings(hatebert_olid_train_embeddings)\n",
    "scaled_hatebert_olid_test_embeddings = scaling_embeddings(hatebert_olid_test_embeddings)\n",
    "scaled_hatebert_olid_dev_embeddings = scaling_embeddings(hatebert_olid_dev_embeddings)"
   ]
  },
  {
   "cell_type": "code",
   "execution_count": 4,
   "metadata": {},
   "outputs": [],
   "source": [
    "prescaling_bert_bertweet_dynahate_train_embeddings = concat_embeddings(bert_dynahate_train_embeddings, bertweet_dynahate_train_embeddings)\n",
    "prescaling_bert_bertweet_dynahate_dev_embeddings = concat_embeddings(bert_dynahate_dev_embeddings, bertweet_dynahate_dev_embeddings)\n",
    "prescaling_bert_bertweet_dynahate_test_embeddings = concat_embeddings(bert_dynahate_test_embeddings, bertweet_dynahate_test_embeddings)\n",
    "\n",
    "prescaling_bert_bertweet_latenthatred_train_embeddings = concat_embeddings(bert_latenthatred_train_embeddings, bertweet_latenthatred_train_embeddings)\n",
    "prescaling_bert_bertweet_latenthatred_dev_embeddings = concat_embeddings(bert_latenthatred_dev_embeddings, bertweet_latenthatred_dev_embeddings)\n",
    "prescaling_bert_bertweet_latenthatred_test_embeddings = concat_embeddings(bert_latenthatred_test_embeddings, bertweet_latenthatred_test_embeddings)\n",
    "\n",
    "prescaling_bert_bertweet_olid_train_embeddings = concat_embeddings(bert_olid_train_embeddings, bertweet_olid_train_embeddings)\n",
    "prescaling_bert_bertweet_olid_dev_embeddings = concat_embeddings(bert_olid_dev_embeddings, bertweet_olid_dev_embeddings)\n",
    "prescaling_bert_bertweet_olid_test_embeddings = concat_embeddings(bert_olid_test_embeddings, bertweet_olid_test_embeddings)\n",
    "\n",
    "prescaling_bert_hatebert_dynahate_train_embeddings = concat_embeddings(bert_dynahate_train_embeddings, hatebert_dynahate_train_embeddings)\n",
    "prescaling_bert_hatebert_dynahate_dev_embeddings = concat_embeddings(bert_dynahate_dev_embeddings, hatebert_dynahate_dev_embeddings)\n",
    "prescaling_bert_hatebert_dynahate_test_embeddings = concat_embeddings(bert_dynahate_test_embeddings, hatebert_dynahate_test_embeddings)\n",
    "\n",
    "prescaling_bert_hatebert_latenthatred_train_embeddings = concat_embeddings(bert_latenthatred_train_embeddings, hatebert_latenthatred_train_embeddings)\n",
    "prescaling_bert_hatebert_latenthatred_dev_embeddings = concat_embeddings(bert_latenthatred_dev_embeddings, hatebert_latenthatred_dev_embeddings)\n",
    "prescaling_bert_hatebert_latenthatred_test_embeddings = concat_embeddings(bert_latenthatred_test_embeddings, hatebert_latenthatred_test_embeddings)\n",
    "\n",
    "prescaling_bert_hatebert_olid_train_embeddings = concat_embeddings(bert_olid_train_embeddings, hatebert_olid_train_embeddings)\n",
    "prescaling_bert_hatebert_olid_dev_embeddings = concat_embeddings(bert_olid_dev_embeddings, hatebert_olid_dev_embeddings)\n",
    "prescaling_bert_hatebert_olid_test_embeddings = concat_embeddings(bert_olid_test_embeddings, hatebert_olid_test_embeddings)\n",
    "\n",
    "prescaling_bertweet_hatebert_dynahate_train_embeddings = concat_embeddings(bertweet_dynahate_train_embeddings, hatebert_dynahate_train_embeddings)\n",
    "prescaling_bertweet_hatebert_dynahate_dev_embeddings = concat_embeddings(bertweet_dynahate_dev_embeddings, hatebert_dynahate_dev_embeddings)\n",
    "prescaling_bertweet_hatebert_dynahate_test_embeddings = concat_embeddings(bertweet_dynahate_test_embeddings, hatebert_dynahate_test_embeddings)\n",
    "\n",
    "prescaling_bertweet_hatebert_latenthatred_train_embeddings = concat_embeddings(bertweet_latenthatred_train_embeddings, hatebert_latenthatred_train_embeddings)\n",
    "prescaling_bertweet_hatebert_latenthatred_dev_embeddings = concat_embeddings(bertweet_latenthatred_dev_embeddings, hatebert_latenthatred_dev_embeddings)\n",
    "prescaling_bertweet_hatebert_latenthatred_test_embeddings = concat_embeddings(bertweet_latenthatred_test_embeddings, hatebert_latenthatred_test_embeddings)\n",
    "\n",
    "prescaling_bertweet_hatebert_olid_train_embeddings = concat_embeddings(bertweet_olid_train_embeddings, hatebert_olid_train_embeddings)\n",
    "prescaling_bertweet_hatebert_olid_dev_embeddings = concat_embeddings(bertweet_olid_dev_embeddings, hatebert_olid_dev_embeddings)\n",
    "prescaling_bertweet_hatebert_olid_test_embeddings = concat_embeddings(bertweet_olid_test_embeddings, hatebert_olid_test_embeddings)"
   ]
  },
  {
   "cell_type": "code",
   "execution_count": 5,
   "metadata": {},
   "outputs": [],
   "source": [
    "postscaling_bert_bertweet_dynahate_train_embeddings = concat_embeddings(scaled_bert_dynahate_train_embeddings, scaled_bertweet_dynahate_train_embeddings, False)\n",
    "postscaling_bert_bertweet_dynahate_dev_embeddings = concat_embeddings(scaled_bert_dynahate_dev_embeddings, scaled_bertweet_dynahate_dev_embeddings, False)\n",
    "postscaling_bert_bertweet_dynahate_test_embeddings = concat_embeddings(scaled_bert_dynahate_test_embeddings, scaled_bertweet_dynahate_test_embeddings, False)\n",
    "\n",
    "postscaling_bert_bertweet_latenthatred_train_embeddings = concat_embeddings(scaled_bert_latenthatred_train_embeddings, scaled_bertweet_latenthatred_train_embeddings, False)\n",
    "postscaling_bert_bertweet_latenthatred_dev_embeddings = concat_embeddings(scaled_bert_latenthatred_dev_embeddings, scaled_bertweet_latenthatred_dev_embeddings, False)\n",
    "postscaling_bert_bertweet_latenthatred_test_embeddings = concat_embeddings(scaled_bert_latenthatred_test_embeddings, scaled_bertweet_latenthatred_test_embeddings, False)\n",
    "\n",
    "postscaling_bert_bertweet_olid_train_embeddings = concat_embeddings(scaled_bert_olid_train_embeddings, scaled_bertweet_olid_train_embeddings, False)\n",
    "postscaling_bert_bertweet_olid_dev_embeddings = concat_embeddings(scaled_bert_olid_dev_embeddings, scaled_bertweet_olid_dev_embeddings, False)\n",
    "postscaling_bert_bertweet_olid_test_embeddings = concat_embeddings(scaled_bert_olid_test_embeddings, scaled_bertweet_olid_test_embeddings, False)\n",
    "\n",
    "postscaling_bert_hatebert_dynahate_train_embeddings = concat_embeddings(scaled_bert_dynahate_train_embeddings, scaled_hatebert_dynahate_train_embeddings, False)\n",
    "postscaling_bert_hatebert_dynahate_dev_embeddings = concat_embeddings(scaled_bert_dynahate_dev_embeddings, scaled_hatebert_dynahate_dev_embeddings, False)\n",
    "postscaling_bert_hatebert_dynahate_test_embeddings = concat_embeddings(scaled_bert_dynahate_test_embeddings, scaled_hatebert_dynahate_test_embeddings, False)\n",
    "\n",
    "postscaling_bert_hatebert_latenthatred_train_embeddings = concat_embeddings(scaled_bert_latenthatred_train_embeddings, scaled_hatebert_latenthatred_train_embeddings, False)\n",
    "postscaling_bert_hatebert_latenthatred_dev_embeddings = concat_embeddings(scaled_bert_latenthatred_dev_embeddings, scaled_hatebert_latenthatred_dev_embeddings, False)\n",
    "postscaling_bert_hatebert_latenthatred_test_embeddings = concat_embeddings(scaled_bert_latenthatred_test_embeddings, scaled_hatebert_latenthatred_test_embeddings, False)\n",
    "\n",
    "postscaling_bert_hatebert_olid_train_embeddings = concat_embeddings(scaled_bert_olid_train_embeddings, scaled_hatebert_olid_train_embeddings, False)\n",
    "postscaling_bert_hatebert_olid_dev_embeddings = concat_embeddings(scaled_bert_olid_dev_embeddings, scaled_hatebert_olid_dev_embeddings, False)\n",
    "postscaling_bert_hatebert_olid_test_embeddings = concat_embeddings(scaled_bert_olid_test_embeddings, scaled_hatebert_olid_test_embeddings, False)\n",
    "\n",
    "postscaling_bertweet_hatebert_dynahate_train_embeddings = concat_embeddings(scaled_bertweet_dynahate_train_embeddings, scaled_hatebert_dynahate_train_embeddings, False)\n",
    "postscaling_bertweet_hatebert_dynahate_dev_embeddings = concat_embeddings(scaled_bertweet_dynahate_dev_embeddings, scaled_hatebert_dynahate_dev_embeddings, False)\n",
    "postscaling_bertweet_hatebert_dynahate_test_embeddings = concat_embeddings(scaled_bertweet_dynahate_test_embeddings, scaled_hatebert_dynahate_test_embeddings, False)\n",
    "\n",
    "postscaling_bertweet_hatebert_latenthatred_train_embeddings = concat_embeddings(scaled_bertweet_latenthatred_train_embeddings, scaled_hatebert_latenthatred_train_embeddings, False)\n",
    "postscaling_bertweet_hatebert_latenthatred_dev_embeddings = concat_embeddings(scaled_bertweet_latenthatred_dev_embeddings, scaled_hatebert_latenthatred_dev_embeddings, False)\n",
    "postscaling_bertweet_hatebert_latenthatred_test_embeddings = concat_embeddings(scaled_bertweet_latenthatred_test_embeddings, scaled_hatebert_latenthatred_test_embeddings, False)\n",
    "\n",
    "postscaling_bertweet_hatebert_olid_train_embeddings = concat_embeddings(scaled_bertweet_olid_train_embeddings, scaled_hatebert_olid_train_embeddings, False)\n",
    "postscaling_bertweet_hatebert_olid_dev_embeddings = concat_embeddings(scaled_bertweet_olid_dev_embeddings, scaled_hatebert_olid_dev_embeddings, False)\n",
    "postscaling_bertweet_hatebert_olid_test_embeddings = concat_embeddings(scaled_bertweet_olid_test_embeddings, scaled_hatebert_olid_test_embeddings, False)"
   ]
  },
  {
   "cell_type": "code",
   "execution_count": 6,
   "metadata": {},
   "outputs": [],
   "source": [
    "dynahate_labels_train = process_labels(read_labels(\"dynahate\", \"train\"))\n",
    "dynahate_labels_dev = process_labels(read_labels(\"dynahate\", \"dev\"))\n",
    "dynahate_labels_test = process_labels(read_labels(\"dynahate\", \"test\"))\n",
    "\n",
    "latenthatred_labels_train = read_labels(\"latenthatred\", \"train\")\n",
    "latenthatred_labels_dev = read_labels(\"latenthatred\", \"dev\")\n",
    "latenthatred_labels_test = read_labels(\"latenthatred\", \"test\")\n",
    "\n",
    "olid_labels_train = read_labels(\"olid\", \"train\")\n",
    "olid_labels_dev = read_labels(\"olid\", \"dev\")\n",
    "olid_labels_test = read_labels(\"olid\", \"test\")"
   ]
  },
  {
   "cell_type": "code",
   "execution_count": 7,
   "metadata": {},
   "outputs": [],
   "source": [
    "mlp = MLPClassifier()\n",
    "gridsearch = GridSearchCV(\n",
    "    mlp,\n",
    "    param_grid={\n",
    "        \"hidden_layer_sizes\": [(256, 128), (256, 128, 64)],\n",
    "        \"activation\": [\"relu\", \"tanh\"],\n",
    "        \"solver\": [\"adam\", \"sgd\"],\n",
    "        \"learning_rate_init\": [0.001, 0.0001],\n",
    "        \"learning_rate\": [\"constant\", \"adaptive\"],\n",
    "        # \"early_stopping\": [True]\n",
    "    },\n",
    "    verbose=4,\n",
    "    n_jobs=os.cpu_count()//3,\n",
    ")"
   ]
  },
  {
   "attachments": {},
   "cell_type": "markdown",
   "metadata": {},
   "source": [
    "### BERT-BERTweet"
   ]
  },
  {
   "attachments": {},
   "cell_type": "markdown",
   "metadata": {},
   "source": [
    "#### DynaHate"
   ]
  },
  {
   "cell_type": "code",
   "execution_count": 8,
   "metadata": {},
   "outputs": [],
   "source": [
    "scaled_prescaling_bert_bertweet_dynahate_train_embeddings = scaling_embeddings(prescaling_bert_bertweet_dynahate_train_embeddings)\n",
    "scaled_prescaling_bert_bertweet_dynahate_dev_embeddings = scaling_embeddings(prescaling_bert_bertweet_dynahate_dev_embeddings)\n",
    "scaled_prescaling_bert_bertweet_dynahate_test_embeddings = scaling_embeddings(prescaling_bert_bertweet_dynahate_test_embeddings)"
   ]
  },
  {
   "attachments": {},
   "cell_type": "markdown",
   "metadata": {},
   "source": [
    "##### Concatenated embeddings without normalization"
   ]
  },
  {
   "cell_type": "code",
   "execution_count": 9,
   "metadata": {},
   "outputs": [
    {
     "name": "stdout",
     "output_type": "stream",
     "text": [
      "Fitting 5 folds for each of 32 candidates, totalling 160 fits\n"
     ]
    }
   ],
   "source": [
    "grid_results = gridsearch.fit(prescaling_bert_bertweet_dynahate_train_embeddings.cpu(), dynahate_labels_train)"
   ]
  },
  {
   "cell_type": "code",
   "execution_count": null,
   "metadata": {},
   "outputs": [],
   "source": [
    "best_params = grid_results.best_params_\n",
    "mlp = grid_results.best_estimator_"
   ]
  },
  {
   "cell_type": "code",
   "execution_count": null,
   "metadata": {},
   "outputs": [],
   "source": [
    "best_params"
   ]
  },
  {
   "cell_type": "code",
   "execution_count": null,
   "metadata": {},
   "outputs": [],
   "source": [
    "mlp = mlp.fit(prescaling_bert_bertweet_dynahate_train_embeddings.cpu(), dynahate_labels_train)\n",
    "save_model(mlp, \"dynahate_bert_bertweet_without_scaling.pickle\")"
   ]
  },
  {
   "cell_type": "code",
   "execution_count": null,
   "metadata": {},
   "outputs": [],
   "source": [
    "train_preds = mlp.predict(prescaling_bert_bertweet_dynahate_train_embeddings.cpu())\n",
    "dev_preds = mlp.predict(prescaling_bert_bertweet_dynahate_dev_embeddings.cpu())\n",
    "test_preds = mlp.predict(prescaling_bert_bertweet_dynahate_test_embeddings.cpu())"
   ]
  },
  {
   "cell_type": "code",
   "execution_count": null,
   "metadata": {},
   "outputs": [],
   "source": [
    "computeAllScores(train_preds, dev_preds, test_preds, dynahate_labels_train, dynahate_labels_dev, dynahate_labels_test)"
   ]
  },
  {
   "attachments": {},
   "cell_type": "markdown",
   "metadata": {},
   "source": [
    "##### Concatenated normalized embeddings"
   ]
  },
  {
   "cell_type": "code",
   "execution_count": null,
   "metadata": {},
   "outputs": [
    {
     "name": "stdout",
     "output_type": "stream",
     "text": [
      "Fitting 5 folds for each of 32 candidates, totalling 160 fits\n"
     ]
    }
   ],
   "source": [
    "grid_results = gridsearch.fit(scaled_prescaling_bert_bertweet_dynahate_train_embeddings.cpu(), dynahate_labels_train)"
   ]
  },
  {
   "cell_type": "code",
   "execution_count": null,
   "metadata": {},
   "outputs": [],
   "source": [
    "best_params = grid_results.best_params_\n",
    "mlp = grid_results.best_estimator_"
   ]
  },
  {
   "cell_type": "code",
   "execution_count": null,
   "metadata": {},
   "outputs": [],
   "source": [
    "best_params"
   ]
  },
  {
   "cell_type": "code",
   "execution_count": null,
   "metadata": {},
   "outputs": [],
   "source": [
    "mlp = mlp.fit(prescaling_bert_bertweet_dynahate_train_embeddings.cpu(), dynahate_labels_train)\n",
    "save_model(mlp, \"dynahate_bert_bertweet_with_pre_scaling.pickle\")"
   ]
  },
  {
   "cell_type": "code",
   "execution_count": null,
   "metadata": {},
   "outputs": [],
   "source": [
    "train_preds = mlp.predict(scaled_prescaling_bert_bertweet_dynahate_train_embeddings.cpu())\n",
    "dev_preds = mlp.predict(scaled_prescaling_bert_bertweet_dynahate_dev_embeddings.cpu())\n",
    "test_preds = mlp.predict(scaled_prescaling_bert_bertweet_dynahate_test_embeddings.cpu())"
   ]
  },
  {
   "cell_type": "code",
   "execution_count": null,
   "metadata": {},
   "outputs": [],
   "source": [
    "computeAllScores(train_preds, dev_preds, test_preds, dynahate_labels_train, dynahate_labels_dev, dynahate_labels_test)"
   ]
  },
  {
   "attachments": {},
   "cell_type": "markdown",
   "metadata": {},
   "source": [
    "##### Normalized concatenated embeddings"
   ]
  },
  {
   "cell_type": "code",
   "execution_count": null,
   "metadata": {},
   "outputs": [
    {
     "name": "stdout",
     "output_type": "stream",
     "text": [
      "Fitting 5 folds for each of 32 candidates, totalling 160 fits\n"
     ]
    }
   ],
   "source": [
    "grid_results = gridsearch.fit(postscaling_bert_bertweet_dynahate_train_embeddings.cpu(), dynahate_labels_train)"
   ]
  },
  {
   "cell_type": "code",
   "execution_count": null,
   "metadata": {},
   "outputs": [],
   "source": [
    "best_params = grid_results.best_params_\n",
    "mlp = grid_results.best_estimator_"
   ]
  },
  {
   "cell_type": "code",
   "execution_count": null,
   "metadata": {},
   "outputs": [],
   "source": [
    "best_params"
   ]
  },
  {
   "cell_type": "code",
   "execution_count": null,
   "metadata": {},
   "outputs": [],
   "source": [
    "mlp = mlp.fit(postscaling_bert_bertweet_dynahate_train_embeddings.cpu(), dynahate_labels_train)\n",
    "save_model(mlp, \"dynahate_bert_bertweet_with_post_scaling.pickle\")"
   ]
  },
  {
   "cell_type": "code",
   "execution_count": null,
   "metadata": {},
   "outputs": [],
   "source": [
    "train_preds = mlp.predict(postscaling_bert_bertweet_dynahate_train_embeddings.cpu())\n",
    "dev_preds = mlp.predict(postscaling_bert_bertweet_dynahate_dev_embeddings.cpu())\n",
    "test_preds = mlp.predict(postscaling_bert_bertweet_dynahate_test_embeddings.cpu())"
   ]
  },
  {
   "cell_type": "code",
   "execution_count": null,
   "metadata": {},
   "outputs": [],
   "source": [
    "computeAllScores(train_preds, dev_preds, test_preds, dynahate_labels_train, dynahate_labels_dev, dynahate_labels_test)"
   ]
  },
  {
   "attachments": {},
   "cell_type": "markdown",
   "metadata": {},
   "source": [
    "#### LatentHatred"
   ]
  },
  {
   "cell_type": "code",
   "execution_count": null,
   "metadata": {},
   "outputs": [],
   "source": [
    "scaled_prescaling_bert_bertweet_latenthatred_train_embeddings = scaling_embeddings(prescaling_bert_bertweet_latenthatred_train_embeddings)\n",
    "scaled_prescaling_bert_bertweet_latenthatred_dev_embeddings = scaling_embeddings(prescaling_bert_bertweet_latenthatred_dev_embeddings)\n",
    "scaled_prescaling_bert_bertweet_latenthatred_test_embeddings = scaling_embeddings(prescaling_bert_bertweet_latenthatred_test_embeddings)"
   ]
  },
  {
   "cell_type": "markdown",
   "metadata": {},
   "source": [
    "##### Concatenated embeddings without normalization"
   ]
  },
  {
   "cell_type": "code",
   "execution_count": null,
   "metadata": {},
   "outputs": [
    {
     "name": "stdout",
     "output_type": "stream",
     "text": [
      "Fitting 5 folds for each of 32 candidates, totalling 160 fits\n"
     ]
    }
   ],
   "source": [
    "grid_results = gridsearch.fit(prescaling_bert_bertweet_latenthatred_train_embeddings.cpu(), latenthatred_labels_train)"
   ]
  },
  {
   "cell_type": "code",
   "execution_count": null,
   "metadata": {},
   "outputs": [],
   "source": [
    "best_params = grid_results.best_params_\n",
    "mlp = grid_results.best_estimator_"
   ]
  },
  {
   "cell_type": "code",
   "execution_count": null,
   "metadata": {},
   "outputs": [],
   "source": [
    "best_params"
   ]
  },
  {
   "cell_type": "code",
   "execution_count": null,
   "metadata": {},
   "outputs": [],
   "source": [
    "mlp = mlp.fit(prescaling_bert_bertweet_latenthatred_train_embeddings.cpu(), latenthatred_labels_train)\n",
    "save_model(mlp, \"latenthatred_bert_bertweet_without_scaling.pickle\")"
   ]
  },
  {
   "cell_type": "code",
   "execution_count": null,
   "metadata": {},
   "outputs": [],
   "source": [
    "train_preds = mlp.predict(prescaling_bert_bertweet_latenthatred_train_embeddings.cpu())\n",
    "dev_preds = mlp.predict(prescaling_bert_bertweet_latenthatred_dev_embeddings.cpu())\n",
    "test_preds = mlp.predict(prescaling_bert_bertweet_latenthatred_test_embeddings.cpu())"
   ]
  },
  {
   "cell_type": "code",
   "execution_count": null,
   "metadata": {},
   "outputs": [],
   "source": [
    "computeAllScores(train_preds, dev_preds, test_preds, latenthatred_labels_train, latenthatred_labels_dev, latenthatred_labels_test)"
   ]
  },
  {
   "cell_type": "markdown",
   "metadata": {},
   "source": [
    "##### Concatenated normalized embeddings"
   ]
  },
  {
   "cell_type": "code",
   "execution_count": null,
   "metadata": {},
   "outputs": [
    {
     "name": "stdout",
     "output_type": "stream",
     "text": [
      "Fitting 5 folds for each of 32 candidates, totalling 160 fits\n"
     ]
    }
   ],
   "source": [
    "grid_results = gridsearch.fit(scaled_prescaling_bert_bertweet_latenthatred_train_embeddings.cpu(), latenthatred_labels_train)"
   ]
  },
  {
   "cell_type": "code",
   "execution_count": null,
   "metadata": {},
   "outputs": [],
   "source": [
    "best_params = grid_results.best_params_\n",
    "mlp = grid_results.best_estimator_"
   ]
  },
  {
   "cell_type": "code",
   "execution_count": null,
   "metadata": {},
   "outputs": [],
   "source": [
    "best_params"
   ]
  },
  {
   "cell_type": "code",
   "execution_count": null,
   "metadata": {},
   "outputs": [],
   "source": [
    "mlp = mlp.fit(prescaling_bert_bertweet_latenthatred_train_embeddings.cpu(), latenthatred_labels_train)\n",
    "save_model(mlp, \"latenthatred_bert_bertweet_with_pre_scaling.pickle\")"
   ]
  },
  {
   "cell_type": "code",
   "execution_count": null,
   "metadata": {},
   "outputs": [],
   "source": [
    "train_preds = mlp.predict(scaled_prescaling_bert_bertweet_latenthatred_train_embeddings.cpu())\n",
    "dev_preds = mlp.predict(scaled_prescaling_bert_bertweet_latenthatred_dev_embeddings.cpu())\n",
    "test_preds = mlp.predict(scaled_prescaling_bert_bertweet_latenthatred_test_embeddings.cpu())"
   ]
  },
  {
   "cell_type": "code",
   "execution_count": null,
   "metadata": {},
   "outputs": [],
   "source": [
    "computeAllScores(train_preds, dev_preds, test_preds, latenthatred_labels_train, latenthatred_labels_dev, latenthatred_labels_test)"
   ]
  },
  {
   "cell_type": "markdown",
   "metadata": {},
   "source": [
    "##### Normalized concatenated embeddings"
   ]
  },
  {
   "cell_type": "code",
   "execution_count": null,
   "metadata": {},
   "outputs": [
    {
     "name": "stdout",
     "output_type": "stream",
     "text": [
      "Fitting 5 folds for each of 32 candidates, totalling 160 fits\n"
     ]
    }
   ],
   "source": [
    "grid_results = gridsearch.fit(postscaling_bert_bertweet_latenthatred_train_embeddings.cpu(), latenthatred_labels_train)"
   ]
  },
  {
   "cell_type": "code",
   "execution_count": null,
   "metadata": {},
   "outputs": [],
   "source": [
    "best_params = grid_results.best_params_\n",
    "mlp = grid_results.best_estimator_"
   ]
  },
  {
   "cell_type": "code",
   "execution_count": null,
   "metadata": {},
   "outputs": [],
   "source": [
    "best_params"
   ]
  },
  {
   "cell_type": "code",
   "execution_count": null,
   "metadata": {},
   "outputs": [],
   "source": [
    "mlp = mlp.fit(postscaling_bert_bertweet_latenthatred_train_embeddings.cpu(), latenthatred_labels_train)\n",
    "save_model(mlp, \"latenthatred_bert_bertweet_with_post_scaling.pickle\")"
   ]
  },
  {
   "cell_type": "code",
   "execution_count": null,
   "metadata": {},
   "outputs": [],
   "source": [
    "train_preds = mlp.predict(postscaling_bert_bertweet_latenthatred_train_embeddings.cpu())\n",
    "dev_preds = mlp.predict(postscaling_bert_bertweet_latenthatred_dev_embeddings.cpu())\n",
    "test_preds = mlp.predict(postscaling_bert_bertweet_latenthatred_test_embeddings.cpu())"
   ]
  },
  {
   "cell_type": "code",
   "execution_count": null,
   "metadata": {},
   "outputs": [],
   "source": [
    "computeAllScores(train_preds, dev_preds, test_preds, latenthatred_labels_train, latenthatred_labels_dev, latenthatred_labels_test)"
   ]
  },
  {
   "attachments": {},
   "cell_type": "markdown",
   "metadata": {},
   "source": [
    "#### OLID"
   ]
  },
  {
   "cell_type": "code",
   "execution_count": null,
   "metadata": {},
   "outputs": [],
   "source": [
    "scaled_prescaling_bert_bertweet_olid_train_embeddings = scaling_embeddings(prescaling_bert_bertweet_olid_train_embeddings)\n",
    "scaled_prescaling_bert_bertweet_olid_dev_embeddings = scaling_embeddings(prescaling_bert_bertweet_olid_dev_embeddings)\n",
    "scaled_prescaling_bert_bertweet_olid_test_embeddings = scaling_embeddings(prescaling_bert_bertweet_olid_test_embeddings)"
   ]
  },
  {
   "cell_type": "markdown",
   "metadata": {},
   "source": [
    "##### Concatenated embeddings without normalization"
   ]
  },
  {
   "cell_type": "code",
   "execution_count": null,
   "metadata": {},
   "outputs": [
    {
     "name": "stdout",
     "output_type": "stream",
     "text": [
      "Fitting 5 folds for each of 32 candidates, totalling 160 fits\n"
     ]
    }
   ],
   "source": [
    "grid_results = gridsearch.fit(prescaling_bert_bertweet_olid_train_embeddings.cpu(), olid_labels_train)"
   ]
  },
  {
   "cell_type": "code",
   "execution_count": null,
   "metadata": {},
   "outputs": [],
   "source": [
    "best_params = grid_results.best_params_\n",
    "mlp = grid_results.best_estimator_"
   ]
  },
  {
   "cell_type": "code",
   "execution_count": null,
   "metadata": {},
   "outputs": [],
   "source": [
    "best_params"
   ]
  },
  {
   "cell_type": "code",
   "execution_count": null,
   "metadata": {},
   "outputs": [],
   "source": [
    "mlp = mlp.fit(prescaling_bert_bertweet_olid_train_embeddings.cpu(), olid_labels_train)\n",
    "save_model(mlp, \"olid_bert_bertweet_without_scaling.pickle\")"
   ]
  },
  {
   "cell_type": "code",
   "execution_count": null,
   "metadata": {},
   "outputs": [],
   "source": [
    "train_preds = mlp.predict(prescaling_bert_bertweet_olid_train_embeddings.cpu())\n",
    "dev_preds = mlp.predict(prescaling_bert_bertweet_olid_dev_embeddings.cpu())\n",
    "test_preds = mlp.predict(prescaling_bert_bertweet_olid_test_embeddings.cpu())"
   ]
  },
  {
   "cell_type": "code",
   "execution_count": null,
   "metadata": {},
   "outputs": [],
   "source": [
    "computeAllScores(train_preds, dev_preds, test_preds, olid_labels_train, olid_labels_dev, olid_labels_test)"
   ]
  },
  {
   "cell_type": "markdown",
   "metadata": {},
   "source": [
    "##### Concatenated normalized embeddings"
   ]
  },
  {
   "cell_type": "code",
   "execution_count": null,
   "metadata": {},
   "outputs": [
    {
     "name": "stdout",
     "output_type": "stream",
     "text": [
      "Fitting 5 folds for each of 32 candidates, totalling 160 fits\n"
     ]
    }
   ],
   "source": [
    "grid_results = gridsearch.fit(scaled_prescaling_bert_bertweet_olid_train_embeddings.cpu(), olid_labels_train)"
   ]
  },
  {
   "cell_type": "code",
   "execution_count": null,
   "metadata": {},
   "outputs": [],
   "source": [
    "best_params = grid_results.best_params_\n",
    "mlp = grid_results.best_estimator_"
   ]
  },
  {
   "cell_type": "code",
   "execution_count": null,
   "metadata": {},
   "outputs": [],
   "source": [
    "best_params"
   ]
  },
  {
   "cell_type": "code",
   "execution_count": null,
   "metadata": {},
   "outputs": [],
   "source": [
    "mlp = mlp.fit(prescaling_bert_bertweet_olid_train_embeddings.cpu(), olid_labels_train)\n",
    "save_model(mlp, \"latenthatred_bert_bertweet_with_pre_scaling.pickle\")"
   ]
  },
  {
   "cell_type": "code",
   "execution_count": null,
   "metadata": {},
   "outputs": [],
   "source": [
    "train_preds = mlp.predict(scaled_prescaling_bert_bertweet_olid_train_embeddings.cpu())\n",
    "dev_preds = mlp.predict(scaled_prescaling_bert_bertweet_olid_dev_embeddings.cpu())\n",
    "test_preds = mlp.predict(scaled_prescaling_bert_bertweet_olid_test_embeddings.cpu())"
   ]
  },
  {
   "cell_type": "code",
   "execution_count": null,
   "metadata": {},
   "outputs": [],
   "source": [
    "computeAllScores(train_preds, dev_preds, test_preds, olid_labels_train, olid_labels_dev, olid_labels_test)"
   ]
  },
  {
   "cell_type": "markdown",
   "metadata": {},
   "source": [
    "##### Normalized concatenated embeddings"
   ]
  },
  {
   "cell_type": "code",
   "execution_count": null,
   "metadata": {},
   "outputs": [
    {
     "name": "stdout",
     "output_type": "stream",
     "text": [
      "Fitting 5 folds for each of 32 candidates, totalling 160 fits\n"
     ]
    }
   ],
   "source": [
    "grid_results = gridsearch.fit(postscaling_bert_bertweet_olid_train_embeddings.cpu(), olid_labels_train)"
   ]
  },
  {
   "cell_type": "code",
   "execution_count": null,
   "metadata": {},
   "outputs": [],
   "source": [
    "best_params = grid_results.best_params_\n",
    "mlp = grid_results.best_estimator_"
   ]
  },
  {
   "cell_type": "code",
   "execution_count": null,
   "metadata": {},
   "outputs": [],
   "source": [
    "best_params"
   ]
  },
  {
   "cell_type": "code",
   "execution_count": null,
   "metadata": {},
   "outputs": [],
   "source": [
    "mlp = mlp.fit(postscaling_bert_bertweet_olid_train_embeddings.cpu(), olid_labels_train)\n",
    "save_model(mlp, \"olid_bert_bertweet_with_post_scaling.pickle\")"
   ]
  },
  {
   "cell_type": "code",
   "execution_count": null,
   "metadata": {},
   "outputs": [],
   "source": [
    "train_preds = mlp.predict(postscaling_bert_bertweet_olid_train_embeddings.cpu())\n",
    "dev_preds = mlp.predict(postscaling_bert_bertweet_olid_dev_embeddings.cpu())\n",
    "test_preds = mlp.predict(postscaling_bert_bertweet_olid_test_embeddings.cpu())"
   ]
  },
  {
   "cell_type": "code",
   "execution_count": null,
   "metadata": {},
   "outputs": [],
   "source": [
    "computeAllScores(train_preds, dev_preds, test_preds, olid_labels_train, olid_labels_dev, olid_labels_test)"
   ]
  },
  {
   "attachments": {},
   "cell_type": "markdown",
   "metadata": {},
   "source": [
    "### BERT-HateBERT"
   ]
  },
  {
   "cell_type": "markdown",
   "metadata": {},
   "source": [
    "#### DynaHate"
   ]
  },
  {
   "cell_type": "code",
   "execution_count": null,
   "metadata": {},
   "outputs": [],
   "source": [
    "scaled_prescaling_bert_hatebert_dynahate_train_embeddings = scaling_embeddings(prescaling_bert_hatebert_dynahate_train_embeddings)\n",
    "scaled_prescaling_bert_hatebert_dynahate_dev_embeddings = scaling_embeddings(prescaling_bert_hatebert_dynahate_dev_embeddings)\n",
    "scaled_prescaling_bert_hatebert_dynahate_test_embeddings = scaling_embeddings(prescaling_bert_hatebert_dynahate_test_embeddings)"
   ]
  },
  {
   "cell_type": "markdown",
   "metadata": {},
   "source": [
    "##### Concatenated embeddings without normalization"
   ]
  },
  {
   "cell_type": "code",
   "execution_count": null,
   "metadata": {},
   "outputs": [
    {
     "name": "stdout",
     "output_type": "stream",
     "text": [
      "Fitting 5 folds for each of 32 candidates, totalling 160 fits\n"
     ]
    }
   ],
   "source": [
    "grid_results = gridsearch.fit(prescaling_bert_hatebert_dynahate_train_embeddings.cpu(), dynahate_labels_train)"
   ]
  },
  {
   "cell_type": "code",
   "execution_count": null,
   "metadata": {},
   "outputs": [],
   "source": [
    "best_params = grid_results.best_params_\n",
    "mlp = grid_results.best_estimator_"
   ]
  },
  {
   "cell_type": "code",
   "execution_count": null,
   "metadata": {},
   "outputs": [],
   "source": [
    "best_params"
   ]
  },
  {
   "cell_type": "code",
   "execution_count": null,
   "metadata": {},
   "outputs": [],
   "source": [
    "mlp = mlp.fit(prescaling_bert_hatebert_dynahate_train_embeddings.cpu(), dynahate_labels_train)\n",
    "save_model(mlp, \"dynahate_bert_hatebert_without_scaling.pickle\")"
   ]
  },
  {
   "cell_type": "code",
   "execution_count": null,
   "metadata": {},
   "outputs": [],
   "source": [
    "train_preds = mlp.predict(prescaling_bert_hatebert_dynahate_train_embeddings.cpu())\n",
    "dev_preds = mlp.predict(prescaling_bert_hatebert_dynahate_dev_embeddings.cpu())\n",
    "test_preds = mlp.predict(prescaling_bert_hatebert_dynahate_test_embeddings.cpu())"
   ]
  },
  {
   "cell_type": "code",
   "execution_count": null,
   "metadata": {},
   "outputs": [],
   "source": [
    "computeAllScores(train_preds, dev_preds, test_preds, dynahate_labels_train, dynahate_labels_dev, dynahate_labels_test)"
   ]
  },
  {
   "cell_type": "markdown",
   "metadata": {},
   "source": [
    "##### Concatenated normalized embeddings"
   ]
  },
  {
   "cell_type": "code",
   "execution_count": null,
   "metadata": {},
   "outputs": [
    {
     "name": "stdout",
     "output_type": "stream",
     "text": [
      "Fitting 5 folds for each of 32 candidates, totalling 160 fits\n"
     ]
    }
   ],
   "source": [
    "grid_results = gridsearch.fit(scaled_prescaling_bert_hatebert_dynahate_train_embeddings.cpu(), dynahate_labels_train)"
   ]
  },
  {
   "cell_type": "code",
   "execution_count": null,
   "metadata": {},
   "outputs": [],
   "source": [
    "best_params = grid_results.best_params_\n",
    "mlp = grid_results.best_estimator_"
   ]
  },
  {
   "cell_type": "code",
   "execution_count": null,
   "metadata": {},
   "outputs": [],
   "source": [
    "best_params"
   ]
  },
  {
   "cell_type": "code",
   "execution_count": null,
   "metadata": {},
   "outputs": [],
   "source": [
    "mlp = mlp.fit(prescaling_bert_hatebert_dynahate_train_embeddings.cpu(), dynahate_labels_train)\n",
    "save_model(mlp, \"dynahate_bert_hatebert_with_pre_scaling.pickle\")"
   ]
  },
  {
   "cell_type": "code",
   "execution_count": null,
   "metadata": {},
   "outputs": [],
   "source": [
    "train_preds = mlp.predict(scaled_prescaling_bert_hatebert_dynahate_train_embeddings.cpu())\n",
    "dev_preds = mlp.predict(scaled_prescaling_bert_hatebert_dynahate_dev_embeddings.cpu())\n",
    "test_preds = mlp.predict(scaled_prescaling_bert_hatebert_dynahate_test_embeddings.cpu())"
   ]
  },
  {
   "cell_type": "code",
   "execution_count": null,
   "metadata": {},
   "outputs": [],
   "source": [
    "computeAllScores(train_preds, dev_preds, test_preds, dynahate_labels_train, dynahate_labels_dev, dynahate_labels_test)"
   ]
  },
  {
   "cell_type": "markdown",
   "metadata": {},
   "source": [
    "##### Normalized concatenated embeddings"
   ]
  },
  {
   "cell_type": "code",
   "execution_count": null,
   "metadata": {},
   "outputs": [
    {
     "name": "stdout",
     "output_type": "stream",
     "text": [
      "Fitting 5 folds for each of 32 candidates, totalling 160 fits\n"
     ]
    }
   ],
   "source": [
    "grid_results = gridsearch.fit(postscaling_bert_hatebert_dynahate_train_embeddings.cpu(), dynahate_labels_train)"
   ]
  },
  {
   "cell_type": "code",
   "execution_count": null,
   "metadata": {},
   "outputs": [],
   "source": [
    "best_params = grid_results.best_params_\n",
    "mlp = grid_results.best_estimator_"
   ]
  },
  {
   "cell_type": "code",
   "execution_count": null,
   "metadata": {},
   "outputs": [],
   "source": [
    "best_params"
   ]
  },
  {
   "cell_type": "code",
   "execution_count": null,
   "metadata": {},
   "outputs": [],
   "source": [
    "mlp = mlp.fit(postscaling_bert_hatebert_dynahate_train_embeddings.cpu(), dynahate_labels_train)\n",
    "save_model(mlp, \"dynahate_bert_hatebert_with_post_scaling.pickle\")"
   ]
  },
  {
   "cell_type": "code",
   "execution_count": null,
   "metadata": {},
   "outputs": [],
   "source": [
    "train_preds = mlp.predict(postscaling_bert_hatebert_dynahate_train_embeddings.cpu())\n",
    "dev_preds = mlp.predict(postscaling_bert_hatebert_dynahate_dev_embeddings.cpu())\n",
    "test_preds = mlp.predict(postscaling_bert_hatebert_dynahate_test_embeddings.cpu())"
   ]
  },
  {
   "cell_type": "code",
   "execution_count": null,
   "metadata": {},
   "outputs": [],
   "source": [
    "computeAllScores(train_preds, dev_preds, test_preds, dynahate_labels_train, dynahate_labels_dev, dynahate_labels_test)"
   ]
  },
  {
   "cell_type": "markdown",
   "metadata": {},
   "source": [
    "#### LatentHatred"
   ]
  },
  {
   "cell_type": "code",
   "execution_count": null,
   "metadata": {},
   "outputs": [],
   "source": [
    "scaled_prescaling_bert_hatebert_latenthatred_train_embeddings = scaling_embeddings(prescaling_bert_hatebert_latenthatred_train_embeddings)\n",
    "scaled_prescaling_bert_hatebert_latenthatred_dev_embeddings = scaling_embeddings(prescaling_bert_hatebert_latenthatred_dev_embeddings)\n",
    "scaled_prescaling_bert_hatebert_latenthatred_test_embeddings = scaling_embeddings(prescaling_bert_hatebert_latenthatred_test_embeddings)"
   ]
  },
  {
   "cell_type": "markdown",
   "metadata": {},
   "source": [
    "##### Concatenated embeddings without normalization"
   ]
  },
  {
   "cell_type": "code",
   "execution_count": null,
   "metadata": {},
   "outputs": [
    {
     "name": "stdout",
     "output_type": "stream",
     "text": [
      "Fitting 5 folds for each of 32 candidates, totalling 160 fits\n"
     ]
    }
   ],
   "source": [
    "grid_results = gridsearch.fit(prescaling_bert_hatebert_latenthatred_train_embeddings.cpu(), latenthatred_labels_train)"
   ]
  },
  {
   "cell_type": "code",
   "execution_count": null,
   "metadata": {},
   "outputs": [],
   "source": [
    "best_params = grid_results.best_params_\n",
    "mlp = grid_results.best_estimator_"
   ]
  },
  {
   "cell_type": "code",
   "execution_count": null,
   "metadata": {},
   "outputs": [],
   "source": [
    "best_params"
   ]
  },
  {
   "cell_type": "code",
   "execution_count": null,
   "metadata": {},
   "outputs": [],
   "source": [
    "mlp = mlp.fit(prescaling_bert_hatebert_latenthatred_train_embeddings.cpu(), latenthatred_labels_train)\n",
    "save_model(mlp, \"latenthatred_bert_hatebert_without_scaling.pickle\")"
   ]
  },
  {
   "cell_type": "code",
   "execution_count": null,
   "metadata": {},
   "outputs": [],
   "source": [
    "train_preds = mlp.predict(prescaling_bert_hatebert_latenthatred_train_embeddings.cpu())\n",
    "dev_preds = mlp.predict(prescaling_bert_hatebert_latenthatred_dev_embeddings.cpu())\n",
    "test_preds = mlp.predict(prescaling_bert_hatebert_latenthatred_test_embeddings.cpu())"
   ]
  },
  {
   "cell_type": "code",
   "execution_count": null,
   "metadata": {},
   "outputs": [],
   "source": [
    "computeAllScores(train_preds, dev_preds, test_preds, latenthatred_labels_train, latenthatred_labels_dev, latenthatred_labels_test)"
   ]
  },
  {
   "cell_type": "markdown",
   "metadata": {},
   "source": [
    "##### Concatenated normalized embeddings"
   ]
  },
  {
   "cell_type": "code",
   "execution_count": null,
   "metadata": {},
   "outputs": [
    {
     "name": "stdout",
     "output_type": "stream",
     "text": [
      "Fitting 5 folds for each of 32 candidates, totalling 160 fits\n"
     ]
    }
   ],
   "source": [
    "grid_results = gridsearch.fit(scaled_prescaling_bert_hatebert_latenthatred_train_embeddings.cpu(), latenthatred_labels_train)"
   ]
  },
  {
   "cell_type": "code",
   "execution_count": null,
   "metadata": {},
   "outputs": [],
   "source": [
    "best_params = grid_results.best_params_\n",
    "mlp = grid_results.best_estimator_"
   ]
  },
  {
   "cell_type": "code",
   "execution_count": null,
   "metadata": {},
   "outputs": [],
   "source": [
    "best_params"
   ]
  },
  {
   "cell_type": "code",
   "execution_count": null,
   "metadata": {},
   "outputs": [],
   "source": [
    "mlp = mlp.fit(prescaling_bert_hatebert_latenthatred_train_embeddings.cpu(), latenthatred_labels_train)\n",
    "save_model(mlp, \"latenthatred_bert_hatebert_with_pre_scaling.pickle\")"
   ]
  },
  {
   "cell_type": "code",
   "execution_count": null,
   "metadata": {},
   "outputs": [],
   "source": [
    "train_preds = mlp.predict(scaled_prescaling_bert_hatebert_latenthatred_train_embeddings.cpu())\n",
    "dev_preds = mlp.predict(scaled_prescaling_bert_hatebert_latenthatred_dev_embeddings.cpu())\n",
    "test_preds = mlp.predict(scaled_prescaling_bert_hatebert_latenthatred_test_embeddings.cpu())"
   ]
  },
  {
   "cell_type": "code",
   "execution_count": null,
   "metadata": {},
   "outputs": [],
   "source": [
    "computeAllScores(train_preds, dev_preds, test_preds, latenthatred_labels_train, latenthatred_labels_dev, latenthatred_labels_test)"
   ]
  },
  {
   "cell_type": "markdown",
   "metadata": {},
   "source": [
    "##### Normalized concatenated embeddings"
   ]
  },
  {
   "cell_type": "code",
   "execution_count": null,
   "metadata": {},
   "outputs": [
    {
     "name": "stdout",
     "output_type": "stream",
     "text": [
      "Fitting 5 folds for each of 32 candidates, totalling 160 fits\n"
     ]
    }
   ],
   "source": [
    "grid_results = gridsearch.fit(postscaling_bert_hatebert_latenthatred_train_embeddings.cpu(), latenthatred_labels_train)"
   ]
  },
  {
   "cell_type": "code",
   "execution_count": null,
   "metadata": {},
   "outputs": [],
   "source": [
    "best_params = grid_results.best_params_\n",
    "mlp = grid_results.best_estimator_"
   ]
  },
  {
   "cell_type": "code",
   "execution_count": null,
   "metadata": {},
   "outputs": [],
   "source": [
    "best_params"
   ]
  },
  {
   "cell_type": "code",
   "execution_count": null,
   "metadata": {},
   "outputs": [],
   "source": [
    "mlp = mlp.fit(postscaling_bert_hatebert_latenthatred_train_embeddings.cpu(), latenthatred_labels_train)\n",
    "save_model(mlp, \"latenthatred_bert_hatebert_with_post_scaling.pickle\")"
   ]
  },
  {
   "cell_type": "code",
   "execution_count": null,
   "metadata": {},
   "outputs": [],
   "source": [
    "train_preds = mlp.predict(postscaling_bert_hatebert_latenthatred_train_embeddings.cpu())\n",
    "dev_preds = mlp.predict(postscaling_bert_hatebert_latenthatred_dev_embeddings.cpu())\n",
    "test_preds = mlp.predict(postscaling_bert_hatebert_latenthatred_test_embeddings.cpu())"
   ]
  },
  {
   "cell_type": "code",
   "execution_count": null,
   "metadata": {},
   "outputs": [],
   "source": [
    "computeAllScores(train_preds, dev_preds, test_preds, latenthatred_labels_train, latenthatred_labels_dev, latenthatred_labels_test)"
   ]
  },
  {
   "cell_type": "markdown",
   "metadata": {},
   "source": [
    "#### OLID"
   ]
  },
  {
   "cell_type": "code",
   "execution_count": null,
   "metadata": {},
   "outputs": [],
   "source": [
    "scaled_prescaling_bert_hatebert_olid_train_embeddings = scaling_embeddings(prescaling_bert_hatebert_olid_train_embeddings)\n",
    "scaled_prescaling_bert_hatebert_olid_dev_embeddings = scaling_embeddings(prescaling_bert_hatebert_olid_dev_embeddings)\n",
    "scaled_prescaling_bert_hatebert_olid_test_embeddings = scaling_embeddings(prescaling_bert_hatebert_olid_test_embeddings)"
   ]
  },
  {
   "cell_type": "markdown",
   "metadata": {},
   "source": [
    "##### Concatenated embeddings without normalization"
   ]
  },
  {
   "cell_type": "code",
   "execution_count": null,
   "metadata": {},
   "outputs": [
    {
     "name": "stdout",
     "output_type": "stream",
     "text": [
      "Fitting 5 folds for each of 32 candidates, totalling 160 fits\n"
     ]
    }
   ],
   "source": [
    "grid_results = gridsearch.fit(prescaling_bert_hatebert_olid_train_embeddings.cpu(), olid_labels_train)"
   ]
  },
  {
   "cell_type": "code",
   "execution_count": null,
   "metadata": {},
   "outputs": [],
   "source": [
    "best_params = grid_results.best_params_\n",
    "mlp = grid_results.best_estimator_"
   ]
  },
  {
   "cell_type": "code",
   "execution_count": null,
   "metadata": {},
   "outputs": [],
   "source": [
    "best_params"
   ]
  },
  {
   "cell_type": "code",
   "execution_count": null,
   "metadata": {},
   "outputs": [],
   "source": [
    "mlp = mlp.fit(prescaling_bert_hatebert_olid_train_embeddings.cpu(), olid_labels_train)\n",
    "save_model(mlp, \"olid_bert_hatebert_without_scaling.pickle\")"
   ]
  },
  {
   "cell_type": "code",
   "execution_count": null,
   "metadata": {},
   "outputs": [],
   "source": [
    "train_preds = mlp.predict(prescaling_bert_hatebert_olid_train_embeddings.cpu())\n",
    "dev_preds = mlp.predict(prescaling_bert_hatebert_olid_dev_embeddings.cpu())\n",
    "test_preds = mlp.predict(prescaling_bert_hatebert_olid_test_embeddings.cpu())"
   ]
  },
  {
   "cell_type": "code",
   "execution_count": null,
   "metadata": {},
   "outputs": [],
   "source": [
    "computeAllScores(train_preds, dev_preds, test_preds, olid_labels_train, olid_labels_dev, olid_labels_test)"
   ]
  },
  {
   "cell_type": "markdown",
   "metadata": {},
   "source": [
    "##### Concatenated normalized embeddings"
   ]
  },
  {
   "cell_type": "code",
   "execution_count": null,
   "metadata": {},
   "outputs": [
    {
     "name": "stdout",
     "output_type": "stream",
     "text": [
      "Fitting 5 folds for each of 32 candidates, totalling 160 fits\n"
     ]
    }
   ],
   "source": [
    "grid_results = gridsearch.fit(scaled_prescaling_bert_hatebert_olid_train_embeddings.cpu(), olid_labels_train)"
   ]
  },
  {
   "cell_type": "code",
   "execution_count": null,
   "metadata": {},
   "outputs": [],
   "source": [
    "best_params = grid_results.best_params_\n",
    "mlp = grid_results.best_estimator_"
   ]
  },
  {
   "cell_type": "code",
   "execution_count": null,
   "metadata": {},
   "outputs": [],
   "source": [
    "best_params"
   ]
  },
  {
   "cell_type": "code",
   "execution_count": null,
   "metadata": {},
   "outputs": [],
   "source": [
    "mlp = mlp.fit(prescaling_bert_hatebert_olid_train_embeddings.cpu(), olid_labels_train)\n",
    "save_model(mlp, \"latenthatred_bert_hatebert_with_pre_scaling.pickle\")"
   ]
  },
  {
   "cell_type": "code",
   "execution_count": null,
   "metadata": {},
   "outputs": [],
   "source": [
    "train_preds = mlp.predict(scaled_prescaling_bert_hatebert_olid_train_embeddings.cpu())\n",
    "dev_preds = mlp.predict(scaled_prescaling_bert_hatebert_olid_dev_embeddings.cpu())\n",
    "test_preds = mlp.predict(scaled_prescaling_bert_hatebert_olid_test_embeddings.cpu())"
   ]
  },
  {
   "cell_type": "code",
   "execution_count": null,
   "metadata": {},
   "outputs": [],
   "source": [
    "computeAllScores(train_preds, dev_preds, test_preds, olid_labels_train, olid_labels_dev, olid_labels_test)"
   ]
  },
  {
   "cell_type": "markdown",
   "metadata": {},
   "source": [
    "##### Normalized concatenated embeddings"
   ]
  },
  {
   "cell_type": "code",
   "execution_count": null,
   "metadata": {},
   "outputs": [
    {
     "name": "stdout",
     "output_type": "stream",
     "text": [
      "Fitting 5 folds for each of 32 candidates, totalling 160 fits\n"
     ]
    }
   ],
   "source": [
    "grid_results = gridsearch.fit(postscaling_bert_hatebert_olid_train_embeddings.cpu(), olid_labels_train)"
   ]
  },
  {
   "cell_type": "code",
   "execution_count": null,
   "metadata": {},
   "outputs": [],
   "source": [
    "best_params = grid_results.best_params_\n",
    "mlp = grid_results.best_estimator_"
   ]
  },
  {
   "cell_type": "code",
   "execution_count": null,
   "metadata": {},
   "outputs": [],
   "source": [
    "best_params"
   ]
  },
  {
   "cell_type": "code",
   "execution_count": null,
   "metadata": {},
   "outputs": [],
   "source": [
    "mlp = mlp.fit(postscaling_bert_hatebert_olid_train_embeddings.cpu(), olid_labels_train)\n",
    "save_model(mlp, \"olid_bert_hatebert_with_post_scaling.pickle\")"
   ]
  },
  {
   "cell_type": "code",
   "execution_count": null,
   "metadata": {},
   "outputs": [],
   "source": [
    "train_preds = mlp.predict(postscaling_bert_hatebert_olid_train_embeddings.cpu())\n",
    "dev_preds = mlp.predict(postscaling_bert_hatebert_olid_dev_embeddings.cpu())\n",
    "test_preds = mlp.predict(postscaling_bert_hatebert_olid_test_embeddings.cpu())"
   ]
  },
  {
   "cell_type": "code",
   "execution_count": null,
   "metadata": {},
   "outputs": [],
   "source": [
    "computeAllScores(train_preds, dev_preds, test_preds, olid_labels_train, olid_labels_dev, olid_labels_test)"
   ]
  },
  {
   "attachments": {},
   "cell_type": "markdown",
   "metadata": {},
   "source": [
    "### BERTweet-HateBERT"
   ]
  },
  {
   "cell_type": "markdown",
   "metadata": {},
   "source": [
    "#### DynaHate"
   ]
  },
  {
   "cell_type": "code",
   "execution_count": null,
   "metadata": {},
   "outputs": [],
   "source": [
    "scaled_prescaling_bertweet_hatebert_dynahate_train_embeddings = scaling_embeddings(prescaling_bertweet_hatebert_dynahate_train_embeddings)\n",
    "scaled_prescaling_bertweet_hatebert_dynahate_dev_embeddings = scaling_embeddings(prescaling_bertweet_hatebert_dynahate_dev_embeddings)\n",
    "scaled_prescaling_bertweet_hatebert_dynahate_test_embeddings = scaling_embeddings(prescaling_bertweet_hatebert_dynahate_test_embeddings)"
   ]
  },
  {
   "cell_type": "markdown",
   "metadata": {},
   "source": [
    "##### Concatenated embeddings without normalization"
   ]
  },
  {
   "cell_type": "code",
   "execution_count": null,
   "metadata": {},
   "outputs": [
    {
     "name": "stdout",
     "output_type": "stream",
     "text": [
      "Fitting 5 folds for each of 32 candidates, totalling 160 fits\n"
     ]
    }
   ],
   "source": [
    "grid_results = gridsearch.fit(prescaling_bertweet_hatebert_dynahate_train_embeddings.cpu(), dynahate_labels_train)"
   ]
  },
  {
   "cell_type": "code",
   "execution_count": null,
   "metadata": {},
   "outputs": [],
   "source": [
    "best_params = grid_results.best_params_\n",
    "mlp = grid_results.best_estimator_"
   ]
  },
  {
   "cell_type": "code",
   "execution_count": null,
   "metadata": {},
   "outputs": [],
   "source": [
    "best_params"
   ]
  },
  {
   "cell_type": "code",
   "execution_count": null,
   "metadata": {},
   "outputs": [],
   "source": [
    "mlp = mlp.fit(prescaling_bertweet_hatebert_dynahate_train_embeddings.cpu(), dynahate_labels_train)\n",
    "save_model(mlp, \"dynahate_bertweet_hatebert_without_scaling.pickle\")"
   ]
  },
  {
   "cell_type": "code",
   "execution_count": null,
   "metadata": {},
   "outputs": [],
   "source": [
    "train_preds = mlp.predict(prescaling_bertweet_hatebert_dynahate_train_embeddings.cpu())\n",
    "dev_preds = mlp.predict(prescaling_bertweet_hatebert_dynahate_dev_embeddings.cpu())\n",
    "test_preds = mlp.predict(prescaling_bertweet_hatebert_dynahate_test_embeddings.cpu())"
   ]
  },
  {
   "cell_type": "code",
   "execution_count": null,
   "metadata": {},
   "outputs": [],
   "source": [
    "computeAllScores(train_preds, dev_preds, test_preds, dynahate_labels_train, dynahate_labels_dev, dynahate_labels_test)"
   ]
  },
  {
   "cell_type": "markdown",
   "metadata": {},
   "source": [
    "##### Concatenated normalized embeddings"
   ]
  },
  {
   "cell_type": "code",
   "execution_count": null,
   "metadata": {},
   "outputs": [
    {
     "name": "stdout",
     "output_type": "stream",
     "text": [
      "Fitting 5 folds for each of 32 candidates, totalling 160 fits\n"
     ]
    }
   ],
   "source": [
    "grid_results = gridsearch.fit(scaled_prescaling_bertweet_hatebert_dynahate_train_embeddings.cpu(), dynahate_labels_train)"
   ]
  },
  {
   "cell_type": "code",
   "execution_count": null,
   "metadata": {},
   "outputs": [],
   "source": [
    "best_params = grid_results.best_params_\n",
    "mlp = grid_results.best_estimator_"
   ]
  },
  {
   "cell_type": "code",
   "execution_count": null,
   "metadata": {},
   "outputs": [],
   "source": [
    "best_params"
   ]
  },
  {
   "cell_type": "code",
   "execution_count": null,
   "metadata": {},
   "outputs": [],
   "source": [
    "mlp = mlp.fit(prescaling_bertweet_hatebert_dynahate_train_embeddings.cpu(), dynahate_labels_train)\n",
    "save_model(mlp, \"dynahate_bertweet_hatebert_with_pre_scaling.pickle\")"
   ]
  },
  {
   "cell_type": "code",
   "execution_count": null,
   "metadata": {},
   "outputs": [],
   "source": [
    "train_preds = mlp.predict(scaled_prescaling_bertweet_hatebert_dynahate_train_embeddings.cpu())\n",
    "dev_preds = mlp.predict(scaled_prescaling_bertweet_hatebert_dynahate_dev_embeddings.cpu())\n",
    "test_preds = mlp.predict(scaled_prescaling_bertweet_hatebert_dynahate_test_embeddings.cpu())"
   ]
  },
  {
   "cell_type": "code",
   "execution_count": null,
   "metadata": {},
   "outputs": [],
   "source": [
    "computeAllScores(train_preds, dev_preds, test_preds, dynahate_labels_train, dynahate_labels_dev, dynahate_labels_test)"
   ]
  },
  {
   "cell_type": "markdown",
   "metadata": {},
   "source": [
    "##### Normalized concatenated embeddings"
   ]
  },
  {
   "cell_type": "code",
   "execution_count": null,
   "metadata": {},
   "outputs": [
    {
     "name": "stdout",
     "output_type": "stream",
     "text": [
      "Fitting 5 folds for each of 32 candidates, totalling 160 fits\n"
     ]
    }
   ],
   "source": [
    "grid_results = gridsearch.fit(postscaling_bertweet_hatebert_dynahate_train_embeddings.cpu(), dynahate_labels_train)"
   ]
  },
  {
   "cell_type": "code",
   "execution_count": null,
   "metadata": {},
   "outputs": [],
   "source": [
    "best_params = grid_results.best_params_\n",
    "mlp = grid_results.best_estimator_"
   ]
  },
  {
   "cell_type": "code",
   "execution_count": null,
   "metadata": {},
   "outputs": [],
   "source": [
    "best_params"
   ]
  },
  {
   "cell_type": "code",
   "execution_count": null,
   "metadata": {},
   "outputs": [],
   "source": [
    "mlp = mlp.fit(postscaling_bertweet_hatebert_dynahate_train_embeddings.cpu(), dynahate_labels_train)\n",
    "save_model(mlp, \"dynahate_bertweet_hatebert_with_post_scaling.pickle\")"
   ]
  },
  {
   "cell_type": "code",
   "execution_count": null,
   "metadata": {},
   "outputs": [],
   "source": [
    "train_preds = mlp.predict(postscaling_bertweet_hatebert_dynahate_train_embeddings.cpu())\n",
    "dev_preds = mlp.predict(postscaling_bertweet_hatebert_dynahate_dev_embeddings.cpu())\n",
    "test_preds = mlp.predict(postscaling_bertweet_hatebert_dynahate_test_embeddings.cpu())"
   ]
  },
  {
   "cell_type": "code",
   "execution_count": null,
   "metadata": {},
   "outputs": [],
   "source": [
    "computeAllScores(train_preds, dev_preds, test_preds, dynahate_labels_train, dynahate_labels_dev, dynahate_labels_test)"
   ]
  },
  {
   "cell_type": "markdown",
   "metadata": {},
   "source": [
    "#### LatentHatred"
   ]
  },
  {
   "cell_type": "code",
   "execution_count": null,
   "metadata": {},
   "outputs": [],
   "source": [
    "scaled_prescaling_bertweet_hatebert_latenthatred_train_embeddings = scaling_embeddings(prescaling_bertweet_hatebert_latenthatred_train_embeddings)\n",
    "scaled_prescaling_bertweet_hatebert_latenthatred_dev_embeddings = scaling_embeddings(prescaling_bertweet_hatebert_latenthatred_dev_embeddings)\n",
    "scaled_prescaling_bertweet_hatebert_latenthatred_test_embeddings = scaling_embeddings(prescaling_bertweet_hatebert_latenthatred_test_embeddings)"
   ]
  },
  {
   "cell_type": "markdown",
   "metadata": {},
   "source": [
    "##### Concatenated embeddings without normalization"
   ]
  },
  {
   "cell_type": "code",
   "execution_count": null,
   "metadata": {},
   "outputs": [
    {
     "name": "stdout",
     "output_type": "stream",
     "text": [
      "Fitting 5 folds for each of 32 candidates, totalling 160 fits\n"
     ]
    }
   ],
   "source": [
    "grid_results = gridsearch.fit(prescaling_bertweet_hatebert_latenthatred_train_embeddings.cpu(), latenthatred_labels_train)"
   ]
  },
  {
   "cell_type": "code",
   "execution_count": null,
   "metadata": {},
   "outputs": [],
   "source": [
    "best_params = grid_results.best_params_\n",
    "mlp = grid_results.best_estimator_"
   ]
  },
  {
   "cell_type": "code",
   "execution_count": null,
   "metadata": {},
   "outputs": [],
   "source": [
    "best_params"
   ]
  },
  {
   "cell_type": "code",
   "execution_count": null,
   "metadata": {},
   "outputs": [
    {
     "ename": "NameError",
     "evalue": "name 'mlp' is not defined",
     "output_type": "error",
     "traceback": [
      "\u001b[1;31m---------------------------------------------------------------------------\u001b[0m",
      "\u001b[1;31mNameError\u001b[0m                                 Traceback (most recent call last)",
      "Cell \u001b[1;32mIn[2], line 1\u001b[0m\n\u001b[1;32m----> 1\u001b[0m mlp \u001b[39m=\u001b[39m mlp\u001b[39m.\u001b[39mfit(prescaling_bert_hatebert_latenthatred_train_embeddings\u001b[39m.\u001b[39mcpu(), latenthatred_labels_train)\n\u001b[0;32m      2\u001b[0m save_model(mlp, \u001b[39m\"\u001b[39m\u001b[39mlatenthatred_bertweet_hertbert_without_scaling.pickle\u001b[39m\u001b[39m\"\u001b[39m)\n",
      "\u001b[1;31mNameError\u001b[0m: name 'mlp' is not defined"
     ]
    }
   ],
   "source": [
    "mlp = mlp.fit(prescaling_bertweet_hatebert_latenthatred_train_embeddings.cpu(), latenthatred_labels_train)\n",
    "save_model(mlp, \"latenthatred_bertweet_hertbert_without_scaling.pickle\")"
   ]
  },
  {
   "cell_type": "code",
   "execution_count": null,
   "metadata": {},
   "outputs": [],
   "source": [
    "train_preds = mlp.predict(prescaling_bertweet_hatebert_latenthatred_train_embeddings.cpu())\n",
    "dev_preds = mlp.predict(prescaling_bertweet_hatebert_latenthatred_dev_embeddings.cpu())\n",
    "test_preds = mlp.predict(prescaling_bertweet_hatebert_latenthatred_test_embeddings.cpu())"
   ]
  },
  {
   "cell_type": "code",
   "execution_count": null,
   "metadata": {},
   "outputs": [],
   "source": [
    "computeAllScores(train_preds, dev_preds, test_preds, latenthatred_labels_train, latenthatred_labels_dev, latenthatred_labels_test)"
   ]
  },
  {
   "cell_type": "markdown",
   "metadata": {},
   "source": [
    "##### Concatenated normalized embeddings"
   ]
  },
  {
   "cell_type": "code",
   "execution_count": null,
   "metadata": {},
   "outputs": [
    {
     "name": "stdout",
     "output_type": "stream",
     "text": [
      "Fitting 5 folds for each of 32 candidates, totalling 160 fits\n"
     ]
    }
   ],
   "source": [
    "grid_results = gridsearch.fit(scaled_prescaling_bertweet_hatebert_latenthatred_train_embeddings.cpu(), latenthatred_labels_train)"
   ]
  },
  {
   "cell_type": "code",
   "execution_count": null,
   "metadata": {},
   "outputs": [],
   "source": [
    "best_params = grid_results.best_params_\n",
    "mlp = grid_results.best_estimator_"
   ]
  },
  {
   "cell_type": "code",
   "execution_count": null,
   "metadata": {},
   "outputs": [],
   "source": [
    "best_params"
   ]
  },
  {
   "cell_type": "code",
   "execution_count": null,
   "metadata": {},
   "outputs": [],
   "source": [
    "mlp = mlp.fit(prescaling_bertweet_hatebert_latenthatred_train_embeddings.cpu(), latenthatred_labels_train)\n",
    "save_model(mlp, \"latenthatred_bertweet_hatebert_with_pre_scaling.pickle\")"
   ]
  },
  {
   "cell_type": "code",
   "execution_count": null,
   "metadata": {},
   "outputs": [],
   "source": [
    "train_preds = mlp.predict(scaled_prescaling_bertweet_hatebert_latenthatred_train_embeddings.cpu())\n",
    "dev_preds = mlp.predict(scaled_prescaling_bertweet_hatebert_latenthatred_dev_embeddings.cpu())\n",
    "test_preds = mlp.predict(scaled_prescaling_bertweet_hatebert_latenthatred_test_embeddings.cpu())"
   ]
  },
  {
   "cell_type": "code",
   "execution_count": null,
   "metadata": {},
   "outputs": [],
   "source": [
    "computeAllScores(train_preds, dev_preds, test_preds, latenthatred_labels_train, latenthatred_labels_dev, latenthatred_labels_test)"
   ]
  },
  {
   "cell_type": "markdown",
   "metadata": {},
   "source": [
    "##### Normalized concatenated embeddings"
   ]
  },
  {
   "cell_type": "code",
   "execution_count": null,
   "metadata": {},
   "outputs": [
    {
     "name": "stdout",
     "output_type": "stream",
     "text": [
      "Fitting 5 folds for each of 32 candidates, totalling 160 fits\n"
     ]
    }
   ],
   "source": [
    "grid_results = gridsearch.fit(postscaling_bertweet_hatebert_latenthatred_train_embeddings.cpu(), latenthatred_labels_train)"
   ]
  },
  {
   "cell_type": "code",
   "execution_count": null,
   "metadata": {},
   "outputs": [],
   "source": [
    "best_params = grid_results.best_params_\n",
    "mlp = grid_results.best_estimator_"
   ]
  },
  {
   "cell_type": "code",
   "execution_count": null,
   "metadata": {},
   "outputs": [],
   "source": [
    "best_params"
   ]
  },
  {
   "cell_type": "code",
   "execution_count": null,
   "metadata": {},
   "outputs": [],
   "source": [
    "mlp = mlp.fit(postscaling_bertweet_hatebert_latenthatred_train_embeddings.cpu(), latenthatred_labels_train)\n",
    "save_model(mlp, \"latenthatred_bertweet_hatebert_with_post_scaling.pickle\")"
   ]
  },
  {
   "cell_type": "code",
   "execution_count": null,
   "metadata": {},
   "outputs": [],
   "source": [
    "train_preds = mlp.predict(postscaling_bertweet_hatebert_latenthatred_train_embeddings.cpu())\n",
    "dev_preds = mlp.predict(postscaling_bertweet_hatebert_latenthatred_dev_embeddings.cpu())\n",
    "test_preds = mlp.predict(postscaling_bertweet_hatebert_latenthatred_test_embeddings.cpu())"
   ]
  },
  {
   "cell_type": "code",
   "execution_count": null,
   "metadata": {},
   "outputs": [],
   "source": [
    "computeAllScores(train_preds, dev_preds, test_preds, latenthatred_labels_train, latenthatred_labels_dev, latenthatred_labels_test)"
   ]
  },
  {
   "cell_type": "markdown",
   "metadata": {},
   "source": [
    "#### OLID"
   ]
  },
  {
   "cell_type": "code",
   "execution_count": null,
   "metadata": {},
   "outputs": [],
   "source": [
    "scaled_prescaling_bertweet_hatebert_olid_train_embeddings = scaling_embeddings(prescaling_bertweet_hatebert_olid_train_embeddings)\n",
    "scaled_prescaling_bertweet_hatebert_olid_dev_embeddings = scaling_embeddings(prescaling_bertweet_hatebert_olid_dev_embeddings)\n",
    "scaled_prescaling_bertweet_hatebert_olid_test_embeddings = scaling_embeddings(prescaling_bertweet_hatebert_olid_test_embeddings)"
   ]
  },
  {
   "cell_type": "markdown",
   "metadata": {},
   "source": [
    "##### Concatenated embeddings without normalization"
   ]
  },
  {
   "cell_type": "code",
   "execution_count": null,
   "metadata": {},
   "outputs": [
    {
     "name": "stdout",
     "output_type": "stream",
     "text": [
      "Fitting 5 folds for each of 32 candidates, totalling 160 fits\n"
     ]
    }
   ],
   "source": [
    "grid_results = gridsearch.fit(prescaling_bertweet_hatebert_olid_train_embeddings.cpu(), olid_labels_train)"
   ]
  },
  {
   "cell_type": "code",
   "execution_count": null,
   "metadata": {},
   "outputs": [],
   "source": [
    "best_params = grid_results.best_params_\n",
    "mlp = grid_results.best_estimator_"
   ]
  },
  {
   "cell_type": "code",
   "execution_count": null,
   "metadata": {},
   "outputs": [],
   "source": [
    "best_params"
   ]
  },
  {
   "cell_type": "code",
   "execution_count": null,
   "metadata": {},
   "outputs": [],
   "source": [
    "mlp = mlp.fit(prescaling_bertweet_hatebert_olid_train_embeddings.cpu(), olid_labels_train)\n",
    "save_model(mlp, \"olid_bertweet_hatebert_without_scaling.pickle\")"
   ]
  },
  {
   "cell_type": "code",
   "execution_count": null,
   "metadata": {},
   "outputs": [],
   "source": [
    "train_preds = mlp.predict(prescaling_bertweet_hatebert_olid_train_embeddings.cpu())\n",
    "dev_preds = mlp.predict(prescaling_bertweet_hatebert_olid_dev_embeddings.cpu())\n",
    "test_preds = mlp.predict(prescaling_bertweet_hatebert_olid_test_embeddings.cpu())"
   ]
  },
  {
   "cell_type": "code",
   "execution_count": null,
   "metadata": {},
   "outputs": [],
   "source": [
    "computeAllScores(train_preds, dev_preds, test_preds, olid_labels_train, olid_labels_dev, olid_labels_test)"
   ]
  },
  {
   "cell_type": "markdown",
   "metadata": {},
   "source": [
    "##### Concatenated normalized embeddings"
   ]
  },
  {
   "cell_type": "code",
   "execution_count": null,
   "metadata": {},
   "outputs": [
    {
     "name": "stdout",
     "output_type": "stream",
     "text": [
      "Fitting 5 folds for each of 32 candidates, totalling 160 fits\n"
     ]
    }
   ],
   "source": [
    "grid_results = gridsearch.fit(scaled_prescaling_bertweet_hatebert_olid_train_embeddings.cpu(), olid_labels_train)"
   ]
  },
  {
   "cell_type": "code",
   "execution_count": null,
   "metadata": {},
   "outputs": [],
   "source": [
    "best_params = grid_results.best_params_\n",
    "mlp = grid_results.best_estimator_"
   ]
  },
  {
   "cell_type": "code",
   "execution_count": null,
   "metadata": {},
   "outputs": [],
   "source": [
    "best_params"
   ]
  },
  {
   "cell_type": "code",
   "execution_count": null,
   "metadata": {},
   "outputs": [],
   "source": [
    "mlp = mlp.fit(prescaling_bertweet_hatebert_olid_train_embeddings.cpu(), olid_labels_train)\n",
    "save_model(mlp, \"latenthatred_bertweet_hatebert_with_pre_scaling.pickle\")"
   ]
  },
  {
   "cell_type": "code",
   "execution_count": null,
   "metadata": {},
   "outputs": [],
   "source": [
    "train_preds = mlp.predict(scaled_prescaling_bertweet_hatebert_olid_train_embeddings.cpu())\n",
    "dev_preds = mlp.predict(scaled_prescaling_bertweet_hatebert_olid_dev_embeddings.cpu())\n",
    "test_preds = mlp.predict(scaled_prescaling_bertweet_hatebert_olid_test_embeddings.cpu())"
   ]
  },
  {
   "cell_type": "code",
   "execution_count": null,
   "metadata": {},
   "outputs": [],
   "source": [
    "computeAllScores(train_preds, dev_preds, test_preds, olid_labels_train, olid_labels_dev, olid_labels_test)"
   ]
  },
  {
   "cell_type": "markdown",
   "metadata": {},
   "source": [
    "##### Normalized concatenated embeddings"
   ]
  },
  {
   "cell_type": "code",
   "execution_count": null,
   "metadata": {},
   "outputs": [
    {
     "name": "stdout",
     "output_type": "stream",
     "text": [
      "Fitting 5 folds for each of 32 candidates, totalling 160 fits\n"
     ]
    }
   ],
   "source": [
    "grid_results = gridsearch.fit(postscaling_bertweet_hatebert_olid_train_embeddings.cpu(), olid_labels_train)"
   ]
  },
  {
   "cell_type": "code",
   "execution_count": null,
   "metadata": {},
   "outputs": [],
   "source": [
    "best_params = grid_results.best_params_\n",
    "mlp = grid_results.best_estimator_"
   ]
  },
  {
   "cell_type": "code",
   "execution_count": null,
   "metadata": {},
   "outputs": [],
   "source": [
    "best_params"
   ]
  },
  {
   "cell_type": "code",
   "execution_count": null,
   "metadata": {},
   "outputs": [],
   "source": [
    "mlp = mlp.fit(postscaling_bertweet_hatebert_olid_train_embeddings.cpu(), olid_labels_train)\n",
    "save_model(mlp, \"olid_bertweet_hatebert_with_post_scaling.pickle\")"
   ]
  },
  {
   "cell_type": "code",
   "execution_count": null,
   "metadata": {},
   "outputs": [],
   "source": [
    "train_preds = mlp.predict(postscaling_bertweet_hatebert_olid_train_embeddings.cpu())\n",
    "dev_preds = mlp.predict(postscaling_bertweet_hatebert_olid_dev_embeddings.cpu())\n",
    "test_preds = mlp.predict(postscaling_bertweet_hatebert_olid_test_embeddings.cpu())"
   ]
  },
  {
   "cell_type": "code",
   "execution_count": null,
   "metadata": {},
   "outputs": [],
   "source": [
    "computeAllScores(train_preds, dev_preds, test_preds, olid_labels_train, olid_labels_dev, olid_labels_test)"
   ]
  }
 ],
 "metadata": {
  "kernelspec": {
   "display_name": "Python 3",
   "language": "python",
   "name": "python3"
  },
  "language_info": {
   "codemirror_mode": {
    "name": "ipython",
    "version": 3
   },
   "file_extension": ".py",
   "mimetype": "text/x-python",
   "name": "python",
   "nbconvert_exporter": "python",
   "pygments_lexer": "ipython3",
   "version": "3.9.13"
  },
  "orig_nbformat": 4,
  "vscode": {
   "interpreter": {
    "hash": "a5a87ee616be0254e3f1af9223138e3faeac65b2c9d91bc22a9fc5a4a8bd8eb0"
   }
  }
 },
 "nbformat": 4,
 "nbformat_minor": 2
}
