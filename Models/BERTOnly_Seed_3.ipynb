{
 "cells": [
  {
   "cell_type": "code",
   "execution_count": 1,
   "metadata": {},
   "outputs": [],
   "source": [
    "from utils import *\n",
    "import numpy as np\n",
    "import torch, os\n",
    "from sklearn.preprocessing import StandardScaler\n",
    "from sklearn.neural_network import MLPClassifier\n",
    "from sklearn.model_selection import GridSearchCV"
   ]
  },
  {
   "cell_type": "code",
   "execution_count": 2,
   "metadata": {},
   "outputs": [
    {
     "name": "stdout",
     "output_type": "stream",
     "text": [
      "Seed: 3\n"
     ]
    }
   ],
   "source": [
    "set_random_seed(3)"
   ]
  },
  {
   "cell_type": "code",
   "execution_count": 3,
   "metadata": {},
   "outputs": [],
   "source": [
    "# def scaling_embeddings(embeddings):\n",
    "#     for i in range(len(embeddings)):\n",
    "#         embeddings[i] = StandardScaler().fit_transform(embeddings[i])\n",
    "#     return embeddings\n",
    "\n",
    "def reshape_embeddings(embeddings):\n",
    "    if embeddings.shape[1] == 1:\n",
    "        embeddings = embeddings.squeeze(1)\n",
    "    return embeddings"
   ]
  },
  {
   "cell_type": "code",
   "execution_count": 4,
   "metadata": {},
   "outputs": [],
   "source": [
    "dynahate_labels_train = process_labels(read_labels(\"dynahate\", \"train\"))\n",
    "dynahate_labels_dev = process_labels(read_labels(\"dynahate\", \"dev\"))\n",
    "dynahate_labels_test = process_labels(read_labels(\"dynahate\", \"test\"))\n",
    "\n",
    "latenthatred_labels_train = read_labels(\"latenthatred\", \"train\")\n",
    "latenthatred_labels_dev = read_labels(\"latenthatred\", \"dev\")\n",
    "latenthatred_labels_test = read_labels(\"latenthatred\", \"test\")\n",
    "\n",
    "olid_labels_train = read_labels(\"olid\", \"train\")\n",
    "olid_labels_dev = read_labels(\"olid\", \"dev\")\n",
    "olid_labels_test = read_labels(\"olid\", \"test\")"
   ]
  },
  {
   "cell_type": "code",
   "execution_count": 5,
   "metadata": {},
   "outputs": [],
   "source": [
    "mlp = MLPClassifier(random_state=3)\n",
    "gridsearch = GridSearchCV(\n",
    "    mlp,\n",
    "    param_grid={\n",
    "        \"hidden_layer_sizes\": [(128), (128,64)],\n",
    "        \"activation\": [\"relu\"],\n",
    "        \"solver\": [\"adam\"],\n",
    "        \"learning_rate_init\": [0.001, 0.0001],\n",
    "        \"learning_rate\": [\"adaptive\"],\n",
    "        \"early_stopping\": [True],\n",
    "        \"max_iter\": [10000],\n",
    "    },\n",
    "    verbose=4,\n",
    "    n_jobs=os.cpu_count()//3,\n",
    "    cv=5,\n",
    ")"
   ]
  },
  {
   "cell_type": "code",
   "execution_count": 6,
   "metadata": {},
   "outputs": [],
   "source": [
    "dynahate_labels_train_dev = np.concatenate((dynahate_labels_train, dynahate_labels_dev))\n",
    "latenthatred_labels_train_dev = np.concatenate((latenthatred_labels_train, latenthatred_labels_dev))\n",
    "olid_labels_train_dev = np.concatenate((olid_labels_train, olid_labels_dev))"
   ]
  },
  {
   "cell_type": "code",
   "execution_count": 7,
   "metadata": {},
   "outputs": [],
   "source": [
    "bert_dynahate_train_embeddings = reshape_embeddings(bert_dynahate_train_embeddings)\n",
    "bert_dynahate_dev_embeddings = reshape_embeddings(bert_dynahate_dev_embeddings)\n",
    "bert_dynahate_test_embeddings = reshape_embeddings(bert_dynahate_test_embeddings)\n",
    "\n",
    "bert_latenthatred_train_embeddings = reshape_embeddings(bert_latenthatred_train_embeddings)\n",
    "bert_latenthatred_dev_embeddings = reshape_embeddings(bert_latenthatred_dev_embeddings)\n",
    "bert_latenthatred_test_embeddings = reshape_embeddings(bert_latenthatred_test_embeddings)\n",
    "\n",
    "bert_olid_train_embeddings = reshape_embeddings(bert_olid_train_embeddings)\n",
    "bert_olid_dev_embeddings = reshape_embeddings(bert_olid_dev_embeddings)\n",
    "bert_olid_test_embeddings = reshape_embeddings(bert_olid_test_embeddings)"
   ]
  },
  {
   "attachments": {},
   "cell_type": "markdown",
   "metadata": {},
   "source": [
    "### BERT"
   ]
  },
  {
   "attachments": {},
   "cell_type": "markdown",
   "metadata": {},
   "source": [
    "#### DynaHate"
   ]
  },
  {
   "cell_type": "code",
   "execution_count": 8,
   "metadata": {},
   "outputs": [
    {
     "name": "stdout",
     "output_type": "stream",
     "text": [
      "Fitting 5 folds for each of 4 candidates, totalling 20 fits\n",
      "Best params:  {'activation': 'relu', 'early_stopping': True, 'hidden_layer_sizes': 128, 'learning_rate': 'adaptive', 'learning_rate_init': 0.001, 'max_iter': 10000, 'solver': 'adam'}\n",
      "Accuracy Train Dev:  0.681233794295592\n",
      "Accuracy Test:  0.6677184466019418\n",
      "Weighted F1 Train Dev:  0.6767145258568324\n",
      "Weighted F1 Test:  0.6616896552466864\n",
      "Macro F1 Train Dev:  0.672742012011798\n",
      "Macro F1 Test:  0.6550017160365899\n",
      "Micro F1 Train Dev:  0.681233794295592\n",
      "Micro F1 Test:  0.6677184466019418\n",
      "Weighted Recall Train Dev:  0.681233794295592\n",
      "Weighted Recall Test:  0.6677184466019418\n",
      "Macro Recall Train Dev:  0.672916236993226\n",
      "Macro Recall Test:  0.6550109324587366\n",
      "Micro Recall Train Dev:  0.681233794295592\n",
      "Micro Recall Test:  0.6677184466019418\n",
      "Confusion Matrix Train Dev: \n",
      "[[ 9629  7488]\n",
      " [ 4314 15593]]\n",
      "Confusion Matrix Test: \n",
      "[[ 980  872]\n",
      " [ 497 1771]]\n"
     ]
    }
   ],
   "source": [
    "bert_dynahate_train_dev = np.concatenate((bert_dynahate_train_embeddings, bert_dynahate_dev_embeddings))\n",
    "\n",
    "grid_results = gridsearch.fit(bert_dynahate_train_dev, dynahate_labels_train_dev)\n",
    "\n",
    "best_params = grid_results.best_params_\n",
    "mlp = grid_results.best_estimator_\n",
    "\n",
    "print(\"Best params: \", best_params)\n",
    "\n",
    "train_dev_preds = mlp.predict(bert_dynahate_train_dev)\n",
    "test_preds = mlp.predict(bert_dynahate_test_embeddings)\n",
    "\n",
    "computeAllScores(train_dev_preds, test_preds, dynahate_labels_train_dev, dynahate_labels_test, \"Results/bert_dynahate_seed_3\")\n",
    "save_model(mlp, \"Saves/bert_dynahate_seed_3\")"
   ]
  },
  {
   "attachments": {},
   "cell_type": "markdown",
   "metadata": {},
   "source": [
    "#### LatentHatred"
   ]
  },
  {
   "cell_type": "code",
   "execution_count": 9,
   "metadata": {},
   "outputs": [
    {
     "name": "stdout",
     "output_type": "stream",
     "text": [
      "Fitting 5 folds for each of 4 candidates, totalling 20 fits\n",
      "Best params:  {'activation': 'relu', 'early_stopping': True, 'hidden_layer_sizes': (128, 64), 'learning_rate': 'adaptive', 'learning_rate_init': 0.001, 'max_iter': 10000, 'solver': 'adam'}\n",
      "Accuracy Train Dev:  0.6975170701427684\n",
      "Accuracy Test:  0.6869646182495345\n",
      "Weighted F1 Train Dev:  0.658462600299731\n",
      "Weighted F1 Test:  0.6470074870648039\n",
      "Macro F1 Train Dev:  0.44477925086175857\n",
      "Macro F1 Test:  0.4296343487138765\n",
      "Micro F1 Train Dev:  0.6975170701427684\n",
      "Micro F1 Test:  0.6869646182495345\n",
      "Weighted Recall Train Dev:  0.6975170701427684\n",
      "Weighted Recall Test:  0.6869646182495345\n",
      "Macro Recall Train Dev:  0.4441840234187908\n",
      "Macro Recall Test:  0.4316370330282055\n",
      "Micro Recall Train Dev:  0.6975170701427684\n",
      "Micro Recall Test:  0.6869646182495345\n",
      "Confusion Matrix Train Dev: \n",
      "[[9133  805    7]\n",
      " [3254 2084    9]\n",
      " [ 458  340   20]]\n",
      "Confusion Matrix Test: \n",
      "[[3038  306    2]\n",
      " [1104  646    3]\n",
      " [ 147  119    5]]\n"
     ]
    }
   ],
   "source": [
    "bert_latenthatred_train_dev = np.concatenate((bert_latenthatred_train_embeddings, bert_latenthatred_dev_embeddings))\n",
    "\n",
    "grid_results = gridsearch.fit(bert_latenthatred_train_dev, latenthatred_labels_train_dev)\n",
    "\n",
    "best_params = grid_results.best_params_\n",
    "mlp = grid_results.best_estimator_\n",
    "\n",
    "print(\"Best params: \", best_params)\n",
    "\n",
    "train_dev_preds = mlp.predict(bert_latenthatred_train_dev)\n",
    "test_preds = mlp.predict(bert_latenthatred_test_embeddings)\n",
    "\n",
    "computeAllScores(train_dev_preds, test_preds, latenthatred_labels_train_dev, latenthatred_labels_test, \"Results/bert_latenthatred_seed_3\")\n",
    "save_model(mlp, \"Saves/bert_latenthatred_seed_3\")"
   ]
  },
  {
   "attachments": {},
   "cell_type": "markdown",
   "metadata": {},
   "source": [
    "#### OLID"
   ]
  },
  {
   "cell_type": "code",
   "execution_count": 10,
   "metadata": {},
   "outputs": [
    {
     "name": "stdout",
     "output_type": "stream",
     "text": [
      "Fitting 5 folds for each of 4 candidates, totalling 20 fits\n",
      "Best params:  {'activation': 'relu', 'early_stopping': True, 'hidden_layer_sizes': 128, 'learning_rate': 'adaptive', 'learning_rate_init': 0.001, 'max_iter': 10000, 'solver': 'adam'}\n",
      "Accuracy Train Dev:  0.7532477341389728\n",
      "Accuracy Test:  0.7941860465116279\n",
      "Weighted F1 Train Dev:  0.7419993190953723\n",
      "Weighted F1 Test:  0.7722668660167745\n",
      "Macro F1 Train Dev:  0.6992765108887113\n",
      "Macro F1 Test:  0.6958513743833408\n",
      "Micro F1 Train Dev:  0.7532477341389727\n",
      "Micro F1 Test:  0.7941860465116279\n",
      "Weighted Recall Train Dev:  0.7532477341389728\n",
      "Weighted Recall Test:  0.7941860465116279\n",
      "Macro Recall Train Dev:  0.688621966269025\n",
      "Macro Recall Test:  0.6746639784946237\n",
      "Micro Recall Train Dev:  0.7532477341389728\n",
      "Micro Recall Test:  0.7941860465116279\n",
      "Confusion Matrix Train Dev: \n",
      "[[7791 1049]\n",
      " [2218 2182]]\n",
      "Confusion Matrix Test: \n",
      "[[586  34]\n",
      " [143  97]]\n"
     ]
    }
   ],
   "source": [
    "bert_olid_train_dev = np.concatenate((bert_olid_train_embeddings, bert_olid_dev_embeddings))\n",
    "\n",
    "grid_results = gridsearch.fit(bert_olid_train_dev, olid_labels_train_dev)\n",
    "\n",
    "best_params = grid_results.best_params_\n",
    "mlp = grid_results.best_estimator_\n",
    "\n",
    "print(\"Best params: \", best_params)\n",
    "\n",
    "train_dev_preds = mlp.predict(bert_olid_train_dev)\n",
    "test_preds = mlp.predict(bert_olid_test_embeddings)\n",
    "\n",
    "computeAllScores(train_dev_preds, test_preds, olid_labels_train_dev, olid_labels_test, \"Results/bert_olid_seed_3\")\n",
    "\n",
    "save_model(mlp, \"Saves/bert_olid_seed_3\")"
   ]
  }
 ],
 "metadata": {
  "kernelspec": {
   "display_name": "Python 3",
   "language": "python",
   "name": "python3"
  },
  "language_info": {
   "codemirror_mode": {
    "name": "ipython",
    "version": 3
   },
   "file_extension": ".py",
   "mimetype": "text/x-python",
   "name": "python",
   "nbconvert_exporter": "python",
   "pygments_lexer": "ipython3",
   "version": "3.9.13"
  },
  "orig_nbformat": 4,
  "vscode": {
   "interpreter": {
    "hash": "a5a87ee616be0254e3f1af9223138e3faeac65b2c9d91bc22a9fc5a4a8bd8eb0"
   }
  }
 },
 "nbformat": 4,
 "nbformat_minor": 2
}
