{
 "cells": [
  {
   "cell_type": "code",
   "execution_count": 1,
   "metadata": {},
   "outputs": [],
   "source": [
    "from utils import *\n",
    "import numpy as np\n",
    "import torch, os\n",
    "from sklearn.preprocessing import StandardScaler\n",
    "from sklearn.neural_network import MLPClassifier\n",
    "from sklearn.model_selection import GridSearchCV"
   ]
  },
  {
   "cell_type": "code",
   "execution_count": 2,
   "metadata": {},
   "outputs": [],
   "source": [
    "# def scaling_embeddings(embeddings):\n",
    "#     for i in range(len(embeddings)):\n",
    "#         embeddings[i] = StandardScaler().fit_transform(embeddings[i])\n",
    "#     return embeddings\n",
    "\n",
    "def reshape_embeddings(embeddings):\n",
    "    if embeddings.shape[1] == 1:\n",
    "        embeddings = embeddings.squeeze(1)\n",
    "    return embeddings"
   ]
  },
  {
   "cell_type": "code",
   "execution_count": 3,
   "metadata": {},
   "outputs": [],
   "source": [
    "dynahate_labels_train = process_labels(read_labels(\"dynahate\", \"train\"))\n",
    "dynahate_labels_dev = process_labels(read_labels(\"dynahate\", \"dev\"))\n",
    "dynahate_labels_test = process_labels(read_labels(\"dynahate\", \"test\"))\n",
    "\n",
    "latenthatred_labels_train = read_labels(\"latenthatred\", \"train\")\n",
    "latenthatred_labels_dev = read_labels(\"latenthatred\", \"dev\")\n",
    "latenthatred_labels_test = read_labels(\"latenthatred\", \"test\")\n",
    "\n",
    "olid_labels_train = read_labels(\"olid\", \"train\")\n",
    "olid_labels_dev = read_labels(\"olid\", \"dev\")\n",
    "olid_labels_test = read_labels(\"olid\", \"test\")"
   ]
  },
  {
   "cell_type": "code",
   "execution_count": 4,
   "metadata": {},
   "outputs": [],
   "source": [
    "mlp = MLPClassifier()\n",
    "gridsearch = GridSearchCV(\n",
    "    mlp,\n",
    "    param_grid={\n",
    "        \"hidden_layer_sizes\": [(128), (128,64)],\n",
    "        \"activation\": [\"relu\"],\n",
    "        \"solver\": [\"adam\"],\n",
    "        \"learning_rate_init\": [0.001, 0.0001],\n",
    "        \"learning_rate\": [\"adaptive\"],\n",
    "        \"early_stopping\": [True],\n",
    "        \"max_iter\": [10000]\n",
    "    },\n",
    "    verbose=4,\n",
    "    n_jobs=os.cpu_count()//3,\n",
    "    cv=5,\n",
    ")"
   ]
  },
  {
   "cell_type": "code",
   "execution_count": 5,
   "metadata": {},
   "outputs": [],
   "source": [
    "dynahate_labels_train_dev = np.concatenate((dynahate_labels_train, dynahate_labels_dev))\n",
    "latenthatred_labels_train_dev = np.concatenate((latenthatred_labels_train, latenthatred_labels_dev))\n",
    "olid_labels_train_dev = np.concatenate((olid_labels_train, olid_labels_dev))"
   ]
  },
  {
   "cell_type": "code",
   "execution_count": 6,
   "metadata": {},
   "outputs": [],
   "source": [
    "hatebert_dynahate_train_embeddings = reshape_embeddings(hatebert_dynahate_train_embeddings)\n",
    "hatebert_dynahate_dev_embeddings = reshape_embeddings(hatebert_dynahate_dev_embeddings)\n",
    "hatebert_dynahate_test_embeddings = reshape_embeddings(hatebert_dynahate_test_embeddings)\n",
    "\n",
    "hatebert_latenthatred_train_embeddings = reshape_embeddings(hatebert_latenthatred_train_embeddings)\n",
    "hatebert_latenthatred_dev_embeddings = reshape_embeddings(hatebert_latenthatred_dev_embeddings)\n",
    "hatebert_latenthatred_test_embeddings = reshape_embeddings(hatebert_latenthatred_test_embeddings)\n",
    "\n",
    "hatebert_olid_train_embeddings = reshape_embeddings(hatebert_olid_train_embeddings)\n",
    "hatebert_olid_dev_embeddings = reshape_embeddings(hatebert_olid_dev_embeddings)\n",
    "hatebert_olid_test_embeddings = reshape_embeddings(hatebert_olid_test_embeddings)"
   ]
  },
  {
   "attachments": {},
   "cell_type": "markdown",
   "metadata": {},
   "source": [
    "### HateBERT"
   ]
  },
  {
   "attachments": {},
   "cell_type": "markdown",
   "metadata": {},
   "source": [
    "#### DynaHate"
   ]
  },
  {
   "cell_type": "code",
   "execution_count": 7,
   "metadata": {},
   "outputs": [
    {
     "name": "stdout",
     "output_type": "stream",
     "text": [
      "Fitting 5 folds for each of 4 candidates, totalling 20 fits\n",
      "Best params:  {'activation': 'relu', 'early_stopping': True, 'hidden_layer_sizes': (128, 64), 'learning_rate': 'adaptive', 'learning_rate_init': 0.001, 'max_iter': 10000, 'solver': 'adam'}\n",
      "Accuracy Train Dev:  0.7236927398444253\n",
      "Accuracy Test:  0.6895631067961165\n",
      "Weighted F1 Train Dev:  0.7227959439185933\n",
      "Weighted F1 Test:  0.6887506726581016\n",
      "Macro F1 Train Dev:  0.7205699113268926\n",
      "Macro F1 Test:  0.6848659301131108\n",
      "Micro F1 Train Dev:  0.7236927398444254\n",
      "Micro F1 Test:  0.6895631067961165\n",
      "Weighted Recall Train Dev:  0.7236927398444253\n",
      "Weighted Recall Test:  0.6895631067961165\n",
      "Macro Recall Train Dev:  0.7198139485547681\n",
      "Macro Recall Test:  0.6842114535599056\n",
      "Micro Recall Train Dev:  0.7236927398444253\n",
      "Micro Recall Test:  0.6895631067961165\n",
      "Confusion Matrix Train Dev: \n",
      "[[11440  5677]\n",
      " [ 4553 15354]]\n",
      "Confusion Matrix Test: \n",
      "[[1169  683]\n",
      " [ 596 1672]]\n"
     ]
    }
   ],
   "source": [
    "hatebert_dynahate_train_dev = np.concatenate((hatebert_dynahate_train_embeddings, hatebert_dynahate_dev_embeddings))\n",
    "\n",
    "grid_results = gridsearch.fit(hatebert_dynahate_train_dev, dynahate_labels_train_dev)\n",
    "\n",
    "best_params = grid_results.best_params_\n",
    "mlp = grid_results.best_estimator_\n",
    "\n",
    "print(\"Best params: \", best_params)\n",
    "\n",
    "train_dev_preds = mlp.predict(hatebert_dynahate_train_dev)\n",
    "test_preds = mlp.predict(hatebert_dynahate_test_embeddings)\n",
    "\n",
    "computeAllScores(train_dev_preds, test_preds, dynahate_labels_train_dev, dynahate_labels_test, \"Results/hatebert_dynahate\")\n",
    "save_model(mlp, \"Saves/hatebert_dynahate\")"
   ]
  },
  {
   "attachments": {},
   "cell_type": "markdown",
   "metadata": {},
   "source": [
    "#### LatentHatred"
   ]
  },
  {
   "cell_type": "code",
   "execution_count": 8,
   "metadata": {},
   "outputs": [
    {
     "name": "stdout",
     "output_type": "stream",
     "text": [
      "Fitting 5 folds for each of 4 candidates, totalling 20 fits\n",
      "Best params:  {'activation': 'relu', 'early_stopping': True, 'hidden_layer_sizes': (128, 64), 'learning_rate': 'adaptive', 'learning_rate_init': 0.001, 'max_iter': 10000, 'solver': 'adam'}\n",
      "Accuracy Train Dev:  0.6969584109248914\n",
      "Accuracy Test:  0.6787709497206704\n",
      "Weighted F1 Train Dev:  0.6753650038527814\n",
      "Weighted F1 Test:  0.655091815784592\n",
      "Macro F1 Train Dev:  0.4742929768472124\n",
      "Macro F1 Test:  0.45001570345239505\n",
      "Micro F1 Train Dev:  0.6969584109248914\n",
      "Micro F1 Test:  0.6787709497206704\n",
      "Weighted Recall Train Dev:  0.6969584109248914\n",
      "Weighted Recall Test:  0.6787709497206704\n",
      "Macro Recall Train Dev:  0.46906116894524996\n",
      "Macro Recall Test:  0.4477083184835815\n",
      "Micro Recall Train Dev:  0.6969584109248914\n",
      "Micro Recall Test:  0.6787709497206704\n",
      "Confusion Matrix Train Dev: \n",
      "[[8454 1474   17]\n",
      " [2585 2737   25]\n",
      " [ 341  440   37]]\n",
      "Confusion Matrix Test: \n",
      "[[2814  526    6]\n",
      " [ 930  822    1]\n",
      " [ 116  146    9]]\n"
     ]
    }
   ],
   "source": [
    "hatebert_latenthatred_train_dev = np.concatenate((hatebert_latenthatred_train_embeddings, hatebert_latenthatred_dev_embeddings))\n",
    "\n",
    "grid_results = gridsearch.fit(hatebert_latenthatred_train_dev, latenthatred_labels_train_dev)\n",
    "\n",
    "best_params = grid_results.best_params_\n",
    "mlp = grid_results.best_estimator_\n",
    "\n",
    "print(\"Best params: \", best_params)\n",
    "\n",
    "train_dev_preds = mlp.predict(hatebert_latenthatred_train_dev)\n",
    "test_preds = mlp.predict(hatebert_latenthatred_test_embeddings)\n",
    "\n",
    "computeAllScores(train_dev_preds, test_preds, latenthatred_labels_train_dev, latenthatred_labels_test, \"Results/hatebert_latenthatred\")\n",
    "save_model(mlp, \"Saves/hatebert_latenthatred\")"
   ]
  },
  {
   "attachments": {},
   "cell_type": "markdown",
   "metadata": {},
   "source": [
    "#### OLID"
   ]
  },
  {
   "cell_type": "code",
   "execution_count": 9,
   "metadata": {},
   "outputs": [
    {
     "name": "stdout",
     "output_type": "stream",
     "text": [
      "Fitting 5 folds for each of 4 candidates, totalling 20 fits\n",
      "Best params:  {'activation': 'relu', 'early_stopping': True, 'hidden_layer_sizes': 128, 'learning_rate': 'adaptive', 'learning_rate_init': 0.001, 'max_iter': 10000, 'solver': 'adam'}\n",
      "Accuracy Train Dev:  0.7484894259818731\n",
      "Accuracy Test:  0.791860465116279\n",
      "Weighted F1 Train Dev:  0.7359465513513125\n",
      "Weighted F1 Test:  0.7691054391479656\n",
      "Macro F1 Train Dev:  0.6914654304569916\n",
      "Macro F1 Test:  0.6912053502474329\n",
      "Micro F1 Train Dev:  0.748489425981873\n",
      "Micro F1 Test:  0.791860465116279\n",
      "Weighted Recall Train Dev:  0.7484894259818731\n",
      "Weighted Recall Test:  0.791860465116279\n",
      "Macro Recall Train Dev:  0.680892122583299\n",
      "Macro Recall Test:  0.670497311827957\n",
      "Micro Recall Train Dev:  0.7484894259818731\n",
      "Micro Recall Test:  0.791860465116279\n",
      "Confusion Matrix Train Dev: \n",
      "[[7801 1039]\n",
      " [2291 2109]]\n",
      "Confusion Matrix Test: \n",
      "[[586  34]\n",
      " [145  95]]\n"
     ]
    }
   ],
   "source": [
    "hatebert_olid_train_dev = np.concatenate((hatebert_olid_train_embeddings, hatebert_olid_dev_embeddings))\n",
    "\n",
    "grid_results = gridsearch.fit(hatebert_olid_train_dev, olid_labels_train_dev)\n",
    "\n",
    "best_params = grid_results.best_params_\n",
    "mlp = grid_results.best_estimator_\n",
    "\n",
    "print(\"Best params: \", best_params)\n",
    "\n",
    "train_dev_preds = mlp.predict(hatebert_olid_train_dev)\n",
    "test_preds = mlp.predict(hatebert_olid_test_embeddings)\n",
    "\n",
    "computeAllScores(train_dev_preds, test_preds, olid_labels_train_dev, olid_labels_test, \"Results/hatebert_olid\")\n",
    "\n",
    "save_model(mlp, \"Saves/hatebert_olid\")"
   ]
  }
 ],
 "metadata": {
  "kernelspec": {
   "display_name": "Python 3",
   "language": "python",
   "name": "python3"
  },
  "language_info": {
   "codemirror_mode": {
    "name": "ipython",
    "version": 3
   },
   "file_extension": ".py",
   "mimetype": "text/x-python",
   "name": "python",
   "nbconvert_exporter": "python",
   "pygments_lexer": "ipython3",
   "version": "3.9.13"
  },
  "orig_nbformat": 4,
  "vscode": {
   "interpreter": {
    "hash": "a5a87ee616be0254e3f1af9223138e3faeac65b2c9d91bc22a9fc5a4a8bd8eb0"
   }
  }
 },
 "nbformat": 4,
 "nbformat_minor": 2
}
