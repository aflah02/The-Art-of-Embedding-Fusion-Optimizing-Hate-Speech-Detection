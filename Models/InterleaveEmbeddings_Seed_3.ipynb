{
 "cells": [
  {
   "cell_type": "code",
   "execution_count": 1,
   "metadata": {},
   "outputs": [],
   "source": [
    "from utils import *\n",
    "import numpy as np\n",
    "import torch, os\n",
    "from sklearn.preprocessing import StandardScaler\n",
    "from sklearn.neural_network import MLPClassifier\n",
    "from sklearn.model_selection import GridSearchCV"
   ]
  },
  {
   "cell_type": "code",
   "execution_count": 2,
   "metadata": {},
   "outputs": [
    {
     "name": "stdout",
     "output_type": "stream",
     "text": [
      "Seed: 3\n"
     ]
    }
   ],
   "source": [
    "set_random_seed(3)"
   ]
  },
  {
   "cell_type": "code",
   "execution_count": 3,
   "metadata": {},
   "outputs": [],
   "source": [
    "# def scaling_embeddings(embeddings):\n",
    "#     for i in range(len(embeddings)):\n",
    "#         embeddings[i] = StandardScaler().fit_transform(embeddings[i])\n",
    "#     return embeddings\n",
    "\n",
    "def reshape_embeddings(embeddings):\n",
    "    if embeddings.shape[1] == 1:\n",
    "        embeddings = embeddings.squeeze(1)\n",
    "    return embeddings"
   ]
  },
  {
   "cell_type": "code",
   "execution_count": 4,
   "metadata": {},
   "outputs": [],
   "source": [
    "def interleave_2_embeddings(embeddings1, embeddings2):\n",
    "    embeddings1 = reshape_embeddings(embeddings1)\n",
    "    embeddings2 = reshape_embeddings(embeddings2)\n",
    "    new_embeddings = []\n",
    "    for i in range(len(embeddings1)):\n",
    "        embedding = []\n",
    "        for j in range(len(embeddings1[i])):\n",
    "            embedding.append(embeddings1[i][j])\n",
    "            embedding.append(embeddings2[i][j])\n",
    "        new_embeddings.append(np.array(embedding))\n",
    "    return np.array(new_embeddings)\n",
    "    \n",
    "\n",
    "def interleave_3_embeddings(embeddings1, embeddings2, embeddings3):\n",
    "    embeddings1 = reshape_embeddings(embeddings1)\n",
    "    embeddings2 = reshape_embeddings(embeddings2)\n",
    "    embeddings3 = reshape_embeddings(embeddings3)\n",
    "    new_embeddings = []\n",
    "    for i in range(len(embeddings1)):\n",
    "        embedding = []\n",
    "        for j in range(len(embeddings1[i])):\n",
    "            embedding.append(embeddings1[i][j])\n",
    "            embedding.append(embeddings2[i][j])\n",
    "            embedding.append(embeddings3[i][j])\n",
    "        new_embeddings.append(np.array(embedding))\n",
    "    return np.array(new_embeddings)"
   ]
  },
  {
   "cell_type": "code",
   "execution_count": 5,
   "metadata": {},
   "outputs": [],
   "source": [
    "bert_hatebert_interleaved_dynahate_train = interleave_2_embeddings(bert_dynahate_train_embeddings, hatebert_dynahate_train_embeddings)\n",
    "bert_hatebert_interleaved_dynahate_dev = interleave_2_embeddings(bert_dynahate_dev_embeddings, hatebert_dynahate_dev_embeddings)\n",
    "bert_hatebert_interleaved_dynahate_test = interleave_2_embeddings(bert_dynahate_test_embeddings, hatebert_dynahate_test_embeddings)\n",
    "\n",
    "bert_bertweet_interleaved_dynahate_train = interleave_2_embeddings(bert_dynahate_train_embeddings, bertweet_dynahate_train_embeddings)\n",
    "bert_bertweet_interleaved_dynahate_dev = interleave_2_embeddings(bert_dynahate_dev_embeddings, bertweet_dynahate_dev_embeddings)\n",
    "bert_bertweet_interleaved_dynahate_test = interleave_2_embeddings(bert_dynahate_test_embeddings, bertweet_dynahate_test_embeddings)\n",
    "\n",
    "hatebert_bertweet_interleaved_dynahate_train = interleave_2_embeddings(hatebert_dynahate_train_embeddings, bertweet_dynahate_train_embeddings)\n",
    "hatebert_bertweet_interleaved_dynahate_dev = interleave_2_embeddings(hatebert_dynahate_dev_embeddings, bertweet_dynahate_dev_embeddings)\n",
    "hatebert_bertweet_interleaved_dynahate_test = interleave_2_embeddings(hatebert_dynahate_test_embeddings, bertweet_dynahate_test_embeddings)\n",
    "\n",
    "bert_hatebert_bertweet_interleaved_dynahate_train = interleave_3_embeddings(bert_dynahate_train_embeddings, hatebert_dynahate_train_embeddings, bertweet_dynahate_train_embeddings)\n",
    "bert_hatebert_bertweet_interleaved_dynahate_dev = interleave_3_embeddings(bert_dynahate_dev_embeddings, hatebert_dynahate_dev_embeddings, bertweet_dynahate_dev_embeddings)\n",
    "bert_hatebert_bertweet_interleaved_dynahate_test = interleave_3_embeddings(bert_dynahate_test_embeddings, hatebert_dynahate_test_embeddings, bertweet_dynahate_test_embeddings)\n",
    "\n",
    "bert_hatebert_interleaved_olid_train = interleave_2_embeddings(bert_olid_train_embeddings, hatebert_olid_train_embeddings)\n",
    "bert_hatebert_interleaved_olid_dev = interleave_2_embeddings(bert_olid_dev_embeddings, hatebert_olid_dev_embeddings)\n",
    "bert_hatebert_interleaved_olid_test = interleave_2_embeddings(bert_olid_test_embeddings, hatebert_olid_test_embeddings)\n",
    "\n",
    "bert_bertweet_interleaved_olid_train = interleave_2_embeddings(bert_olid_train_embeddings, bertweet_olid_train_embeddings)\n",
    "bert_bertweet_interleaved_olid_dev = interleave_2_embeddings(bert_olid_dev_embeddings, bertweet_olid_dev_embeddings)\n",
    "bert_bertweet_interleaved_olid_test = interleave_2_embeddings(bert_olid_test_embeddings, bertweet_olid_test_embeddings)\n",
    "\n",
    "hatebert_bertweet_interleaved_olid_train = interleave_2_embeddings(hatebert_olid_train_embeddings, bertweet_olid_train_embeddings)\n",
    "hatebert_bertweet_interleaved_olid_dev = interleave_2_embeddings(hatebert_olid_dev_embeddings, bertweet_olid_dev_embeddings)\n",
    "hatebert_bertweet_interleaved_olid_test = interleave_2_embeddings(hatebert_olid_test_embeddings, bertweet_olid_test_embeddings)\n",
    "\n",
    "bert_hatebert_bertweet_interleaved_olid_train = interleave_3_embeddings(bert_olid_train_embeddings, hatebert_olid_train_embeddings, bertweet_olid_train_embeddings)\n",
    "bert_hatebert_bertweet_interleaved_olid_dev = interleave_3_embeddings(bert_olid_dev_embeddings, hatebert_olid_dev_embeddings, bertweet_olid_dev_embeddings)\n",
    "bert_hatebert_bertweet_interleaved_olid_test = interleave_3_embeddings(bert_olid_test_embeddings, hatebert_olid_test_embeddings, bertweet_olid_test_embeddings)\n",
    "\n",
    "bert_hatebert_interleaved_latenthatred_train = interleave_2_embeddings(bert_latenthatred_train_embeddings, hatebert_latenthatred_train_embeddings)\n",
    "bert_hatebert_interleaved_latenthatred_dev = interleave_2_embeddings(bert_latenthatred_dev_embeddings, hatebert_latenthatred_dev_embeddings)\n",
    "bert_hatebert_interleaved_latenthatred_test = interleave_2_embeddings(bert_latenthatred_test_embeddings, hatebert_latenthatred_test_embeddings)\n",
    "\n",
    "bert_bertweet_interleaved_latenthatred_train = interleave_2_embeddings(bert_latenthatred_train_embeddings, bertweet_latenthatred_train_embeddings)\n",
    "bert_bertweet_interleaved_latenthatred_dev = interleave_2_embeddings(bert_latenthatred_dev_embeddings, bertweet_latenthatred_dev_embeddings)\n",
    "bert_bertweet_interleaved_latenthatred_test = interleave_2_embeddings(bert_latenthatred_test_embeddings, bertweet_latenthatred_test_embeddings)\n",
    "\n",
    "hatebert_bertweet_interleaved_latenthatred_train = interleave_2_embeddings(hatebert_latenthatred_train_embeddings, bertweet_latenthatred_train_embeddings)\n",
    "hatebert_bertweet_interleaved_latenthatred_dev = interleave_2_embeddings(hatebert_latenthatred_dev_embeddings, bertweet_latenthatred_dev_embeddings)\n",
    "hatebert_bertweet_interleaved_latenthatred_test = interleave_2_embeddings(hatebert_latenthatred_test_embeddings, bertweet_latenthatred_test_embeddings)\n",
    "\n",
    "bert_hatebert_bertweet_interleaved_latenthatred_train = interleave_3_embeddings(bert_latenthatred_train_embeddings, hatebert_latenthatred_train_embeddings, bertweet_latenthatred_train_embeddings)\n",
    "bert_hatebert_bertweet_interleaved_latenthatred_dev = interleave_3_embeddings(bert_latenthatred_dev_embeddings, hatebert_latenthatred_dev_embeddings, bertweet_latenthatred_dev_embeddings)\n",
    "bert_hatebert_bertweet_interleaved_latenthatred_test = interleave_3_embeddings(bert_latenthatred_test_embeddings, hatebert_latenthatred_test_embeddings, bertweet_latenthatred_test_embeddings)"
   ]
  },
  {
   "cell_type": "code",
   "execution_count": 6,
   "metadata": {},
   "outputs": [],
   "source": [
    "dynahate_labels_train = process_labels(read_labels(\"dynahate\", \"train\"))\n",
    "dynahate_labels_dev = process_labels(read_labels(\"dynahate\", \"dev\"))\n",
    "dynahate_labels_test = process_labels(read_labels(\"dynahate\", \"test\"))\n",
    "\n",
    "latenthatred_labels_train = read_labels(\"latenthatred\", \"train\")\n",
    "latenthatred_labels_dev = read_labels(\"latenthatred\", \"dev\")\n",
    "latenthatred_labels_test = read_labels(\"latenthatred\", \"test\")\n",
    "\n",
    "olid_labels_train = read_labels(\"olid\", \"train\")\n",
    "olid_labels_dev = read_labels(\"olid\", \"dev\")\n",
    "olid_labels_test = read_labels(\"olid\", \"test\")"
   ]
  },
  {
   "cell_type": "code",
   "execution_count": 7,
   "metadata": {},
   "outputs": [],
   "source": [
    "mlp = MLPClassifier(random_state=3)\n",
    "gridsearch = GridSearchCV(\n",
    "    mlp,\n",
    "    param_grid={\n",
    "        \"hidden_layer_sizes\": [(128), (128,64)],\n",
    "        \"activation\": [\"relu\"],\n",
    "        \"solver\": [\"adam\"],\n",
    "        \"learning_rate_init\": [0.001, 0.0001],\n",
    "        \"learning_rate\": [\"adaptive\"],\n",
    "        \"early_stopping\": [True],\n",
    "        \"max_iter\": [10000]\n",
    "    },\n",
    "    verbose=4,\n",
    "    n_jobs=os.cpu_count()//3,\n",
    "    cv=5,\n",
    ")"
   ]
  },
  {
   "cell_type": "code",
   "execution_count": 8,
   "metadata": {},
   "outputs": [],
   "source": [
    "dynahate_labels_train_dev = np.concatenate((dynahate_labels_train, dynahate_labels_dev))\n",
    "latenthatred_labels_train_dev = np.concatenate((latenthatred_labels_train, latenthatred_labels_dev))\n",
    "olid_labels_train_dev = np.concatenate((olid_labels_train, olid_labels_dev))"
   ]
  },
  {
   "attachments": {},
   "cell_type": "markdown",
   "metadata": {},
   "source": [
    "### BERT-BERTweet"
   ]
  },
  {
   "attachments": {},
   "cell_type": "markdown",
   "metadata": {},
   "source": [
    "#### DynaHate"
   ]
  },
  {
   "cell_type": "code",
   "execution_count": 9,
   "metadata": {},
   "outputs": [
    {
     "name": "stdout",
     "output_type": "stream",
     "text": [
      "Fitting 5 folds for each of 4 candidates, totalling 20 fits\n",
      "Best params:  {'activation': 'relu', 'early_stopping': True, 'hidden_layer_sizes': (128, 64), 'learning_rate': 'adaptive', 'learning_rate_init': 0.001, 'max_iter': 10000, 'solver': 'adam'}\n",
      "Accuracy Train Dev:  0.7314444684528955\n",
      "Accuracy Test:  0.6847087378640777\n",
      "Weighted F1 Train Dev:  0.7306682200919097\n",
      "Weighted F1 Test:  0.6840992717101301\n",
      "Macro F1 Train Dev:  0.7285594246419094\n",
      "Macro F1 Test:  0.6803151236497984\n",
      "Micro F1 Train Dev:  0.7314444684528956\n",
      "Micro F1 Test:  0.6847087378640777\n",
      "Weighted Recall Train Dev:  0.7314444684528955\n",
      "Weighted Recall Test:  0.6847087378640777\n",
      "Macro Recall Train Dev:  0.7278085033244159\n",
      "Macro Recall Test:  0.6798022824840679\n",
      "Micro Recall Train Dev:  0.7314444684528955\n",
      "Micro Recall Test:  0.6847087378640777\n",
      "Confusion Matrix Train Dev: \n",
      "[[11632  5485]\n",
      " [ 4458 15449]]\n",
      "Confusion Matrix Test: \n",
      "[[1169  683]\n",
      " [ 616 1652]]\n"
     ]
    }
   ],
   "source": [
    "bert_bertweet_interleaved_dynahate_train_dev = np.concatenate((bert_bertweet_interleaved_dynahate_train, bert_bertweet_interleaved_dynahate_dev))\n",
    "bert_bertweet_interleaved_dynahate_labels_train_dev = np.concatenate((dynahate_labels_train, dynahate_labels_dev))\n",
    "\n",
    "grid_results = gridsearch.fit(bert_bertweet_interleaved_dynahate_train_dev, bert_bertweet_interleaved_dynahate_labels_train_dev)\n",
    "\n",
    "best_params = grid_results.best_params_\n",
    "mlp = grid_results.best_estimator_\n",
    "\n",
    "print(\"Best params: \", best_params)\n",
    "\n",
    "train_dev_preds = mlp.predict(bert_bertweet_interleaved_dynahate_train_dev)\n",
    "test_preds = mlp.predict(bert_bertweet_interleaved_dynahate_test)\n",
    "\n",
    "computeAllScores(train_dev_preds, test_preds, dynahate_labels_train_dev, dynahate_labels_test, \"Results/bert_bertweet_interleaved_dynahate_seed_3\")\n",
    "save_model(mlp, \"Saves/bert_bertweet_interleaved_dynahate_seed_3\")"
   ]
  },
  {
   "attachments": {},
   "cell_type": "markdown",
   "metadata": {},
   "source": [
    "#### LatentHatred"
   ]
  },
  {
   "cell_type": "code",
   "execution_count": 10,
   "metadata": {},
   "outputs": [
    {
     "name": "stdout",
     "output_type": "stream",
     "text": [
      "Fitting 5 folds for each of 4 candidates, totalling 20 fits\n",
      "Best params:  {'activation': 'relu', 'early_stopping': True, 'hidden_layer_sizes': 128, 'learning_rate': 'adaptive', 'learning_rate_init': 0.001, 'max_iter': 10000, 'solver': 'adam'}\n",
      "Accuracy Train Dev:  0.6987585350713842\n",
      "Accuracy Test:  0.6864059590316574\n",
      "Weighted F1 Train Dev:  0.6801955007408066\n",
      "Weighted F1 Test:  0.6684773945150163\n",
      "Macro F1 Train Dev:  0.4645488094132229\n",
      "Macro F1 Test:  0.45374594714729916\n",
      "Micro F1 Train Dev:  0.6987585350713842\n",
      "Micro F1 Test:  0.6864059590316574\n",
      "Weighted Recall Train Dev:  0.6987585350713842\n",
      "Weighted Recall Test:  0.6864059590316574\n",
      "Macro Recall Train Dev:  0.47111815904853915\n",
      "Macro Recall Test:  0.4596296313962485\n",
      "Micro Recall Train Dev:  0.6987585350713842\n",
      "Micro Recall Test:  0.6864059590316574\n",
      "Confusion Matrix Train Dev: \n",
      "[[8134 1807    4]\n",
      " [2233 3112    2]\n",
      " [ 320  487   11]]\n",
      "Confusion Matrix Test: \n",
      "[[2711  633    2]\n",
      " [ 779  971    3]\n",
      " [  97  170    4]]\n"
     ]
    }
   ],
   "source": [
    "bert_bertweet_interleaved_latenthatred_train_dev = np.concatenate((bert_bertweet_interleaved_latenthatred_train, bert_bertweet_interleaved_latenthatred_dev))\n",
    "bert_bertweet_interleaved_latenthatred_labels_train_dev = np.concatenate((latenthatred_labels_train, latenthatred_labels_dev))\n",
    "\n",
    "grid_results = gridsearch.fit(bert_bertweet_interleaved_latenthatred_train_dev, bert_bertweet_interleaved_latenthatred_labels_train_dev)\n",
    "\n",
    "best_params = grid_results.best_params_\n",
    "mlp = grid_results.best_estimator_\n",
    "\n",
    "print(\"Best params: \", best_params)\n",
    "\n",
    "train_dev_preds = mlp.predict(bert_bertweet_interleaved_latenthatred_train_dev)\n",
    "test_preds = mlp.predict(bert_bertweet_interleaved_latenthatred_test)\n",
    "\n",
    "computeAllScores(train_dev_preds, test_preds, latenthatred_labels_train_dev, latenthatred_labels_test, \"Results/bert_bertweet_interleaved_latenthatred_seed_3\")\n",
    "save_model(mlp, \"Saves/bert_bertweet_interleaved_latenthatred_seed_3\")"
   ]
  },
  {
   "attachments": {},
   "cell_type": "markdown",
   "metadata": {},
   "source": [
    "#### OLID"
   ]
  },
  {
   "cell_type": "code",
   "execution_count": 11,
   "metadata": {},
   "outputs": [
    {
     "name": "stdout",
     "output_type": "stream",
     "text": [
      "Fitting 5 folds for each of 4 candidates, totalling 20 fits\n",
      "Best params:  {'activation': 'relu', 'early_stopping': True, 'hidden_layer_sizes': (128, 64), 'learning_rate': 'adaptive', 'learning_rate_init': 0.001, 'max_iter': 10000, 'solver': 'adam'}\n",
      "Accuracy Train Dev:  0.7706948640483384\n",
      "Accuracy Test:  0.8046511627906977\n",
      "Weighted F1 Train Dev:  0.763554407803608\n",
      "Weighted F1 Test:  0.7862365041378178\n",
      "Macro F1 Train Dev:  0.7268603965459657\n",
      "Macro F1 Test:  0.7162608012568735\n",
      "Micro F1 Train Dev:  0.7706948640483384\n",
      "Micro F1 Test:  0.8046511627906977\n",
      "Weighted Recall Train Dev:  0.7706948640483384\n",
      "Weighted Recall Test:  0.8046511627906977\n",
      "Macro Recall Train Dev:  0.716983751542575\n",
      "Macro Recall Test:  0.6934139784946236\n",
      "Micro Recall Train Dev:  0.7706948640483384\n",
      "Micro Recall Test:  0.8046511627906977\n",
      "Confusion Matrix Train Dev: \n",
      "[[7754 1086]\n",
      " [1950 2450]]\n",
      "Confusion Matrix Test: \n",
      "[[586  34]\n",
      " [134 106]]\n"
     ]
    }
   ],
   "source": [
    "bert_bertweet_interleaved_olid_train_dev = np.concatenate((bert_bertweet_interleaved_olid_train, bert_bertweet_interleaved_olid_dev))\n",
    "bert_bertweet_interleaved_olid_labels_train_dev = np.concatenate((olid_labels_train, olid_labels_dev))\n",
    "\n",
    "grid_results = gridsearch.fit(bert_bertweet_interleaved_olid_train_dev, bert_bertweet_interleaved_olid_labels_train_dev)\n",
    "\n",
    "best_params = grid_results.best_params_\n",
    "mlp = grid_results.best_estimator_\n",
    "\n",
    "print(\"Best params: \", best_params)\n",
    "\n",
    "train_dev_preds = mlp.predict(bert_bertweet_interleaved_olid_train_dev)\n",
    "test_preds = mlp.predict(bert_bertweet_interleaved_olid_test)\n",
    "\n",
    "computeAllScores(train_dev_preds, test_preds, olid_labels_train_dev, olid_labels_test, \"Results/bert_bertweet_interleaved_olid_seed_3\")\n",
    "\n",
    "save_model(mlp, \"Saves/bert_bertweet_interleaved_olid_seed_3\")"
   ]
  },
  {
   "attachments": {},
   "cell_type": "markdown",
   "metadata": {},
   "source": [
    "### BERT-HateBERT"
   ]
  },
  {
   "cell_type": "markdown",
   "metadata": {},
   "source": [
    "#### DynaHate"
   ]
  },
  {
   "cell_type": "code",
   "execution_count": 12,
   "metadata": {},
   "outputs": [
    {
     "name": "stdout",
     "output_type": "stream",
     "text": [
      "Fitting 5 folds for each of 4 candidates, totalling 20 fits\n",
      "Best params:  {'activation': 'relu', 'early_stopping': True, 'hidden_layer_sizes': (128, 64), 'learning_rate': 'adaptive', 'learning_rate_init': 0.0001, 'max_iter': 10000, 'solver': 'adam'}\n",
      "Accuracy Train Dev:  0.7235847018150389\n",
      "Accuracy Test:  0.6944174757281554\n",
      "Weighted F1 Train Dev:  0.7220984050061429\n",
      "Weighted F1 Test:  0.6928463955139764\n",
      "Macro F1 Train Dev:  0.7195698878739356\n",
      "Macro F1 Test:  0.6885181215464372\n",
      "Micro F1 Train Dev:  0.7235847018150388\n",
      "Micro F1 Test:  0.6944174757281554\n",
      "Weighted Recall Train Dev:  0.7235847018150389\n",
      "Weighted Recall Test:  0.6944174757281554\n",
      "Macro Recall Train Dev:  0.7186490587788101\n",
      "Macro Recall Test:  0.687531187981152\n",
      "Micro Recall Train Dev:  0.7235847018150389\n",
      "Micro Recall Test:  0.6944174757281554\n",
      "Confusion Matrix Train Dev: \n",
      "[[11180  5937]\n",
      " [ 4297 15610]]\n",
      "Confusion Matrix Test: \n",
      "[[1147  705]\n",
      " [ 554 1714]]\n"
     ]
    }
   ],
   "source": [
    "bert_hatebert_interleaved_dynahate_train_dev = np.concatenate((bert_hatebert_interleaved_dynahate_train, bert_hatebert_interleaved_dynahate_dev))\n",
    "bert_hatebert_interleaved_dynahate_labels_train_dev = np.concatenate((dynahate_labels_train, dynahate_labels_dev))\n",
    "\n",
    "grid_results = gridsearch.fit(bert_hatebert_interleaved_dynahate_train_dev, bert_hatebert_interleaved_dynahate_labels_train_dev)\n",
    "\n",
    "best_params = grid_results.best_params_\n",
    "mlp = grid_results.best_estimator_\n",
    "\n",
    "print(\"Best params: \", best_params)\n",
    "\n",
    "train_dev_preds = mlp.predict(bert_hatebert_interleaved_dynahate_train_dev)\n",
    "test_preds = mlp.predict(bert_hatebert_interleaved_dynahate_test)\n",
    "\n",
    "computeAllScores(train_dev_preds, test_preds, dynahate_labels_train_dev, dynahate_labels_test, \"Results/bert_hatebert_interleaved_dynahate_seed_3\")\n",
    "\n",
    "save_model(mlp, \"Saves/bert_hatebert_interleaved_dynahate_seed_3\")"
   ]
  },
  {
   "cell_type": "markdown",
   "metadata": {},
   "source": [
    "#### LatentHatred"
   ]
  },
  {
   "cell_type": "code",
   "execution_count": 13,
   "metadata": {},
   "outputs": [
    {
     "name": "stdout",
     "output_type": "stream",
     "text": [
      "Fitting 5 folds for each of 4 candidates, totalling 20 fits\n",
      "Best params:  {'activation': 'relu', 'early_stopping': True, 'hidden_layer_sizes': (128, 64), 'learning_rate': 'adaptive', 'learning_rate_init': 0.0001, 'max_iter': 10000, 'solver': 'adam'}\n",
      "Accuracy Train Dev:  0.6975170701427684\n",
      "Accuracy Test:  0.6797020484171322\n",
      "Weighted F1 Train Dev:  0.6788462017400225\n",
      "Weighted F1 Test:  0.6612729729479503\n",
      "Macro F1 Train Dev:  0.4605000434898669\n",
      "Macro F1 Test:  0.4422479697702408\n",
      "Micro F1 Train Dev:  0.6975170701427684\n",
      "Micro F1 Test:  0.6797020484171322\n",
      "Weighted Recall Train Dev:  0.6975170701427684\n",
      "Weighted Recall Test:  0.6797020484171322\n",
      "Macro Recall Train Dev:  0.46883659401917455\n",
      "Macro Recall Test:  0.45192785678315817\n",
      "Micro Recall Train Dev:  0.6975170701427684\n",
      "Micro Recall Test:  0.6797020484171322\n",
      "Confusion Matrix Train Dev: \n",
      "[[8122 1818    5]\n",
      " [2239 3108    0]\n",
      " [ 294  517    7]]\n",
      "Confusion Matrix Test: \n",
      "[[2686  660    0]\n",
      " [ 789  963    1]\n",
      " [ 102  168    1]]\n"
     ]
    }
   ],
   "source": [
    "bert_hatebert_interleaved_latenthatred_train_dev = np.concatenate((bert_hatebert_interleaved_latenthatred_train, bert_hatebert_interleaved_latenthatred_dev))\n",
    "bert_hatebert_interleaved_latenthatred_labels_train_dev = np.concatenate((latenthatred_labels_train, latenthatred_labels_dev))\n",
    "\n",
    "grid_results = gridsearch.fit(bert_hatebert_interleaved_latenthatred_train_dev, bert_hatebert_interleaved_latenthatred_labels_train_dev)\n",
    "\n",
    "best_params = grid_results.best_params_\n",
    "mlp = grid_results.best_estimator_\n",
    "\n",
    "print(\"Best params: \", best_params)\n",
    "\n",
    "train_dev_preds = mlp.predict(bert_hatebert_interleaved_latenthatred_train_dev)\n",
    "test_preds = mlp.predict(bert_hatebert_interleaved_latenthatred_test)\n",
    "\n",
    "computeAllScores(train_dev_preds, test_preds, latenthatred_labels_train_dev, latenthatred_labels_test, \"Results/bert_hatebert_interleaved_latenthatred_seed_3\")\n",
    "\n",
    "save_model(mlp, \"Saves/bert_hatebert_interleaved_latenthatred_seed_3\")"
   ]
  },
  {
   "cell_type": "markdown",
   "metadata": {},
   "source": [
    "#### OLID"
   ]
  },
  {
   "cell_type": "code",
   "execution_count": 14,
   "metadata": {},
   "outputs": [
    {
     "name": "stdout",
     "output_type": "stream",
     "text": [
      "Fitting 5 folds for each of 4 candidates, totalling 20 fits\n",
      "Best params:  {'activation': 'relu', 'early_stopping': True, 'hidden_layer_sizes': 128, 'learning_rate': 'adaptive', 'learning_rate_init': 0.001, 'max_iter': 10000, 'solver': 'adam'}\n",
      "Accuracy Train Dev:  0.7705438066465257\n",
      "Accuracy Test:  0.8046511627906977\n",
      "Weighted F1 Train Dev:  0.7705175845084978\n",
      "Weighted F1 Test:  0.7952057245080502\n",
      "Macro F1 Train Dev:  0.7414110112974179\n",
      "Macro F1 Test:  0.7353846153846154\n",
      "Micro F1 Train Dev:  0.7705438066465257\n",
      "Micro F1 Test:  0.8046511627906977\n",
      "Weighted Recall Train Dev:  0.7705438066465257\n",
      "Weighted Recall Test:  0.8046511627906977\n",
      "Macro Recall Train Dev:  0.7413559234882765\n",
      "Macro Recall Test:  0.7189516129032258\n",
      "Micro Recall Train Dev:  0.7705438066465257\n",
      "Micro Recall Test:  0.8046511627906977\n",
      "Confusion Matrix Train Dev: \n",
      "[[7323 1517]\n",
      " [1521 2879]]\n",
      "Confusion Matrix Test: \n",
      "[[566  54]\n",
      " [114 126]]\n"
     ]
    }
   ],
   "source": [
    "bert_hatebert_interleaved_olid_train_dev = np.concatenate((bert_hatebert_interleaved_olid_train, bert_hatebert_interleaved_olid_dev))\n",
    "bert_hatebert_interleaved_olid_labels_train_dev = np.concatenate((olid_labels_train, olid_labels_dev))\n",
    "\n",
    "grid_results = gridsearch.fit(bert_hatebert_interleaved_olid_train_dev, bert_hatebert_interleaved_olid_labels_train_dev)\n",
    "\n",
    "best_params = grid_results.best_params_\n",
    "mlp = grid_results.best_estimator_\n",
    "\n",
    "print(\"Best params: \", best_params)\n",
    "\n",
    "train_dev_preds = mlp.predict(bert_hatebert_interleaved_olid_train_dev)\n",
    "test_preds = mlp.predict(bert_hatebert_interleaved_olid_test)\n",
    "\n",
    "computeAllScores(train_dev_preds, test_preds, olid_labels_train_dev, olid_labels_test, \"Results/bert_hatebert_interleaved_olid_seed_3\")\n",
    "\n",
    "save_model(mlp, \"Saves/bert_hatebert_interleaved_olid_seed_3\")"
   ]
  },
  {
   "attachments": {},
   "cell_type": "markdown",
   "metadata": {},
   "source": [
    "### BERTweet-HateBERT"
   ]
  },
  {
   "attachments": {},
   "cell_type": "markdown",
   "metadata": {},
   "source": [
    "#### DynaHate"
   ]
  },
  {
   "cell_type": "code",
   "execution_count": 15,
   "metadata": {},
   "outputs": [
    {
     "name": "stdout",
     "output_type": "stream",
     "text": [
      "Fitting 5 folds for each of 4 candidates, totalling 20 fits\n",
      "Best params:  {'activation': 'relu', 'early_stopping': True, 'hidden_layer_sizes': 128, 'learning_rate': 'adaptive', 'learning_rate_init': 0.001, 'max_iter': 10000, 'solver': 'adam'}\n",
      "Accuracy Train Dev:  0.7457324978392394\n",
      "Accuracy Test:  0.7075242718446602\n",
      "Weighted F1 Train Dev:  0.7447401568654528\n",
      "Weighted F1 Test:  0.7067380390098837\n",
      "Macro F1 Train Dev:  0.7426005654304721\n",
      "Macro F1 Test:  0.7030630630630631\n",
      "Micro F1 Train Dev:  0.7457324978392394\n",
      "Micro F1 Test:  0.7075242718446602\n",
      "Weighted Recall Train Dev:  0.7457324978392394\n",
      "Weighted Recall Test:  0.7075242718446602\n",
      "Macro Recall Train Dev:  0.7416315921027872\n",
      "Macro Recall Test:  0.7023081010662005\n",
      "Micro Recall Train Dev:  0.7457324978392394\n",
      "Micro Recall Test:  0.7075242718446602\n",
      "Confusion Matrix Train Dev: \n",
      "[[11763  5354]\n",
      " [ 4060 15847]]\n",
      "Confusion Matrix Test: \n",
      "[[1205  647]\n",
      " [ 558 1710]]\n"
     ]
    }
   ],
   "source": [
    "hatebert_bertweet_interleaved_dynahate_train_dev = np.concatenate((hatebert_bertweet_interleaved_dynahate_train, hatebert_bertweet_interleaved_dynahate_dev))\n",
    "hatebert_bertweet_interleaved_dynahate_labels_train_dev = np.concatenate((dynahate_labels_train, dynahate_labels_dev))\n",
    "\n",
    "grid_results = gridsearch.fit(hatebert_bertweet_interleaved_dynahate_train_dev, hatebert_bertweet_interleaved_dynahate_labels_train_dev)\n",
    "\n",
    "best_params = grid_results.best_params_\n",
    "mlp = grid_results.best_estimator_\n",
    "\n",
    "print(\"Best params: \", best_params)\n",
    "\n",
    "train_dev_preds = mlp.predict(hatebert_bertweet_interleaved_dynahate_train_dev)\n",
    "test_preds = mlp.predict(hatebert_bertweet_interleaved_dynahate_test)\n",
    "\n",
    "computeAllScores(train_dev_preds, test_preds, dynahate_labels_train_dev, dynahate_labels_test, \"Results/hatebert_bertweet_interleaved_dynahate_seed_3\")\n",
    "\n",
    "save_model(mlp, \"Saves/hatebert_bertweet_interleaved_dynahate_seed_3\")"
   ]
  },
  {
   "cell_type": "markdown",
   "metadata": {},
   "source": [
    "#### LatentHatred"
   ]
  },
  {
   "cell_type": "code",
   "execution_count": 16,
   "metadata": {},
   "outputs": [
    {
     "name": "stdout",
     "output_type": "stream",
     "text": [
      "Fitting 5 folds for each of 4 candidates, totalling 20 fits\n",
      "Best params:  {'activation': 'relu', 'early_stopping': True, 'hidden_layer_sizes': 128, 'learning_rate': 'adaptive', 'learning_rate_init': 0.001, 'max_iter': 10000, 'solver': 'adam'}\n",
      "Accuracy Train Dev:  0.7139664804469273\n",
      "Accuracy Test:  0.7013035381750465\n",
      "Weighted F1 Train Dev:  0.6905020285045007\n",
      "Weighted F1 Test:  0.6758550239597128\n",
      "Macro F1 Train Dev:  0.49343848084889386\n",
      "Macro F1 Test:  0.4769551071780082\n",
      "Micro F1 Train Dev:  0.7139664804469273\n",
      "Micro F1 Test:  0.7013035381750465\n",
      "Weighted Recall Train Dev:  0.7139664804469273\n",
      "Weighted Recall Test:  0.7013035381750465\n",
      "Macro Recall Train Dev:  0.4827313504846357\n",
      "Macro Recall Test:  0.4672226046765739\n",
      "Micro Recall Train Dev:  0.7139664804469273\n",
      "Micro Recall Test:  0.7013035381750465\n",
      "Confusion Matrix Train Dev: \n",
      "[[8740 1181   24]\n",
      " [2608 2711   28]\n",
      " [ 369  398   51]]\n",
      "Confusion Matrix Test: \n",
      "[[2933  402   11]\n",
      " [ 926  817   10]\n",
      " [ 124  131   16]]\n"
     ]
    }
   ],
   "source": [
    "hatebert_bertweet_interleaved_latenthatred_train_dev = np.concatenate((hatebert_bertweet_interleaved_latenthatred_train, hatebert_bertweet_interleaved_latenthatred_dev))\n",
    "hatebert_bertweet_interleaved_latenthatred_labels_train_dev = np.concatenate((latenthatred_labels_train, latenthatred_labels_dev))\n",
    "\n",
    "grid_results = gridsearch.fit(hatebert_bertweet_interleaved_latenthatred_train_dev, hatebert_bertweet_interleaved_latenthatred_labels_train_dev)\n",
    "\n",
    "best_params = grid_results.best_params_\n",
    "mlp = grid_results.best_estimator_\n",
    "\n",
    "print(\"Best params: \", best_params)\n",
    "\n",
    "train_dev_preds = mlp.predict(hatebert_bertweet_interleaved_latenthatred_train_dev)\n",
    "test_preds = mlp.predict(hatebert_bertweet_interleaved_latenthatred_test)\n",
    "\n",
    "computeAllScores(train_dev_preds, test_preds, latenthatred_labels_train_dev, latenthatred_labels_test, \"Results/hatebert_bertweet_interleaved_latenthatred_seed_3\")\n",
    "\n",
    "save_model(mlp, \"Saves/hatebert_bertweet_interleaved_latenthatred_seed_3\")"
   ]
  },
  {
   "cell_type": "markdown",
   "metadata": {},
   "source": [
    "#### OLID"
   ]
  },
  {
   "cell_type": "code",
   "execution_count": 17,
   "metadata": {},
   "outputs": [
    {
     "name": "stdout",
     "output_type": "stream",
     "text": [
      "Fitting 5 folds for each of 4 candidates, totalling 20 fits\n",
      "Best params:  {'activation': 'relu', 'early_stopping': True, 'hidden_layer_sizes': (128, 64), 'learning_rate': 'adaptive', 'learning_rate_init': 0.001, 'max_iter': 10000, 'solver': 'adam'}\n",
      "Accuracy Train Dev:  0.7848942598187311\n",
      "Accuracy Test:  0.7965116279069767\n",
      "Weighted F1 Train Dev:  0.7757232989184191\n",
      "Weighted F1 Test:  0.7786461426388261\n",
      "Macro F1 Train Dev:  0.73903945531717\n",
      "Macro F1 Test:  0.707184201566224\n",
      "Micro F1 Train Dev:  0.7848942598187311\n",
      "Micro F1 Test:  0.7965116279069767\n",
      "Weighted Recall Train Dev:  0.7848942598187311\n",
      "Weighted Recall Test:  0.7965116279069767\n",
      "Macro Recall Train Dev:  0.7259620526532291\n",
      "Macro Recall Test:  0.686491935483871\n",
      "Micro Recall Train Dev:  0.7848942598187311\n",
      "Micro Recall Test:  0.7965116279069767\n",
      "Confusion Matrix Train Dev: \n",
      "[[7971  869]\n",
      " [1979 2421]]\n",
      "Confusion Matrix Test: \n",
      "[[580  40]\n",
      " [135 105]]\n"
     ]
    }
   ],
   "source": [
    "hatebert_bertweet_interleaved_olid_train_dev = np.concatenate((hatebert_bertweet_interleaved_olid_train, hatebert_bertweet_interleaved_olid_dev))\n",
    "hatebert_bertweet_interleaved_olid_labels_train_dev = np.concatenate((olid_labels_train, olid_labels_dev))\n",
    "\n",
    "grid_results = gridsearch.fit(hatebert_bertweet_interleaved_olid_train_dev, hatebert_bertweet_interleaved_olid_labels_train_dev)\n",
    "\n",
    "best_params = grid_results.best_params_\n",
    "mlp = grid_results.best_estimator_\n",
    "\n",
    "print(\"Best params: \", best_params)\n",
    "\n",
    "train_dev_preds = mlp.predict(hatebert_bertweet_interleaved_olid_train_dev)\n",
    "test_preds = mlp.predict(hatebert_bertweet_interleaved_olid_test)\n",
    "\n",
    "computeAllScores(train_dev_preds, test_preds, olid_labels_train_dev, olid_labels_test, \"Results/hatebert_bertweet_interleaved_olid_seed_3\")\n",
    "\n",
    "save_model(mlp, \"Saves/hatebert_bertweet_interleaved_olid_seed_3\")"
   ]
  },
  {
   "attachments": {},
   "cell_type": "markdown",
   "metadata": {},
   "source": [
    "### BERT-BERTweet-HateBERT"
   ]
  },
  {
   "attachments": {},
   "cell_type": "markdown",
   "metadata": {},
   "source": [
    "#### DynaHate"
   ]
  },
  {
   "cell_type": "code",
   "execution_count": 18,
   "metadata": {},
   "outputs": [
    {
     "name": "stdout",
     "output_type": "stream",
     "text": [
      "Fitting 5 folds for each of 4 candidates, totalling 20 fits\n",
      "Best params:  {'activation': 'relu', 'early_stopping': True, 'hidden_layer_sizes': (128, 64), 'learning_rate': 'adaptive', 'learning_rate_init': 0.001, 'max_iter': 10000, 'solver': 'adam'}\n",
      "Accuracy Train Dev:  0.7452463267070009\n",
      "Accuracy Test:  0.7126213592233009\n",
      "Weighted F1 Train Dev:  0.7430766439981099\n",
      "Weighted F1 Test:  0.7106566851280632\n",
      "Macro F1 Train Dev:  0.74040523413147\n",
      "Macro F1 Test:  0.7063093211726434\n",
      "Micro F1 Train Dev:  0.7452463267070009\n",
      "Micro F1 Test:  0.7126213592233008\n",
      "Weighted Recall Train Dev:  0.7452463267070009\n",
      "Weighted Recall Test:  0.7126213592233009\n",
      "Macro Recall Train Dev:  0.7391529929472627\n",
      "Macro Recall Test:  0.705006456626327\n",
      "Micro Recall Train Dev:  0.7452463267070009\n",
      "Micro Recall Test:  0.7126213592233009\n",
      "Confusion Matrix Train Dev: \n",
      "[[11268  5849]\n",
      " [ 3583 16324]]\n",
      "Confusion Matrix Test: \n",
      "[[1166  686]\n",
      " [ 498 1770]]\n"
     ]
    }
   ],
   "source": [
    "bert_bertweet_hatebert_interleaved_dynahate_train_dev = np.concatenate((bert_hatebert_bertweet_interleaved_dynahate_train, bert_hatebert_bertweet_interleaved_dynahate_dev))\n",
    "bert_bertweet_hatebert_interleaved_dynahate_labels_train_dev = np.concatenate((dynahate_labels_train, dynahate_labels_dev))\n",
    "\n",
    "grid_results = gridsearch.fit(bert_bertweet_hatebert_interleaved_dynahate_train_dev, bert_bertweet_hatebert_interleaved_dynahate_labels_train_dev)\n",
    "\n",
    "best_params = grid_results.best_params_\n",
    "mlp = grid_results.best_estimator_\n",
    "\n",
    "print(\"Best params: \", best_params)\n",
    "\n",
    "train_dev_preds = mlp.predict(bert_bertweet_hatebert_interleaved_dynahate_train_dev)\n",
    "test_preds = mlp.predict(bert_hatebert_bertweet_interleaved_dynahate_test)\n",
    "\n",
    "computeAllScores(train_dev_preds, test_preds, dynahate_labels_train_dev, dynahate_labels_test, \"Results/bert_bertweet_hatebert_interleaved_dynahate_seed_3\")\n",
    "\n",
    "save_model(mlp, \"Saves/bert_bertweet_hatebert_interleaved_dynahate_seed_3\")"
   ]
  },
  {
   "attachments": {},
   "cell_type": "markdown",
   "metadata": {},
   "source": [
    "#### LatentHatred"
   ]
  },
  {
   "cell_type": "code",
   "execution_count": 19,
   "metadata": {},
   "outputs": [
    {
     "name": "stdout",
     "output_type": "stream",
     "text": [
      "Fitting 5 folds for each of 4 candidates, totalling 20 fits\n",
      "Best params:  {'activation': 'relu', 'early_stopping': True, 'hidden_layer_sizes': (128, 64), 'learning_rate': 'adaptive', 'learning_rate_init': 0.001, 'max_iter': 10000, 'solver': 'adam'}\n",
      "Accuracy Train Dev:  0.7130974549968964\n",
      "Accuracy Test:  0.6916201117318436\n",
      "Weighted F1 Train Dev:  0.6937655655309716\n",
      "Weighted F1 Test:  0.6701437256879693\n",
      "Macro F1 Train Dev:  0.5050562930914425\n",
      "Macro F1 Test:  0.47411488618264847\n",
      "Micro F1 Train Dev:  0.7130974549968964\n",
      "Micro F1 Test:  0.6916201117318436\n",
      "Weighted Recall Train Dev:  0.7130974549968964\n",
      "Weighted Recall Test:  0.6916201117318436\n",
      "Macro Recall Train Dev:  0.49193650307247444\n",
      "Macro Recall Test:  0.465482383518117\n",
      "Micro Recall Train Dev:  0.7130974549968964\n",
      "Micro Recall Test:  0.6916201117318436\n",
      "Confusion Matrix Train Dev: \n",
      "[[8558 1354   33]\n",
      " [2450 2865   32]\n",
      " [ 340  413   65]]\n",
      "Confusion Matrix Test: \n",
      "[[2843  496    7]\n",
      " [ 885  855   13]\n",
      " [ 116  139   16]]\n"
     ]
    }
   ],
   "source": [
    "bert_bertweet_hatebert_interleaved_latenthatred_train_dev = np.concatenate((bert_hatebert_bertweet_interleaved_latenthatred_train, bert_hatebert_bertweet_interleaved_latenthatred_dev))\n",
    "bert_bertweet_hatebert_interleaved_latenthatred_labels_train_dev = np.concatenate((latenthatred_labels_train, latenthatred_labels_dev))\n",
    "\n",
    "grid_results = gridsearch.fit(bert_bertweet_hatebert_interleaved_latenthatred_train_dev, bert_bertweet_hatebert_interleaved_latenthatred_labels_train_dev)\n",
    "\n",
    "best_params = grid_results.best_params_\n",
    "mlp = grid_results.best_estimator_\n",
    "\n",
    "print(\"Best params: \", best_params)\n",
    "\n",
    "train_dev_preds = mlp.predict(bert_bertweet_hatebert_interleaved_latenthatred_train_dev)\n",
    "test_preds = mlp.predict(bert_hatebert_bertweet_interleaved_latenthatred_test)\n",
    "\n",
    "computeAllScores(train_dev_preds, test_preds, latenthatred_labels_train_dev, latenthatred_labels_test, \"Results/bert_bertweet_hatebert_interleaved_latenthatred_seed_3\")\n",
    "\n",
    "save_model(mlp, \"Saves/bert_bertweet_hatebert_interleaved_latenthatred_seed_3\")"
   ]
  },
  {
   "attachments": {},
   "cell_type": "markdown",
   "metadata": {},
   "source": [
    "#### OLID"
   ]
  },
  {
   "cell_type": "code",
   "execution_count": 20,
   "metadata": {},
   "outputs": [
    {
     "name": "stdout",
     "output_type": "stream",
     "text": [
      "Fitting 5 folds for each of 4 candidates, totalling 20 fits\n",
      "Best params:  {'activation': 'relu', 'early_stopping': True, 'hidden_layer_sizes': 128, 'learning_rate': 'adaptive', 'learning_rate_init': 0.001, 'max_iter': 10000, 'solver': 'adam'}\n",
      "Accuracy Train Dev:  0.7742447129909366\n",
      "Accuracy Test:  0.8093023255813954\n",
      "Weighted F1 Train Dev:  0.761561674471661\n",
      "Weighted F1 Test:  0.7876314006704693\n",
      "Macro F1 Train Dev:  0.7204274954902266\n",
      "Macro F1 Test:  0.7153949843007159\n",
      "Micro F1 Train Dev:  0.7742447129909366\n",
      "Micro F1 Test:  0.8093023255813954\n",
      "Weighted Recall Train Dev:  0.7742447129909366\n",
      "Weighted Recall Test:  0.8093023255813954\n",
      "Macro Recall Train Dev:  0.7065718839983546\n",
      "Macro Recall Test:  0.6902553763440861\n",
      "Micro Recall Train Dev:  0.7742447129909366\n",
      "Micro Recall Test:  0.8093023255813954\n",
      "Confusion Matrix Train Dev: \n",
      "[[8030  810]\n",
      " [2179 2221]]\n",
      "Confusion Matrix Test: \n",
      "[[595  25]\n",
      " [139 101]]\n"
     ]
    }
   ],
   "source": [
    "bert_bertweet_hatebert_interleaved_olid_train_dev = np.concatenate((bert_hatebert_bertweet_interleaved_olid_train, bert_hatebert_bertweet_interleaved_olid_dev))\n",
    "bert_bertweet_hatebert_interleaved_olid_labels_train_dev = np.concatenate((olid_labels_train, olid_labels_dev))\n",
    "\n",
    "grid_results = gridsearch.fit(bert_bertweet_hatebert_interleaved_olid_train_dev, bert_bertweet_hatebert_interleaved_olid_labels_train_dev)\n",
    "\n",
    "best_params = grid_results.best_params_\n",
    "mlp = grid_results.best_estimator_\n",
    "\n",
    "print(\"Best params: \", best_params)\n",
    "\n",
    "train_dev_preds = mlp.predict(bert_bertweet_hatebert_interleaved_olid_train_dev)\n",
    "test_preds = mlp.predict(bert_hatebert_bertweet_interleaved_olid_test)\n",
    "\n",
    "computeAllScores(train_dev_preds, test_preds, olid_labels_train_dev, olid_labels_test, \"Results/bert_bertweet_hatebert_interleaved_olid_seed_3\")\n",
    "\n",
    "save_model(mlp, \"Saves/bert_bertweet_hatebert_interleaved_olid_seed_3\")"
   ]
  }
 ],
 "metadata": {
  "kernelspec": {
   "display_name": "Python 3",
   "language": "python",
   "name": "python3"
  },
  "language_info": {
   "codemirror_mode": {
    "name": "ipython",
    "version": 3
   },
   "file_extension": ".py",
   "mimetype": "text/x-python",
   "name": "python",
   "nbconvert_exporter": "python",
   "pygments_lexer": "ipython3",
   "version": "3.9.13"
  },
  "orig_nbformat": 4,
  "vscode": {
   "interpreter": {
    "hash": "a5a87ee616be0254e3f1af9223138e3faeac65b2c9d91bc22a9fc5a4a8bd8eb0"
   }
  }
 },
 "nbformat": 4,
 "nbformat_minor": 2
}
