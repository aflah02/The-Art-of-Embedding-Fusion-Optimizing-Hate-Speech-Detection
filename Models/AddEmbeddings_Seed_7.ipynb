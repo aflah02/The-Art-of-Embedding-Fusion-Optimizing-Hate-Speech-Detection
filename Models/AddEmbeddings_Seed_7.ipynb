{
 "cells": [
  {
   "cell_type": "code",
   "execution_count": 1,
   "metadata": {},
   "outputs": [],
   "source": [
    "from utils import *\n",
    "import numpy as np\n",
    "import torch, os\n",
    "from sklearn.preprocessing import StandardScaler\n",
    "from sklearn.neural_network import MLPClassifier\n",
    "from sklearn.model_selection import GridSearchCV"
   ]
  },
  {
   "cell_type": "code",
   "execution_count": 2,
   "metadata": {},
   "outputs": [
    {
     "name": "stdout",
     "output_type": "stream",
     "text": [
      "Seed: 7\n"
     ]
    }
   ],
   "source": [
    "set_random_seed(7)"
   ]
  },
  {
   "cell_type": "code",
   "execution_count": 3,
   "metadata": {},
   "outputs": [],
   "source": [
    "# def scaling_embeddings(embeddings):\n",
    "#     for i in range(len(embeddings)):\n",
    "#         embeddings[i] = StandardScaler().fit_transform(embeddings[i])\n",
    "#     return embeddings\n",
    "\n",
    "def reshape_embeddings(embeddings):\n",
    "    if embeddings.shape[1] == 1:\n",
    "        embeddings = embeddings.squeeze(1)\n",
    "    return embeddings"
   ]
  },
  {
   "cell_type": "code",
   "execution_count": 4,
   "metadata": {},
   "outputs": [],
   "source": [
    "def add_2_embeddings(embeddings1, embeddings2):\n",
    "    embeddings1 = reshape_embeddings(embeddings1)\n",
    "    embeddings2 = reshape_embeddings(embeddings2)\n",
    "    # Numpy Add\n",
    "    return embeddings1 + embeddings2\n",
    "\n",
    "def add_3_embeddings(embeddings1, embeddings2, embeddings3):\n",
    "    embeddings1 = reshape_embeddings(embeddings1)\n",
    "    embeddings2 = reshape_embeddings(embeddings2)\n",
    "    embeddings3 = reshape_embeddings(embeddings3)\n",
    "    return embeddings1 + embeddings2 + embeddings3"
   ]
  },
  {
   "cell_type": "code",
   "execution_count": 5,
   "metadata": {},
   "outputs": [],
   "source": [
    "bert_hatebert_added_dynahate_train = add_2_embeddings(bert_dynahate_train_embeddings, hatebert_dynahate_train_embeddings)\n",
    "bert_hatebert_added_dynahate_dev = add_2_embeddings(bert_dynahate_dev_embeddings, hatebert_dynahate_dev_embeddings)\n",
    "bert_hatebert_added_dynahate_test = add_2_embeddings(bert_dynahate_test_embeddings, hatebert_dynahate_test_embeddings)\n",
    "\n",
    "bert_bertweet_added_dynahate_train = add_2_embeddings(bert_dynahate_train_embeddings, bertweet_dynahate_train_embeddings)\n",
    "bert_bertweet_added_dynahate_dev = add_2_embeddings(bert_dynahate_dev_embeddings, bertweet_dynahate_dev_embeddings)\n",
    "bert_bertweet_added_dynahate_test = add_2_embeddings(bert_dynahate_test_embeddings, bertweet_dynahate_test_embeddings)\n",
    "\n",
    "hatebert_bertweet_added_dynahate_train = add_2_embeddings(hatebert_dynahate_train_embeddings, bertweet_dynahate_train_embeddings)\n",
    "hatebert_bertweet_added_dynahate_dev = add_2_embeddings(hatebert_dynahate_dev_embeddings, bertweet_dynahate_dev_embeddings)\n",
    "hatebert_bertweet_added_dynahate_test = add_2_embeddings(hatebert_dynahate_test_embeddings, bertweet_dynahate_test_embeddings)\n",
    "\n",
    "bert_hatebert_bertweet_added_dynahate_train = add_3_embeddings(bert_dynahate_train_embeddings, hatebert_dynahate_train_embeddings, bertweet_dynahate_train_embeddings)\n",
    "bert_hatebert_bertweet_added_dynahate_dev = add_3_embeddings(bert_dynahate_dev_embeddings, hatebert_dynahate_dev_embeddings, bertweet_dynahate_dev_embeddings)\n",
    "bert_hatebert_bertweet_added_dynahate_test = add_3_embeddings(bert_dynahate_test_embeddings, hatebert_dynahate_test_embeddings, bertweet_dynahate_test_embeddings)\n",
    "\n",
    "bert_hatebert_added_olid_train = add_2_embeddings(bert_olid_train_embeddings, hatebert_olid_train_embeddings)\n",
    "bert_hatebert_added_olid_dev = add_2_embeddings(bert_olid_dev_embeddings, hatebert_olid_dev_embeddings)\n",
    "bert_hatebert_added_olid_test = add_2_embeddings(bert_olid_test_embeddings, hatebert_olid_test_embeddings)\n",
    "\n",
    "bert_bertweet_added_olid_train = add_2_embeddings(bert_olid_train_embeddings, bertweet_olid_train_embeddings)\n",
    "bert_bertweet_added_olid_dev = add_2_embeddings(bert_olid_dev_embeddings, bertweet_olid_dev_embeddings)\n",
    "bert_bertweet_added_olid_test = add_2_embeddings(bert_olid_test_embeddings, bertweet_olid_test_embeddings)\n",
    "\n",
    "hatebert_bertweet_added_olid_train = add_2_embeddings(hatebert_olid_train_embeddings, bertweet_olid_train_embeddings)\n",
    "hatebert_bertweet_added_olid_dev = add_2_embeddings(hatebert_olid_dev_embeddings, bertweet_olid_dev_embeddings)\n",
    "hatebert_bertweet_added_olid_test = add_2_embeddings(hatebert_olid_test_embeddings, bertweet_olid_test_embeddings)\n",
    "\n",
    "bert_hatebert_bertweet_added_olid_train = add_3_embeddings(bert_olid_train_embeddings, hatebert_olid_train_embeddings, bertweet_olid_train_embeddings)\n",
    "bert_hatebert_bertweet_added_olid_dev = add_3_embeddings(bert_olid_dev_embeddings, hatebert_olid_dev_embeddings, bertweet_olid_dev_embeddings)\n",
    "bert_hatebert_bertweet_added_olid_test = add_3_embeddings(bert_olid_test_embeddings, hatebert_olid_test_embeddings, bertweet_olid_test_embeddings)\n",
    "\n",
    "bert_hatebert_added_latenthatred_train = add_2_embeddings(bert_latenthatred_train_embeddings, hatebert_latenthatred_train_embeddings)\n",
    "bert_hatebert_added_latenthatred_dev = add_2_embeddings(bert_latenthatred_dev_embeddings, hatebert_latenthatred_dev_embeddings)\n",
    "bert_hatebert_added_latenthatred_test = add_2_embeddings(bert_latenthatred_test_embeddings, hatebert_latenthatred_test_embeddings)\n",
    "\n",
    "bert_bertweet_added_latenthatred_train = add_2_embeddings(bert_latenthatred_train_embeddings, bertweet_latenthatred_train_embeddings)\n",
    "bert_bertweet_added_latenthatred_dev = add_2_embeddings(bert_latenthatred_dev_embeddings, bertweet_latenthatred_dev_embeddings)\n",
    "bert_bertweet_added_latenthatred_test = add_2_embeddings(bert_latenthatred_test_embeddings, bertweet_latenthatred_test_embeddings)\n",
    "\n",
    "hatebert_bertweet_added_latenthatred_train = add_2_embeddings(hatebert_latenthatred_train_embeddings, bertweet_latenthatred_train_embeddings)\n",
    "hatebert_bertweet_added_latenthatred_dev = add_2_embeddings(hatebert_latenthatred_dev_embeddings, bertweet_latenthatred_dev_embeddings)\n",
    "hatebert_bertweet_added_latenthatred_test = add_2_embeddings(hatebert_latenthatred_test_embeddings, bertweet_latenthatred_test_embeddings)\n",
    "\n",
    "bert_hatebert_bertweet_added_latenthatred_train = add_3_embeddings(bert_latenthatred_train_embeddings, hatebert_latenthatred_train_embeddings, bertweet_latenthatred_train_embeddings)\n",
    "bert_hatebert_bertweet_added_latenthatred_dev = add_3_embeddings(bert_latenthatred_dev_embeddings, hatebert_latenthatred_dev_embeddings, bertweet_latenthatred_dev_embeddings)\n",
    "bert_hatebert_bertweet_added_latenthatred_test = add_3_embeddings(bert_latenthatred_test_embeddings, hatebert_latenthatred_test_embeddings, bertweet_latenthatred_test_embeddings)"
   ]
  },
  {
   "cell_type": "code",
   "execution_count": 6,
   "metadata": {},
   "outputs": [],
   "source": [
    "dynahate_labels_train = process_labels(read_labels(\"dynahate\", \"train\"))\n",
    "dynahate_labels_dev = process_labels(read_labels(\"dynahate\", \"dev\"))\n",
    "dynahate_labels_test = process_labels(read_labels(\"dynahate\", \"test\"))\n",
    "\n",
    "latenthatred_labels_train = read_labels(\"latenthatred\", \"train\")\n",
    "latenthatred_labels_dev = read_labels(\"latenthatred\", \"dev\")\n",
    "latenthatred_labels_test = read_labels(\"latenthatred\", \"test\")\n",
    "\n",
    "olid_labels_train = read_labels(\"olid\", \"train\")\n",
    "olid_labels_dev = read_labels(\"olid\", \"dev\")\n",
    "olid_labels_test = read_labels(\"olid\", \"test\")"
   ]
  },
  {
   "cell_type": "code",
   "execution_count": 7,
   "metadata": {},
   "outputs": [],
   "source": [
    "mlp = MLPClassifier(random_state=7)\n",
    "gridsearch = GridSearchCV(\n",
    "    mlp,\n",
    "    param_grid={\n",
    "        \"hidden_layer_sizes\": [(128), (128,64)],\n",
    "        \"activation\": [\"relu\"],\n",
    "        \"solver\": [\"adam\"],\n",
    "        \"learning_rate_init\": [0.001, 0.0001],\n",
    "        \"learning_rate\": [\"adaptive\"],\n",
    "        \"early_stopping\": [True],\n",
    "        \"max_iter\": [10000]\n",
    "    },\n",
    "    verbose=4,\n",
    "    n_jobs=os.cpu_count()//3,\n",
    "    cv=5,\n",
    ")"
   ]
  },
  {
   "cell_type": "code",
   "execution_count": 8,
   "metadata": {},
   "outputs": [],
   "source": [
    "dynahate_labels_train_dev = np.concatenate((dynahate_labels_train, dynahate_labels_dev))\n",
    "latenthatred_labels_train_dev = np.concatenate((latenthatred_labels_train, latenthatred_labels_dev))\n",
    "olid_labels_train_dev = np.concatenate((olid_labels_train, olid_labels_dev))"
   ]
  },
  {
   "attachments": {},
   "cell_type": "markdown",
   "metadata": {},
   "source": [
    "### BERT-BERTweet"
   ]
  },
  {
   "attachments": {},
   "cell_type": "markdown",
   "metadata": {},
   "source": [
    "#### DynaHate"
   ]
  },
  {
   "cell_type": "code",
   "execution_count": 9,
   "metadata": {},
   "outputs": [
    {
     "name": "stdout",
     "output_type": "stream",
     "text": [
      "Fitting 5 folds for each of 4 candidates, totalling 20 fits\n",
      "Best params:  {'activation': 'relu', 'early_stopping': True, 'hidden_layer_sizes': (128, 64), 'learning_rate': 'adaptive', 'learning_rate_init': 0.0001, 'max_iter': 10000, 'solver': 'adam'}\n",
      "Accuracy Train Dev:  0.6845559636992221\n",
      "Accuracy Test:  0.6558252427184466\n",
      "Weighted F1 Train Dev:  0.6849292034077074\n",
      "Weighted F1 Test:  0.6566832712814794\n",
      "Macro F1 Train Dev:  0.6843992600048199\n",
      "Macro F1 Test:  0.6551960217722227\n",
      "Micro F1 Train Dev:  0.6845559636992221\n",
      "Micro F1 Test:  0.6558252427184466\n",
      "Weighted Recall Train Dev:  0.6845559636992221\n",
      "Weighted Recall Test:  0.6558252427184466\n",
      "Macro Recall Train Dev:  0.6867767405049123\n",
      "Macro Recall Test:  0.658222580288815\n",
      "Micro Recall Train Dev:  0.6845559636992221\n",
      "Micro Recall Test:  0.6558252427184466\n",
      "Confusion Matrix Train Dev: \n",
      "[[12260  4857]\n",
      " [ 6822 13085]]\n",
      "Confusion Matrix Test: \n",
      "[[1263  589]\n",
      " [ 829 1439]]\n"
     ]
    }
   ],
   "source": [
    "bert_bertweet_added_dynahate_train_dev = np.concatenate((bert_bertweet_added_dynahate_train, bert_bertweet_added_dynahate_dev))\n",
    "bert_bertweet_added_dynahate_labels_train_dev = np.concatenate((dynahate_labels_train, dynahate_labels_dev))\n",
    "\n",
    "grid_results = gridsearch.fit(bert_bertweet_added_dynahate_train_dev, bert_bertweet_added_dynahate_labels_train_dev)\n",
    "\n",
    "best_params = grid_results.best_params_\n",
    "mlp = grid_results.best_estimator_\n",
    "\n",
    "print(\"Best params: \", best_params)\n",
    "\n",
    "train_dev_preds = mlp.predict(bert_bertweet_added_dynahate_train_dev)\n",
    "test_preds = mlp.predict(bert_bertweet_added_dynahate_test)\n",
    "\n",
    "computeAllScores(train_dev_preds, test_preds, dynahate_labels_train_dev, dynahate_labels_test, \"Results/bert_bertweet_added_dynahate_seed_7\")\n",
    "save_model(mlp, \"Saves/bert_bertweet_added_dynahate_seed_7\")"
   ]
  },
  {
   "attachments": {},
   "cell_type": "markdown",
   "metadata": {},
   "source": [
    "#### LatentHatred"
   ]
  },
  {
   "cell_type": "code",
   "execution_count": 10,
   "metadata": {},
   "outputs": [
    {
     "name": "stdout",
     "output_type": "stream",
     "text": [
      "Fitting 5 folds for each of 4 candidates, totalling 20 fits\n",
      "Best params:  {'activation': 'relu', 'early_stopping': True, 'hidden_layer_sizes': (128, 64), 'learning_rate': 'adaptive', 'learning_rate_init': 0.001, 'max_iter': 10000, 'solver': 'adam'}\n",
      "Accuracy Train Dev:  0.7108007448789572\n",
      "Accuracy Test:  0.6919925512104284\n",
      "Weighted F1 Train Dev:  0.6802273425698766\n",
      "Weighted F1 Test:  0.6585531139015959\n",
      "Macro F1 Train Dev:  0.4919276626529383\n",
      "Macro F1 Test:  0.46469431738408584\n",
      "Micro F1 Train Dev:  0.7108007448789571\n",
      "Micro F1 Test:  0.6919925512104284\n",
      "Weighted Recall Train Dev:  0.7108007448789572\n",
      "Weighted Recall Test:  0.6919925512104284\n",
      "Macro Recall Train Dev:  0.47585129771902746\n",
      "Macro Recall Test:  0.4534113200158744\n",
      "Micro Recall Train Dev:  0.7108007448789572\n",
      "Micro Recall Test:  0.6919925512104284\n",
      "Confusion Matrix Train Dev: \n",
      "[[9060  863   22]\n",
      " [2993 2324   30]\n",
      " [ 428  323   67]]\n",
      "Confusion Matrix Test: \n",
      "[[3015  320   11]\n",
      " [1058  682   13]\n",
      " [ 133  119   19]]\n"
     ]
    }
   ],
   "source": [
    "bert_bertweet_added_latenthatred_train_dev = np.concatenate((bert_bertweet_added_latenthatred_train, bert_bertweet_added_latenthatred_dev))\n",
    "bert_bertweet_added_latenthatred_labels_train_dev = np.concatenate((latenthatred_labels_train, latenthatred_labels_dev))\n",
    "\n",
    "grid_results = gridsearch.fit(bert_bertweet_added_latenthatred_train_dev, bert_bertweet_added_latenthatred_labels_train_dev)\n",
    "\n",
    "best_params = grid_results.best_params_\n",
    "mlp = grid_results.best_estimator_\n",
    "\n",
    "print(\"Best params: \", best_params)\n",
    "\n",
    "train_dev_preds = mlp.predict(bert_bertweet_added_latenthatred_train_dev)\n",
    "test_preds = mlp.predict(bert_bertweet_added_latenthatred_test)\n",
    "\n",
    "computeAllScores(train_dev_preds, test_preds, latenthatred_labels_train_dev, latenthatred_labels_test, \"Results/bert_bertweet_added_latenthatred_seed_7\")\n",
    "save_model(mlp, \"Saves/bert_bertweet_added_latenthatred_seed_7\")"
   ]
  },
  {
   "attachments": {},
   "cell_type": "markdown",
   "metadata": {},
   "source": [
    "#### OLID"
   ]
  },
  {
   "cell_type": "code",
   "execution_count": 11,
   "metadata": {},
   "outputs": [
    {
     "name": "stdout",
     "output_type": "stream",
     "text": [
      "Fitting 5 folds for each of 4 candidates, totalling 20 fits\n",
      "Best params:  {'activation': 'relu', 'early_stopping': True, 'hidden_layer_sizes': (128, 64), 'learning_rate': 'adaptive', 'learning_rate_init': 0.001, 'max_iter': 10000, 'solver': 'adam'}\n",
      "Accuracy Train Dev:  0.7571752265861027\n",
      "Accuracy Test:  0.7906976744186046\n",
      "Weighted F1 Train Dev:  0.7489945158548368\n",
      "Weighted F1 Test:  0.7751384426716402\n",
      "Macro F1 Train Dev:  0.7095565618409168\n",
      "Macro F1 Test:  0.7047514419115628\n",
      "Micro F1 Train Dev:  0.7571752265861027\n",
      "Micro F1 Test:  0.7906976744186046\n",
      "Weighted Recall Train Dev:  0.7571752265861027\n",
      "Weighted Recall Test:  0.7906976744186046\n",
      "Macro Recall Train Dev:  0.7001244343891403\n",
      "Macro Recall Test:  0.6862903225806452\n",
      "Micro Recall Train Dev:  0.7571752265861027\n",
      "Micro Recall Test:  0.7906976744186046\n",
      "Confusion Matrix Train Dev: \n",
      "[[7693 1147]\n",
      " [2068 2332]]\n",
      "Confusion Matrix Test: \n",
      "[[572  48]\n",
      " [132 108]]\n"
     ]
    }
   ],
   "source": [
    "bert_bertweet_added_olid_train_dev = np.concatenate((bert_bertweet_added_olid_train, bert_bertweet_added_olid_dev))\n",
    "bert_bertweet_added_olid_labels_train_dev = np.concatenate((olid_labels_train, olid_labels_dev))\n",
    "\n",
    "grid_results = gridsearch.fit(bert_bertweet_added_olid_train_dev, bert_bertweet_added_olid_labels_train_dev)\n",
    "\n",
    "best_params = grid_results.best_params_\n",
    "mlp = grid_results.best_estimator_\n",
    "\n",
    "print(\"Best params: \", best_params)\n",
    "\n",
    "train_dev_preds = mlp.predict(bert_bertweet_added_olid_train_dev)\n",
    "test_preds = mlp.predict(bert_bertweet_added_olid_test)\n",
    "\n",
    "computeAllScores(train_dev_preds, test_preds, olid_labels_train_dev, olid_labels_test, \"Results/bert_bertweet_added_olid_seed_7\")\n",
    "\n",
    "save_model(mlp, \"Saves/bert_bertweet_added_olid_seed_7\")"
   ]
  },
  {
   "attachments": {},
   "cell_type": "markdown",
   "metadata": {},
   "source": [
    "### BERT-HateBERT"
   ]
  },
  {
   "cell_type": "markdown",
   "metadata": {},
   "source": [
    "#### DynaHate"
   ]
  },
  {
   "cell_type": "code",
   "execution_count": 12,
   "metadata": {},
   "outputs": [
    {
     "name": "stdout",
     "output_type": "stream",
     "text": [
      "Fitting 5 folds for each of 4 candidates, totalling 20 fits\n",
      "Best params:  {'activation': 'relu', 'early_stopping': True, 'hidden_layer_sizes': (128, 64), 'learning_rate': 'adaptive', 'learning_rate_init': 0.001, 'max_iter': 10000, 'solver': 'adam'}\n",
      "Accuracy Train Dev:  0.7159680207433017\n",
      "Accuracy Test:  0.6866504854368932\n",
      "Weighted F1 Train Dev:  0.7123051783403864\n",
      "Weighted F1 Test:  0.6834058017776935\n",
      "Macro F1 Train Dev:  0.7088827636370596\n",
      "Macro F1 Test:  0.6781125139258222\n",
      "Micro F1 Train Dev:  0.7159680207433018\n",
      "Micro F1 Test:  0.6866504854368932\n",
      "Weighted Recall Train Dev:  0.7159680207433017\n",
      "Weighted Recall Test:  0.6866504854368932\n",
      "Macro Recall Train Dev:  0.7082336615921275\n",
      "Macro Recall Test:  0.6771091646001652\n",
      "Micro Recall Train Dev:  0.7159680207433017\n",
      "Micro Recall Test:  0.6866504854368932\n",
      "Confusion Matrix Train Dev: \n",
      "[[10366  6751]\n",
      " [ 3765 16142]]\n",
      "Confusion Matrix Test: \n",
      "[[1079  773]\n",
      " [ 518 1750]]\n"
     ]
    }
   ],
   "source": [
    "bert_hatebert_added_dynahate_train_dev = np.concatenate((bert_hatebert_added_dynahate_train, bert_hatebert_added_dynahate_dev))\n",
    "bert_hatebert_added_dynahate_labels_train_dev = np.concatenate((dynahate_labels_train, dynahate_labels_dev))\n",
    "\n",
    "grid_results = gridsearch.fit(bert_hatebert_added_dynahate_train_dev, bert_hatebert_added_dynahate_labels_train_dev)\n",
    "\n",
    "best_params = grid_results.best_params_\n",
    "mlp = grid_results.best_estimator_\n",
    "\n",
    "print(\"Best params: \", best_params)\n",
    "\n",
    "train_dev_preds = mlp.predict(bert_hatebert_added_dynahate_train_dev)\n",
    "test_preds = mlp.predict(bert_hatebert_added_dynahate_test)\n",
    "\n",
    "computeAllScores(train_dev_preds, test_preds, dynahate_labels_train_dev, dynahate_labels_test, \"Results/bert_hatebert_added_dynahate_seed_7\")\n",
    "\n",
    "save_model(mlp, \"Saves/bert_hatebert_added_dynahate_seed_7\")\n",
    "\n"
   ]
  },
  {
   "cell_type": "markdown",
   "metadata": {},
   "source": [
    "#### LatentHatred"
   ]
  },
  {
   "cell_type": "code",
   "execution_count": 13,
   "metadata": {},
   "outputs": [
    {
     "name": "stdout",
     "output_type": "stream",
     "text": [
      "Fitting 5 folds for each of 4 candidates, totalling 20 fits\n",
      "Best params:  {'activation': 'relu', 'early_stopping': True, 'hidden_layer_sizes': (128, 64), 'learning_rate': 'adaptive', 'learning_rate_init': 0.001, 'max_iter': 10000, 'solver': 'adam'}\n",
      "Accuracy Train Dev:  0.6901924270639355\n",
      "Accuracy Test:  0.6849162011173184\n",
      "Weighted F1 Train Dev:  0.6627801669222751\n",
      "Weighted F1 Test:  0.6557919989248809\n",
      "Macro F1 Train Dev:  0.45474413345367193\n",
      "Macro F1 Test:  0.44450423545990136\n",
      "Micro F1 Train Dev:  0.6901924270639355\n",
      "Micro F1 Test:  0.6849162011173184\n",
      "Weighted Recall Train Dev:  0.6901924270639355\n",
      "Weighted Recall Test:  0.6849162011173184\n",
      "Macro Recall Train Dev:  0.4528503712331185\n",
      "Macro Recall Test:  0.44357490376407743\n",
      "Micro Recall Train Dev:  0.6901924270639355\n",
      "Micro Recall Test:  0.6849162011173184\n",
      "Confusion Matrix Train Dev: \n",
      "[[8625 1306   14]\n",
      " [2868 2470    9]\n",
      " [ 387  407   24]]\n",
      "Confusion Matrix Test: \n",
      "[[2906  436    4]\n",
      " [ 985  765    3]\n",
      " [ 130  134    7]]\n"
     ]
    }
   ],
   "source": [
    "bert_hatebert_added_latenthatred_train_dev = np.concatenate((bert_hatebert_added_latenthatred_train, bert_hatebert_added_latenthatred_dev))\n",
    "bert_hatebert_added_latenthatred_labels_train_dev = np.concatenate((latenthatred_labels_train, latenthatred_labels_dev))\n",
    "\n",
    "grid_results = gridsearch.fit(bert_hatebert_added_latenthatred_train_dev, bert_hatebert_added_latenthatred_labels_train_dev)\n",
    "\n",
    "best_params = grid_results.best_params_\n",
    "mlp = grid_results.best_estimator_\n",
    "\n",
    "print(\"Best params: \", best_params)\n",
    "\n",
    "train_dev_preds = mlp.predict(bert_hatebert_added_latenthatred_train_dev)\n",
    "test_preds = mlp.predict(bert_hatebert_added_latenthatred_test)\n",
    "\n",
    "computeAllScores(train_dev_preds, test_preds, latenthatred_labels_train_dev, latenthatred_labels_test, \"Results/bert_hatebert_added_latenthatred_seed_7\")\n",
    "\n",
    "save_model(mlp, \"Saves/bert_hatebert_added_latenthatred_seed_7\")"
   ]
  },
  {
   "cell_type": "markdown",
   "metadata": {},
   "source": [
    "#### OLID"
   ]
  },
  {
   "cell_type": "code",
   "execution_count": 14,
   "metadata": {},
   "outputs": [
    {
     "name": "stdout",
     "output_type": "stream",
     "text": [
      "Fitting 5 folds for each of 4 candidates, totalling 20 fits\n",
      "Best params:  {'activation': 'relu', 'early_stopping': True, 'hidden_layer_sizes': (128, 64), 'learning_rate': 'adaptive', 'learning_rate_init': 0.001, 'max_iter': 10000, 'solver': 'adam'}\n",
      "Accuracy Train Dev:  0.7657099697885197\n",
      "Accuracy Test:  0.791860465116279\n",
      "Weighted F1 Train Dev:  0.7476069264580056\n",
      "Weighted F1 Test:  0.7647463792894517\n",
      "Macro F1 Train Dev:  0.700930089996053\n",
      "Macro F1 Test:  0.6823195583758964\n",
      "Micro F1 Train Dev:  0.7657099697885197\n",
      "Micro F1 Test:  0.791860465116279\n",
      "Weighted Recall Train Dev:  0.7657099697885197\n",
      "Weighted Recall Test:  0.791860465116279\n",
      "Macro Recall Train Dev:  0.686881941587824\n",
      "Macro Recall Test:  0.6615591397849462\n",
      "Micro Recall Train Dev:  0.7657099697885197\n",
      "Micro Recall Test:  0.791860465116279\n",
      "Confusion Matrix Train Dev: \n",
      "[[8150  690]\n",
      " [2412 1988]]\n",
      "Confusion Matrix Test: \n",
      "[[593  27]\n",
      " [152  88]]\n"
     ]
    }
   ],
   "source": [
    "bert_hatebert_added_olid_train_dev = np.concatenate((bert_hatebert_added_olid_train, bert_hatebert_added_olid_dev))\n",
    "bert_hatebert_added_olid_labels_train_dev = np.concatenate((olid_labels_train, olid_labels_dev))\n",
    "\n",
    "grid_results = gridsearch.fit(bert_hatebert_added_olid_train_dev, bert_hatebert_added_olid_labels_train_dev)\n",
    "\n",
    "best_params = grid_results.best_params_\n",
    "mlp = grid_results.best_estimator_\n",
    "\n",
    "print(\"Best params: \", best_params)\n",
    "\n",
    "train_dev_preds = mlp.predict(bert_hatebert_added_olid_train_dev)\n",
    "test_preds = mlp.predict(bert_hatebert_added_olid_test)\n",
    "\n",
    "computeAllScores(train_dev_preds, test_preds, olid_labels_train_dev, olid_labels_test, \"Results/bert_hatebert_added_olid_seed_7\")\n",
    "\n",
    "save_model(mlp, \"Saves/bert_hatebert_added_olid_seed_7\")"
   ]
  },
  {
   "attachments": {},
   "cell_type": "markdown",
   "metadata": {},
   "source": [
    "### BERTweet-HateBERT"
   ]
  },
  {
   "attachments": {},
   "cell_type": "markdown",
   "metadata": {},
   "source": [
    "#### DynaHate"
   ]
  },
  {
   "cell_type": "code",
   "execution_count": 15,
   "metadata": {},
   "outputs": [
    {
     "name": "stdout",
     "output_type": "stream",
     "text": [
      "Fitting 5 folds for each of 4 candidates, totalling 20 fits\n",
      "Best params:  {'activation': 'relu', 'early_stopping': True, 'hidden_layer_sizes': 128, 'learning_rate': 'adaptive', 'learning_rate_init': 0.001, 'max_iter': 10000, 'solver': 'adam'}\n",
      "Accuracy Train Dev:  0.7416540622299049\n",
      "Accuracy Test:  0.6851941747572815\n",
      "Weighted F1 Train Dev:  0.736636143309997\n",
      "Weighted F1 Test:  0.6785765520012732\n",
      "Macro F1 Train Dev:  0.7330176388420355\n",
      "Macro F1 Test:  0.6719108593463108\n",
      "Micro F1 Train Dev:  0.7416540622299049\n",
      "Micro F1 Test:  0.6851941747572815\n",
      "Weighted Recall Train Dev:  0.7416540622299049\n",
      "Weighted Recall Test:  0.6851941747572815\n",
      "Macro Recall Train Dev:  0.732258925543768\n",
      "Macro Recall Test:  0.6717257857466641\n",
      "Micro Recall Train Dev:  0.7416540622299049\n",
      "Micro Recall Test:  0.6851941747572815\n",
      "Confusion Matrix Train Dev: \n",
      "[[10400  6717]\n",
      " [ 2848 17059]]\n",
      "Confusion Matrix Test: \n",
      "[[ 997  855]\n",
      " [ 442 1826]]\n"
     ]
    }
   ],
   "source": [
    "hatebert_bertweet_added_dynahate_train_dev = np.concatenate((hatebert_bertweet_added_dynahate_train, hatebert_bertweet_added_dynahate_dev))\n",
    "hatebert_bertweet_added_dynahate_labels_train_dev = np.concatenate((dynahate_labels_train, dynahate_labels_dev))\n",
    "\n",
    "grid_results = gridsearch.fit(hatebert_bertweet_added_dynahate_train_dev, hatebert_bertweet_added_dynahate_labels_train_dev)\n",
    "\n",
    "best_params = grid_results.best_params_\n",
    "mlp = grid_results.best_estimator_\n",
    "\n",
    "print(\"Best params: \", best_params)\n",
    "\n",
    "train_dev_preds = mlp.predict(hatebert_bertweet_added_dynahate_train_dev)\n",
    "test_preds = mlp.predict(hatebert_bertweet_added_dynahate_test)\n",
    "\n",
    "computeAllScores(train_dev_preds, test_preds, dynahate_labels_train_dev, dynahate_labels_test, \"Results/hatebert_bertweet_added_dynahate_seed_7\")\n",
    "\n",
    "save_model(mlp, \"Saves/hatebert_bertweet_added_dynahate_seed_7\")"
   ]
  },
  {
   "cell_type": "markdown",
   "metadata": {},
   "source": [
    "#### LatentHatred"
   ]
  },
  {
   "cell_type": "code",
   "execution_count": 16,
   "metadata": {},
   "outputs": [
    {
     "name": "stdout",
     "output_type": "stream",
     "text": [
      "Fitting 5 folds for each of 4 candidates, totalling 20 fits\n",
      "Best params:  {'activation': 'relu', 'early_stopping': True, 'hidden_layer_sizes': (128, 64), 'learning_rate': 'adaptive', 'learning_rate_init': 0.001, 'max_iter': 10000, 'solver': 'adam'}\n",
      "Accuracy Train Dev:  0.7080074487895717\n",
      "Accuracy Test:  0.6873370577281191\n",
      "Weighted F1 Train Dev:  0.6815333478051822\n",
      "Weighted F1 Test:  0.6551559634026566\n",
      "Macro F1 Train Dev:  0.530265123671371\n",
      "Macro F1 Test:  0.494625822729519\n",
      "Micro F1 Train Dev:  0.7080074487895716\n",
      "Micro F1 Test:  0.6873370577281191\n",
      "Weighted Recall Train Dev:  0.7080074487895717\n",
      "Weighted Recall Test:  0.6873370577281191\n",
      "Macro Recall Train Dev:  0.5084819401084658\n",
      "Macro Recall Test:  0.47831443773019705\n",
      "Micro Recall Train Dev:  0.7080074487895717\n",
      "Micro Recall Test:  0.6873370577281191\n",
      "Confusion Matrix Train Dev: \n",
      "[[9064  804   77]\n",
      " [3009 2172  166]\n",
      " [ 362  286  170]]\n",
      "Confusion Matrix Test: \n",
      "[[3032  283   31]\n",
      " [1085  610   58]\n",
      " [ 131   91   49]]\n"
     ]
    }
   ],
   "source": [
    "hatebert_bertweet_added_latenthatred_train_dev = np.concatenate((hatebert_bertweet_added_latenthatred_train, hatebert_bertweet_added_latenthatred_dev))\n",
    "hatebert_bertweet_added_latenthatred_labels_train_dev = np.concatenate((latenthatred_labels_train, latenthatred_labels_dev))\n",
    "\n",
    "grid_results = gridsearch.fit(hatebert_bertweet_added_latenthatred_train_dev, hatebert_bertweet_added_latenthatred_labels_train_dev)\n",
    "\n",
    "best_params = grid_results.best_params_\n",
    "mlp = grid_results.best_estimator_\n",
    "\n",
    "print(\"Best params: \", best_params)\n",
    "\n",
    "train_dev_preds = mlp.predict(hatebert_bertweet_added_latenthatred_train_dev)\n",
    "test_preds = mlp.predict(hatebert_bertweet_added_latenthatred_test)\n",
    "\n",
    "computeAllScores(train_dev_preds, test_preds, latenthatred_labels_train_dev, latenthatred_labels_test, \"Results/hatebert_bertweet_added_latenthatred_seed_7\")\n",
    "\n",
    "save_model(mlp, \"Saves/hatebert_bertweet_added_latenthatred_seed_7\")"
   ]
  },
  {
   "cell_type": "markdown",
   "metadata": {},
   "source": [
    "#### OLID"
   ]
  },
  {
   "cell_type": "code",
   "execution_count": 17,
   "metadata": {},
   "outputs": [
    {
     "name": "stdout",
     "output_type": "stream",
     "text": [
      "Fitting 5 folds for each of 4 candidates, totalling 20 fits\n",
      "Best params:  {'activation': 'relu', 'early_stopping': True, 'hidden_layer_sizes': (128, 64), 'learning_rate': 'adaptive', 'learning_rate_init': 0.0001, 'max_iter': 10000, 'solver': 'adam'}\n",
      "Accuracy Train Dev:  0.747583081570997\n",
      "Accuracy Test:  0.7790697674418605\n",
      "Weighted F1 Train Dev:  0.7302870115601867\n",
      "Weighted F1 Test:  0.7519949840401278\n",
      "Macro F1 Train Dev:  0.6817443119091138\n",
      "Macro F1 Test:  0.6662581699346406\n",
      "Micro F1 Train Dev:  0.7475830815709968\n",
      "Micro F1 Test:  0.7790697674418605\n",
      "Weighted Recall Train Dev:  0.747583081570997\n",
      "Weighted Recall Test:  0.7790697674418605\n",
      "Macro Recall Train Dev:  0.6704535170711641\n",
      "Macro Recall Test:  0.6488575268817205\n",
      "Micro Recall Train Dev:  0.747583081570997\n",
      "Micro Recall Test:  0.7790697674418605\n",
      "Confusion Matrix Train Dev: \n",
      "[[7960  880]\n",
      " [2462 1938]]\n",
      "Confusion Matrix Test: \n",
      "[[585  35]\n",
      " [155  85]]\n"
     ]
    }
   ],
   "source": [
    "hatebert_bertweet_added_olid_train_dev = np.concatenate((hatebert_bertweet_added_olid_train, hatebert_bertweet_added_olid_dev))\n",
    "hatebert_bertweet_added_olid_labels_train_dev = np.concatenate((olid_labels_train, olid_labels_dev))\n",
    "\n",
    "grid_results = gridsearch.fit(hatebert_bertweet_added_olid_train_dev, hatebert_bertweet_added_olid_labels_train_dev)\n",
    "\n",
    "best_params = grid_results.best_params_\n",
    "mlp = grid_results.best_estimator_\n",
    "\n",
    "print(\"Best params: \", best_params)\n",
    "\n",
    "train_dev_preds = mlp.predict(hatebert_bertweet_added_olid_train_dev)\n",
    "test_preds = mlp.predict(hatebert_bertweet_added_olid_test)\n",
    "\n",
    "computeAllScores(train_dev_preds, test_preds, olid_labels_train_dev, olid_labels_test, \"Results/hatebert_bertweet_added_olid_seed_7\")\n",
    "\n",
    "save_model(mlp, \"Saves/hatebert_bertweet_added_olid_seed_7\")"
   ]
  },
  {
   "attachments": {},
   "cell_type": "markdown",
   "metadata": {},
   "source": [
    "### BERT-BERTweet-HateBERT"
   ]
  },
  {
   "attachments": {},
   "cell_type": "markdown",
   "metadata": {},
   "source": [
    "#### DynaHate"
   ]
  },
  {
   "cell_type": "code",
   "execution_count": 18,
   "metadata": {},
   "outputs": [
    {
     "name": "stdout",
     "output_type": "stream",
     "text": [
      "Fitting 5 folds for each of 4 candidates, totalling 20 fits\n",
      "Best params:  {'activation': 'relu', 'early_stopping': True, 'hidden_layer_sizes': 128, 'learning_rate': 'adaptive', 'learning_rate_init': 0.001, 'max_iter': 10000, 'solver': 'adam'}\n",
      "Accuracy Train Dev:  0.7267448141745895\n",
      "Accuracy Test:  0.6878640776699029\n",
      "Weighted F1 Train Dev:  0.7264863812328877\n",
      "Weighted F1 Test:  0.6882148758182516\n",
      "Macro F1 Train Dev:  0.7246972300980286\n",
      "Macro F1 Test:  0.685408490631463\n",
      "Micro F1 Train Dev:  0.7267448141745895\n",
      "Micro F1 Test:  0.6878640776699029\n",
      "Weighted Recall Train Dev:  0.7267448141745895\n",
      "Weighted Recall Test:  0.6878640776699029\n",
      "Macro Recall Train Dev:  0.7243593162725573\n",
      "Macro Recall Test:  0.6859365536471368\n",
      "Micro Recall Train Dev:  0.7267448141745895\n",
      "Micro Recall Test:  0.6878640776699029\n",
      "Confusion Matrix Train Dev: \n",
      "[[11857  5260]\n",
      " [ 4857 15050]]\n",
      "Confusion Matrix Test: \n",
      "[[1235  617]\n",
      " [ 669 1599]]\n"
     ]
    }
   ],
   "source": [
    "bert_bertweet_hatebert_added_dynahate_train_dev = np.concatenate((bert_hatebert_bertweet_added_dynahate_train, bert_hatebert_bertweet_added_dynahate_dev))\n",
    "bert_bertweet_hatebert_added_dynahate_labels_train_dev = np.concatenate((dynahate_labels_train, dynahate_labels_dev))\n",
    "\n",
    "grid_results = gridsearch.fit(bert_bertweet_hatebert_added_dynahate_train_dev, bert_bertweet_hatebert_added_dynahate_labels_train_dev)\n",
    "\n",
    "best_params = grid_results.best_params_\n",
    "mlp = grid_results.best_estimator_\n",
    "\n",
    "print(\"Best params: \", best_params)\n",
    "\n",
    "train_dev_preds = mlp.predict(bert_bertweet_hatebert_added_dynahate_train_dev)\n",
    "test_preds = mlp.predict(bert_hatebert_bertweet_added_dynahate_test)\n",
    "\n",
    "computeAllScores(train_dev_preds, test_preds, dynahate_labels_train_dev, dynahate_labels_test, \"Results/bert_bertweet_hatebert_added_dynahate_seed_7\")\n",
    "\n",
    "save_model(mlp, \"Saves/bert_bertweet_hatebert_added_dynahate_seed_7\")"
   ]
  },
  {
   "attachments": {},
   "cell_type": "markdown",
   "metadata": {},
   "source": [
    "#### LatentHatred"
   ]
  },
  {
   "cell_type": "code",
   "execution_count": 19,
   "metadata": {},
   "outputs": [
    {
     "name": "stdout",
     "output_type": "stream",
     "text": [
      "Fitting 5 folds for each of 4 candidates, totalling 20 fits\n",
      "Best params:  {'activation': 'relu', 'early_stopping': True, 'hidden_layer_sizes': 128, 'learning_rate': 'adaptive', 'learning_rate_init': 0.001, 'max_iter': 10000, 'solver': 'adam'}\n",
      "Accuracy Train Dev:  0.7189944134078212\n",
      "Accuracy Test:  0.6953445065176909\n",
      "Weighted F1 Train Dev:  0.7008776874515674\n",
      "Weighted F1 Test:  0.6762814964384937\n",
      "Macro F1 Train Dev:  0.5195109576237402\n",
      "Macro F1 Test:  0.4948286738372311\n",
      "Micro F1 Train Dev:  0.7189944134078212\n",
      "Micro F1 Test:  0.6953445065176909\n",
      "Weighted Recall Train Dev:  0.7189944134078212\n",
      "Weighted Recall Test:  0.6953445065176909\n",
      "Macro Recall Train Dev:  0.5025743184369523\n",
      "Macro Recall Test:  0.4795934799259353\n",
      "Micro Recall Train Dev:  0.7189944134078212\n",
      "Micro Recall Test:  0.6953445065176909\n",
      "Confusion Matrix Train Dev: \n",
      "[[8586 1330   29]\n",
      " [2391 2916   40]\n",
      " [ 328  409   81]]\n",
      "Confusion Matrix Test: \n",
      "[[2844  487   15]\n",
      " [ 871  864   18]\n",
      " [ 114  131   26]]\n"
     ]
    }
   ],
   "source": [
    "bert_bertweet_hatebert_added_latenthatred_train_dev = np.concatenate((bert_hatebert_bertweet_added_latenthatred_train, bert_hatebert_bertweet_added_latenthatred_dev))\n",
    "bert_bertweet_hatebert_added_latenthatred_labels_train_dev = np.concatenate((latenthatred_labels_train, latenthatred_labels_dev))\n",
    "\n",
    "grid_results = gridsearch.fit(bert_bertweet_hatebert_added_latenthatred_train_dev, bert_bertweet_hatebert_added_latenthatred_labels_train_dev)\n",
    "\n",
    "best_params = grid_results.best_params_\n",
    "mlp = grid_results.best_estimator_\n",
    "\n",
    "print(\"Best params: \", best_params)\n",
    "\n",
    "train_dev_preds = mlp.predict(bert_bertweet_hatebert_added_latenthatred_train_dev)\n",
    "test_preds = mlp.predict(bert_hatebert_bertweet_added_latenthatred_test)\n",
    "\n",
    "computeAllScores(train_dev_preds, test_preds, latenthatred_labels_train_dev, latenthatred_labels_test, \"Results/bert_bertweet_hatebert_added_latenthatred_seed_7\")\n",
    "\n",
    "save_model(mlp, \"Saves/bert_bertweet_hatebert_added_latenthatred_seed_7\")"
   ]
  },
  {
   "attachments": {},
   "cell_type": "markdown",
   "metadata": {},
   "source": [
    "#### OLID"
   ]
  },
  {
   "cell_type": "code",
   "execution_count": 20,
   "metadata": {},
   "outputs": [
    {
     "name": "stdout",
     "output_type": "stream",
     "text": [
      "Fitting 5 folds for each of 4 candidates, totalling 20 fits\n",
      "Best params:  {'activation': 'relu', 'early_stopping': True, 'hidden_layer_sizes': (128, 64), 'learning_rate': 'adaptive', 'learning_rate_init': 0.001, 'max_iter': 10000, 'solver': 'adam'}\n",
      "Accuracy Train Dev:  0.7552870090634441\n",
      "Accuracy Test:  0.7930232558139535\n",
      "Weighted F1 Train Dev:  0.7398857875304635\n",
      "Weighted F1 Test:  0.7657341910731423\n",
      "Macro F1 Train Dev:  0.6939305297304406\n",
      "Macro F1 Test:  0.6834338370929184\n",
      "Micro F1 Train Dev:  0.7552870090634441\n",
      "Micro F1 Test:  0.7930232558139535\n",
      "Weighted Recall Train Dev:  0.7552870090634441\n",
      "Weighted Recall Test:  0.7930232558139535\n",
      "Macro Recall Train Dev:  0.6818161250514192\n",
      "Macro Recall Test:  0.6623655913978495\n",
      "Micro Recall Train Dev:  0.7552870090634441\n",
      "Micro Recall Test:  0.7930232558139535\n",
      "Confusion Matrix Train Dev: \n",
      "[[7964  876]\n",
      " [2364 2036]]\n",
      "Confusion Matrix Test: \n",
      "[[594  26]\n",
      " [152  88]]\n"
     ]
    }
   ],
   "source": [
    "bert_bertweet_hatebert_added_olid_train_dev = np.concatenate((bert_hatebert_bertweet_added_olid_train, bert_hatebert_bertweet_added_olid_dev))\n",
    "bert_bertweet_hatebert_added_olid_labels_train_dev = np.concatenate((olid_labels_train, olid_labels_dev))\n",
    "\n",
    "grid_results = gridsearch.fit(bert_bertweet_hatebert_added_olid_train_dev, bert_bertweet_hatebert_added_olid_labels_train_dev)\n",
    "\n",
    "best_params = grid_results.best_params_\n",
    "mlp = grid_results.best_estimator_\n",
    "\n",
    "print(\"Best params: \", best_params)\n",
    "\n",
    "train_dev_preds = mlp.predict(bert_bertweet_hatebert_added_olid_train_dev)\n",
    "test_preds = mlp.predict(bert_hatebert_bertweet_added_olid_test)\n",
    "\n",
    "computeAllScores(train_dev_preds, test_preds, olid_labels_train_dev, olid_labels_test, \"Results/bert_bertweet_hatebert_added_olid_seed_7\")\n",
    "\n",
    "save_model(mlp, \"Saves/bert_bertweet_hatebert_added_olid_seed_7\")"
   ]
  }
 ],
 "metadata": {
  "kernelspec": {
   "display_name": "Python 3",
   "language": "python",
   "name": "python3"
  },
  "language_info": {
   "codemirror_mode": {
    "name": "ipython",
    "version": 3
   },
   "file_extension": ".py",
   "mimetype": "text/x-python",
   "name": "python",
   "nbconvert_exporter": "python",
   "pygments_lexer": "ipython3",
   "version": "3.9.13"
  },
  "orig_nbformat": 4,
  "vscode": {
   "interpreter": {
    "hash": "a5a87ee616be0254e3f1af9223138e3faeac65b2c9d91bc22a9fc5a4a8bd8eb0"
   }
  }
 },
 "nbformat": 4,
 "nbformat_minor": 2
}
