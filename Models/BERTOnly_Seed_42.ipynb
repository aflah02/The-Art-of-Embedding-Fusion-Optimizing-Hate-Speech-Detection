{
 "cells": [
  {
   "cell_type": "code",
   "execution_count": 1,
   "metadata": {},
   "outputs": [],
   "source": [
    "from utils import *\n",
    "import numpy as np\n",
    "import torch, os\n",
    "from sklearn.preprocessing import StandardScaler\n",
    "from sklearn.neural_network import MLPClassifier\n",
    "from sklearn.model_selection import GridSearchCV"
   ]
  },
  {
   "cell_type": "code",
   "execution_count": 2,
   "metadata": {},
   "outputs": [
    {
     "name": "stdout",
     "output_type": "stream",
     "text": [
      "Seed: 42\n"
     ]
    }
   ],
   "source": [
    "set_random_seed(42)"
   ]
  },
  {
   "cell_type": "code",
   "execution_count": 3,
   "metadata": {},
   "outputs": [],
   "source": [
    "# def scaling_embeddings(embeddings):\n",
    "#     for i in range(len(embeddings)):\n",
    "#         embeddings[i] = StandardScaler().fit_transform(embeddings[i])\n",
    "#     return embeddings\n",
    "\n",
    "def reshape_embeddings(embeddings):\n",
    "    if embeddings.shape[1] == 1:\n",
    "        embeddings = embeddings.squeeze(1)\n",
    "    return embeddings"
   ]
  },
  {
   "cell_type": "code",
   "execution_count": 4,
   "metadata": {},
   "outputs": [],
   "source": [
    "dynahate_labels_train = process_labels(read_labels(\"dynahate\", \"train\"))\n",
    "dynahate_labels_dev = process_labels(read_labels(\"dynahate\", \"dev\"))\n",
    "dynahate_labels_test = process_labels(read_labels(\"dynahate\", \"test\"))\n",
    "\n",
    "latenthatred_labels_train = read_labels(\"latenthatred\", \"train\")\n",
    "latenthatred_labels_dev = read_labels(\"latenthatred\", \"dev\")\n",
    "latenthatred_labels_test = read_labels(\"latenthatred\", \"test\")\n",
    "\n",
    "olid_labels_train = read_labels(\"olid\", \"train\")\n",
    "olid_labels_dev = read_labels(\"olid\", \"dev\")\n",
    "olid_labels_test = read_labels(\"olid\", \"test\")"
   ]
  },
  {
   "cell_type": "code",
   "execution_count": 5,
   "metadata": {},
   "outputs": [],
   "source": [
    "mlp = MLPClassifier(random_state=42)\n",
    "gridsearch = GridSearchCV(\n",
    "    mlp,\n",
    "    param_grid={\n",
    "        \"hidden_layer_sizes\": [(128), (128,64)],\n",
    "        \"activation\": [\"relu\"],\n",
    "        \"solver\": [\"adam\"],\n",
    "        \"learning_rate_init\": [0.001, 0.0001],\n",
    "        \"learning_rate\": [\"adaptive\"],\n",
    "        \"early_stopping\": [True],\n",
    "        \"max_iter\": [10000],\n",
    "    },\n",
    "    verbose=4,\n",
    "    n_jobs=os.cpu_count()//3,\n",
    "    cv=5,\n",
    ")"
   ]
  },
  {
   "cell_type": "code",
   "execution_count": 6,
   "metadata": {},
   "outputs": [],
   "source": [
    "dynahate_labels_train_dev = np.concatenate((dynahate_labels_train, dynahate_labels_dev))\n",
    "latenthatred_labels_train_dev = np.concatenate((latenthatred_labels_train, latenthatred_labels_dev))\n",
    "olid_labels_train_dev = np.concatenate((olid_labels_train, olid_labels_dev))"
   ]
  },
  {
   "cell_type": "code",
   "execution_count": 7,
   "metadata": {},
   "outputs": [],
   "source": [
    "bert_dynahate_train_embeddings = reshape_embeddings(bert_dynahate_train_embeddings)\n",
    "bert_dynahate_dev_embeddings = reshape_embeddings(bert_dynahate_dev_embeddings)\n",
    "bert_dynahate_test_embeddings = reshape_embeddings(bert_dynahate_test_embeddings)\n",
    "\n",
    "bert_latenthatred_train_embeddings = reshape_embeddings(bert_latenthatred_train_embeddings)\n",
    "bert_latenthatred_dev_embeddings = reshape_embeddings(bert_latenthatred_dev_embeddings)\n",
    "bert_latenthatred_test_embeddings = reshape_embeddings(bert_latenthatred_test_embeddings)\n",
    "\n",
    "bert_olid_train_embeddings = reshape_embeddings(bert_olid_train_embeddings)\n",
    "bert_olid_dev_embeddings = reshape_embeddings(bert_olid_dev_embeddings)\n",
    "bert_olid_test_embeddings = reshape_embeddings(bert_olid_test_embeddings)"
   ]
  },
  {
   "attachments": {},
   "cell_type": "markdown",
   "metadata": {},
   "source": [
    "### BERT"
   ]
  },
  {
   "attachments": {},
   "cell_type": "markdown",
   "metadata": {},
   "source": [
    "#### DynaHate"
   ]
  },
  {
   "cell_type": "code",
   "execution_count": 8,
   "metadata": {},
   "outputs": [
    {
     "name": "stdout",
     "output_type": "stream",
     "text": [
      "Fitting 5 folds for each of 4 candidates, totalling 20 fits\n",
      "Best params:  {'activation': 'relu', 'early_stopping': True, 'hidden_layer_sizes': 128, 'learning_rate': 'adaptive', 'learning_rate_init': 0.001, 'max_iter': 10000, 'solver': 'adam'}\n",
      "Accuracy Train Dev:  0.6822601555747623\n",
      "Accuracy Test:  0.6594660194174757\n",
      "Weighted F1 Train Dev:  0.6799920440871515\n",
      "Weighted F1 Test:  0.6567837440481107\n",
      "Macro F1 Train Dev:  0.6768374922175435\n",
      "Macro F1 Test:  0.6514448610162644\n",
      "Micro F1 Train Dev:  0.6822601555747623\n",
      "Micro F1 Test:  0.6594660194174757\n",
      "Weighted Recall Train Dev:  0.6822601555747623\n",
      "Weighted Recall Test:  0.6594660194174757\n",
      "Macro Recall Train Dev:  0.6763393167843137\n",
      "Macro Recall Test:  0.6507836515935868\n",
      "Micro Recall Train Dev:  0.6822601555747623\n",
      "Micro Recall Test:  0.6594660194174757\n",
      "Confusion Matrix Train Dev: \n",
      "[[10232  6885]\n",
      " [ 4879 15028]]\n",
      "Confusion Matrix Test: \n",
      "[[1046  806]\n",
      " [ 597 1671]]\n"
     ]
    }
   ],
   "source": [
    "bert_dynahate_train_dev = np.concatenate((bert_dynahate_train_embeddings, bert_dynahate_dev_embeddings))\n",
    "\n",
    "grid_results = gridsearch.fit(bert_dynahate_train_dev, dynahate_labels_train_dev)\n",
    "\n",
    "best_params = grid_results.best_params_\n",
    "mlp = grid_results.best_estimator_\n",
    "\n",
    "print(\"Best params: \", best_params)\n",
    "\n",
    "train_dev_preds = mlp.predict(bert_dynahate_train_dev)\n",
    "test_preds = mlp.predict(bert_dynahate_test_embeddings)\n",
    "\n",
    "computeAllScores(train_dev_preds, test_preds, dynahate_labels_train_dev, dynahate_labels_test, \"Results/bert_dynahate_seed_42\")\n",
    "save_model(mlp, \"Saves/bert_dynahate_seed_42\")"
   ]
  },
  {
   "attachments": {},
   "cell_type": "markdown",
   "metadata": {},
   "source": [
    "#### LatentHatred"
   ]
  },
  {
   "cell_type": "code",
   "execution_count": 9,
   "metadata": {},
   "outputs": [
    {
     "name": "stdout",
     "output_type": "stream",
     "text": [
      "Fitting 5 folds for each of 4 candidates, totalling 20 fits\n",
      "Best params:  {'activation': 'relu', 'early_stopping': True, 'hidden_layer_sizes': (128, 64), 'learning_rate': 'adaptive', 'learning_rate_init': 0.001, 'max_iter': 10000, 'solver': 'adam'}\n",
      "Accuracy Train Dev:  0.6804469273743017\n",
      "Accuracy Test:  0.6811918063314711\n",
      "Weighted F1 Train Dev:  0.6459883320181068\n",
      "Weighted F1 Test:  0.6466698995232357\n",
      "Macro F1 Train Dev:  0.4287466975194995\n",
      "Macro F1 Test:  0.43140895050642697\n",
      "Micro F1 Train Dev:  0.6804469273743017\n",
      "Micro F1 Test:  0.6811918063314711\n",
      "Weighted Recall Train Dev:  0.6804469273743017\n",
      "Weighted Recall Test:  0.6811918063314711\n",
      "Macro Recall Train Dev:  0.4331882196943908\n",
      "Macro Recall Test:  0.4329846786604845\n",
      "Micro Recall Train Dev:  0.6804469273743017\n",
      "Micro Recall Test:  0.6811918063314711\n",
      "Confusion Matrix Train Dev: \n",
      "[[8776 1165    4]\n",
      " [3159 2178   10]\n",
      " [ 441  369    8]]\n",
      "Confusion Matrix Test: \n",
      "[[2958  387    1]\n",
      " [1053  695    5]\n",
      " [ 144  122    5]]\n"
     ]
    }
   ],
   "source": [
    "bert_latenthatred_train_dev = np.concatenate((bert_latenthatred_train_embeddings, bert_latenthatred_dev_embeddings))\n",
    "\n",
    "grid_results = gridsearch.fit(bert_latenthatred_train_dev, latenthatred_labels_train_dev)\n",
    "\n",
    "best_params = grid_results.best_params_\n",
    "mlp = grid_results.best_estimator_\n",
    "\n",
    "print(\"Best params: \", best_params)\n",
    "\n",
    "train_dev_preds = mlp.predict(bert_latenthatred_train_dev)\n",
    "test_preds = mlp.predict(bert_latenthatred_test_embeddings)\n",
    "\n",
    "computeAllScores(train_dev_preds, test_preds, latenthatred_labels_train_dev, latenthatred_labels_test, \"Results/bert_latenthatred_seed_42\")\n",
    "save_model(mlp, \"Saves/bert_latenthatred_seed_42\")"
   ]
  },
  {
   "attachments": {},
   "cell_type": "markdown",
   "metadata": {},
   "source": [
    "#### OLID"
   ]
  },
  {
   "cell_type": "code",
   "execution_count": 10,
   "metadata": {},
   "outputs": [
    {
     "name": "stdout",
     "output_type": "stream",
     "text": [
      "Fitting 5 folds for each of 4 candidates, totalling 20 fits\n",
      "Best params:  {'activation': 'relu', 'early_stopping': True, 'hidden_layer_sizes': (128, 64), 'learning_rate': 'adaptive', 'learning_rate_init': 0.001, 'max_iter': 10000, 'solver': 'adam'}\n",
      "Accuracy Train Dev:  0.7505287009063444\n",
      "Accuracy Test:  0.791860465116279\n",
      "Weighted F1 Train Dev:  0.7427492612656574\n",
      "Weighted F1 Test:  0.7679038497935156\n",
      "Macro F1 Train Dev:  0.702817802300744\n",
      "Macro F1 Test:  0.6887428600313401\n",
      "Micro F1 Train Dev:  0.7505287009063443\n",
      "Micro F1 Test:  0.791860465116279\n",
      "Weighted Recall Train Dev:  0.7505287009063444\n",
      "Weighted Recall Test:  0.791860465116279\n",
      "Macro Recall Train Dev:  0.6942338543809132\n",
      "Macro Recall Test:  0.6679435483870968\n",
      "Micro Recall Train Dev:  0.7505287009063444\n",
      "Micro Recall Test:  0.791860465116279\n",
      "Confusion Matrix Train Dev: \n",
      "[[7621 1219]\n",
      " [2084 2316]]\n",
      "Confusion Matrix Test: \n",
      "[[588  32]\n",
      " [147  93]]\n"
     ]
    }
   ],
   "source": [
    "bert_olid_train_dev = np.concatenate((bert_olid_train_embeddings, bert_olid_dev_embeddings))\n",
    "\n",
    "grid_results = gridsearch.fit(bert_olid_train_dev, olid_labels_train_dev)\n",
    "\n",
    "best_params = grid_results.best_params_\n",
    "mlp = grid_results.best_estimator_\n",
    "\n",
    "print(\"Best params: \", best_params)\n",
    "\n",
    "train_dev_preds = mlp.predict(bert_olid_train_dev)\n",
    "test_preds = mlp.predict(bert_olid_test_embeddings)\n",
    "\n",
    "computeAllScores(train_dev_preds, test_preds, olid_labels_train_dev, olid_labels_test, \"Results/bert_olid_seed_42\")\n",
    "\n",
    "save_model(mlp, \"Saves/bert_olid_seed_42\")"
   ]
  }
 ],
 "metadata": {
  "kernelspec": {
   "display_name": "Python 3",
   "language": "python",
   "name": "python3"
  },
  "language_info": {
   "codemirror_mode": {
    "name": "ipython",
    "version": 3
   },
   "file_extension": ".py",
   "mimetype": "text/x-python",
   "name": "python",
   "nbconvert_exporter": "python",
   "pygments_lexer": "ipython3",
   "version": "3.9.13"
  },
  "orig_nbformat": 4,
  "vscode": {
   "interpreter": {
    "hash": "a5a87ee616be0254e3f1af9223138e3faeac65b2c9d91bc22a9fc5a4a8bd8eb0"
   }
  }
 },
 "nbformat": 4,
 "nbformat_minor": 2
}
