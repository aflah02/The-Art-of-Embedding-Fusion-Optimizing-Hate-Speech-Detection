{
 "cells": [
  {
   "cell_type": "code",
   "execution_count": 1,
   "metadata": {},
   "outputs": [],
   "source": [
    "from utils import *\n",
    "import numpy as np\n",
    "import torch, os\n",
    "from sklearn.preprocessing import StandardScaler\n",
    "from sklearn.neural_network import MLPClassifier\n",
    "from sklearn.model_selection import GridSearchCV"
   ]
  },
  {
   "cell_type": "code",
   "execution_count": 2,
   "metadata": {},
   "outputs": [],
   "source": [
    "# def scaling_embeddings(embeddings):\n",
    "#     for i in range(len(embeddings)):\n",
    "#         embeddings[i] = StandardScaler().fit_transform(embeddings[i])\n",
    "#     return embeddings\n",
    "\n",
    "def reshape_embeddings(embeddings):\n",
    "    if embeddings.shape[1] == 1:\n",
    "        embeddings = embeddings.squeeze(1)\n",
    "    return embeddings"
   ]
  },
  {
   "cell_type": "code",
   "execution_count": 3,
   "metadata": {},
   "outputs": [],
   "source": [
    "def interleave_2_embeddings(embeddings1, embeddings2):\n",
    "    embeddings1 = reshape_embeddings(embeddings1)\n",
    "    embeddings2 = reshape_embeddings(embeddings2)\n",
    "    new_embeddings = []\n",
    "    for i in range(len(embeddings1)+len(embeddings2)):\n",
    "        if i%2 == 0:\n",
    "            new_embeddings.append(embeddings1[i//2])\n",
    "        else:\n",
    "            new_embeddings.append(embeddings2[i//2])\n",
    "    return new_embeddings\n",
    "\n",
    "def interleave_3_embeddings(embeddings1, embeddings2, embeddings3):\n",
    "    embeddings1 = reshape_embeddings(embeddings1)\n",
    "    embeddings2 = reshape_embeddings(embeddings2)\n",
    "    embeddings3 = reshape_embeddings(embeddings3)\n",
    "    new_embeddings = []\n",
    "    for i in range(len(embeddings1)+len(embeddings2)+len(embeddings3)):\n",
    "        if i%3 == 0:\n",
    "            new_embeddings.append(embeddings1[i//3])\n",
    "        elif i%3 == 1:\n",
    "            new_embeddings.append(embeddings2[i//3])\n",
    "        else:\n",
    "            new_embeddings.append(embeddings3[i//3])\n",
    "    return new_embeddings"
   ]
  },
  {
   "cell_type": "code",
   "execution_count": 4,
   "metadata": {},
   "outputs": [],
   "source": [
    "bert_hatebert_interleaved_dynahate_train = interleave_2_embeddings(bert_dynahate_train_embeddings, hatebert_dynahate_train_embeddings)\n",
    "bert_hatebert_interleaved_dynahate_dev = interleave_2_embeddings(bert_dynahate_dev_embeddings, hatebert_dynahate_dev_embeddings)\n",
    "bert_hatebert_interleaved_dynahate_test = interleave_2_embeddings(bert_dynahate_test_embeddings, hatebert_dynahate_test_embeddings)\n",
    "\n",
    "bert_bertweet_interleaved_dynahate_train = interleave_2_embeddings(bert_dynahate_train_embeddings, bertweet_dynahate_train_embeddings)\n",
    "bert_bertweet_interleaved_dynahate_dev = interleave_2_embeddings(bert_dynahate_dev_embeddings, bertweet_dynahate_dev_embeddings)\n",
    "bert_bertweet_interleaved_dynahate_test = interleave_2_embeddings(bert_dynahate_test_embeddings, bertweet_dynahate_test_embeddings)\n",
    "\n",
    "hatebert_bertweet_interleaved_dynahate_train = interleave_2_embeddings(hatebert_dynahate_train_embeddings, bertweet_dynahate_train_embeddings)\n",
    "hatebert_bertweet_interleaved_dynahate_dev = interleave_2_embeddings(hatebert_dynahate_dev_embeddings, bertweet_dynahate_dev_embeddings)\n",
    "hatebert_bertweet_interleaved_dynahate_test = interleave_2_embeddings(hatebert_dynahate_test_embeddings, bertweet_dynahate_test_embeddings)\n",
    "\n",
    "bert_hatebert_bertweet_interleaved_dynahate_train = interleave_3_embeddings(bert_dynahate_train_embeddings, hatebert_dynahate_train_embeddings, bertweet_dynahate_train_embeddings)\n",
    "bert_hatebert_bertweet_interleaved_dynahate_dev = interleave_3_embeddings(bert_dynahate_dev_embeddings, hatebert_dynahate_dev_embeddings, bertweet_dynahate_dev_embeddings)\n",
    "bert_hatebert_bertweet_interleaved_dynahate_test = interleave_3_embeddings(bert_dynahate_test_embeddings, hatebert_dynahate_test_embeddings, bertweet_dynahate_test_embeddings)\n",
    "\n",
    "bert_hatebert_interleaved_olid_train = interleave_2_embeddings(bert_olid_train_embeddings, hatebert_olid_train_embeddings)\n",
    "bert_hatebert_interleaved_olid_dev = interleave_2_embeddings(bert_olid_dev_embeddings, hatebert_olid_dev_embeddings)\n",
    "bert_hatebert_interleaved_olid_test = interleave_2_embeddings(bert_olid_test_embeddings, hatebert_olid_test_embeddings)\n",
    "\n",
    "bert_bertweet_interleaved_olid_train = interleave_2_embeddings(bert_olid_train_embeddings, bertweet_olid_train_embeddings)\n",
    "bert_bertweet_interleaved_olid_dev = interleave_2_embeddings(bert_olid_dev_embeddings, bertweet_olid_dev_embeddings)\n",
    "bert_bertweet_interleaved_olid_test = interleave_2_embeddings(bert_olid_test_embeddings, bertweet_olid_test_embeddings)\n",
    "\n",
    "hatebert_bertweet_interleaved_olid_train = interleave_2_embeddings(hatebert_olid_train_embeddings, bertweet_olid_train_embeddings)\n",
    "hatebert_bertweet_interleaved_olid_dev = interleave_2_embeddings(hatebert_olid_dev_embeddings, bertweet_olid_dev_embeddings)\n",
    "hatebert_bertweet_interleaved_olid_test = interleave_2_embeddings(hatebert_olid_test_embeddings, bertweet_olid_test_embeddings)\n",
    "\n",
    "bert_hatebert_bertweet_interleaved_olid_train = interleave_3_embeddings(bert_olid_train_embeddings, hatebert_olid_train_embeddings, bertweet_olid_train_embeddings)\n",
    "bert_hatebert_bertweet_interleaved_olid_dev = interleave_3_embeddings(bert_olid_dev_embeddings, hatebert_olid_dev_embeddings, bertweet_olid_dev_embeddings)\n",
    "bert_hatebert_bertweet_interleaved_olid_test = interleave_3_embeddings(bert_olid_test_embeddings, hatebert_olid_test_embeddings, bertweet_olid_test_embeddings)\n",
    "\n",
    "bert_hatebert_interleaved_latenthatred_train = interleave_2_embeddings(bert_latenthatred_train_embeddings, hatebert_latenthatred_train_embeddings)\n",
    "bert_hatebert_interleaved_latenthatred_dev = interleave_2_embeddings(bert_latenthatred_dev_embeddings, hatebert_latenthatred_dev_embeddings)\n",
    "bert_hatebert_interleaved_latenthatred_test = interleave_2_embeddings(bert_latenthatred_test_embeddings, hatebert_latenthatred_test_embeddings)\n",
    "\n",
    "bert_bertweet_interleaved_latenthatred_train = interleave_2_embeddings(bert_latenthatred_train_embeddings, bertweet_latenthatred_train_embeddings)\n",
    "bert_bertweet_interleaved_latenthatred_dev = interleave_2_embeddings(bert_latenthatred_dev_embeddings, bertweet_latenthatred_dev_embeddings)\n",
    "bert_bertweet_interleaved_latenthatred_test = interleave_2_embeddings(bert_latenthatred_test_embeddings, bertweet_latenthatred_test_embeddings)\n",
    "\n",
    "hatebert_bertweet_interleaved_latenthatred_train = interleave_2_embeddings(hatebert_latenthatred_train_embeddings, bertweet_latenthatred_train_embeddings)\n",
    "hatebert_bertweet_interleaved_latenthatred_dev = interleave_2_embeddings(hatebert_latenthatred_dev_embeddings, bertweet_latenthatred_dev_embeddings)\n",
    "hatebert_bertweet_interleaved_latenthatred_test = interleave_2_embeddings(hatebert_latenthatred_test_embeddings, bertweet_latenthatred_test_embeddings)\n",
    "\n",
    "bert_hatebert_bertweet_interleaved_latenthatred_train = interleave_3_embeddings(bert_latenthatred_train_embeddings, hatebert_latenthatred_train_embeddings, bertweet_latenthatred_train_embeddings)\n",
    "bert_hatebert_bertweet_interleaved_latenthatred_dev = interleave_3_embeddings(bert_latenthatred_dev_embeddings, hatebert_latenthatred_dev_embeddings, bertweet_latenthatred_dev_embeddings)\n",
    "bert_hatebert_bertweet_interleaved_latenthatred_test = interleave_3_embeddings(bert_latenthatred_test_embeddings, hatebert_latenthatred_test_embeddings, bertweet_latenthatred_test_embeddings)"
   ]
  },
  {
   "cell_type": "code",
   "execution_count": 5,
   "metadata": {},
   "outputs": [],
   "source": [
    "dynahate_labels_train = process_labels(read_labels(\"dynahate\", \"train\"))\n",
    "dynahate_labels_dev = process_labels(read_labels(\"dynahate\", \"dev\"))\n",
    "dynahate_labels_test = process_labels(read_labels(\"dynahate\", \"test\"))\n",
    "\n",
    "latenthatred_labels_train = read_labels(\"latenthatred\", \"train\")\n",
    "latenthatred_labels_dev = read_labels(\"latenthatred\", \"dev\")\n",
    "latenthatred_labels_test = read_labels(\"latenthatred\", \"test\")\n",
    "\n",
    "olid_labels_train = read_labels(\"olid\", \"train\")\n",
    "olid_labels_dev = read_labels(\"olid\", \"dev\")\n",
    "olid_labels_test = read_labels(\"olid\", \"test\")"
   ]
  },
  {
   "cell_type": "code",
   "execution_count": 6,
   "metadata": {},
   "outputs": [],
   "source": [
    "mlp = MLPClassifier()\n",
    "gridsearch = GridSearchCV(\n",
    "    mlp,\n",
    "    param_grid={\n",
    "        \"hidden_layer_sizes\": [(128), (128,64)],\n",
    "        \"activation\": [\"relu\"],\n",
    "        \"solver\": [\"adam\"],\n",
    "        \"learning_rate_init\": [0.001, 0.0001],\n",
    "        \"learning_rate\": [\"adaptive\"],\n",
    "        \"early_stopping\": [True],\n",
    "        \"max_iter\": [10000]\n",
    "    },\n",
    "    verbose=4,\n",
    "    n_jobs=os.cpu_count()//3,\n",
    "    cv=5,\n",
    ")"
   ]
  },
  {
   "cell_type": "code",
   "execution_count": 7,
   "metadata": {},
   "outputs": [],
   "source": [
    "dynahate_labels_train_dev = np.concatenate((dynahate_labels_train, dynahate_labels_dev))\n",
    "latenthatred_labels_train_dev = np.concatenate((latenthatred_labels_train, latenthatred_labels_dev))\n",
    "olid_labels_train_dev = np.concatenate((olid_labels_train, olid_labels_dev))"
   ]
  },
  {
   "attachments": {},
   "cell_type": "markdown",
   "metadata": {},
   "source": [
    "### BERT-BERTweet"
   ]
  },
  {
   "attachments": {},
   "cell_type": "markdown",
   "metadata": {},
   "source": [
    "#### DynaHate"
   ]
  },
  {
   "cell_type": "code",
   "execution_count": 8,
   "metadata": {},
   "outputs": [
    {
     "name": "stdout",
     "output_type": "stream",
     "text": [
      "Fitting 2 folds for each of 4 candidates, totalling 8 fits\n",
      "Best params:  {'activation': 'relu', 'early_stopping': True, 'hidden_layer_sizes': (128, 64), 'learning_rate': 'adaptive', 'learning_rate_init': 0.001, 'solver': 'adam'}\n",
      "Accuracy Train Dev:  0.6984928694900605\n",
      "Accuracy Test:  0.670631067961165\n",
      "Weighted F1 Train Dev:  0.6903586753156541\n",
      "Weighted F1 Test:  0.6613119080812634\n",
      "Macro F1 Train Dev:  0.6855515578094915\n",
      "Macro F1 Test:  0.6535428289028284\n",
      "Micro F1 Train Dev:  0.6984928694900605\n",
      "Micro F1 Test:  0.670631067961165\n",
      "Weighted Recall Train Dev:  0.6984928694900605\n",
      "Weighted Recall Test:  0.670631067961165\n",
      "Macro Recall Train Dev:  0.6871072221531471\n",
      "Macro Recall Test:  0.6548833236198247\n",
      "Micro Recall Train Dev:  0.6984928694900605\n",
      "Micro Recall Test:  0.670631067961165\n",
      "Confusion Matrix Train Dev: \n",
      "[[ 9175  7942]\n",
      " [ 3221 16686]]\n",
      "Confusion Matrix Test: \n",
      "[[ 924  928]\n",
      " [ 429 1839]]\n"
     ]
    }
   ],
   "source": [
    "bert_bertweet_interleaved_dynahate_train_dev = np.concatenate((bert_bertweet_interleaved_dynahate_train, bert_bertweet_interleaved_dynahate_dev))\n",
    "bert_bertweet_interleaved_dynahate_labels_train_dev = np.concatenate((dynahate_labels_train, dynahate_labels_dev))\n",
    "\n",
    "grid_results = gridsearch.fit(bert_bertweet_interleaved_dynahate_train_dev, bert_bertweet_interleaved_dynahate_labels_train_dev)\n",
    "\n",
    "best_params = grid_results.best_params_\n",
    "mlp = grid_results.best_estimator_\n",
    "\n",
    "print(\"Best params: \", best_params)\n",
    "\n",
    "train_dev_preds = mlp.predict(bert_bertweet_interleaved_dynahate_train_dev)\n",
    "test_preds = mlp.predict(bert_bertweet_interleaved_dynahate_test)\n",
    "\n",
    "computeAllScores(train_dev_preds, test_preds, dynahate_labels_train_dev, dynahate_labels_test, \"Results/bert_bertweet_interleaved_dynahate\")\n",
    "save_model(mlp, \"Saves/bert_bertweet_interleaved_dynahate\")"
   ]
  },
  {
   "attachments": {},
   "cell_type": "markdown",
   "metadata": {},
   "source": [
    "#### LatentHatred"
   ]
  },
  {
   "cell_type": "code",
   "execution_count": 9,
   "metadata": {},
   "outputs": [
    {
     "name": "stdout",
     "output_type": "stream",
     "text": [
      "Fitting 2 folds for each of 4 candidates, totalling 8 fits\n",
      "Best params:  {'activation': 'relu', 'early_stopping': True, 'hidden_layer_sizes': 128, 'learning_rate': 'adaptive', 'learning_rate_init': 0.001, 'solver': 'adam'}\n",
      "Accuracy Train Dev:  0.6957790192427064\n",
      "Accuracy Test:  0.6884543761638734\n",
      "Weighted F1 Train Dev:  0.6625899153620184\n",
      "Weighted F1 Test:  0.652498463257425\n",
      "Macro F1 Train Dev:  0.4394263541326186\n",
      "Macro F1 Test:  0.429764674977289\n",
      "Micro F1 Train Dev:  0.6957790192427064\n",
      "Micro F1 Test:  0.6884543761638734\n",
      "Weighted Recall Train Dev:  0.6957790192427064\n",
      "Weighted Recall Test:  0.6884543761638734\n",
      "Macro Recall Train Dev:  0.4448717161591799\n",
      "Macro Recall Test:  0.4344745587600565\n",
      "Micro Recall Train Dev:  0.6957790192427064\n",
      "Micro Recall Test:  0.6884543761638734\n",
      "Confusion Matrix Train Dev: \n",
      "[[8845 1098    2]\n",
      " [2985 2361    1]\n",
      " [ 458  357    3]]\n",
      "Confusion Matrix Test: \n",
      "[[2989  356    1]\n",
      " [1046  706    1]\n",
      " [ 145  124    2]]\n"
     ]
    }
   ],
   "source": [
    "bert_bertweet_interleaved_latenthatred_train_dev = np.concatenate((bert_bertweet_interleaved_latenthatred_train, bert_bertweet_interleaved_latenthatred_dev))\n",
    "bert_bertweet_interleaved_latenthatred_labels_train_dev = np.concatenate((latenthatred_labels_train, latenthatred_labels_dev))\n",
    "\n",
    "grid_results = gridsearch.fit(bert_bertweet_interleaved_latenthatred_train_dev, bert_bertweet_interleaved_latenthatred_labels_train_dev)\n",
    "\n",
    "best_params = grid_results.best_params_\n",
    "mlp = grid_results.best_estimator_\n",
    "\n",
    "print(\"Best params: \", best_params)\n",
    "\n",
    "train_dev_preds = mlp.predict(bert_bertweet_interleaved_latenthatred_train_dev)\n",
    "test_preds = mlp.predict(bert_bertweet_interleaved_latenthatred_test)\n",
    "\n",
    "computeAllScores(train_dev_preds, test_preds, latenthatred_labels_train_dev, latenthatred_labels_test, \"Results/bert_bertweet_interleaved_latenthatred\")\n",
    "save_model(mlp, \"Saves/bert_bertweet_interleaved_latenthatred\")"
   ]
  },
  {
   "attachments": {},
   "cell_type": "markdown",
   "metadata": {},
   "source": [
    "#### OLID"
   ]
  },
  {
   "cell_type": "code",
   "execution_count": 10,
   "metadata": {},
   "outputs": [
    {
     "name": "stdout",
     "output_type": "stream",
     "text": [
      "Fitting 2 folds for each of 4 candidates, totalling 8 fits\n"
     ]
    }
   ],
   "source": [
    "bert_bertweet_interleaved_olid_train_dev = np.concatenate((bert_bertweet_interleaved_olid_train, bert_bertweet_interleaved_olid_dev))\n",
    "bert_bertweet_interleaved_olid_labels_train_dev = np.concatenate((olid_labels_train, olid_labels_dev))\n",
    "\n",
    "grid_results = gridsearch.fit(bert_bertweet_interleaved_olid_train_dev, bert_bertweet_interleaved_olid_labels_train_dev)\n",
    "\n",
    "best_params = grid_results.best_params_\n",
    "mlp = grid_results.best_estimator_\n",
    "\n",
    "print(\"Best params: \", best_params)\n",
    "\n",
    "train_dev_preds = mlp.predict(bert_bertweet_interleaved_olid_train_dev)\n",
    "test_preds = mlp.predict(bert_bertweet_interleaved_olid_test)\n",
    "\n",
    "computeAllScores(train_dev_preds, test_preds, olid_labels_train_dev, olid_labels_test, \"Results/bert_bertweet_interleaved_olid\")\n",
    "\n",
    "save_model(mlp, \"Saves/bert_bertweet_interleaved_olid\")"
   ]
  },
  {
   "attachments": {},
   "cell_type": "markdown",
   "metadata": {},
   "source": [
    "### BERT-HateBERT"
   ]
  },
  {
   "cell_type": "markdown",
   "metadata": {},
   "source": [
    "#### DynaHate"
   ]
  },
  {
   "cell_type": "code",
   "execution_count": null,
   "metadata": {},
   "outputs": [],
   "source": [
    "bert_hatebert_interleaved_dynahate_train_dev = np.concatenate((bert_hatebert_interleaved_dynahate_train, bert_hatebert_interleaved_dynahate_dev))\n",
    "bert_hatebert_interleaved_dynahate_labels_train_dev = np.concatenate((dynahate_labels_train, dynahate_labels_dev))\n",
    "\n",
    "grid_results = gridsearch.fit(bert_hatebert_interleaved_dynahate_train_dev, bert_hatebert_interleaved_dynahate_labels_train_dev)\n",
    "\n",
    "best_params = grid_results.best_params_\n",
    "mlp = grid_results.best_estimator_\n",
    "\n",
    "print(\"Best params: \", best_params)\n",
    "\n",
    "train_dev_preds = mlp.predict(bert_hatebert_interleaved_dynahate_train_dev)\n",
    "test_preds = mlp.predict(bert_hatebert_interleaved_dynahate_test)\n",
    "\n",
    "computeAllScores(train_dev_preds, test_preds, dynahate_labels_train_dev dynahate_labels_test, \"Results/bert_hatebert_interleaved_dynahate\")\n",
    "\n",
    "save_model(mlp, \"Saves/bert_hatebert_interleaved_dynahate\")\n",
    "\n"
   ]
  },
  {
   "cell_type": "markdown",
   "metadata": {},
   "source": [
    "#### LatentHatred"
   ]
  },
  {
   "cell_type": "code",
   "execution_count": null,
   "metadata": {},
   "outputs": [],
   "source": [
    "bert_hatebert_interleaved_latenthatred_train_dev = np.concatenate((bert_hatebert_interleaved_latenthatred_train, bert_hatebert_interleaved_latenthatred_dev))\n",
    "bert_hatebert_interleaved_latenthatred_labels_train_dev = np.concatenate((latenthatred_labels_train, latenthatred_labels_dev))\n",
    "\n",
    "grid_results = gridsearch.fit(bert_hatebert_interleaved_latenthatred_train_dev, bert_hatebert_interleaved_latenthatred_labels_train_dev)\n",
    "\n",
    "best_params = grid_results.best_params_\n",
    "mlp = grid_results.best_estimator_\n",
    "\n",
    "print(\"Best params: \", best_params)\n",
    "\n",
    "train_dev_preds = mlp.predict(bert_hatebert_interleaved_latenthatred_train_dev)\n",
    "test_preds = mlp.predict(bert_hatebert_interleaved_latenthatred_test)\n",
    "\n",
    "computeAllScores(train_dev_preds, test_preds, latenthatred_labels_train_dev, latenthatred_labels_test, \"Results/bert_hatebert_interleaved_latenthatred\")\n",
    "\n",
    "save_model(mlp, \"Saves/bert_hatebert_interleaved_latenthatred\")"
   ]
  },
  {
   "cell_type": "markdown",
   "metadata": {},
   "source": [
    "#### OLID"
   ]
  },
  {
   "cell_type": "code",
   "execution_count": null,
   "metadata": {},
   "outputs": [],
   "source": [
    "bert_hatebert_interleaved_olid_train_dev = np.concatenate((bert_hatebert_interleaved_olid_train, bert_hatebert_interleaved_olid_dev))\n",
    "bert_hatebert_interleaved_olid_labels_train_dev = np.concatenate((olid_labels_train, olid_labels_dev))\n",
    "\n",
    "grid_results = gridsearch.fit(bert_hatebert_interleaved_olid_train_dev, bert_hatebert_interleaved_olid_labels_train_dev)\n",
    "\n",
    "best_params = grid_results.best_params_\n",
    "mlp = grid_results.best_estimator_\n",
    "\n",
    "print(\"Best params: \", best_params)\n",
    "\n",
    "train_dev_preds = mlp.predict(bert_hatebert_interleaved_olid_train_dev)\n",
    "test_preds = mlp.predict(bert_hatebert_interleaved_olid_test)\n",
    "\n",
    "computeAllScores(train_dev_preds, test_preds, olid_labels_train_dev, olid_labels_test, \"Results/bert_hatebert_interleaved_olid\")\n",
    "\n",
    "save_model(mlp, \"Saves/bert_hatebert_interleaved_olid\")"
   ]
  },
  {
   "attachments": {},
   "cell_type": "markdown",
   "metadata": {},
   "source": [
    "### BERTweet-HateBERT"
   ]
  },
  {
   "attachments": {},
   "cell_type": "markdown",
   "metadata": {},
   "source": [
    "#### DynaHate"
   ]
  },
  {
   "cell_type": "code",
   "execution_count": null,
   "metadata": {},
   "outputs": [],
   "source": [
    "hatebert_bertweet_interleaved_dynahate_train_dev = np.concatenate((hatebert_bertweet_interleaved_dynahate_train, hatebert_bertweet_interleaved_dynahate_dev))\n",
    "hatebert_bertweet_interleaved_dynahate_labels_train_dev = np.concatenate((dynahate_labels_train, dynahate_labels_dev))\n",
    "\n",
    "grid_results = gridsearch.fit(hatebert_bertweet_interleaved_dynahate_train_dev, hatebert_bertweet_interleaved_dynahate_labels_train_dev)\n",
    "\n",
    "best_params = grid_results.best_params_\n",
    "mlp = grid_results.best_estimator_\n",
    "\n",
    "print(\"Best params: \", best_params)\n",
    "\n",
    "train_dev_preds = mlp.predict(hatebert_bertweet_interleaved_dynahate_train_dev)\n",
    "test_preds = mlp.predict(hatebert_bertweet_interleaved_dynahate_test)\n",
    "\n",
    "computeAllScores(train_dev_preds, test_preds, dynahate_labels_train_dev dynahate_labels_test, \"Results/hatebert_bertweet_interleaved_dynahate\")\n",
    "\n",
    "save_model(mlp, \"Saves/hatebert_bertweet_interleaved_dynahate\")"
   ]
  },
  {
   "cell_type": "markdown",
   "metadata": {},
   "source": [
    "#### LatentHatred"
   ]
  },
  {
   "cell_type": "code",
   "execution_count": null,
   "metadata": {},
   "outputs": [],
   "source": [
    "hatebert_bertweet_interleaved_latenthatred_train_dev = np.concatenate((hatebert_bertweet_interleaved_latenthatred_train, hatebert_bertweet_interleaved_latenthatred_dev))\n",
    "hatebert_bertweet_interleaved_latenthatred_labels_train_dev = np.concatenate((latenthatred_labels_train, latenthatred_labels_dev))\n",
    "\n",
    "grid_results = gridsearch.fit(hatebert_bertweet_interleaved_latenthatred_train_dev, hatebert_bertweet_interleaved_latenthatred_labels_train_dev)\n",
    "\n",
    "best_params = grid_results.best_params_\n",
    "mlp = grid_results.best_estimator_\n",
    "\n",
    "print(\"Best params: \", best_params)\n",
    "\n",
    "train_dev_preds = mlp.predict(hatebert_bertweet_interleaved_latenthatred_train_dev)\n",
    "test_preds = mlp.predict(hatebert_bertweet_interleaved_latenthatred_test)\n",
    "\n",
    "computeAllScores(train_dev_preds, test_preds, latenthatred_labels_train_dev, latenthatred_labels_test, \"Results/hatebert_bertweet_interleaved_latenthatred\")\n",
    "\n",
    "save_model(mlp, \"Saves/hatebert_bertweet_interleaved_latenthatred\")"
   ]
  },
  {
   "cell_type": "markdown",
   "metadata": {},
   "source": [
    "#### OLID"
   ]
  },
  {
   "cell_type": "code",
   "execution_count": null,
   "metadata": {},
   "outputs": [],
   "source": [
    "hatebert_bertweet_interleaved_olid_train_dev = np.concatenate((hatebert_bertweet_interleaved_olid_train, hatebert_bertweet_interleaved_olid_dev))\n",
    "hatebert_bertweet_interleaved_olid_labels_train_dev = np.concatenate((olid_labels_train, olid_labels_dev))\n",
    "\n",
    "grid_results = gridsearch.fit(hatebert_bertweet_interleaved_olid_train_dev, hatebert_bertweet_interleaved_olid_labels_train_dev)\n",
    "\n",
    "best_params = grid_results.best_params_\n",
    "mlp = grid_results.best_estimator_\n",
    "\n",
    "print(\"Best params: \", best_params)\n",
    "\n",
    "train_dev_preds = mlp.predict(hatebert_bertweet_interleaved_olid_train_dev)\n",
    "test_preds = mlp.predict(hatebert_bertweet_interleaved_olid_test)\n",
    "\n",
    "computeAllScores(train_dev_preds, test_preds, olid_labels_train_dev, olid_labels_test, \"Results/hatebert_bertweet_interleaved_olid\")\n",
    "\n",
    "save_model(mlp, \"Saves/hatebert_bertweet_interleaved_olid\")"
   ]
  },
  {
   "attachments": {},
   "cell_type": "markdown",
   "metadata": {},
   "source": [
    "### BERT-BERTweet-HateBERT"
   ]
  },
  {
   "attachments": {},
   "cell_type": "markdown",
   "metadata": {},
   "source": [
    "#### DynaHate"
   ]
  },
  {
   "cell_type": "code",
   "execution_count": null,
   "metadata": {},
   "outputs": [],
   "source": [
    "bert_bertweet_hatebert_interleaved_dynahate_train_dev = np.concatenate((bert_hatebert_bertweet_interleaved_dynahate_train, bert_hatebert_bertweet_interleaved_dynahate_dev))\n",
    "bert_bertweet_hatebert_interleaved_dynahate_labels_train_dev = np.concatenate((dynahate_labels_train, dynahate_labels_dev))\n",
    "\n",
    "grid_results = gridsearch.fit(bert_bertweet_hatebert_interleaved_dynahate_train_dev, bert_bertweet_hatebert_interleaved_dynahate_labels_train_dev)\n",
    "\n",
    "best_params = grid_results.best_params_\n",
    "mlp = grid_results.best_estimator_\n",
    "\n",
    "print(\"Best params: \", best_params)\n",
    "\n",
    "train_dev_preds = mlp.predict(bert_bertweet_hatebert_interleaved_dynahate_train_dev)\n",
    "test_preds = mlp.predict(bert_hatebert_bertweet_interleaved_dynahate_test)\n",
    "\n",
    "computeAllScores(train_dev_preds, test_preds, dynahate_labels_train_dev dynahate_labels_test, \"Results/bert_bertweet_hatebert_interleaved_dynahate\")\n",
    "\n",
    "save_model(mlp, \"Saves/bert_bertweet_hatebert_interleaved_dynahate\")"
   ]
  },
  {
   "attachments": {},
   "cell_type": "markdown",
   "metadata": {},
   "source": [
    "#### LatentHatred"
   ]
  },
  {
   "cell_type": "code",
   "execution_count": null,
   "metadata": {},
   "outputs": [],
   "source": [
    "bert_bertweet_hatebert_interleaved_latenthatred_train_dev = np.concatenate((bert_hatebert_bertweet_interleaved_latenthatred_train, bert_hatebert_bertweet_interleaved_latenthatred_dev))\n",
    "bert_bertweet_hatebert_interleaved_latenthatred_labels_train_dev = np.concatenate((latenthatred_labels_train, latenthatred_labels_dev))\n",
    "\n",
    "grid_results = gridsearch.fit(bert_bertweet_hatebert_interleaved_latenthatred_train_dev, bert_bertweet_hatebert_interleaved_latenthatred_labels_train_dev)\n",
    "\n",
    "best_params = grid_results.best_params_\n",
    "mlp = grid_results.best_estimator_\n",
    "\n",
    "print(\"Best params: \", best_params)\n",
    "\n",
    "train_dev_preds = mlp.predict(bert_bertweet_hatebert_interleaved_latenthatred_train_dev)\n",
    "test_preds = mlp.predict(bert_hatebert_bertweet_interleaved_latenthatred_test)\n",
    "\n",
    "computeAllScores(train_dev_preds, test_preds, latenthatred_labels_train_dev, latenthatred_labels_test, \"Results/bert_bertweet_hatebert_interleaved_latenthatred\")\n",
    "\n",
    "save_model(mlp, \"Saves/bert_bertweet_hatebert_interleaved_latenthatred\")"
   ]
  },
  {
   "attachments": {},
   "cell_type": "markdown",
   "metadata": {},
   "source": [
    "#### OLID"
   ]
  },
  {
   "cell_type": "code",
   "execution_count": null,
   "metadata": {},
   "outputs": [],
   "source": [
    "bert_bertweet_hatebert_interleaved_olid_train_dev = np.concatenate((bert_hatebert_bertweet_interleaved_olid_train, bert_hatebert_bertweet_interleaved_olid_dev))\n",
    "bert_bertweet_hatebert_interleaved_olid_labels_train_dev = np.concatenate((olid_labels_train, olid_labels_dev))\n",
    "\n",
    "grid_results = gridsearch.fit(bert_bertweet_hatebert_interleaved_olid_train_dev, bert_bertweet_hatebert_interleaved_olid_labels_train_dev)\n",
    "\n",
    "best_params = grid_results.best_params_\n",
    "mlp = grid_results.best_estimator_\n",
    "\n",
    "print(\"Best params: \", best_params)\n",
    "\n",
    "train_dev_preds = mlp.predict(bert_bertweet_hatebert_interleaved_olid_train_dev)\n",
    "test_preds = mlp.predict(bert_hatebert_bertweet_interleaved_olid_test)\n",
    "\n",
    "computeAllScores(train_dev_preds, test_preds, olid_labels_train_dev, olid_labels_test, \"Results/bert_bertweet_hatebert_interleaved_olid\")\n",
    "\n",
    "save_model(mlp, \"Saves/bert_bertweet_hatebert_interleaved_olid\")"
   ]
  }
 ],
 "metadata": {
  "kernelspec": {
   "display_name": "Python 3",
   "language": "python",
   "name": "python3"
  },
  "language_info": {
   "codemirror_mode": {
    "name": "ipython",
    "version": 3
   },
   "file_extension": ".py",
   "mimetype": "text/x-python",
   "name": "python",
   "nbconvert_exporter": "python",
   "pygments_lexer": "ipython3",
   "version": "3.9.13"
  },
  "orig_nbformat": 4,
  "vscode": {
   "interpreter": {
    "hash": "a5a87ee616be0254e3f1af9223138e3faeac65b2c9d91bc22a9fc5a4a8bd8eb0"
   }
  }
 },
 "nbformat": 4,
 "nbformat_minor": 2
}
