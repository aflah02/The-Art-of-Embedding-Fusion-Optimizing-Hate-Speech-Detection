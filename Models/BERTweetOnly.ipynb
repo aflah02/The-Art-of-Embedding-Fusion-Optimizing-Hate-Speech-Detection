{
 "cells": [
  {
   "cell_type": "code",
   "execution_count": 1,
   "metadata": {},
   "outputs": [],
   "source": [
    "from utils import *\n",
    "import numpy as np\n",
    "import torch, os\n",
    "from sklearn.preprocessing import StandardScaler\n",
    "from sklearn.neural_network import MLPClassifier\n",
    "from sklearn.model_selection import GridSearchCV"
   ]
  },
  {
   "cell_type": "code",
   "execution_count": 2,
   "metadata": {},
   "outputs": [],
   "source": [
    "# def scaling_embeddings(embeddings):\n",
    "#     for i in range(len(embeddings)):\n",
    "#         embeddings[i] = StandardScaler().fit_transform(embeddings[i])\n",
    "#     return embeddings\n",
    "\n",
    "def reshape_embeddings(embeddings):\n",
    "    if embeddings.shape[1] == 1:\n",
    "        embeddings = embeddings.squeeze(1)\n",
    "    return embeddings"
   ]
  },
  {
   "cell_type": "code",
   "execution_count": 5,
   "metadata": {},
   "outputs": [],
   "source": [
    "dynahate_labels_train = process_labels(read_labels(\"dynahate\", \"train\"))\n",
    "dynahate_labels_dev = process_labels(read_labels(\"dynahate\", \"dev\"))\n",
    "dynahate_labels_test = process_labels(read_labels(\"dynahate\", \"test\"))\n",
    "\n",
    "latenthatred_labels_train = read_labels(\"latenthatred\", \"train\")\n",
    "latenthatred_labels_dev = read_labels(\"latenthatred\", \"dev\")\n",
    "latenthatred_labels_test = read_labels(\"latenthatred\", \"test\")\n",
    "\n",
    "olid_labels_train = read_labels(\"olid\", \"train\")\n",
    "olid_labels_dev = read_labels(\"olid\", \"dev\")\n",
    "olid_labels_test = read_labels(\"olid\", \"test\")"
   ]
  },
  {
   "cell_type": "code",
   "execution_count": 6,
   "metadata": {},
   "outputs": [],
   "source": [
    "mlp = MLPClassifier()\n",
    "gridsearch = GridSearchCV(\n",
    "    mlp,\n",
    "    param_grid={\n",
    "        \"hidden_layer_sizes\": [(128), (128,64)],\n",
    "        \"activation\": [\"relu\"],\n",
    "        \"solver\": [\"adam\"],\n",
    "        \"learning_rate_init\": [0.001, 0.0001],\n",
    "        \"learning_rate\": [\"adaptive\"],\n",
    "        \"early_stopping\": [True],\n",
    "        \"max_iter\": [10000]\n",
    "    },\n",
    "    verbose=4,\n",
    "    n_jobs=os.cpu_count()//3,\n",
    "    cv=5,\n",
    ")"
   ]
  },
  {
   "cell_type": "code",
   "execution_count": 7,
   "metadata": {},
   "outputs": [],
   "source": [
    "dynahate_labels_train_dev = np.concatenate((dynahate_labels_train, dynahate_labels_dev))\n",
    "latenthatred_labels_train_dev = np.concatenate((latenthatred_labels_train, latenthatred_labels_dev))\n",
    "olid_labels_train_dev = np.concatenate((olid_labels_train, olid_labels_dev))"
   ]
  },
  {
   "cell_type": "code",
   "execution_count": null,
   "metadata": {},
   "outputs": [],
   "source": [
    "bertweet_dynahate_train_embeddings = reshape_embeddings(bertweet_dynahate_train_embeddings)\n",
    "bertweet_dynahate_dev_embeddings = reshape_embeddings(bertweet_dynahate_dev_embeddings)\n",
    "bertweet_dynahate_test_embeddings = reshape_embeddings(bertweet_dynahate_test_embeddings)\n",
    "\n",
    "bertweet_latenthatred_train_embeddings = reshape_embeddings(bertweet_latenthatred_train_embeddings)\n",
    "bertweet_latenthatred_dev_embeddings = reshape_embeddings(bertweet_latenthatred_dev_embeddings)\n",
    "bertweet_latenthatred_test_embeddings = reshape_embeddings(bertweet_latenthatred_test_embeddings)\n",
    "\n",
    "bertweet_olid_train_embeddings = reshape_embeddings(bertweet_olid_train_embeddings)\n",
    "bertweet_olid_dev_embeddings = reshape_embeddings(bertweet_olid_dev_embeddings)\n",
    "bertweet_olid_test_embeddings = reshape_embeddings(bertweet_olid_test_embeddings)"
   ]
  },
  {
   "attachments": {},
   "cell_type": "markdown",
   "metadata": {},
   "source": [
    "### BERTweet"
   ]
  },
  {
   "attachments": {},
   "cell_type": "markdown",
   "metadata": {},
   "source": [
    "#### DynaHate"
   ]
  },
  {
   "cell_type": "code",
   "execution_count": 8,
   "metadata": {},
   "outputs": [
    {
     "name": "stdout",
     "output_type": "stream",
     "text": [
      "Fitting 2 folds for each of 4 candidates, totalling 8 fits\n",
      "Best params:  {'activation': 'relu', 'early_stopping': True, 'hidden_layer_sizes': (128, 64), 'learning_rate': 'adaptive', 'learning_rate_init': 0.001, 'solver': 'adam'}\n",
      "Accuracy Train Dev:  0.6984928694900605\n",
      "Accuracy Test:  0.670631067961165\n",
      "Weighted F1 Train Dev:  0.6903586753156541\n",
      "Weighted F1 Test:  0.6613119080812634\n",
      "Macro F1 Train Dev:  0.6855515578094915\n",
      "Macro F1 Test:  0.6535428289028284\n",
      "Micro F1 Train Dev:  0.6984928694900605\n",
      "Micro F1 Test:  0.670631067961165\n",
      "Weighted Recall Train Dev:  0.6984928694900605\n",
      "Weighted Recall Test:  0.670631067961165\n",
      "Macro Recall Train Dev:  0.6871072221531471\n",
      "Macro Recall Test:  0.6548833236198247\n",
      "Micro Recall Train Dev:  0.6984928694900605\n",
      "Micro Recall Test:  0.670631067961165\n",
      "Confusion Matrix Train Dev: \n",
      "[[ 9175  7942]\n",
      " [ 3221 16686]]\n",
      "Confusion Matrix Test: \n",
      "[[ 924  928]\n",
      " [ 429 1839]]\n"
     ]
    }
   ],
   "source": [
    "bertweet_dynahate_train_dev = np.concatenate((bertweet_dynahate_train_embeddings, bertweet_dynahate_dev_embeddings))\n",
    "\n",
    "grid_results = gridsearch.fit(bertweet_dynahate_train_dev, dynahate_labels_train_dev)\n",
    "\n",
    "best_params = grid_results.best_params_\n",
    "mlp = grid_results.best_estimator_\n",
    "\n",
    "print(\"Best params: \", best_params)\n",
    "\n",
    "train_dev_preds = mlp.predict(bertweet_dynahate_train_dev)\n",
    "test_preds = mlp.predict(bertweet_dynahate_test_embeddings)\n",
    "\n",
    "computeAllScores(train_dev_preds, test_preds, dynahate_labels_train_dev, dynahate_labels_test, \"Results/bertweet_dynahate\")\n",
    "save_model(mlp, \"Saves/bertweet_dynahate\")"
   ]
  },
  {
   "attachments": {},
   "cell_type": "markdown",
   "metadata": {},
   "source": [
    "#### LatentHatred"
   ]
  },
  {
   "cell_type": "code",
   "execution_count": 9,
   "metadata": {},
   "outputs": [
    {
     "name": "stdout",
     "output_type": "stream",
     "text": [
      "Fitting 2 folds for each of 4 candidates, totalling 8 fits\n",
      "Best params:  {'activation': 'relu', 'early_stopping': True, 'hidden_layer_sizes': 128, 'learning_rate': 'adaptive', 'learning_rate_init': 0.001, 'solver': 'adam'}\n",
      "Accuracy Train Dev:  0.6957790192427064\n",
      "Accuracy Test:  0.6884543761638734\n",
      "Weighted F1 Train Dev:  0.6625899153620184\n",
      "Weighted F1 Test:  0.652498463257425\n",
      "Macro F1 Train Dev:  0.4394263541326186\n",
      "Macro F1 Test:  0.429764674977289\n",
      "Micro F1 Train Dev:  0.6957790192427064\n",
      "Micro F1 Test:  0.6884543761638734\n",
      "Weighted Recall Train Dev:  0.6957790192427064\n",
      "Weighted Recall Test:  0.6884543761638734\n",
      "Macro Recall Train Dev:  0.4448717161591799\n",
      "Macro Recall Test:  0.4344745587600565\n",
      "Micro Recall Train Dev:  0.6957790192427064\n",
      "Micro Recall Test:  0.6884543761638734\n",
      "Confusion Matrix Train Dev: \n",
      "[[8845 1098    2]\n",
      " [2985 2361    1]\n",
      " [ 458  357    3]]\n",
      "Confusion Matrix Test: \n",
      "[[2989  356    1]\n",
      " [1046  706    1]\n",
      " [ 145  124    2]]\n"
     ]
    }
   ],
   "source": [
    "bertweet_latenthatred_train_dev = np.concatenate((bertweet_latenthatred_train_embeddings, bertweet_latenthatred_dev_embeddings))\n",
    "\n",
    "grid_results = gridsearch.fit(bertweet_latenthatred_train_dev, latenthatred_labels_train_dev)\n",
    "\n",
    "best_params = grid_results.best_params_\n",
    "mlp = grid_results.best_estimator_\n",
    "\n",
    "print(\"Best params: \", best_params)\n",
    "\n",
    "train_dev_preds = mlp.predict(bertweet_latenthatred_train_dev)\n",
    "test_preds = mlp.predict(bertweet_latenthatred_test_embeddings)\n",
    "\n",
    "computeAllScores(train_dev_preds, test_preds, latenthatred_labels_train_dev, latenthatred_labels_test, \"Results/bertweet_latenthatred\")\n",
    "save_model(mlp, \"Saves/bertweet_latenthatred\")"
   ]
  },
  {
   "attachments": {},
   "cell_type": "markdown",
   "metadata": {},
   "source": [
    "#### OLID"
   ]
  },
  {
   "cell_type": "code",
   "execution_count": 12,
   "metadata": {},
   "outputs": [
    {
     "name": "stdout",
     "output_type": "stream",
     "text": [
      "Fitting 2 folds for each of 4 candidates, totalling 8 fits\n",
      "Best params:  {'activation': 'relu', 'early_stopping': True, 'hidden_layer_sizes': 128, 'learning_rate': 'adaptive', 'learning_rate_init': 0.001, 'solver': 'adam'}\n",
      "Accuracy Train Dev:  0.7733383685800604\n",
      "Accuracy Test:  0.8162790697674419\n",
      "Weighted F1 Train Dev:  0.7652035851394984\n",
      "Weighted F1 Test:  0.8003818310148455\n",
      "Macro F1 Train Dev:  0.7279296548236107\n",
      "Macro F1 Test:  0.7361163977596693\n",
      "Micro F1 Train Dev:  0.7733383685800603\n",
      "Micro F1 Test:  0.8162790697674419\n",
      "Weighted Recall Train Dev:  0.7733383685800604\n",
      "Weighted Recall Test:  0.8162790697674419\n",
      "Macro Recall Train Dev:  0.7169657548334019\n",
      "Macro Recall Test:  0.7116935483870968\n",
      "Micro Recall Train Dev:  0.7733383685800604\n",
      "Micro Recall Test:  0.8162790697674419\n",
      "Confusion Matrix Train Dev: \n",
      "[[7824 1016]\n",
      " [1985 2415]]\n",
      "Confusion Matrix Test: \n",
      "[[588  32]\n",
      " [126 114]]\n"
     ]
    }
   ],
   "source": [
    "bertweet_olid_train_dev = np.concatenate((bertweet_olid_train_embeddings, bertweet_olid_dev_embeddings))\n",
    "\n",
    "grid_results = gridsearch.fit(bertweet_olid_train_dev, olid_labels_train_dev)\n",
    "\n",
    "best_params = grid_results.best_params_\n",
    "mlp = grid_results.best_estimator_\n",
    "\n",
    "print(\"Best params: \", best_params)\n",
    "\n",
    "train_dev_preds = mlp.predict(bertweet_olid_train_dev)\n",
    "test_preds = mlp.predict(bertweet_olid_test_embeddings)\n",
    "\n",
    "computeAllScores(train_dev_preds, test_preds, olid_labels_train_dev, olid_labels_test, \"Results/bertweet_olid\")\n",
    "\n",
    "save_model(mlp, \"Saves/bertweet_olid\")"
   ]
  }
 ],
 "metadata": {
  "kernelspec": {
   "display_name": "Python 3",
   "language": "python",
   "name": "python3"
  },
  "language_info": {
   "codemirror_mode": {
    "name": "ipython",
    "version": 3
   },
   "file_extension": ".py",
   "mimetype": "text/x-python",
   "name": "python",
   "nbconvert_exporter": "python",
   "pygments_lexer": "ipython3",
   "version": "3.9.13"
  },
  "orig_nbformat": 4,
  "vscode": {
   "interpreter": {
    "hash": "a5a87ee616be0254e3f1af9223138e3faeac65b2c9d91bc22a9fc5a4a8bd8eb0"
   }
  }
 },
 "nbformat": 4,
 "nbformat_minor": 2
}
