{
 "cells": [
  {
   "cell_type": "code",
   "execution_count": 1,
   "metadata": {},
   "outputs": [],
   "source": [
    "from utils import *\n",
    "import numpy as np\n",
    "import torch, os\n",
    "from sklearn.preprocessing import StandardScaler\n",
    "from sklearn.neural_network import MLPClassifier\n",
    "from sklearn.model_selection import GridSearchCV"
   ]
  },
  {
   "cell_type": "code",
   "execution_count": 2,
   "metadata": {},
   "outputs": [],
   "source": [
    "# def scaling_embeddings(embeddings):\n",
    "#     for i in range(len(embeddings)):\n",
    "#         embeddings[i] = StandardScaler().fit_transform(embeddings[i])\n",
    "#     return embeddings\n",
    "\n",
    "def reshape_embeddings(embeddings):\n",
    "    if embeddings.shape[1] == 1:\n",
    "        embeddings = embeddings.squeeze(1)\n",
    "    return embeddings"
   ]
  },
  {
   "cell_type": "code",
   "execution_count": 3,
   "metadata": {},
   "outputs": [],
   "source": [
    "dynahate_labels_train = process_labels(read_labels(\"dynahate\", \"train\"))\n",
    "dynahate_labels_dev = process_labels(read_labels(\"dynahate\", \"dev\"))\n",
    "dynahate_labels_test = process_labels(read_labels(\"dynahate\", \"test\"))\n",
    "\n",
    "latenthatred_labels_train = read_labels(\"latenthatred\", \"train\")\n",
    "latenthatred_labels_dev = read_labels(\"latenthatred\", \"dev\")\n",
    "latenthatred_labels_test = read_labels(\"latenthatred\", \"test\")\n",
    "\n",
    "olid_labels_train = read_labels(\"olid\", \"train\")\n",
    "olid_labels_dev = read_labels(\"olid\", \"dev\")\n",
    "olid_labels_test = read_labels(\"olid\", \"test\")"
   ]
  },
  {
   "cell_type": "code",
   "execution_count": 4,
   "metadata": {},
   "outputs": [],
   "source": [
    "mlp = MLPClassifier()\n",
    "gridsearch = GridSearchCV(\n",
    "    mlp,\n",
    "    param_grid={\n",
    "        \"hidden_layer_sizes\": [(128), (128,64)],\n",
    "        \"activation\": [\"relu\"],\n",
    "        \"solver\": [\"adam\"],\n",
    "        \"learning_rate_init\": [0.001, 0.0001],\n",
    "        \"learning_rate\": [\"adaptive\"],\n",
    "        \"early_stopping\": [True],\n",
    "        \"max_iter\": [10000],\n",
    "    },\n",
    "    verbose=4,\n",
    "    n_jobs=os.cpu_count()//3,\n",
    "    cv=5,\n",
    ")"
   ]
  },
  {
   "cell_type": "code",
   "execution_count": 5,
   "metadata": {},
   "outputs": [],
   "source": [
    "dynahate_labels_train_dev = np.concatenate((dynahate_labels_train, dynahate_labels_dev))\n",
    "latenthatred_labels_train_dev = np.concatenate((latenthatred_labels_train, latenthatred_labels_dev))\n",
    "olid_labels_train_dev = np.concatenate((olid_labels_train, olid_labels_dev))"
   ]
  },
  {
   "cell_type": "code",
   "execution_count": 6,
   "metadata": {},
   "outputs": [],
   "source": [
    "bert_dynahate_train_embeddings = reshape_embeddings(bert_dynahate_train_embeddings)\n",
    "bert_dynahate_dev_embeddings = reshape_embeddings(bert_dynahate_dev_embeddings)\n",
    "bert_dynahate_test_embeddings = reshape_embeddings(bert_dynahate_test_embeddings)\n",
    "\n",
    "bert_latenthatred_train_embeddings = reshape_embeddings(bert_latenthatred_train_embeddings)\n",
    "bert_latenthatred_dev_embeddings = reshape_embeddings(bert_latenthatred_dev_embeddings)\n",
    "bert_latenthatred_test_embeddings = reshape_embeddings(bert_latenthatred_test_embeddings)\n",
    "\n",
    "bert_olid_train_embeddings = reshape_embeddings(bert_olid_train_embeddings)\n",
    "bert_olid_dev_embeddings = reshape_embeddings(bert_olid_dev_embeddings)\n",
    "bert_olid_test_embeddings = reshape_embeddings(bert_olid_test_embeddings)"
   ]
  },
  {
   "attachments": {},
   "cell_type": "markdown",
   "metadata": {},
   "source": [
    "### BERT"
   ]
  },
  {
   "attachments": {},
   "cell_type": "markdown",
   "metadata": {},
   "source": [
    "#### DynaHate"
   ]
  },
  {
   "cell_type": "code",
   "execution_count": 7,
   "metadata": {},
   "outputs": [
    {
     "name": "stdout",
     "output_type": "stream",
     "text": [
      "Fitting 5 folds for each of 4 candidates, totalling 20 fits\n",
      "Best params:  {'activation': 'relu', 'early_stopping': True, 'hidden_layer_sizes': (128, 64), 'learning_rate': 'adaptive', 'learning_rate_init': 0.001, 'max_iter': 10000, 'solver': 'adam'}\n",
      "Accuracy Train Dev:  0.6787759291270528\n",
      "Accuracy Test:  0.6611650485436893\n",
      "Weighted F1 Train Dev:  0.6787726354930493\n",
      "Weighted F1 Test:  0.661198277429779\n",
      "Macro F1 Train Dev:  0.6769347877192148\n",
      "Macro F1 Test:  0.6577424732764539\n",
      "Micro F1 Train Dev:  0.6787759291270528\n",
      "Micro F1 Test:  0.6611650485436893\n",
      "Weighted Recall Train Dev:  0.6787759291270528\n",
      "Weighted Recall Test:  0.6611650485436893\n",
      "Macro Recall Train Dev:  0.6769311718489633\n",
      "Macro Recall Test:  0.6577740447430872\n",
      "Micro Recall Train Dev:  0.6787759291270528\n",
      "Micro Recall Test:  0.6611650485436893\n",
      "Confusion Matrix Train Dev: \n",
      "[[11168  5949]\n",
      " [ 5944 13963]]\n",
      "Confusion Matrix Test: \n",
      "[[1156  696]\n",
      " [ 700 1568]]\n"
     ]
    }
   ],
   "source": [
    "bert_dynahate_train_dev = np.concatenate((bert_dynahate_train_embeddings, bert_dynahate_dev_embeddings))\n",
    "\n",
    "grid_results = gridsearch.fit(bert_dynahate_train_dev, dynahate_labels_train_dev)\n",
    "\n",
    "best_params = grid_results.best_params_\n",
    "mlp = grid_results.best_estimator_\n",
    "\n",
    "print(\"Best params: \", best_params)\n",
    "\n",
    "train_dev_preds = mlp.predict(bert_dynahate_train_dev)\n",
    "test_preds = mlp.predict(bert_dynahate_test_embeddings)\n",
    "\n",
    "computeAllScores(train_dev_preds, test_preds, dynahate_labels_train_dev, dynahate_labels_test, \"Results/bert_dynahate\")\n",
    "save_model(mlp, \"Saves/bert_dynahate\")"
   ]
  },
  {
   "attachments": {},
   "cell_type": "markdown",
   "metadata": {},
   "source": [
    "#### LatentHatred"
   ]
  },
  {
   "cell_type": "code",
   "execution_count": 10,
   "metadata": {},
   "outputs": [
    {
     "name": "stdout",
     "output_type": "stream",
     "text": [
      "Fitting 5 folds for each of 4 candidates, totalling 20 fits\n",
      "Best params:  {'activation': 'relu', 'early_stopping': True, 'hidden_layer_sizes': 128, 'learning_rate': 'adaptive', 'learning_rate_init': 0.001, 'max_iter': 10000, 'solver': 'adam'}\n",
      "Accuracy Train Dev:  0.6792054624456859\n",
      "Accuracy Test:  0.6804469273743017\n",
      "Weighted F1 Train Dev:  0.6544937224909636\n",
      "Weighted F1 Test:  0.6557211814076632\n",
      "Macro F1 Train Dev:  0.4385309599791611\n",
      "Macro F1 Test:  0.442001430604519\n",
      "Micro F1 Train Dev:  0.6792054624456859\n",
      "Micro F1 Test:  0.6804469273743017\n",
      "Weighted Recall Train Dev:  0.6792054624456859\n",
      "Weighted Recall Test:  0.6804469273743017\n",
      "Macro Recall Train Dev:  0.4440187856811955\n",
      "Macro Recall Test:  0.44417387676416514\n",
      "Micro Recall Train Dev:  0.6792054624456859\n",
      "Micro Recall Test:  0.6804469273743017\n",
      "Confusion Matrix Train Dev: \n",
      "[[8345 1596    4]\n",
      " [2749 2590    8]\n",
      " [ 366  445    7]]\n",
      "Confusion Matrix Test: \n",
      "[[2826  520    0]\n",
      " [ 924  823    6]\n",
      " [ 111  155    5]]\n"
     ]
    }
   ],
   "source": [
    "bert_latenthatred_train_dev = np.concatenate((bert_latenthatred_train_embeddings, bert_latenthatred_dev_embeddings))\n",
    "\n",
    "grid_results = gridsearch.fit(bert_latenthatred_train_dev, latenthatred_labels_train_dev)\n",
    "\n",
    "best_params = grid_results.best_params_\n",
    "mlp = grid_results.best_estimator_\n",
    "\n",
    "print(\"Best params: \", best_params)\n",
    "\n",
    "train_dev_preds = mlp.predict(bert_latenthatred_train_dev)\n",
    "test_preds = mlp.predict(bert_latenthatred_test_embeddings)\n",
    "\n",
    "computeAllScores(train_dev_preds, test_preds, latenthatred_labels_train_dev, latenthatred_labels_test, \"Results/bert_latenthatred\")\n",
    "save_model(mlp, \"Saves/bert_latenthatred\")"
   ]
  },
  {
   "attachments": {},
   "cell_type": "markdown",
   "metadata": {},
   "source": [
    "#### OLID"
   ]
  },
  {
   "cell_type": "code",
   "execution_count": 9,
   "metadata": {},
   "outputs": [
    {
     "name": "stdout",
     "output_type": "stream",
     "text": [
      "Fitting 5 folds for each of 4 candidates, totalling 20 fits\n",
      "Best params:  {'activation': 'relu', 'early_stopping': True, 'hidden_layer_sizes': (128, 64), 'learning_rate': 'adaptive', 'learning_rate_init': 0.001, 'max_iter': 10000, 'solver': 'adam'}\n",
      "Accuracy Train Dev:  0.7559667673716012\n",
      "Accuracy Test:  0.791860465116279\n",
      "Weighted F1 Train Dev:  0.7394663819048093\n",
      "Weighted F1 Test:  0.7613552716242301\n",
      "Macro F1 Train Dev:  0.6927135347621439\n",
      "Macro F1 Test:  0.6754888010540184\n",
      "Micro F1 Train Dev:  0.7559667673716011\n",
      "Micro F1 Test:  0.791860465116279\n",
      "Weighted Recall Train Dev:  0.7559667673716012\n",
      "Weighted Recall Test:  0.791860465116279\n",
      "Macro Recall Train Dev:  0.6803275401069518\n",
      "Macro Recall Test:  0.6551747311827957\n",
      "Micro Recall Train Dev:  0.7559667673716012\n",
      "Micro Recall Test:  0.791860465116279\n",
      "Confusion Matrix Train Dev: \n",
      "[[8008  832]\n",
      " [2399 2001]]\n",
      "Confusion Matrix Test: \n",
      "[[598  22]\n",
      " [157  83]]\n"
     ]
    }
   ],
   "source": [
    "bert_olid_train_dev = np.concatenate((bert_olid_train_embeddings, bert_olid_dev_embeddings))\n",
    "\n",
    "grid_results = gridsearch.fit(bert_olid_train_dev, olid_labels_train_dev)\n",
    "\n",
    "best_params = grid_results.best_params_\n",
    "mlp = grid_results.best_estimator_\n",
    "\n",
    "print(\"Best params: \", best_params)\n",
    "\n",
    "train_dev_preds = mlp.predict(bert_olid_train_dev)\n",
    "test_preds = mlp.predict(bert_olid_test_embeddings)\n",
    "\n",
    "computeAllScores(train_dev_preds, test_preds, olid_labels_train_dev, olid_labels_test, \"Results/bert_olid\")\n",
    "\n",
    "save_model(mlp, \"Saves/bert_olid\")"
   ]
  }
 ],
 "metadata": {
  "kernelspec": {
   "display_name": "Python 3",
   "language": "python",
   "name": "python3"
  },
  "language_info": {
   "codemirror_mode": {
    "name": "ipython",
    "version": 3
   },
   "file_extension": ".py",
   "mimetype": "text/x-python",
   "name": "python",
   "nbconvert_exporter": "python",
   "pygments_lexer": "ipython3",
   "version": "3.9.13"
  },
  "orig_nbformat": 4,
  "vscode": {
   "interpreter": {
    "hash": "a5a87ee616be0254e3f1af9223138e3faeac65b2c9d91bc22a9fc5a4a8bd8eb0"
   }
  }
 },
 "nbformat": 4,
 "nbformat_minor": 2
}
