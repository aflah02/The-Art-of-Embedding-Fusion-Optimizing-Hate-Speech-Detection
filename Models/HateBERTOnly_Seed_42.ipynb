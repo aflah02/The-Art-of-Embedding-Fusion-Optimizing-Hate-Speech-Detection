{
 "cells": [
  {
   "cell_type": "code",
   "execution_count": 1,
   "metadata": {},
   "outputs": [
    {
     "name": "stderr",
     "output_type": "stream",
     "text": [
      "c:\\Python310\\lib\\site-packages\\tqdm\\auto.py:22: TqdmWarning: IProgress not found. Please update jupyter and ipywidgets. See https://ipywidgets.readthedocs.io/en/stable/user_install.html\n",
      "  from .autonotebook import tqdm as notebook_tqdm\n"
     ]
    }
   ],
   "source": [
    "from utils import *\n",
    "import numpy as np\n",
    "import torch, os\n",
    "from sklearn.preprocessing import StandardScaler\n",
    "from sklearn.neural_network import MLPClassifier\n",
    "from sklearn.model_selection import GridSearchCV"
   ]
  },
  {
   "cell_type": "code",
   "execution_count": 2,
   "metadata": {},
   "outputs": [
    {
     "name": "stdout",
     "output_type": "stream",
     "text": [
      "Seed: 42\n"
     ]
    }
   ],
   "source": [
    "set_random_seed(42)"
   ]
  },
  {
   "cell_type": "code",
   "execution_count": 3,
   "metadata": {},
   "outputs": [],
   "source": [
    "# def scaling_embeddings(embeddings):\n",
    "#     for i in range(len(embeddings)):\n",
    "#         embeddings[i] = StandardScaler().fit_transform(embeddings[i])\n",
    "#     return embeddings\n",
    "\n",
    "def reshape_embeddings(embeddings):\n",
    "    if embeddings.shape[1] == 1:\n",
    "        embeddings = embeddings.squeeze(1)\n",
    "    return embeddings"
   ]
  },
  {
   "cell_type": "code",
   "execution_count": 4,
   "metadata": {},
   "outputs": [],
   "source": [
    "dynahate_labels_train = process_labels(read_labels(\"dynahate\", \"train\"))\n",
    "dynahate_labels_dev = process_labels(read_labels(\"dynahate\", \"dev\"))\n",
    "dynahate_labels_test = process_labels(read_labels(\"dynahate\", \"test\"))\n",
    "\n",
    "latenthatred_labels_train = read_labels(\"latenthatred\", \"train\")\n",
    "latenthatred_labels_dev = read_labels(\"latenthatred\", \"dev\")\n",
    "latenthatred_labels_test = read_labels(\"latenthatred\", \"test\")\n",
    "\n",
    "olid_labels_train = read_labels(\"olid\", \"train\")\n",
    "olid_labels_dev = read_labels(\"olid\", \"dev\")\n",
    "olid_labels_test = read_labels(\"olid\", \"test\")"
   ]
  },
  {
   "cell_type": "code",
   "execution_count": 5,
   "metadata": {},
   "outputs": [],
   "source": [
    "mlp = MLPClassifier(random_state=42)\n",
    "gridsearch = GridSearchCV(\n",
    "    mlp,\n",
    "    param_grid={\n",
    "        \"hidden_layer_sizes\": [(128), (128,64)],\n",
    "        \"activation\": [\"relu\"],\n",
    "        \"solver\": [\"adam\"],\n",
    "        \"learning_rate_init\": [0.001, 0.0001],\n",
    "        \"learning_rate\": [\"adaptive\"],\n",
    "        \"early_stopping\": [True],\n",
    "        \"max_iter\": [10000]\n",
    "    },\n",
    "    verbose=4,\n",
    "    n_jobs=os.cpu_count()//3,\n",
    "    cv=5,\n",
    ")"
   ]
  },
  {
   "cell_type": "code",
   "execution_count": 6,
   "metadata": {},
   "outputs": [],
   "source": [
    "dynahate_labels_train_dev = np.concatenate((dynahate_labels_train, dynahate_labels_dev))\n",
    "latenthatred_labels_train_dev = np.concatenate((latenthatred_labels_train, latenthatred_labels_dev))\n",
    "olid_labels_train_dev = np.concatenate((olid_labels_train, olid_labels_dev))"
   ]
  },
  {
   "cell_type": "code",
   "execution_count": 7,
   "metadata": {},
   "outputs": [],
   "source": [
    "hatebert_dynahate_train_embeddings = reshape_embeddings(hatebert_dynahate_train_embeddings)\n",
    "hatebert_dynahate_dev_embeddings = reshape_embeddings(hatebert_dynahate_dev_embeddings)\n",
    "hatebert_dynahate_test_embeddings = reshape_embeddings(hatebert_dynahate_test_embeddings)\n",
    "\n",
    "hatebert_latenthatred_train_embeddings = reshape_embeddings(hatebert_latenthatred_train_embeddings)\n",
    "hatebert_latenthatred_dev_embeddings = reshape_embeddings(hatebert_latenthatred_dev_embeddings)\n",
    "hatebert_latenthatred_test_embeddings = reshape_embeddings(hatebert_latenthatred_test_embeddings)\n",
    "\n",
    "hatebert_olid_train_embeddings = reshape_embeddings(hatebert_olid_train_embeddings)\n",
    "hatebert_olid_dev_embeddings = reshape_embeddings(hatebert_olid_dev_embeddings)\n",
    "hatebert_olid_test_embeddings = reshape_embeddings(hatebert_olid_test_embeddings)"
   ]
  },
  {
   "attachments": {},
   "cell_type": "markdown",
   "metadata": {},
   "source": [
    "### HateBERT"
   ]
  },
  {
   "attachments": {},
   "cell_type": "markdown",
   "metadata": {},
   "source": [
    "#### DynaHate"
   ]
  },
  {
   "cell_type": "code",
   "execution_count": 8,
   "metadata": {},
   "outputs": [
    {
     "name": "stdout",
     "output_type": "stream",
     "text": [
      "Fitting 5 folds for each of 4 candidates, totalling 20 fits\n",
      "Best params:  {'activation': 'relu', 'early_stopping': True, 'hidden_layer_sizes': 128, 'learning_rate': 'adaptive', 'learning_rate_init': 0.001, 'max_iter': 10000, 'solver': 'adam'}\n",
      "Accuracy Train Dev:  0.7054883318928262\n",
      "Accuracy Test:  0.6881067961165048\n",
      "Weighted F1 Train Dev:  0.7056457637472098\n",
      "Weighted F1 Test:  0.6885700819497024\n",
      "Macro F1 Train Dev:  0.7041415347275866\n",
      "Macro F1 Test:  0.685929987338604\n",
      "Micro F1 Train Dev:  0.7054883318928262\n",
      "Micro F1 Test:  0.6881067961165048\n",
      "Weighted Recall Train Dev:  0.7054883318928262\n",
      "Weighted Recall Test:  0.6881067961165048\n",
      "Macro Recall Train Dev:  0.7044040791902362\n",
      "Macro Recall Test:  0.6867017305282244\n",
      "Micro Recall Train Dev:  0.7054883318928262\n",
      "Micro Recall Test:  0.6881067961165048\n",
      "Confusion Matrix Train Dev: \n",
      "[[11811  5306]\n",
      " [ 5598 14309]]\n",
      "Confusion Matrix Test: \n",
      "[[1246  606]\n",
      " [ 679 1589]]\n"
     ]
    }
   ],
   "source": [
    "hatebert_dynahate_train_dev = np.concatenate((hatebert_dynahate_train_embeddings, hatebert_dynahate_dev_embeddings))\n",
    "\n",
    "grid_results = gridsearch.fit(hatebert_dynahate_train_dev, dynahate_labels_train_dev)\n",
    "\n",
    "best_params = grid_results.best_params_\n",
    "mlp = grid_results.best_estimator_\n",
    "\n",
    "print(\"Best params: \", best_params)\n",
    "\n",
    "train_dev_preds = mlp.predict(hatebert_dynahate_train_dev)\n",
    "test_preds = mlp.predict(hatebert_dynahate_test_embeddings)\n",
    "\n",
    "computeAllScores(train_dev_preds, test_preds, dynahate_labels_train_dev, dynahate_labels_test, \"Results/hatebert_dynahate_seed_42\")\n",
    "save_model(mlp, \"Saves/hatebert_dynahate_seed_42\")"
   ]
  },
  {
   "attachments": {},
   "cell_type": "markdown",
   "metadata": {},
   "source": [
    "#### LatentHatred"
   ]
  },
  {
   "cell_type": "code",
   "execution_count": 9,
   "metadata": {},
   "outputs": [
    {
     "name": "stdout",
     "output_type": "stream",
     "text": [
      "Fitting 5 folds for each of 4 candidates, totalling 20 fits\n",
      "Best params:  {'activation': 'relu', 'early_stopping': True, 'hidden_layer_sizes': (128, 64), 'learning_rate': 'adaptive', 'learning_rate_init': 0.001, 'max_iter': 10000, 'solver': 'adam'}\n",
      "Accuracy Train Dev:  0.7103041589075109\n",
      "Accuracy Test:  0.68975791433892\n",
      "Weighted F1 Train Dev:  0.6768567113678088\n",
      "Weighted F1 Test:  0.6522328553750266\n",
      "Macro F1 Train Dev:  0.47036377403012125\n",
      "Macro F1 Test:  0.4366347891209231\n",
      "Micro F1 Train Dev:  0.7103041589075109\n",
      "Micro F1 Test:  0.68975791433892\n",
      "Weighted Recall Train Dev:  0.7103041589075109\n",
      "Weighted Recall Test:  0.68975791433892\n",
      "Macro Recall Train Dev:  0.4633852066723381\n",
      "Macro Recall Test:  0.43679655131169554\n",
      "Micro Recall Train Dev:  0.7103041589075109\n",
      "Micro Recall Test:  0.68975791433892\n",
      "Confusion Matrix Train Dev: \n",
      "[[9092  845    8]\n",
      " [3018 2316   13]\n",
      " [ 410  373   35]]\n",
      "Confusion Matrix Test: \n",
      "[[3024  318    4]\n",
      " [1073  674    6]\n",
      " [ 154  111    6]]\n"
     ]
    }
   ],
   "source": [
    "hatebert_latenthatred_train_dev = np.concatenate((hatebert_latenthatred_train_embeddings, hatebert_latenthatred_dev_embeddings))\n",
    "\n",
    "grid_results = gridsearch.fit(hatebert_latenthatred_train_dev, latenthatred_labels_train_dev)\n",
    "\n",
    "best_params = grid_results.best_params_\n",
    "mlp = grid_results.best_estimator_\n",
    "\n",
    "print(\"Best params: \", best_params)\n",
    "\n",
    "train_dev_preds = mlp.predict(hatebert_latenthatred_train_dev)\n",
    "test_preds = mlp.predict(hatebert_latenthatred_test_embeddings)\n",
    "\n",
    "computeAllScores(train_dev_preds, test_preds, latenthatred_labels_train_dev, latenthatred_labels_test, \"Results/hatebert_latenthatred_seed_42\")\n",
    "save_model(mlp, \"Saves/hatebert_latenthatred_seed_42\")"
   ]
  },
  {
   "attachments": {},
   "cell_type": "markdown",
   "metadata": {},
   "source": [
    "#### OLID"
   ]
  },
  {
   "cell_type": "code",
   "execution_count": 10,
   "metadata": {},
   "outputs": [
    {
     "name": "stdout",
     "output_type": "stream",
     "text": [
      "Fitting 5 folds for each of 4 candidates, totalling 20 fits\n",
      "Best params:  {'activation': 'relu', 'early_stopping': True, 'hidden_layer_sizes': 128, 'learning_rate': 'adaptive', 'learning_rate_init': 0.001, 'max_iter': 10000, 'solver': 'adam'}\n",
      "Accuracy Train Dev:  0.7627643504531723\n",
      "Accuracy Test:  0.791860465116279\n",
      "Weighted F1 Train Dev:  0.7577082807468295\n",
      "Weighted F1 Test:  0.7756450810442447\n",
      "Macro F1 Train Dev:  0.722018376937352\n",
      "Macro F1 Test:  0.7048192655571983\n",
      "Micro F1 Train Dev:  0.7627643504531721\n",
      "Micro F1 Test:  0.791860465116279\n",
      "Weighted Recall Train Dev:  0.7627643504531723\n",
      "Weighted Recall Test:  0.791860465116279\n",
      "Macro Recall Train Dev:  0.714754730563554\n",
      "Macro Recall Test:  0.6858198924731183\n",
      "Micro Recall Train Dev:  0.7627643504531723\n",
      "Micro Recall Test:  0.791860465116279\n",
      "Confusion Matrix Train Dev: \n",
      "[[7584 1256]\n",
      " [1885 2515]]\n",
      "Confusion Matrix Test: \n",
      "[[574  46]\n",
      " [133 107]]\n"
     ]
    }
   ],
   "source": [
    "hatebert_olid_train_dev = np.concatenate((hatebert_olid_train_embeddings, hatebert_olid_dev_embeddings))\n",
    "\n",
    "grid_results = gridsearch.fit(hatebert_olid_train_dev, olid_labels_train_dev)\n",
    "\n",
    "best_params = grid_results.best_params_\n",
    "mlp = grid_results.best_estimator_\n",
    "\n",
    "print(\"Best params: \", best_params)\n",
    "\n",
    "train_dev_preds = mlp.predict(hatebert_olid_train_dev)\n",
    "test_preds = mlp.predict(hatebert_olid_test_embeddings)\n",
    "\n",
    "computeAllScores(train_dev_preds, test_preds, olid_labels_train_dev, olid_labels_test, \"Results/hatebert_olid_seed_42\")\n",
    "\n",
    "save_model(mlp, \"Saves/hatebert_olid_seed_42\")"
   ]
  }
 ],
 "metadata": {
  "kernelspec": {
   "display_name": "Python 3",
   "language": "python",
   "name": "python3"
  },
  "language_info": {
   "codemirror_mode": {
    "name": "ipython",
    "version": 3
   },
   "file_extension": ".py",
   "mimetype": "text/x-python",
   "name": "python",
   "nbconvert_exporter": "python",
   "pygments_lexer": "ipython3",
   "version": "3.10.1"
  },
  "orig_nbformat": 4,
  "vscode": {
   "interpreter": {
    "hash": "369f2c481f4da34e4445cda3fffd2e751bd1c4d706f27375911949ba6bb62e1c"
   }
  }
 },
 "nbformat": 4,
 "nbformat_minor": 2
}
