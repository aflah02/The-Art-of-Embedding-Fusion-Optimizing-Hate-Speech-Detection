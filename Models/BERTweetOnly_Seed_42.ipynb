{
 "cells": [
  {
   "cell_type": "code",
   "execution_count": 1,
   "metadata": {},
   "outputs": [],
   "source": [
    "from utils import *\n",
    "import numpy as np\n",
    "import torch, os\n",
    "from sklearn.preprocessing import StandardScaler\n",
    "from sklearn.neural_network import MLPClassifier\n",
    "from sklearn.model_selection import GridSearchCV"
   ]
  },
  {
   "cell_type": "code",
   "execution_count": 2,
   "metadata": {},
   "outputs": [
    {
     "name": "stdout",
     "output_type": "stream",
     "text": [
      "Seed: 42\n"
     ]
    }
   ],
   "source": [
    "set_random_seed(42)"
   ]
  },
  {
   "cell_type": "code",
   "execution_count": 3,
   "metadata": {},
   "outputs": [],
   "source": [
    "# def scaling_embeddings(embeddings):\n",
    "#     for i in range(len(embeddings)):\n",
    "#         embeddings[i] = StandardScaler().fit_transform(embeddings[i])\n",
    "#     return embeddings\n",
    "\n",
    "def reshape_embeddings(embeddings):\n",
    "    if embeddings.shape[1] == 1:\n",
    "        embeddings = embeddings.squeeze(1)\n",
    "    return embeddings"
   ]
  },
  {
   "cell_type": "code",
   "execution_count": 4,
   "metadata": {},
   "outputs": [],
   "source": [
    "dynahate_labels_train = process_labels(read_labels(\"dynahate\", \"train\"))\n",
    "dynahate_labels_dev = process_labels(read_labels(\"dynahate\", \"dev\"))\n",
    "dynahate_labels_test = process_labels(read_labels(\"dynahate\", \"test\"))\n",
    "\n",
    "latenthatred_labels_train = read_labels(\"latenthatred\", \"train\")\n",
    "latenthatred_labels_dev = read_labels(\"latenthatred\", \"dev\")\n",
    "latenthatred_labels_test = read_labels(\"latenthatred\", \"test\")\n",
    "\n",
    "olid_labels_train = read_labels(\"olid\", \"train\")\n",
    "olid_labels_dev = read_labels(\"olid\", \"dev\")\n",
    "olid_labels_test = read_labels(\"olid\", \"test\")"
   ]
  },
  {
   "cell_type": "code",
   "execution_count": 5,
   "metadata": {},
   "outputs": [],
   "source": [
    "mlp = MLPClassifier(random_state=42)\n",
    "gridsearch = GridSearchCV(\n",
    "    mlp,\n",
    "    param_grid={\n",
    "        \"hidden_layer_sizes\": [(128), (128,64)],\n",
    "        \"activation\": [\"relu\"],\n",
    "        \"solver\": [\"adam\"],\n",
    "        \"learning_rate_init\": [0.001, 0.0001],\n",
    "        \"learning_rate\": [\"adaptive\"],\n",
    "        \"early_stopping\": [True],\n",
    "        \"max_iter\": [10000]\n",
    "    },\n",
    "    verbose=4,\n",
    "    n_jobs=os.cpu_count()//3,\n",
    "    cv=5,\n",
    ")"
   ]
  },
  {
   "cell_type": "code",
   "execution_count": 6,
   "metadata": {},
   "outputs": [],
   "source": [
    "dynahate_labels_train_dev = np.concatenate((dynahate_labels_train, dynahate_labels_dev))\n",
    "latenthatred_labels_train_dev = np.concatenate((latenthatred_labels_train, latenthatred_labels_dev))\n",
    "olid_labels_train_dev = np.concatenate((olid_labels_train, olid_labels_dev))"
   ]
  },
  {
   "cell_type": "code",
   "execution_count": 7,
   "metadata": {},
   "outputs": [],
   "source": [
    "bertweet_dynahate_train_embeddings = reshape_embeddings(bertweet_dynahate_train_embeddings)\n",
    "bertweet_dynahate_dev_embeddings = reshape_embeddings(bertweet_dynahate_dev_embeddings)\n",
    "bertweet_dynahate_test_embeddings = reshape_embeddings(bertweet_dynahate_test_embeddings)\n",
    "\n",
    "bertweet_latenthatred_train_embeddings = reshape_embeddings(bertweet_latenthatred_train_embeddings)\n",
    "bertweet_latenthatred_dev_embeddings = reshape_embeddings(bertweet_latenthatred_dev_embeddings)\n",
    "bertweet_latenthatred_test_embeddings = reshape_embeddings(bertweet_latenthatred_test_embeddings)\n",
    "\n",
    "bertweet_olid_train_embeddings = reshape_embeddings(bertweet_olid_train_embeddings)\n",
    "bertweet_olid_dev_embeddings = reshape_embeddings(bertweet_olid_dev_embeddings)\n",
    "bertweet_olid_test_embeddings = reshape_embeddings(bertweet_olid_test_embeddings)"
   ]
  },
  {
   "attachments": {},
   "cell_type": "markdown",
   "metadata": {},
   "source": [
    "### BERTweet"
   ]
  },
  {
   "attachments": {},
   "cell_type": "markdown",
   "metadata": {},
   "source": [
    "#### DynaHate"
   ]
  },
  {
   "cell_type": "code",
   "execution_count": 8,
   "metadata": {},
   "outputs": [
    {
     "name": "stdout",
     "output_type": "stream",
     "text": [
      "Fitting 5 folds for each of 4 candidates, totalling 20 fits\n",
      "Best params:  {'activation': 'relu', 'early_stopping': True, 'hidden_layer_sizes': 128, 'learning_rate': 'adaptive', 'learning_rate_init': 0.001, 'max_iter': 10000, 'solver': 'adam'}\n",
      "Accuracy Train Dev:  0.7467318496110631\n",
      "Accuracy Test:  0.6393203883495145\n",
      "Weighted F1 Train Dev:  0.7460606929651759\n",
      "Weighted F1 Test:  0.6390733580614165\n",
      "Macro F1 Train Dev:  0.7441081100225004\n",
      "Macro F1 Test:  0.6351208734518479\n",
      "Micro F1 Train Dev:  0.7467318496110632\n",
      "Micro F1 Test:  0.6393203883495145\n",
      "Weighted Recall Train Dev:  0.7467318496110631\n",
      "Weighted Recall Test:  0.6393203883495145\n",
      "Macro Recall Train Dev:  0.7433223850019257\n",
      "Macro Recall Test:  0.6349615840256589\n",
      "Micro Recall Train Dev:  0.7467318496110631\n",
      "Micro Recall Test:  0.6393203883495145\n",
      "Confusion Matrix Train Dev: \n",
      "[[11949  5168]\n",
      " [ 4209 15698]]\n",
      "Confusion Matrix Test: \n",
      "[[1096  756]\n",
      " [ 730 1538]]\n"
     ]
    }
   ],
   "source": [
    "bertweet_dynahate_train_dev = np.concatenate((bertweet_dynahate_train_embeddings, bertweet_dynahate_dev_embeddings))\n",
    "\n",
    "grid_results = gridsearch.fit(bertweet_dynahate_train_dev, dynahate_labels_train_dev)\n",
    "\n",
    "best_params = grid_results.best_params_\n",
    "mlp = grid_results.best_estimator_\n",
    "\n",
    "print(\"Best params: \", best_params)\n",
    "\n",
    "train_dev_preds = mlp.predict(bertweet_dynahate_train_dev)\n",
    "test_preds = mlp.predict(bertweet_dynahate_test_embeddings)\n",
    "\n",
    "computeAllScores(train_dev_preds, test_preds, dynahate_labels_train_dev, dynahate_labels_test, \"Results/bertweet_dynahate_seed_42\")\n",
    "save_model(mlp, \"Saves/bertweet_dynahate_seed_42\")"
   ]
  },
  {
   "attachments": {},
   "cell_type": "markdown",
   "metadata": {},
   "source": [
    "#### LatentHatred"
   ]
  },
  {
   "cell_type": "code",
   "execution_count": 9,
   "metadata": {},
   "outputs": [
    {
     "name": "stdout",
     "output_type": "stream",
     "text": [
      "Fitting 5 folds for each of 4 candidates, totalling 20 fits\n",
      "Best params:  {'activation': 'relu', 'early_stopping': True, 'hidden_layer_sizes': 128, 'learning_rate': 'adaptive', 'learning_rate_init': 0.001, 'max_iter': 10000, 'solver': 'adam'}\n",
      "Accuracy Train Dev:  0.7246430788330229\n",
      "Accuracy Test:  0.7061452513966481\n",
      "Weighted F1 Train Dev:  0.6984257644919438\n",
      "Weighted F1 Test:  0.677392429756284\n",
      "Macro F1 Train Dev:  0.5196885190032641\n",
      "Macro F1 Test:  0.4945078615033271\n",
      "Micro F1 Train Dev:  0.724643078833023\n",
      "Micro F1 Test:  0.7061452513966481\n",
      "Weighted Recall Train Dev:  0.7246430788330229\n",
      "Weighted Recall Test:  0.7061452513966481\n",
      "Macro Recall Train Dev:  0.4979786008805159\n",
      "Macro Recall Test:  0.4765877939070815\n",
      "Micro Recall Train Dev:  0.7246430788330229\n",
      "Micro Recall Test:  0.7061452513966481\n",
      "Confusion Matrix Train Dev: \n",
      "[[9074  844   27]\n",
      " [2786 2508   53]\n",
      " [ 405  321   92]]\n",
      "Confusion Matrix Test: \n",
      "[[3022  311   13]\n",
      " [ 989  742   22]\n",
      " [ 133  110   28]]\n"
     ]
    }
   ],
   "source": [
    "bertweet_latenthatred_train_dev = np.concatenate((bertweet_latenthatred_train_embeddings, bertweet_latenthatred_dev_embeddings))\n",
    "\n",
    "grid_results = gridsearch.fit(bertweet_latenthatred_train_dev, latenthatred_labels_train_dev)\n",
    "\n",
    "best_params = grid_results.best_params_\n",
    "mlp = grid_results.best_estimator_\n",
    "\n",
    "print(\"Best params: \", best_params)\n",
    "\n",
    "train_dev_preds = mlp.predict(bertweet_latenthatred_train_dev)\n",
    "test_preds = mlp.predict(bertweet_latenthatred_test_embeddings)\n",
    "\n",
    "computeAllScores(train_dev_preds, test_preds, latenthatred_labels_train_dev, latenthatred_labels_test, \"Results/bertweet_latenthatred_seed_42\")\n",
    "save_model(mlp, \"Saves/bertweet_latenthatred_seed_42\")"
   ]
  },
  {
   "attachments": {},
   "cell_type": "markdown",
   "metadata": {},
   "source": [
    "#### OLID"
   ]
  },
  {
   "cell_type": "code",
   "execution_count": 10,
   "metadata": {},
   "outputs": [
    {
     "name": "stdout",
     "output_type": "stream",
     "text": [
      "Fitting 5 folds for each of 4 candidates, totalling 20 fits\n",
      "Best params:  {'activation': 'relu', 'early_stopping': True, 'hidden_layer_sizes': 128, 'learning_rate': 'adaptive', 'learning_rate_init': 0.001, 'max_iter': 10000, 'solver': 'adam'}\n",
      "Accuracy Train Dev:  0.756797583081571\n",
      "Accuracy Test:  0.7872093023255814\n",
      "Weighted F1 Train Dev:  0.7449236052437894\n",
      "Weighted F1 Test:  0.7716402789417176\n",
      "Macro F1 Train Dev:  0.7021310227764601\n",
      "Macro F1 Test:  0.7003604128469187\n",
      "Micro F1 Train Dev:  0.756797583081571\n",
      "Micro F1 Test:  0.7872093023255814\n",
      "Weighted Recall Train Dev:  0.756797583081571\n",
      "Weighted Recall Test:  0.7872093023255814\n",
      "Macro Recall Train Dev:  0.690823735088441\n",
      "Macro Recall Test:  0.6825940860215054\n",
      "Micro Recall Train Dev:  0.756797583081571\n",
      "Micro Recall Test:  0.7872093023255814\n",
      "Confusion Matrix Train Dev: \n",
      "[[7846  994]\n",
      " [2226 2174]]\n",
      "Confusion Matrix Test: \n",
      "[[570  50]\n",
      " [133 107]]\n"
     ]
    }
   ],
   "source": [
    "bertweet_olid_train_dev = np.concatenate((bertweet_olid_train_embeddings, bertweet_olid_dev_embeddings))\n",
    "\n",
    "grid_results = gridsearch.fit(bertweet_olid_train_dev, olid_labels_train_dev)\n",
    "\n",
    "best_params = grid_results.best_params_\n",
    "mlp = grid_results.best_estimator_\n",
    "\n",
    "print(\"Best params: \", best_params)\n",
    "\n",
    "train_dev_preds = mlp.predict(bertweet_olid_train_dev)\n",
    "test_preds = mlp.predict(bertweet_olid_test_embeddings)\n",
    "\n",
    "computeAllScores(train_dev_preds, test_preds, olid_labels_train_dev, olid_labels_test, \"Results/bertweet_olid_seed_42\")\n",
    "\n",
    "save_model(mlp, \"Saves/bertweet_olid_seed_42\")"
   ]
  }
 ],
 "metadata": {
  "kernelspec": {
   "display_name": "Python 3",
   "language": "python",
   "name": "python3"
  },
  "language_info": {
   "codemirror_mode": {
    "name": "ipython",
    "version": 3
   },
   "file_extension": ".py",
   "mimetype": "text/x-python",
   "name": "python",
   "nbconvert_exporter": "python",
   "pygments_lexer": "ipython3",
   "version": "3.9.13"
  },
  "orig_nbformat": 4,
  "vscode": {
   "interpreter": {
    "hash": "a5a87ee616be0254e3f1af9223138e3faeac65b2c9d91bc22a9fc5a4a8bd8eb0"
   }
  }
 },
 "nbformat": 4,
 "nbformat_minor": 2
}
