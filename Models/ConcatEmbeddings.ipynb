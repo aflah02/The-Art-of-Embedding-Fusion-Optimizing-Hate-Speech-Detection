{
 "cells": [
  {
   "cell_type": "code",
   "execution_count": 1,
   "metadata": {},
   "outputs": [],
   "source": [
    "from utils import *\n",
    "import numpy as np\n",
    "import torch, os\n",
    "from sklearn.preprocessing import StandardScaler\n",
    "from sklearn.neural_network import MLPClassifier\n",
    "from sklearn.model_selection import GridSearchCV"
   ]
  },
  {
   "cell_type": "code",
   "execution_count": 2,
   "metadata": {},
   "outputs": [],
   "source": [
<<<<<<< HEAD
    "# def scaling_embeddings(embeddings):\n",
    "#     for i in range(len(embeddings)):\n",
    "#         embeddings[i] = StandardScaler().fit_transform(embeddings[i])\n",
    "#     return embeddings\n",
    "\n",
    "def reshape_embeddings(embeddings):\n",
    "    if embeddings.shape[1] == 1:\n",
    "        embeddings = embeddings.squeeze(1)\n",
    "    return embeddings"
=======
    "def concat_embeddings(embeddings1, embeddings2, raw = True):\n",
    "    embeddings = []\n",
    "    for i in range(embeddings1.shape[0]):\n",
    "        if raw:\n",
    "            embeddings.append(torch.cat((embeddings1[i], embeddings2[i]), 1))\n",
    "        else:\n",
    "            embeddings.append(torch.cat((embeddings1[i], embeddings2[i]), 0))\n",
    "    embeddings = torch.stack(embeddings)\n",
    "    embeddings = embeddings.reshape(embeddings.shape[0], -1)\n",
    "    return embeddings\n",
    "\n",
    "def scaling_embeddings(embeddings, train = True, scaler = None):\n",
    "    embeddings = embeddings.cpu()\n",
    "    if embeddings.shape[1] == 1:\n",
    "        embeddings = embeddings.squeeze(1)\n",
    "    embeddings = embeddings.detach().numpy()\n",
    "    if train == False:\n",
    "        return torch.from_numpy(scaler.transform(embeddings))\n",
    "    scaler = StandardScaler()\n",
    "    scaler.fit(embeddings)\n",
    "    return scaler, torch.from_numpy(scaler.transform(embeddings))"
>>>>>>> ab8b5785fb4e277dabcfbb15e75613ec856f49ef
   ]
  },
  {
   "cell_type": "code",
   "execution_count": 3,
   "metadata": {},
   "outputs": [],
   "source": [
<<<<<<< HEAD
    "def concat_2_embeddings(embeddings1, embeddings2):\n",
    "    embeddings1 = reshape_embeddings(embeddings1)\n",
    "    embeddings2 = reshape_embeddings(embeddings2)\n",
    "    # Numpy concat\n",
    "    return np.concatenate((embeddings1, embeddings2), axis=1)\n",
    "\n",
    "def concat_3_embeddings(embeddings1, embeddings2, embeddings3):\n",
    "    embeddings1 = reshape_embeddings(embeddings1)\n",
    "    embeddings2 = reshape_embeddings(embeddings2)\n",
    "    embeddings3 = reshape_embeddings(embeddings3)\n",
    "    return np.concatenate((embeddings1, embeddings2, embeddings3), axis=1)"
=======
    "# scaling embeddings for all the models with their respective datasets\n",
    "\n",
    "scaler, scaled_bert_dynahate_train_embeddings = scaling_embeddings(bert_dynahate_train_embeddings)\n",
    "scaled_bert_dynahate_test_embeddings = scaling_embeddings(bert_dynahate_test_embeddings, train = False, scaler = scaler)\n",
    "scaled_bert_dynahate_dev_embeddings = scaling_embeddings(bert_dynahate_dev_embeddings, train = False, scaler = scaler)\n",
    "\n",
    "scaler, scaled_bert_latenthatred_train_embeddings = scaling_embeddings(bert_latenthatred_train_embeddings)\n",
    "scaled_bert_latenthatred_test_embeddings = scaling_embeddings(bert_latenthatred_test_embeddings, train = False, scaler = scaler)\n",
    "scaled_bert_latenthatred_dev_embeddings = scaling_embeddings(bert_latenthatred_dev_embeddings, train = False, scaler = scaler)\n",
    "\n",
    "scaler, scaled_bert_olid_train_embeddings = scaling_embeddings(bert_olid_train_embeddings)\n",
    "scaled_bert_olid_test_embeddings = scaling_embeddings(bert_olid_test_embeddings, train = False, scaler = scaler)\n",
    "scaled_bert_olid_dev_embeddings = scaling_embeddings(bert_olid_dev_embeddings, train = False, scaler = scaler)\n",
    "\n",
    "scaler, scaled_bertweet_dynahate_train_embeddings = scaling_embeddings(bertweet_dynahate_train_embeddings)\n",
    "scaled_bertweet_dynahate_test_embeddings = scaling_embeddings(bertweet_dynahate_test_embeddings, train = False, scaler = scaler)\n",
    "scaled_bertweet_dynahate_dev_embeddings = scaling_embeddings(bertweet_dynahate_dev_embeddings, train = False, scaler = scaler)\n",
    "\n",
    "scaler, scaled_bertweet_latenthatred_train_embeddings = scaling_embeddings(bertweet_latenthatred_train_embeddings)\n",
    "scaled_bertweet_latenthatred_test_embeddings = scaling_embeddings(bertweet_latenthatred_test_embeddings, train = False, scaler = scaler)\n",
    "scaled_bertweet_latenthatred_dev_embeddings = scaling_embeddings(bertweet_latenthatred_dev_embeddings, train = False, scaler = scaler)\n",
    "\n",
    "scaler, scaled_bertweet_olid_train_embeddings = scaling_embeddings(bertweet_olid_train_embeddings)\n",
    "scaled_bertweet_olid_test_embeddings = scaling_embeddings(bertweet_olid_test_embeddings, train = False, scaler = scaler)\n",
    "scaled_bertweet_olid_dev_embeddings = scaling_embeddings(bertweet_olid_dev_embeddings, train = False, scaler = scaler)\n",
    "\n",
    "scaler, scaled_hatebert_dynahate_train_embeddings = scaling_embeddings(hatebert_dynahate_train_embeddings)\n",
    "scaled_hatebert_dynahate_test_embeddings = scaling_embeddings(hatebert_dynahate_test_embeddings, train = False, scaler = scaler)\n",
    "scaled_hatebert_dynahate_dev_embeddings = scaling_embeddings(hatebert_dynahate_dev_embeddings, train = False, scaler = scaler)\n",
    "\n",
    "scaler, scaled_hatebert_latenthatred_train_embeddings = scaling_embeddings(hatebert_latenthatred_train_embeddings)\n",
    "scaled_hatebert_latenthatred_test_embeddings = scaling_embeddings(hatebert_latenthatred_test_embeddings, train = False, scaler = scaler)\n",
    "scaled_hatebert_latenthatred_dev_embeddings = scaling_embeddings(hatebert_latenthatred_dev_embeddings, train = False, scaler = scaler)\n",
    "\n",
    "scaler, scaled_hatebert_olid_train_embeddings = scaling_embeddings(hatebert_olid_train_embeddings)\n",
    "scaled_hatebert_olid_test_embeddings = scaling_embeddings(hatebert_olid_test_embeddings, train = False, scaler = scaler)\n",
    "scaled_hatebert_olid_dev_embeddings = scaling_embeddings(hatebert_olid_dev_embeddings, train = False, scaler = scaler)"
>>>>>>> ab8b5785fb4e277dabcfbb15e75613ec856f49ef
   ]
  },
  {
   "cell_type": "code",
   "execution_count": 4,
   "metadata": {},
   "outputs": [],
   "source": [
    "bert_hatebert_concat_dynahate_train = concat_2_embeddings(bert_dynahate_train_embeddings, hatebert_dynahate_train_embeddings)\n",
    "bert_hatebert_concat_dynahate_dev = concat_2_embeddings(bert_dynahate_dev_embeddings, hatebert_dynahate_dev_embeddings)\n",
    "bert_hatebert_concat_dynahate_test = concat_2_embeddings(bert_dynahate_test_embeddings, hatebert_dynahate_test_embeddings)\n",
    "\n",
    "bert_bertweet_concat_dynahate_train = concat_2_embeddings(bert_dynahate_train_embeddings, bertweet_dynahate_train_embeddings)\n",
    "bert_bertweet_concat_dynahate_dev = concat_2_embeddings(bert_dynahate_dev_embeddings, bertweet_dynahate_dev_embeddings)\n",
    "bert_bertweet_concat_dynahate_test = concat_2_embeddings(bert_dynahate_test_embeddings, bertweet_dynahate_test_embeddings)\n",
    "\n",
    "hatebert_bertweet_concat_dynahate_train = concat_2_embeddings(hatebert_dynahate_train_embeddings, bertweet_dynahate_train_embeddings)\n",
    "hatebert_bertweet_concat_dynahate_dev = concat_2_embeddings(hatebert_dynahate_dev_embeddings, bertweet_dynahate_dev_embeddings)\n",
    "hatebert_bertweet_concat_dynahate_test = concat_2_embeddings(hatebert_dynahate_test_embeddings, bertweet_dynahate_test_embeddings)\n",
    "\n",
    "bert_hatebert_bertweet_concat_dynahate_train = concat_3_embeddings(bert_dynahate_train_embeddings, hatebert_dynahate_train_embeddings, bertweet_dynahate_train_embeddings)\n",
    "bert_hatebert_bertweet_concat_dynahate_dev = concat_3_embeddings(bert_dynahate_dev_embeddings, hatebert_dynahate_dev_embeddings, bertweet_dynahate_dev_embeddings)\n",
    "bert_hatebert_bertweet_concat_dynahate_test = concat_3_embeddings(bert_dynahate_test_embeddings, hatebert_dynahate_test_embeddings, bertweet_dynahate_test_embeddings)\n",
    "\n",
    "bert_hatebert_concat_olid_train = concat_2_embeddings(bert_olid_train_embeddings, hatebert_olid_train_embeddings)\n",
    "bert_hatebert_concat_olid_dev = concat_2_embeddings(bert_olid_dev_embeddings, hatebert_olid_dev_embeddings)\n",
    "bert_hatebert_concat_olid_test = concat_2_embeddings(bert_olid_test_embeddings, hatebert_olid_test_embeddings)\n",
    "\n",
    "bert_bertweet_concat_olid_train = concat_2_embeddings(bert_olid_train_embeddings, bertweet_olid_train_embeddings)\n",
    "bert_bertweet_concat_olid_dev = concat_2_embeddings(bert_olid_dev_embeddings, bertweet_olid_dev_embeddings)\n",
    "bert_bertweet_concat_olid_test = concat_2_embeddings(bert_olid_test_embeddings, bertweet_olid_test_embeddings)\n",
    "\n",
    "hatebert_bertweet_concat_olid_train = concat_2_embeddings(hatebert_olid_train_embeddings, bertweet_olid_train_embeddings)\n",
    "hatebert_bertweet_concat_olid_dev = concat_2_embeddings(hatebert_olid_dev_embeddings, bertweet_olid_dev_embeddings)\n",
    "hatebert_bertweet_concat_olid_test = concat_2_embeddings(hatebert_olid_test_embeddings, bertweet_olid_test_embeddings)\n",
    "\n",
    "bert_hatebert_bertweet_concat_olid_train = concat_3_embeddings(bert_olid_train_embeddings, hatebert_olid_train_embeddings, bertweet_olid_train_embeddings)\n",
    "bert_hatebert_bertweet_concat_olid_dev = concat_3_embeddings(bert_olid_dev_embeddings, hatebert_olid_dev_embeddings, bertweet_olid_dev_embeddings)\n",
    "bert_hatebert_bertweet_concat_olid_test = concat_3_embeddings(bert_olid_test_embeddings, hatebert_olid_test_embeddings, bertweet_olid_test_embeddings)\n",
    "\n",
    "bert_hatebert_concat_latenthatred_train = concat_2_embeddings(bert_latenthatred_train_embeddings, hatebert_latenthatred_train_embeddings)\n",
    "bert_hatebert_concat_latenthatred_dev = concat_2_embeddings(bert_latenthatred_dev_embeddings, hatebert_latenthatred_dev_embeddings)\n",
    "bert_hatebert_concat_latenthatred_test = concat_2_embeddings(bert_latenthatred_test_embeddings, hatebert_latenthatred_test_embeddings)\n",
    "\n",
    "bert_bertweet_concat_latenthatred_train = concat_2_embeddings(bert_latenthatred_train_embeddings, bertweet_latenthatred_train_embeddings)\n",
    "bert_bertweet_concat_latenthatred_dev = concat_2_embeddings(bert_latenthatred_dev_embeddings, bertweet_latenthatred_dev_embeddings)\n",
    "bert_bertweet_concat_latenthatred_test = concat_2_embeddings(bert_latenthatred_test_embeddings, bertweet_latenthatred_test_embeddings)\n",
    "\n",
    "hatebert_bertweet_concat_latenthatred_train = concat_2_embeddings(hatebert_latenthatred_train_embeddings, bertweet_latenthatred_train_embeddings)\n",
    "hatebert_bertweet_concat_latenthatred_dev = concat_2_embeddings(hatebert_latenthatred_dev_embeddings, bertweet_latenthatred_dev_embeddings)\n",
    "hatebert_bertweet_concat_latenthatred_test = concat_2_embeddings(hatebert_latenthatred_test_embeddings, bertweet_latenthatred_test_embeddings)\n",
    "\n",
    "bert_hatebert_bertweet_concat_latenthatred_train = concat_3_embeddings(bert_latenthatred_train_embeddings, hatebert_latenthatred_train_embeddings, bertweet_latenthatred_train_embeddings)\n",
    "bert_hatebert_bertweet_concat_latenthatred_dev = concat_3_embeddings(bert_latenthatred_dev_embeddings, hatebert_latenthatred_dev_embeddings, bertweet_latenthatred_dev_embeddings)\n",
    "bert_hatebert_bertweet_concat_latenthatred_test = concat_3_embeddings(bert_latenthatred_test_embeddings, hatebert_latenthatred_test_embeddings, bertweet_latenthatred_test_embeddings)"
   ]
  },
  {
   "cell_type": "code",
   "execution_count": 5,
   "metadata": {},
   "outputs": [],
   "source": [
    "dynahate_labels_train = process_labels(read_labels(\"dynahate\", \"train\"))\n",
    "dynahate_labels_dev = process_labels(read_labels(\"dynahate\", \"dev\"))\n",
    "dynahate_labels_test = process_labels(read_labels(\"dynahate\", \"test\"))\n",
    "\n",
    "latenthatred_labels_train = read_labels(\"latenthatred\", \"train\")\n",
    "latenthatred_labels_dev = read_labels(\"latenthatred\", \"dev\")\n",
    "latenthatred_labels_test = read_labels(\"latenthatred\", \"test\")\n",
    "\n",
    "olid_labels_train = read_labels(\"olid\", \"train\")\n",
    "olid_labels_dev = read_labels(\"olid\", \"dev\")\n",
    "olid_labels_test = read_labels(\"olid\", \"test\")"
   ]
  },
  {
   "cell_type": "code",
   "execution_count": 6,
   "metadata": {},
   "outputs": [],
   "source": [
    "mlp = MLPClassifier()\n",
    "gridsearch = GridSearchCV(\n",
    "    mlp,\n",
    "    param_grid={\n",
    "        \"hidden_layer_sizes\": [(128), (128,64)],\n",
    "        \"activation\": [\"relu\"],\n",
    "        \"solver\": [\"adam\"],\n",
    "        \"learning_rate_init\": [0.001, 0.0001],\n",
<<<<<<< HEAD
    "        \"learning_rate\": [\"adaptive\"],\n",
    "        # \"early_stopping\": [True]\n",
=======
    "        \"learning_rate\": [\"constant\", \"adaptive\"],\n",
    "        \"early_stopping\": [True]\n",
>>>>>>> ab8b5785fb4e277dabcfbb15e75613ec856f49ef
    "    },\n",
    "    verbose=4,\n",
    "    n_jobs=os.cpu_count()//3,\n",
    ")"
   ]
  },
  {
   "attachments": {},
   "cell_type": "markdown",
   "metadata": {},
   "source": [
    "### BERT-BERTweet"
   ]
  },
  {
   "attachments": {},
   "cell_type": "markdown",
   "metadata": {},
   "source": [
    "#### DynaHate"
   ]
  },
  {
   "cell_type": "code",
<<<<<<< HEAD
   "execution_count": 7,
=======
   "execution_count": 8,
   "metadata": {},
   "outputs": [],
   "source": [
    "scaler, scaled_prescaling_bert_bertweet_dynahate_train_embeddings = scaling_embeddings(prescaling_bert_bertweet_dynahate_train_embeddings)\n",
    "scaled_prescaling_bert_bertweet_dynahate_dev_embeddings = scaling_embeddings(prescaling_bert_bertweet_dynahate_dev_embeddings, train = False, scaler = scaler)\n",
    "scaled_prescaling_bert_bertweet_dynahate_test_embeddings = scaling_embeddings(prescaling_bert_bertweet_dynahate_test_embeddings, train = False, scaler = scaler)"
   ]
  },
  {
   "attachments": {},
   "cell_type": "markdown",
   "metadata": {},
   "source": [
    "##### Concatenated embeddings without normalization"
   ]
  },
  {
   "cell_type": "code",
   "execution_count": 9,
>>>>>>> ab8b5785fb4e277dabcfbb15e75613ec856f49ef
   "metadata": {},
   "outputs": [
    {
     "name": "stdout",
     "output_type": "stream",
     "text": [
      "Fitting 5 folds for each of 4 candidates, totalling 20 fits\n"
     ]
    }
   ],
   "source": [
<<<<<<< HEAD
    "bert_bertweet_concat_dynahate_train_dev = np.concatenate((bert_bertweet_concat_dynahate_train, bert_bertweet_concat_dynahate_dev))\n",
    "bert_bertweet_concat_dynahate_labels_train_dev = np.concatenate((dynahate_labels_train, dynahate_labels_dev))\n",
    "\n",
    "grid_results = gridsearch.fit(bert_bertweet_concat_dynahate_train_dev, bert_bertweet_concat_dynahate_labels_train_dev)\n",
    "\n",
=======
    "grid_results = gridsearch.fit(prescaling_bert_bertweet_dynahate_train_embeddings.tolist(), dynahate_labels_train)"
   ]
  },
  {
   "cell_type": "code",
   "execution_count": null,
   "metadata": {},
   "outputs": [],
   "source": [
>>>>>>> ab8b5785fb4e277dabcfbb15e75613ec856f49ef
    "best_params = grid_results.best_params_\n",
    "mlp = grid_results.best_estimator_\n",
    "\n",
    "print(\"Best params: \", best_params)\n",
    "\n",
    "train_dev_preds = mlp.predict(bert_bertweet_concat_dynahate_train_dev)\n",
    "test_preds = mlp.predict(bert_bertweet_concat_dynahate_test)\n",
    "\n",
    "computeAllScores(train_dev_preds, test_preds, dynahate_labels_train, dynahate_labels_dev, dynahate_labels_test)\n",
    "save_model(mlp, \"Saves/bert_bertweet_concat_dynahate\")"
   ]
  },
  {
   "attachments": {},
   "cell_type": "markdown",
   "metadata": {},
   "source": [
    "#### LatentHatred"
   ]
  },
  {
   "cell_type": "code",
   "execution_count": null,
   "metadata": {},
   "outputs": [],
   "source": [
    "bert_bertweet_concat_latenthatred_train_dev = np.concatenate((bert_bertweet_concat_latenthatred_train, bert_bertweet_concat_latenthatred_dev))\n",
    "bert_bertweet_concat_latenthatred_labels_train_dev = np.concatenate((latenthatred_labels_train, latenthatred_labels_dev))\n",
    "\n",
    "grid_results = gridsearch.fit(bert_bertweet_concat_latenthatred_train_dev, bert_bertweet_concat_latenthatred_labels_train_dev)\n",
    "\n",
    "best_params = grid_results.best_params_\n",
    "mlp = grid_results.best_estimator_\n",
    "\n",
    "print(\"Best params: \", best_params)\n",
    "\n",
    "train_dev_preds = mlp.predict(bert_bertweet_concat_latenthatred_train_dev)\n",
    "test_preds = mlp.predict(bert_bertweet_concat_latenthatred_test)\n",
    "\n",
    "computeAllScores(train_dev_preds, test_preds, latenthatred_labels_train, latenthatred_labels_dev, latenthatred_labels_test)\n",
    "save_model(mlp, \"Saves/bert_bertweet_concat_latenthatred\")"
   ]
  },
  {
   "attachments": {},
   "cell_type": "markdown",
   "metadata": {},
   "source": [
    "#### OLID"
   ]
  },
  {
   "cell_type": "code",
   "execution_count": 1,
   "metadata": {},
<<<<<<< HEAD
   "outputs": [
    {
     "ename": "NameError",
     "evalue": "name 'np' is not defined",
     "output_type": "error",
     "traceback": [
      "\u001b[1;31m---------------------------------------------------------------------------\u001b[0m",
      "\u001b[1;31mNameError\u001b[0m                                 Traceback (most recent call last)",
      "\u001b[1;32md:\\Desktop\\HateSpeechModelCombination\\Models\\ConcatEmbeddings.ipynb Cell 15\u001b[0m in \u001b[0;36m<module>\u001b[1;34m\u001b[0m\n\u001b[1;32m----> <a href='vscode-notebook-cell:/d%3A/Desktop/HateSpeechModelCombination/Models/ConcatEmbeddings.ipynb#Y106sZmlsZQ%3D%3D?line=0'>1</a>\u001b[0m bert_bertweet_concat_olid_train_dev \u001b[39m=\u001b[39m np\u001b[39m.\u001b[39mconcatenate((bert_bertweet_concat_olid_train, bert_bertweet_concat_olid_dev))\n\u001b[0;32m      <a href='vscode-notebook-cell:/d%3A/Desktop/HateSpeechModelCombination/Models/ConcatEmbeddings.ipynb#Y106sZmlsZQ%3D%3D?line=1'>2</a>\u001b[0m bert_bertweet_concat_olid_labels_train_dev \u001b[39m=\u001b[39m np\u001b[39m.\u001b[39mconcatenate((olid_labels_train, olid_labels_dev))\n\u001b[0;32m      <a href='vscode-notebook-cell:/d%3A/Desktop/HateSpeechModelCombination/Models/ConcatEmbeddings.ipynb#Y106sZmlsZQ%3D%3D?line=3'>4</a>\u001b[0m grid_results \u001b[39m=\u001b[39m gridsearch\u001b[39m.\u001b[39mfit(bert_bertweet_concat_olid_train_dev, bert_bertweet_concat_olid_labels_train_dev)\n",
      "\u001b[1;31mNameError\u001b[0m: name 'np' is not defined"
     ]
    }
   ],
=======
   "outputs": [],
>>>>>>> ab8b5785fb4e277dabcfbb15e75613ec856f49ef
   "source": [
    "bert_bertweet_concat_olid_train_dev = np.concatenate((bert_bertweet_concat_olid_train, bert_bertweet_concat_olid_dev))\n",
    "bert_bertweet_concat_olid_labels_train_dev = np.concatenate((olid_labels_train, olid_labels_dev))\n",
    "\n",
    "grid_results = gridsearch.fit(bert_bertweet_concat_olid_train_dev, bert_bertweet_concat_olid_labels_train_dev)\n",
    "\n",
    "best_params = grid_results.best_params_\n",
    "mlp = grid_results.best_estimator_\n",
    "\n",
    "print(\"Best params: \", best_params)\n",
    "\n",
    "train_dev_preds = mlp.predict(bert_bertweet_concat_olid_train_dev)\n",
    "test_preds = mlp.predict(bert_bertweet_concat_olid_test)\n",
    "\n",
    "computeAllScores(train_dev_preds, test_preds, olid_labels_train, olid_labels_dev, olid_labels_test)\n",
    "\n",
    "save_model(mlp, \"Saves/bert_bertweet_concat_olid\")"
   ]
  },
  {
   "attachments": {},
   "cell_type": "markdown",
   "metadata": {},
   "source": [
    "### BERT-HateBERT"
   ]
  },
  {
   "cell_type": "markdown",
   "metadata": {},
   "source": [
    "#### DynaHate"
   ]
  },
  {
   "cell_type": "code",
   "execution_count": null,
   "metadata": {},
   "outputs": [],
   "source": [
    "bert_hatebert_concat_dynahate_train_dev = np.concatenate((bert_hatebert_concat_dynahate_train, bert_hatebert_concat_dynahate_dev))\n",
    "bert_hatebert_concat_dynahate_labels_train_dev = np.concatenate((dynahate_labels_train, dynahate_labels_dev))\n",
    "\n",
    "grid_results = gridsearch.fit(bert_hatebert_concat_dynahate_train_dev, bert_hatebert_concat_dynahate_labels_train_dev)\n",
    "\n",
    "best_params = grid_results.best_params_\n",
    "mlp = grid_results.best_estimator_\n",
    "\n",
    "print(\"Best params: \", best_params)\n",
    "\n",
    "train_dev_preds = mlp.predict(bert_hatebert_concat_dynahate_train_dev)\n",
    "test_preds = mlp.predict(bert_hatebert_concat_dynahate_test)\n",
    "\n",
    "computeAllScores(train_dev_preds, test_preds, dynahate_labels_train, dynahate_labels_dev, dynahate_labels_test)\n",
    "\n",
    "save_model(mlp, \"Saves/bert_hatebert_concat_dynahate\")\n",
    "\n"
   ]
  },
  {
   "cell_type": "markdown",
   "metadata": {},
   "source": [
    "#### LatentHatred"
   ]
  },
  {
   "cell_type": "code",
   "execution_count": null,
   "metadata": {},
   "outputs": [],
   "source": [
    "bert_hatebert_concat_latenthatred_train_dev = np.concatenate((bert_hatebert_concat_latenthatred_train, bert_hatebert_concat_latenthatred_dev))\n",
    "bert_hatebert_concat_latenthatred_labels_train_dev = np.concatenate((latenthatred_labels_train, latenthatred_labels_dev))\n",
    "\n",
    "grid_results = gridsearch.fit(bert_hatebert_concat_latenthatred_train_dev, bert_hatebert_concat_latenthatred_labels_train_dev)\n",
    "\n",
    "best_params = grid_results.best_params_\n",
    "mlp = grid_results.best_estimator_\n",
    "\n",
    "print(\"Best params: \", best_params)\n",
    "\n",
    "train_dev_preds = mlp.predict(bert_hatebert_concat_latenthatred_train_dev)\n",
    "test_preds = mlp.predict(bert_hatebert_concat_latenthatred_test)\n",
    "\n",
    "computeAllScores(train_dev_preds, test_preds, latenthatred_labels_train, latenthatred_labels_dev, latenthatred_labels_test)\n",
    "\n",
    "save_model(mlp, \"Saves/bert_hatebert_concat_latenthatred\")"
   ]
  },
  {
   "cell_type": "markdown",
   "metadata": {},
   "source": [
<<<<<<< HEAD
    "#### OLID"
=======
    "##### Normalized concatenated embeddings"
   ]
  },
  {
   "cell_type": "code",
   "execution_count": null,
   "metadata": {},
   "outputs": [],
   "source": [
    "grid_results = gridsearch.fit(postscaling_bert_bertweet_dynahate_train_embeddings.cpu(), dynahate_labels_train)"
>>>>>>> ab8b5785fb4e277dabcfbb15e75613ec856f49ef
   ]
  },
  {
   "cell_type": "code",
   "execution_count": null,
   "metadata": {},
   "outputs": [],
   "source": [
    "bert_hatebert_concat_olid_train_dev = np.concatenate((bert_hatebert_concat_olid_train, bert_hatebert_concat_olid_dev))\n",
    "bert_hatebert_concat_olid_labels_train_dev = np.concatenate((olid_labels_train, olid_labels_dev))\n",
    "\n",
    "grid_results = gridsearch.fit(bert_hatebert_concat_olid_train_dev, bert_hatebert_concat_olid_labels_train_dev)\n",
    "\n",
    "best_params = grid_results.best_params_\n",
    "mlp = grid_results.best_estimator_\n",
    "\n",
    "print(\"Best params: \", best_params)\n",
    "\n",
    "train_dev_preds = mlp.predict(bert_hatebert_concat_olid_train_dev)\n",
    "test_preds = mlp.predict(bert_hatebert_concat_olid_test)\n",
    "\n",
    "computeAllScores(train_dev_preds, test_preds, olid_labels_train, olid_labels_dev, olid_labels_test)\n",
    "\n",
    "save_model(mlp, \"Saves/bert_hatebert_concat_olid\")"
   ]
  },
  {
   "attachments": {},
   "cell_type": "markdown",
   "metadata": {},
   "source": [
    "### BERTweet-HateBERT"
   ]
  },
  {
   "attachments": {},
   "cell_type": "markdown",
   "metadata": {},
   "source": [
    "#### DynaHate"
   ]
  },
  {
   "cell_type": "code",
   "execution_count": null,
   "metadata": {},
   "outputs": [],
   "source": [
    "hatebert_bertweet_concat_dynahate_train_dev = np.concatenate((hatebert_bertweet_concat_dynahate_train, hatebert_bertweet_concat_dynahate_dev))\n",
    "hatebert_bertweet_concat_dynahate_labels_train_dev = np.concatenate((dynahate_labels_train, dynahate_labels_dev))\n",
    "\n",
    "grid_results = gridsearch.fit(hatebert_bertweet_concat_dynahate_train_dev, hatebert_bertweet_concat_dynahate_labels_train_dev)\n",
    "\n",
    "best_params = grid_results.best_params_\n",
    "mlp = grid_results.best_estimator_\n",
    "\n",
    "print(\"Best params: \", best_params)\n",
    "\n",
    "train_dev_preds = mlp.predict(hatebert_bertweet_concat_dynahate_train_dev)\n",
    "test_preds = mlp.predict(hatebert_bertweet_concat_dynahate_test)\n",
    "\n",
    "computeAllScores(train_dev_preds, test_preds, dynahate_labels_train, dynahate_labels_dev, dynahate_labels_test)\n",
    "\n",
    "save_model(mlp, \"Saves/hatebert_bertweet_concat_dynahate\")"
   ]
  },
  {
   "cell_type": "markdown",
   "metadata": {},
   "source": [
    "#### LatentHatred"
   ]
  },
  {
   "cell_type": "code",
   "execution_count": null,
   "metadata": {},
   "outputs": [],
   "source": [
<<<<<<< HEAD
    "hatebert_bertweet_concat_latenthatred_train_dev = np.concatenate((hatebert_bertweet_concat_latenthatred_train, hatebert_bertweet_concat_latenthatred_dev))\n",
    "hatebert_bertweet_concat_latenthatred_labels_train_dev = np.concatenate((latenthatred_labels_train, latenthatred_labels_dev))\n",
    "\n",
    "grid_results = gridsearch.fit(hatebert_bertweet_concat_latenthatred_train_dev, hatebert_bertweet_concat_latenthatred_labels_train_dev)\n",
    "\n",
    "best_params = grid_results.best_params_\n",
    "mlp = grid_results.best_estimator_\n",
    "\n",
    "print(\"Best params: \", best_params)\n",
    "\n",
    "train_dev_preds = mlp.predict(hatebert_bertweet_concat_latenthatred_train_dev)\n",
    "test_preds = mlp.predict(hatebert_bertweet_concat_latenthatred_test)\n",
    "\n",
    "computeAllScores(train_dev_preds, test_preds, latenthatred_labels_train, latenthatred_labels_dev, latenthatred_labels_test)\n",
    "\n",
    "save_model(mlp, \"Saves/hatebert_bertweet_concat_latenthatred\")"
=======
    "scaler, scaled_prescaling_bert_bertweet_latenthatred_train_embeddings = scaling_embeddings(prescaling_bert_bertweet_latenthatred_train_embeddings)\n",
    "scaled_prescaling_bert_bertweet_latenthatred_dev_embeddings = scaling_embeddings(prescaling_bert_bertweet_latenthatred_dev_embeddings, train = False, scaler = scaler)\n",
    "scaled_prescaling_bert_bertweet_latenthatred_test_embeddings = scaling_embeddings(prescaling_bert_bertweet_latenthatred_test_embeddings, train = False, scaler = scaler)"
>>>>>>> ab8b5785fb4e277dabcfbb15e75613ec856f49ef
   ]
  },
  {
   "cell_type": "markdown",
   "metadata": {},
   "source": [
    "#### OLID"
   ]
  },
  {
   "cell_type": "code",
   "execution_count": null,
   "metadata": {},
   "outputs": [],
   "source": [
    "hatebert_bertweet_concat_olid_train_dev = np.concatenate((hatebert_bertweet_concat_olid_train, hatebert_bertweet_concat_olid_dev))\n",
    "hatebert_bertweet_concat_olid_labels_train_dev = np.concatenate((olid_labels_train, olid_labels_dev))\n",
    "\n",
    "grid_results = gridsearch.fit(hatebert_bertweet_concat_olid_train_dev, hatebert_bertweet_concat_olid_labels_train_dev)\n",
    "\n",
    "best_params = grid_results.best_params_\n",
    "mlp = grid_results.best_estimator_\n",
    "\n",
    "print(\"Best params: \", best_params)\n",
    "\n",
    "train_dev_preds = mlp.predict(hatebert_bertweet_concat_olid_train_dev)\n",
    "test_preds = mlp.predict(hatebert_bertweet_concat_olid_test)\n",
    "\n",
    "computeAllScores(train_dev_preds, test_preds, olid_labels_train, olid_labels_dev, olid_labels_test)\n",
    "\n",
    "save_model(mlp, \"Saves/hatebert_bertweet_concat_olid\")"
   ]
  },
  {
   "attachments": {},
   "cell_type": "markdown",
   "metadata": {},
   "source": [
    "### BERT-BERTweet-HateBERT"
   ]
  },
  {
   "attachments": {},
   "cell_type": "markdown",
   "metadata": {},
   "source": [
    "#### DynaHate"
   ]
  },
  {
   "cell_type": "code",
   "execution_count": null,
   "metadata": {},
   "outputs": [],
   "source": [
    "bert_bertweet_hatebert_concat_dynahate_train_dev = np.concatenate((bert_hatebert_bertweet_concat_dynahate_train, bert_hatebert_bertweet_concat_dynahate_dev))\n",
    "bert_bertweet_hatebert_concat_dynahate_labels_train_dev = np.concatenate((dynahate_labels_train, dynahate_labels_dev))\n",
    "\n",
    "grid_results = gridsearch.fit(bert_bertweet_hatebert_concat_dynahate_train_dev, bert_bertweet_hatebert_concat_dynahate_labels_train_dev)\n",
    "\n",
    "best_params = grid_results.best_params_\n",
    "mlp = grid_results.best_estimator_\n",
    "\n",
    "print(\"Best params: \", best_params)\n",
    "\n",
    "train_dev_preds = mlp.predict(bert_bertweet_hatebert_concat_dynahate_train_dev)\n",
    "test_preds = mlp.predict(bert_hatebert_bertweet_concat_dynahate_test)\n",
    "\n",
    "computeAllScores(train_dev_preds, test_preds, dynahate_labels_train, dynahate_labels_dev, dynahate_labels_test)\n",
    "\n",
    "save_model(mlp, \"Saves/bert_bertweet_hatebert_concat_dynahate\")"
   ]
  },
  {
   "attachments": {},
   "cell_type": "markdown",
   "metadata": {},
   "source": [
    "#### LatentHatred"
   ]
  },
  {
   "cell_type": "code",
   "execution_count": null,
   "metadata": {},
   "outputs": [],
   "source": [
    "bert_bertweet_hatebert_concat_latenthatred_train_dev = np.concatenate((bert_hatebert_bertweet_concat_latenthatred_train, bert_hatebert_bertweet_concat_latenthatred_dev))\n",
    "bert_bertweet_hatebert_concat_latenthatred_labels_train_dev = np.concatenate((latenthatred_labels_train, latenthatred_labels_dev))\n",
    "\n",
    "grid_results = gridsearch.fit(bert_bertweet_hatebert_concat_latenthatred_train_dev, bert_bertweet_hatebert_concat_latenthatred_labels_train_dev)\n",
    "\n",
    "best_params = grid_results.best_params_\n",
    "mlp = grid_results.best_estimator_\n",
    "\n",
    "print(\"Best params: \", best_params)\n",
    "\n",
    "train_dev_preds = mlp.predict(bert_bertweet_hatebert_concat_latenthatred_train_dev)\n",
    "test_preds = mlp.predict(bert_hatebert_bertweet_concat_latenthatred_test)\n",
    "\n",
    "computeAllScores(train_dev_preds, test_preds, latenthatred_labels_train, latenthatred_labels_dev, latenthatred_labels_test)\n",
    "\n",
    "save_model(mlp, \"Saves/bert_bertweet_hatebert_concat_latenthatred\")"
   ]
  },
  {
   "attachments": {},
   "cell_type": "markdown",
   "metadata": {},
   "source": [
<<<<<<< HEAD
    "#### OLID"
=======
    "##### Concatenated normalized embeddings"
   ]
  },
  {
   "cell_type": "code",
   "execution_count": null,
   "metadata": {},
   "outputs": [],
   "source": [
    "grid_results = gridsearch.fit(scaled_prescaling_bert_bertweet_latenthatred_train_embeddings.cpu(), latenthatred_labels_train)"
   ]
  },
  {
   "cell_type": "code",
   "execution_count": null,
   "metadata": {},
   "outputs": [],
   "source": [
    "best_params = grid_results.best_params_\n",
    "mlp = grid_results.best_estimator_"
   ]
  },
  {
   "cell_type": "code",
   "execution_count": null,
   "metadata": {},
   "outputs": [],
   "source": [
    "best_params"
   ]
  },
  {
   "cell_type": "code",
   "execution_count": null,
   "metadata": {},
   "outputs": [],
   "source": [
    "mlp = mlp.fit(prescaling_bert_bertweet_latenthatred_train_embeddings.cpu(), latenthatred_labels_train)\n",
    "save_model(mlp, \"latenthatred_bert_bertweet_with_pre_scaling.pickle\")"
   ]
  },
  {
   "cell_type": "code",
   "execution_count": null,
   "metadata": {},
   "outputs": [],
   "source": [
    "train_preds = mlp.predict(scaled_prescaling_bert_bertweet_latenthatred_train_embeddings.cpu())\n",
    "dev_preds = mlp.predict(scaled_prescaling_bert_bertweet_latenthatred_dev_embeddings.cpu())\n",
    "test_preds = mlp.predict(scaled_prescaling_bert_bertweet_latenthatred_test_embeddings.cpu())"
   ]
  },
  {
   "cell_type": "code",
   "execution_count": null,
   "metadata": {},
   "outputs": [],
   "source": [
    "computeAllScores(train_preds, dev_preds, test_preds, latenthatred_labels_train, latenthatred_labels_dev, latenthatred_labels_test)"
   ]
  },
  {
   "cell_type": "markdown",
   "metadata": {},
   "source": [
    "##### Normalized concatenated embeddings"
   ]
  },
  {
   "cell_type": "code",
   "execution_count": null,
   "metadata": {},
   "outputs": [],
   "source": [
    "grid_results = gridsearch.fit(postscaling_bert_bertweet_latenthatred_train_embeddings.cpu(), latenthatred_labels_train)"
   ]
  },
  {
   "cell_type": "code",
   "execution_count": null,
   "metadata": {},
   "outputs": [],
   "source": [
    "best_params = grid_results.best_params_\n",
    "mlp = grid_results.best_estimator_"
   ]
  },
  {
   "cell_type": "code",
   "execution_count": null,
   "metadata": {},
   "outputs": [],
   "source": [
    "best_params"
   ]
  },
  {
   "cell_type": "code",
   "execution_count": null,
   "metadata": {},
   "outputs": [],
   "source": [
    "mlp = mlp.fit(postscaling_bert_bertweet_latenthatred_train_embeddings.cpu(), latenthatred_labels_train)\n",
    "save_model(mlp, \"latenthatred_bert_bertweet_with_post_scaling.pickle\")"
   ]
  },
  {
   "cell_type": "code",
   "execution_count": null,
   "metadata": {},
   "outputs": [],
   "source": [
    "train_preds = mlp.predict(postscaling_bert_bertweet_latenthatred_train_embeddings.cpu())\n",
    "dev_preds = mlp.predict(postscaling_bert_bertweet_latenthatred_dev_embeddings.cpu())\n",
    "test_preds = mlp.predict(postscaling_bert_bertweet_latenthatred_test_embeddings.cpu())"
   ]
  },
  {
   "cell_type": "code",
   "execution_count": null,
   "metadata": {},
   "outputs": [],
   "source": [
    "computeAllScores(train_preds, dev_preds, test_preds, latenthatred_labels_train, latenthatred_labels_dev, latenthatred_labels_test)"
   ]
  },
  {
   "attachments": {},
   "cell_type": "markdown",
   "metadata": {},
   "source": [
    "#### OLID"
   ]
  },
  {
   "cell_type": "code",
   "execution_count": null,
   "metadata": {},
   "outputs": [],
   "source": [
    "scaler, scaled_prescaling_bert_bertweet_olid_train_embeddings = scaling_embeddings(prescaling_bert_bertweet_olid_train_embeddings)\n",
    "scaled_prescaling_bert_bertweet_olid_dev_embeddings = scaling_embeddings(prescaling_bert_bertweet_olid_dev_embeddings, train = False, scaler = scaler)\n",
    "scaled_prescaling_bert_bertweet_olid_test_embeddings = scaling_embeddings(prescaling_bert_bertweet_olid_test_embeddings, train = False, scaler = scaler)"
   ]
  },
  {
   "cell_type": "markdown",
   "metadata": {},
   "source": [
    "##### Concatenated embeddings without normalization"
   ]
  },
  {
   "cell_type": "code",
   "execution_count": null,
   "metadata": {},
   "outputs": [],
   "source": [
    "grid_results = gridsearch.fit(prescaling_bert_bertweet_olid_train_embeddings.cpu(), olid_labels_train)"
   ]
  },
  {
   "cell_type": "code",
   "execution_count": null,
   "metadata": {},
   "outputs": [],
   "source": [
    "best_params = grid_results.best_params_\n",
    "mlp = grid_results.best_estimator_"
   ]
  },
  {
   "cell_type": "code",
   "execution_count": null,
   "metadata": {},
   "outputs": [],
   "source": [
    "best_params"
   ]
  },
  {
   "cell_type": "code",
   "execution_count": null,
   "metadata": {},
   "outputs": [],
   "source": [
    "mlp = mlp.fit(prescaling_bert_bertweet_olid_train_embeddings.cpu(), olid_labels_train)\n",
    "save_model(mlp, \"olid_bert_bertweet_without_scaling.pickle\")"
   ]
  },
  {
   "cell_type": "code",
   "execution_count": null,
   "metadata": {},
   "outputs": [],
   "source": [
    "train_preds = mlp.predict(prescaling_bert_bertweet_olid_train_embeddings.cpu())\n",
    "dev_preds = mlp.predict(prescaling_bert_bertweet_olid_dev_embeddings.cpu())\n",
    "test_preds = mlp.predict(prescaling_bert_bertweet_olid_test_embeddings.cpu())"
   ]
  },
  {
   "cell_type": "code",
   "execution_count": null,
   "metadata": {},
   "outputs": [],
   "source": [
    "computeAllScores(train_preds, dev_preds, test_preds, olid_labels_train, olid_labels_dev, olid_labels_test)"
   ]
  },
  {
   "cell_type": "markdown",
   "metadata": {},
   "source": [
    "##### Concatenated normalized embeddings"
   ]
  },
  {
   "cell_type": "code",
   "execution_count": null,
   "metadata": {},
   "outputs": [],
   "source": [
    "grid_results = gridsearch.fit(scaled_prescaling_bert_bertweet_olid_train_embeddings.cpu(), olid_labels_train)"
   ]
  },
  {
   "cell_type": "code",
   "execution_count": null,
   "metadata": {},
   "outputs": [],
   "source": [
    "best_params = grid_results.best_params_\n",
    "mlp = grid_results.best_estimator_"
   ]
  },
  {
   "cell_type": "code",
   "execution_count": null,
   "metadata": {},
   "outputs": [],
   "source": [
    "best_params"
   ]
  },
  {
   "cell_type": "code",
   "execution_count": null,
   "metadata": {},
   "outputs": [],
   "source": [
    "mlp = mlp.fit(prescaling_bert_bertweet_olid_train_embeddings.cpu(), olid_labels_train)\n",
    "save_model(mlp, \"latenthatred_bert_bertweet_with_pre_scaling.pickle\")"
   ]
  },
  {
   "cell_type": "code",
   "execution_count": null,
   "metadata": {},
   "outputs": [],
   "source": [
    "train_preds = mlp.predict(scaled_prescaling_bert_bertweet_olid_train_embeddings.cpu())\n",
    "dev_preds = mlp.predict(scaled_prescaling_bert_bertweet_olid_dev_embeddings.cpu())\n",
    "test_preds = mlp.predict(scaled_prescaling_bert_bertweet_olid_test_embeddings.cpu())"
   ]
  },
  {
   "cell_type": "code",
   "execution_count": null,
   "metadata": {},
   "outputs": [],
   "source": [
    "computeAllScores(train_preds, dev_preds, test_preds, olid_labels_train, olid_labels_dev, olid_labels_test)"
   ]
  },
  {
   "cell_type": "markdown",
   "metadata": {},
   "source": [
    "##### Normalized concatenated embeddings"
   ]
  },
  {
   "cell_type": "code",
   "execution_count": null,
   "metadata": {},
   "outputs": [],
   "source": [
    "grid_results = gridsearch.fit(postscaling_bert_bertweet_olid_train_embeddings.cpu(), olid_labels_train)"
   ]
  },
  {
   "cell_type": "code",
   "execution_count": null,
   "metadata": {},
   "outputs": [],
   "source": [
    "best_params = grid_results.best_params_\n",
    "mlp = grid_results.best_estimator_"
   ]
  },
  {
   "cell_type": "code",
   "execution_count": null,
   "metadata": {},
   "outputs": [],
   "source": [
    "best_params"
   ]
  },
  {
   "cell_type": "code",
   "execution_count": null,
   "metadata": {},
   "outputs": [],
   "source": [
    "mlp = mlp.fit(postscaling_bert_bertweet_olid_train_embeddings.cpu(), olid_labels_train)\n",
    "save_model(mlp, \"olid_bert_bertweet_with_post_scaling.pickle\")"
   ]
  },
  {
   "cell_type": "code",
   "execution_count": null,
   "metadata": {},
   "outputs": [],
   "source": [
    "train_preds = mlp.predict(postscaling_bert_bertweet_olid_train_embeddings.cpu())\n",
    "dev_preds = mlp.predict(postscaling_bert_bertweet_olid_dev_embeddings.cpu())\n",
    "test_preds = mlp.predict(postscaling_bert_bertweet_olid_test_embeddings.cpu())"
   ]
  },
  {
   "cell_type": "code",
   "execution_count": null,
   "metadata": {},
   "outputs": [],
   "source": [
    "computeAllScores(train_preds, dev_preds, test_preds, olid_labels_train, olid_labels_dev, olid_labels_test)"
   ]
  },
  {
   "attachments": {},
   "cell_type": "markdown",
   "metadata": {},
   "source": [
    "### BERT-HateBERT"
   ]
  },
  {
   "cell_type": "markdown",
   "metadata": {},
   "source": [
    "#### DynaHate"
   ]
  },
  {
   "cell_type": "code",
   "execution_count": null,
   "metadata": {},
   "outputs": [],
   "source": [
    "scaler, scaled_prescaling_bert_hatebert_dynahate_train_embeddings = scaling_embeddings(prescaling_bert_hatebert_dynahate_train_embeddings)\n",
    "scaled_prescaling_bert_hatebert_dynahate_dev_embeddings = scaling_embeddings(prescaling_bert_hatebert_dynahate_dev_embeddings, train = False, scaler = scaler)\n",
    "scaled_prescaling_bert_hatebert_dynahate_test_embeddings = scaling_embeddings(prescaling_bert_hatebert_dynahate_test_embeddings, train = False, scaler = scaler)"
   ]
  },
  {
   "cell_type": "markdown",
   "metadata": {},
   "source": [
    "##### Concatenated embeddings without normalization"
   ]
  },
  {
   "cell_type": "code",
   "execution_count": null,
   "metadata": {},
   "outputs": [],
   "source": [
    "grid_results = gridsearch.fit(prescaling_bert_hatebert_dynahate_train_embeddings.cpu(), dynahate_labels_train)"
   ]
  },
  {
   "cell_type": "code",
   "execution_count": null,
   "metadata": {},
   "outputs": [],
   "source": [
    "best_params = grid_results.best_params_\n",
    "mlp = grid_results.best_estimator_"
   ]
  },
  {
   "cell_type": "code",
   "execution_count": null,
   "metadata": {},
   "outputs": [],
   "source": [
    "best_params"
   ]
  },
  {
   "cell_type": "code",
   "execution_count": null,
   "metadata": {},
   "outputs": [],
   "source": [
    "mlp = mlp.fit(prescaling_bert_hatebert_dynahate_train_embeddings.cpu(), dynahate_labels_train)\n",
    "save_model(mlp, \"dynahate_bert_hatebert_without_scaling.pickle\")"
   ]
  },
  {
   "cell_type": "code",
   "execution_count": null,
   "metadata": {},
   "outputs": [],
   "source": [
    "train_preds = mlp.predict(prescaling_bert_hatebert_dynahate_train_embeddings.cpu())\n",
    "dev_preds = mlp.predict(prescaling_bert_hatebert_dynahate_dev_embeddings.cpu())\n",
    "test_preds = mlp.predict(prescaling_bert_hatebert_dynahate_test_embeddings.cpu())"
   ]
  },
  {
   "cell_type": "code",
   "execution_count": null,
   "metadata": {},
   "outputs": [],
   "source": [
    "computeAllScores(train_preds, dev_preds, test_preds, dynahate_labels_train, dynahate_labels_dev, dynahate_labels_test)"
   ]
  },
  {
   "cell_type": "markdown",
   "metadata": {},
   "source": [
    "##### Concatenated normalized embeddings"
   ]
  },
  {
   "cell_type": "code",
   "execution_count": null,
   "metadata": {},
   "outputs": [],
   "source": [
    "grid_results = gridsearch.fit(scaled_prescaling_bert_hatebert_dynahate_train_embeddings.cpu(), dynahate_labels_train)"
   ]
  },
  {
   "cell_type": "code",
   "execution_count": null,
   "metadata": {},
   "outputs": [],
   "source": [
    "best_params = grid_results.best_params_\n",
    "mlp = grid_results.best_estimator_"
   ]
  },
  {
   "cell_type": "code",
   "execution_count": null,
   "metadata": {},
   "outputs": [],
   "source": [
    "best_params"
   ]
  },
  {
   "cell_type": "code",
   "execution_count": null,
   "metadata": {},
   "outputs": [],
   "source": [
    "mlp = mlp.fit(prescaling_bert_hatebert_dynahate_train_embeddings.cpu(), dynahate_labels_train)\n",
    "save_model(mlp, \"dynahate_bert_hatebert_with_pre_scaling.pickle\")"
   ]
  },
  {
   "cell_type": "code",
   "execution_count": null,
   "metadata": {},
   "outputs": [],
   "source": [
    "train_preds = mlp.predict(scaled_prescaling_bert_hatebert_dynahate_train_embeddings.cpu())\n",
    "dev_preds = mlp.predict(scaled_prescaling_bert_hatebert_dynahate_dev_embeddings.cpu())\n",
    "test_preds = mlp.predict(scaled_prescaling_bert_hatebert_dynahate_test_embeddings.cpu())"
   ]
  },
  {
   "cell_type": "code",
   "execution_count": null,
   "metadata": {},
   "outputs": [],
   "source": [
    "computeAllScores(train_preds, dev_preds, test_preds, dynahate_labels_train, dynahate_labels_dev, dynahate_labels_test)"
   ]
  },
  {
   "cell_type": "markdown",
   "metadata": {},
   "source": [
    "##### Normalized concatenated embeddings"
   ]
  },
  {
   "cell_type": "code",
   "execution_count": null,
   "metadata": {},
   "outputs": [],
   "source": [
    "grid_results = gridsearch.fit(postscaling_bert_hatebert_dynahate_train_embeddings.cpu(), dynahate_labels_train)"
   ]
  },
  {
   "cell_type": "code",
   "execution_count": null,
   "metadata": {},
   "outputs": [],
   "source": [
    "best_params = grid_results.best_params_\n",
    "mlp = grid_results.best_estimator_"
   ]
  },
  {
   "cell_type": "code",
   "execution_count": null,
   "metadata": {},
   "outputs": [],
   "source": [
    "best_params"
   ]
  },
  {
   "cell_type": "code",
   "execution_count": null,
   "metadata": {},
   "outputs": [],
   "source": [
    "mlp = mlp.fit(postscaling_bert_hatebert_dynahate_train_embeddings.cpu(), dynahate_labels_train)\n",
    "save_model(mlp, \"dynahate_bert_hatebert_with_post_scaling.pickle\")"
   ]
  },
  {
   "cell_type": "code",
   "execution_count": null,
   "metadata": {},
   "outputs": [],
   "source": [
    "train_preds = mlp.predict(postscaling_bert_hatebert_dynahate_train_embeddings.cpu())\n",
    "dev_preds = mlp.predict(postscaling_bert_hatebert_dynahate_dev_embeddings.cpu())\n",
    "test_preds = mlp.predict(postscaling_bert_hatebert_dynahate_test_embeddings.cpu())"
   ]
  },
  {
   "cell_type": "code",
   "execution_count": null,
   "metadata": {},
   "outputs": [],
   "source": [
    "computeAllScores(train_preds, dev_preds, test_preds, dynahate_labels_train, dynahate_labels_dev, dynahate_labels_test)"
   ]
  },
  {
   "cell_type": "markdown",
   "metadata": {},
   "source": [
    "#### LatentHatred"
   ]
  },
  {
   "cell_type": "code",
   "execution_count": null,
   "metadata": {},
   "outputs": [],
   "source": [
    "scaler, scaled_prescaling_bert_hatebert_latenthatred_train_embeddings = scaling_embeddings(prescaling_bert_hatebert_latenthatred_train_embeddings)\n",
    "scaled_prescaling_bert_hatebert_latenthatred_dev_embeddings = scaling_embeddings(prescaling_bert_hatebert_latenthatred_dev_embeddings, train = False, scaler = scaler)\n",
    "scaled_prescaling_bert_hatebert_latenthatred_test_embeddings = scaling_embeddings(prescaling_bert_hatebert_latenthatred_test_embeddings, train = False, scaler = scaler)"
   ]
  },
  {
   "cell_type": "markdown",
   "metadata": {},
   "source": [
    "##### Concatenated embeddings without normalization"
   ]
  },
  {
   "cell_type": "code",
   "execution_count": null,
   "metadata": {},
   "outputs": [],
   "source": [
    "grid_results = gridsearch.fit(prescaling_bert_hatebert_latenthatred_train_embeddings.cpu(), latenthatred_labels_train)"
   ]
  },
  {
   "cell_type": "code",
   "execution_count": null,
   "metadata": {},
   "outputs": [],
   "source": [
    "best_params = grid_results.best_params_\n",
    "mlp = grid_results.best_estimator_"
   ]
  },
  {
   "cell_type": "code",
   "execution_count": null,
   "metadata": {},
   "outputs": [],
   "source": [
    "best_params"
   ]
  },
  {
   "cell_type": "code",
   "execution_count": null,
   "metadata": {},
   "outputs": [],
   "source": [
    "mlp = mlp.fit(prescaling_bert_hatebert_latenthatred_train_embeddings.cpu(), latenthatred_labels_train)\n",
    "save_model(mlp, \"latenthatred_bert_hatebert_without_scaling.pickle\")"
   ]
  },
  {
   "cell_type": "code",
   "execution_count": null,
   "metadata": {},
   "outputs": [],
   "source": [
    "train_preds = mlp.predict(prescaling_bert_hatebert_latenthatred_train_embeddings.cpu())\n",
    "dev_preds = mlp.predict(prescaling_bert_hatebert_latenthatred_dev_embeddings.cpu())\n",
    "test_preds = mlp.predict(prescaling_bert_hatebert_latenthatred_test_embeddings.cpu())"
   ]
  },
  {
   "cell_type": "code",
   "execution_count": null,
   "metadata": {},
   "outputs": [],
   "source": [
    "computeAllScores(train_preds, dev_preds, test_preds, latenthatred_labels_train, latenthatred_labels_dev, latenthatred_labels_test)"
   ]
  },
  {
   "cell_type": "markdown",
   "metadata": {},
   "source": [
    "##### Concatenated normalized embeddings"
   ]
  },
  {
   "cell_type": "code",
   "execution_count": null,
   "metadata": {},
   "outputs": [],
   "source": [
    "grid_results = gridsearch.fit(scaled_prescaling_bert_hatebert_latenthatred_train_embeddings.cpu(), latenthatred_labels_train)"
   ]
  },
  {
   "cell_type": "code",
   "execution_count": null,
   "metadata": {},
   "outputs": [],
   "source": [
    "best_params = grid_results.best_params_\n",
    "mlp = grid_results.best_estimator_"
   ]
  },
  {
   "cell_type": "code",
   "execution_count": null,
   "metadata": {},
   "outputs": [],
   "source": [
    "best_params"
   ]
  },
  {
   "cell_type": "code",
   "execution_count": null,
   "metadata": {},
   "outputs": [],
   "source": [
    "mlp = mlp.fit(prescaling_bert_hatebert_latenthatred_train_embeddings.cpu(), latenthatred_labels_train)\n",
    "save_model(mlp, \"latenthatred_bert_hatebert_with_pre_scaling.pickle\")"
   ]
  },
  {
   "cell_type": "code",
   "execution_count": null,
   "metadata": {},
   "outputs": [],
   "source": [
    "train_preds = mlp.predict(scaled_prescaling_bert_hatebert_latenthatred_train_embeddings.cpu())\n",
    "dev_preds = mlp.predict(scaled_prescaling_bert_hatebert_latenthatred_dev_embeddings.cpu())\n",
    "test_preds = mlp.predict(scaled_prescaling_bert_hatebert_latenthatred_test_embeddings.cpu())"
   ]
  },
  {
   "cell_type": "code",
   "execution_count": null,
   "metadata": {},
   "outputs": [],
   "source": [
    "computeAllScores(train_preds, dev_preds, test_preds, latenthatred_labels_train, latenthatred_labels_dev, latenthatred_labels_test)"
   ]
  },
  {
   "cell_type": "markdown",
   "metadata": {},
   "source": [
    "##### Normalized concatenated embeddings"
   ]
  },
  {
   "cell_type": "code",
   "execution_count": null,
   "metadata": {},
   "outputs": [],
   "source": [
    "grid_results = gridsearch.fit(postscaling_bert_hatebert_latenthatred_train_embeddings.cpu(), latenthatred_labels_train)"
   ]
  },
  {
   "cell_type": "code",
   "execution_count": null,
   "metadata": {},
   "outputs": [],
   "source": [
    "best_params = grid_results.best_params_\n",
    "mlp = grid_results.best_estimator_"
   ]
  },
  {
   "cell_type": "code",
   "execution_count": null,
   "metadata": {},
   "outputs": [],
   "source": [
    "best_params"
   ]
  },
  {
   "cell_type": "code",
   "execution_count": null,
   "metadata": {},
   "outputs": [],
   "source": [
    "mlp = mlp.fit(postscaling_bert_hatebert_latenthatred_train_embeddings.cpu(), latenthatred_labels_train)\n",
    "save_model(mlp, \"latenthatred_bert_hatebert_with_post_scaling.pickle\")"
   ]
  },
  {
   "cell_type": "code",
   "execution_count": null,
   "metadata": {},
   "outputs": [],
   "source": [
    "train_preds = mlp.predict(postscaling_bert_hatebert_latenthatred_train_embeddings.cpu())\n",
    "dev_preds = mlp.predict(postscaling_bert_hatebert_latenthatred_dev_embeddings.cpu())\n",
    "test_preds = mlp.predict(postscaling_bert_hatebert_latenthatred_test_embeddings.cpu())"
   ]
  },
  {
   "cell_type": "code",
   "execution_count": null,
   "metadata": {},
   "outputs": [],
   "source": [
    "computeAllScores(train_preds, dev_preds, test_preds, latenthatred_labels_train, latenthatred_labels_dev, latenthatred_labels_test)"
   ]
  },
  {
   "cell_type": "markdown",
   "metadata": {},
   "source": [
    "#### OLID"
   ]
  },
  {
   "cell_type": "code",
   "execution_count": null,
   "metadata": {},
   "outputs": [],
   "source": [
    "scaler, scaled_prescaling_bert_hatebert_olid_train_embeddings = scaling_embeddings(prescaling_bert_hatebert_olid_train_embeddings)\n",
    "scaled_prescaling_bert_hatebert_olid_dev_embeddings = scaling_embeddings(prescaling_bert_hatebert_olid_dev_embeddings, train = False, scaler = scaler)\n",
    "scaled_prescaling_bert_hatebert_olid_test_embeddings = scaling_embeddings(prescaling_bert_hatebert_olid_test_embeddings, train = False, scaler = scaler)"
   ]
  },
  {
   "cell_type": "markdown",
   "metadata": {},
   "source": [
    "##### Concatenated embeddings without normalization"
   ]
  },
  {
   "cell_type": "code",
   "execution_count": null,
   "metadata": {},
   "outputs": [],
   "source": [
    "grid_results = gridsearch.fit(prescaling_bert_hatebert_olid_train_embeddings.cpu(), olid_labels_train)"
   ]
  },
  {
   "cell_type": "code",
   "execution_count": null,
   "metadata": {},
   "outputs": [],
   "source": [
    "best_params = grid_results.best_params_\n",
    "mlp = grid_results.best_estimator_"
   ]
  },
  {
   "cell_type": "code",
   "execution_count": null,
   "metadata": {},
   "outputs": [],
   "source": [
    "best_params"
   ]
  },
  {
   "cell_type": "code",
   "execution_count": null,
   "metadata": {},
   "outputs": [],
   "source": [
    "mlp = mlp.fit(prescaling_bert_hatebert_olid_train_embeddings.cpu(), olid_labels_train)\n",
    "save_model(mlp, \"olid_bert_hatebert_without_scaling.pickle\")"
   ]
  },
  {
   "cell_type": "code",
   "execution_count": null,
   "metadata": {},
   "outputs": [],
   "source": [
    "train_preds = mlp.predict(prescaling_bert_hatebert_olid_train_embeddings.cpu())\n",
    "dev_preds = mlp.predict(prescaling_bert_hatebert_olid_dev_embeddings.cpu())\n",
    "test_preds = mlp.predict(prescaling_bert_hatebert_olid_test_embeddings.cpu())"
   ]
  },
  {
   "cell_type": "code",
   "execution_count": null,
   "metadata": {},
   "outputs": [],
   "source": [
    "computeAllScores(train_preds, dev_preds, test_preds, olid_labels_train, olid_labels_dev, olid_labels_test)"
   ]
  },
  {
   "cell_type": "markdown",
   "metadata": {},
   "source": [
    "##### Concatenated normalized embeddings"
   ]
  },
  {
   "cell_type": "code",
   "execution_count": null,
   "metadata": {},
   "outputs": [],
   "source": [
    "grid_results = gridsearch.fit(scaled_prescaling_bert_hatebert_olid_train_embeddings.cpu(), olid_labels_train)"
   ]
  },
  {
   "cell_type": "code",
   "execution_count": null,
   "metadata": {},
   "outputs": [],
   "source": [
    "best_params = grid_results.best_params_\n",
    "mlp = grid_results.best_estimator_"
   ]
  },
  {
   "cell_type": "code",
   "execution_count": null,
   "metadata": {},
   "outputs": [],
   "source": [
    "best_params"
   ]
  },
  {
   "cell_type": "code",
   "execution_count": null,
   "metadata": {},
   "outputs": [],
   "source": [
    "mlp = mlp.fit(prescaling_bert_hatebert_olid_train_embeddings.cpu(), olid_labels_train)\n",
    "save_model(mlp, \"latenthatred_bert_hatebert_with_pre_scaling.pickle\")"
   ]
  },
  {
   "cell_type": "code",
   "execution_count": null,
   "metadata": {},
   "outputs": [],
   "source": [
    "train_preds = mlp.predict(scaled_prescaling_bert_hatebert_olid_train_embeddings.cpu())\n",
    "dev_preds = mlp.predict(scaled_prescaling_bert_hatebert_olid_dev_embeddings.cpu())\n",
    "test_preds = mlp.predict(scaled_prescaling_bert_hatebert_olid_test_embeddings.cpu())"
   ]
  },
  {
   "cell_type": "code",
   "execution_count": null,
   "metadata": {},
   "outputs": [],
   "source": [
    "computeAllScores(train_preds, dev_preds, test_preds, olid_labels_train, olid_labels_dev, olid_labels_test)"
   ]
  },
  {
   "cell_type": "markdown",
   "metadata": {},
   "source": [
    "##### Normalized concatenated embeddings"
   ]
  },
  {
   "cell_type": "code",
   "execution_count": null,
   "metadata": {},
   "outputs": [],
   "source": [
    "grid_results = gridsearch.fit(postscaling_bert_hatebert_olid_train_embeddings.cpu(), olid_labels_train)"
   ]
  },
  {
   "cell_type": "code",
   "execution_count": null,
   "metadata": {},
   "outputs": [],
   "source": [
    "best_params = grid_results.best_params_\n",
    "mlp = grid_results.best_estimator_"
   ]
  },
  {
   "cell_type": "code",
   "execution_count": null,
   "metadata": {},
   "outputs": [],
   "source": [
    "best_params"
   ]
  },
  {
   "cell_type": "code",
   "execution_count": null,
   "metadata": {},
   "outputs": [],
   "source": [
    "mlp = mlp.fit(postscaling_bert_hatebert_olid_train_embeddings.cpu(), olid_labels_train)\n",
    "save_model(mlp, \"olid_bert_hatebert_with_post_scaling.pickle\")"
   ]
  },
  {
   "cell_type": "code",
   "execution_count": null,
   "metadata": {},
   "outputs": [],
   "source": [
    "train_preds = mlp.predict(postscaling_bert_hatebert_olid_train_embeddings.cpu())\n",
    "dev_preds = mlp.predict(postscaling_bert_hatebert_olid_dev_embeddings.cpu())\n",
    "test_preds = mlp.predict(postscaling_bert_hatebert_olid_test_embeddings.cpu())"
   ]
  },
  {
   "cell_type": "code",
   "execution_count": null,
   "metadata": {},
   "outputs": [],
   "source": [
    "computeAllScores(train_preds, dev_preds, test_preds, olid_labels_train, olid_labels_dev, olid_labels_test)"
   ]
  },
  {
   "attachments": {},
   "cell_type": "markdown",
   "metadata": {},
   "source": [
    "### BERTweet-HateBERT"
   ]
  },
  {
   "cell_type": "markdown",
   "metadata": {},
   "source": [
    "#### DynaHate"
   ]
  },
  {
   "cell_type": "code",
   "execution_count": null,
   "metadata": {},
   "outputs": [],
   "source": [
    "scaler, scaled_prescaling_bertweet_hatebert_dynahate_train_embeddings = scaling_embeddings(prescaling_bertweet_hatebert_dynahate_train_embeddings)\n",
    "scaled_prescaling_bertweet_hatebert_dynahate_dev_embeddings = scaling_embeddings(prescaling_bertweet_hatebert_dynahate_dev_embeddings, train = False, scaler = scaler)\n",
    "scaled_prescaling_bertweet_hatebert_dynahate_test_embeddings = scaling_embeddings(prescaling_bertweet_hatebert_dynahate_test_embeddings, train = False, scaler = scaler)"
   ]
  },
  {
   "cell_type": "markdown",
   "metadata": {},
   "source": [
    "##### Concatenated embeddings without normalization"
   ]
  },
  {
   "cell_type": "code",
   "execution_count": null,
   "metadata": {},
   "outputs": [],
   "source": [
    "grid_results = gridsearch.fit(prescaling_bertweet_hatebert_dynahate_train_embeddings.cpu(), dynahate_labels_train)"
   ]
  },
  {
   "cell_type": "code",
   "execution_count": null,
   "metadata": {},
   "outputs": [],
   "source": [
    "best_params = grid_results.best_params_\n",
    "mlp = grid_results.best_estimator_"
   ]
  },
  {
   "cell_type": "code",
   "execution_count": null,
   "metadata": {},
   "outputs": [],
   "source": [
    "best_params"
   ]
  },
  {
   "cell_type": "code",
   "execution_count": null,
   "metadata": {},
   "outputs": [],
   "source": [
    "mlp = mlp.fit(prescaling_bertweet_hatebert_dynahate_train_embeddings.cpu(), dynahate_labels_train)\n",
    "save_model(mlp, \"dynahate_bertweet_hatebert_without_scaling.pickle\")"
   ]
  },
  {
   "cell_type": "code",
   "execution_count": null,
   "metadata": {},
   "outputs": [],
   "source": [
    "train_preds = mlp.predict(prescaling_bertweet_hatebert_dynahate_train_embeddings.cpu())\n",
    "dev_preds = mlp.predict(prescaling_bertweet_hatebert_dynahate_dev_embeddings.cpu())\n",
    "test_preds = mlp.predict(prescaling_bertweet_hatebert_dynahate_test_embeddings.cpu())"
   ]
  },
  {
   "cell_type": "code",
   "execution_count": null,
   "metadata": {},
   "outputs": [],
   "source": [
    "computeAllScores(train_preds, dev_preds, test_preds, dynahate_labels_train, dynahate_labels_dev, dynahate_labels_test)"
   ]
  },
  {
   "cell_type": "markdown",
   "metadata": {},
   "source": [
    "##### Concatenated normalized embeddings"
   ]
  },
  {
   "cell_type": "code",
   "execution_count": null,
   "metadata": {},
   "outputs": [],
   "source": [
    "grid_results = gridsearch.fit(scaled_prescaling_bertweet_hatebert_dynahate_train_embeddings.cpu(), dynahate_labels_train)"
   ]
  },
  {
   "cell_type": "code",
   "execution_count": null,
   "metadata": {},
   "outputs": [],
   "source": [
    "best_params = grid_results.best_params_\n",
    "mlp = grid_results.best_estimator_"
   ]
  },
  {
   "cell_type": "code",
   "execution_count": null,
   "metadata": {},
   "outputs": [],
   "source": [
    "best_params"
   ]
  },
  {
   "cell_type": "code",
   "execution_count": null,
   "metadata": {},
   "outputs": [],
   "source": [
    "mlp = mlp.fit(prescaling_bertweet_hatebert_dynahate_train_embeddings.cpu(), dynahate_labels_train)\n",
    "save_model(mlp, \"dynahate_bertweet_hatebert_with_pre_scaling.pickle\")"
   ]
  },
  {
   "cell_type": "code",
   "execution_count": null,
   "metadata": {},
   "outputs": [],
   "source": [
    "train_preds = mlp.predict(scaled_prescaling_bertweet_hatebert_dynahate_train_embeddings.cpu())\n",
    "dev_preds = mlp.predict(scaled_prescaling_bertweet_hatebert_dynahate_dev_embeddings.cpu())\n",
    "test_preds = mlp.predict(scaled_prescaling_bertweet_hatebert_dynahate_test_embeddings.cpu())"
   ]
  },
  {
   "cell_type": "code",
   "execution_count": null,
   "metadata": {},
   "outputs": [],
   "source": [
    "computeAllScores(train_preds, dev_preds, test_preds, dynahate_labels_train, dynahate_labels_dev, dynahate_labels_test)"
   ]
  },
  {
   "cell_type": "markdown",
   "metadata": {},
   "source": [
    "##### Normalized concatenated embeddings"
   ]
  },
  {
   "cell_type": "code",
   "execution_count": null,
   "metadata": {},
   "outputs": [],
   "source": [
    "grid_results = gridsearch.fit(postscaling_bertweet_hatebert_dynahate_train_embeddings.cpu(), dynahate_labels_train)"
   ]
  },
  {
   "cell_type": "code",
   "execution_count": null,
   "metadata": {},
   "outputs": [],
   "source": [
    "best_params = grid_results.best_params_\n",
    "mlp = grid_results.best_estimator_"
   ]
  },
  {
   "cell_type": "code",
   "execution_count": null,
   "metadata": {},
   "outputs": [],
   "source": [
    "best_params"
   ]
  },
  {
   "cell_type": "code",
   "execution_count": null,
   "metadata": {},
   "outputs": [],
   "source": [
    "mlp = mlp.fit(postscaling_bertweet_hatebert_dynahate_train_embeddings.cpu(), dynahate_labels_train)\n",
    "save_model(mlp, \"dynahate_bertweet_hatebert_with_post_scaling.pickle\")"
   ]
  },
  {
   "cell_type": "code",
   "execution_count": null,
   "metadata": {},
   "outputs": [],
   "source": [
    "train_preds = mlp.predict(postscaling_bertweet_hatebert_dynahate_train_embeddings.cpu())\n",
    "dev_preds = mlp.predict(postscaling_bertweet_hatebert_dynahate_dev_embeddings.cpu())\n",
    "test_preds = mlp.predict(postscaling_bertweet_hatebert_dynahate_test_embeddings.cpu())"
   ]
  },
  {
   "cell_type": "code",
   "execution_count": null,
   "metadata": {},
   "outputs": [],
   "source": [
    "computeAllScores(train_preds, dev_preds, test_preds, dynahate_labels_train, dynahate_labels_dev, dynahate_labels_test)"
   ]
  },
  {
   "cell_type": "markdown",
   "metadata": {},
   "source": [
    "#### LatentHatred"
   ]
  },
  {
   "cell_type": "code",
   "execution_count": null,
   "metadata": {},
   "outputs": [],
   "source": [
    "scaler, scaled_prescaling_bertweet_hatebert_latenthatred_train_embeddings = scaling_embeddings(prescaling_bertweet_hatebert_latenthatred_train_embeddings)\n",
    "scaled_prescaling_bertweet_hatebert_latenthatred_dev_embeddings = scaling_embeddings(prescaling_bertweet_hatebert_latenthatred_dev_embeddings, train = False, scaler = scaler)\n",
    "scaled_prescaling_bertweet_hatebert_latenthatred_test_embeddings = scaling_embeddings(prescaling_bertweet_hatebert_latenthatred_test_embeddings, train = False, scaler = scaler)"
   ]
  },
  {
   "cell_type": "markdown",
   "metadata": {},
   "source": [
    "##### Concatenated embeddings without normalization"
   ]
  },
  {
   "cell_type": "code",
   "execution_count": null,
   "metadata": {},
   "outputs": [],
   "source": [
    "grid_results = gridsearch.fit(prescaling_bertweet_hatebert_latenthatred_train_embeddings.cpu(), latenthatred_labels_train)"
   ]
  },
  {
   "cell_type": "code",
   "execution_count": null,
   "metadata": {},
   "outputs": [],
   "source": [
    "best_params = grid_results.best_params_\n",
    "mlp = grid_results.best_estimator_"
   ]
  },
  {
   "cell_type": "code",
   "execution_count": null,
   "metadata": {},
   "outputs": [],
   "source": [
    "best_params"
   ]
  },
  {
   "cell_type": "code",
   "execution_count": null,
   "metadata": {},
   "outputs": [],
   "source": [
    "mlp = mlp.fit(prescaling_bertweet_hatebert_latenthatred_train_embeddings.cpu(), latenthatred_labels_train)\n",
    "save_model(mlp, \"latenthatred_bertweet_hertbert_without_scaling.pickle\")"
   ]
  },
  {
   "cell_type": "code",
   "execution_count": null,
   "metadata": {},
   "outputs": [],
   "source": [
    "train_preds = mlp.predict(prescaling_bertweet_hatebert_latenthatred_train_embeddings.cpu())\n",
    "dev_preds = mlp.predict(prescaling_bertweet_hatebert_latenthatred_dev_embeddings.cpu())\n",
    "test_preds = mlp.predict(prescaling_bertweet_hatebert_latenthatred_test_embeddings.cpu())"
   ]
  },
  {
   "cell_type": "code",
   "execution_count": null,
   "metadata": {},
   "outputs": [],
   "source": [
    "computeAllScores(train_preds, dev_preds, test_preds, latenthatred_labels_train, latenthatred_labels_dev, latenthatred_labels_test)"
   ]
  },
  {
   "cell_type": "markdown",
   "metadata": {},
   "source": [
    "##### Concatenated normalized embeddings"
   ]
  },
  {
   "cell_type": "code",
   "execution_count": null,
   "metadata": {},
   "outputs": [],
   "source": [
    "grid_results = gridsearch.fit(scaled_prescaling_bertweet_hatebert_latenthatred_train_embeddings.cpu(), latenthatred_labels_train)"
   ]
  },
  {
   "cell_type": "code",
   "execution_count": null,
   "metadata": {},
   "outputs": [],
   "source": [
    "best_params = grid_results.best_params_\n",
    "mlp = grid_results.best_estimator_"
   ]
  },
  {
   "cell_type": "code",
   "execution_count": null,
   "metadata": {},
   "outputs": [],
   "source": [
    "best_params"
   ]
  },
  {
   "cell_type": "code",
   "execution_count": null,
   "metadata": {},
   "outputs": [],
   "source": [
    "mlp = mlp.fit(prescaling_bertweet_hatebert_latenthatred_train_embeddings.cpu(), latenthatred_labels_train)\n",
    "save_model(mlp, \"latenthatred_bertweet_hatebert_with_pre_scaling.pickle\")"
   ]
  },
  {
   "cell_type": "code",
   "execution_count": null,
   "metadata": {},
   "outputs": [],
   "source": [
    "train_preds = mlp.predict(scaled_prescaling_bertweet_hatebert_latenthatred_train_embeddings.cpu())\n",
    "dev_preds = mlp.predict(scaled_prescaling_bertweet_hatebert_latenthatred_dev_embeddings.cpu())\n",
    "test_preds = mlp.predict(scaled_prescaling_bertweet_hatebert_latenthatred_test_embeddings.cpu())"
   ]
  },
  {
   "cell_type": "code",
   "execution_count": null,
   "metadata": {},
   "outputs": [],
   "source": [
    "computeAllScores(train_preds, dev_preds, test_preds, latenthatred_labels_train, latenthatred_labels_dev, latenthatred_labels_test)"
   ]
  },
  {
   "cell_type": "markdown",
   "metadata": {},
   "source": [
    "##### Normalized concatenated embeddings"
   ]
  },
  {
   "cell_type": "code",
   "execution_count": null,
   "metadata": {},
   "outputs": [],
   "source": [
    "grid_results = gridsearch.fit(postscaling_bertweet_hatebert_latenthatred_train_embeddings.cpu(), latenthatred_labels_train)"
   ]
  },
  {
   "cell_type": "code",
   "execution_count": null,
   "metadata": {},
   "outputs": [],
   "source": [
    "best_params = grid_results.best_params_\n",
    "mlp = grid_results.best_estimator_"
   ]
  },
  {
   "cell_type": "code",
   "execution_count": null,
   "metadata": {},
   "outputs": [],
   "source": [
    "best_params"
   ]
  },
  {
   "cell_type": "code",
   "execution_count": null,
   "metadata": {},
   "outputs": [],
   "source": [
    "mlp = mlp.fit(postscaling_bertweet_hatebert_latenthatred_train_embeddings.cpu(), latenthatred_labels_train)\n",
    "save_model(mlp, \"latenthatred_bertweet_hatebert_with_post_scaling.pickle\")"
   ]
  },
  {
   "cell_type": "code",
   "execution_count": null,
   "metadata": {},
   "outputs": [],
   "source": [
    "train_preds = mlp.predict(postscaling_bertweet_hatebert_latenthatred_train_embeddings.cpu())\n",
    "dev_preds = mlp.predict(postscaling_bertweet_hatebert_latenthatred_dev_embeddings.cpu())\n",
    "test_preds = mlp.predict(postscaling_bertweet_hatebert_latenthatred_test_embeddings.cpu())"
   ]
  },
  {
   "cell_type": "code",
   "execution_count": null,
   "metadata": {},
   "outputs": [],
   "source": [
    "computeAllScores(train_preds, dev_preds, test_preds, latenthatred_labels_train, latenthatred_labels_dev, latenthatred_labels_test)"
   ]
  },
  {
   "cell_type": "markdown",
   "metadata": {},
   "source": [
    "#### OLID"
   ]
  },
  {
   "cell_type": "code",
   "execution_count": null,
   "metadata": {},
   "outputs": [],
   "source": [
    "scaler, scaled_prescaling_bertweet_hatebert_olid_train_embeddings = scaling_embeddings(prescaling_bertweet_hatebert_olid_train_embeddings)\n",
    "scaled_prescaling_bertweet_hatebert_olid_dev_embeddings = scaling_embeddings(prescaling_bertweet_hatebert_olid_dev_embeddings, train = False, scaler = scaler)\n",
    "scaled_prescaling_bertweet_hatebert_olid_test_embeddings = scaling_embeddings(prescaling_bertweet_hatebert_olid_test_embeddings, train = False, scaler = scaler)"
   ]
  },
  {
   "cell_type": "markdown",
   "metadata": {},
   "source": [
    "##### Concatenated embeddings without normalization"
   ]
  },
  {
   "cell_type": "code",
   "execution_count": null,
   "metadata": {},
   "outputs": [],
   "source": [
    "grid_results = gridsearch.fit(prescaling_bertweet_hatebert_olid_train_embeddings.cpu(), olid_labels_train)"
   ]
  },
  {
   "cell_type": "code",
   "execution_count": null,
   "metadata": {},
   "outputs": [],
   "source": [
    "best_params = grid_results.best_params_\n",
    "mlp = grid_results.best_estimator_"
   ]
  },
  {
   "cell_type": "code",
   "execution_count": null,
   "metadata": {},
   "outputs": [],
   "source": [
    "best_params"
   ]
  },
  {
   "cell_type": "code",
   "execution_count": null,
   "metadata": {},
   "outputs": [],
   "source": [
    "mlp = mlp.fit(prescaling_bertweet_hatebert_olid_train_embeddings.cpu(), olid_labels_train)\n",
    "save_model(mlp, \"olid_bertweet_hatebert_without_scaling.pickle\")"
   ]
  },
  {
   "cell_type": "code",
   "execution_count": null,
   "metadata": {},
   "outputs": [],
   "source": [
    "train_preds = mlp.predict(prescaling_bertweet_hatebert_olid_train_embeddings.cpu())\n",
    "dev_preds = mlp.predict(prescaling_bertweet_hatebert_olid_dev_embeddings.cpu())\n",
    "test_preds = mlp.predict(prescaling_bertweet_hatebert_olid_test_embeddings.cpu())"
   ]
  },
  {
   "cell_type": "code",
   "execution_count": null,
   "metadata": {},
   "outputs": [],
   "source": [
    "computeAllScores(train_preds, dev_preds, test_preds, olid_labels_train, olid_labels_dev, olid_labels_test)"
   ]
  },
  {
   "cell_type": "markdown",
   "metadata": {},
   "source": [
    "##### Concatenated normalized embeddings"
   ]
  },
  {
   "cell_type": "code",
   "execution_count": null,
   "metadata": {},
   "outputs": [],
   "source": [
    "grid_results = gridsearch.fit(scaled_prescaling_bertweet_hatebert_olid_train_embeddings.cpu(), olid_labels_train)"
   ]
  },
  {
   "cell_type": "code",
   "execution_count": null,
   "metadata": {},
   "outputs": [],
   "source": [
    "best_params = grid_results.best_params_\n",
    "mlp = grid_results.best_estimator_"
   ]
  },
  {
   "cell_type": "code",
   "execution_count": null,
   "metadata": {},
   "outputs": [],
   "source": [
    "best_params"
   ]
  },
  {
   "cell_type": "code",
   "execution_count": null,
   "metadata": {},
   "outputs": [],
   "source": [
    "mlp = mlp.fit(prescaling_bertweet_hatebert_olid_train_embeddings.cpu(), olid_labels_train)\n",
    "save_model(mlp, \"latenthatred_bertweet_hatebert_with_pre_scaling.pickle\")"
   ]
  },
  {
   "cell_type": "code",
   "execution_count": null,
   "metadata": {},
   "outputs": [],
   "source": [
    "train_preds = mlp.predict(scaled_prescaling_bertweet_hatebert_olid_train_embeddings.cpu())\n",
    "dev_preds = mlp.predict(scaled_prescaling_bertweet_hatebert_olid_dev_embeddings.cpu())\n",
    "test_preds = mlp.predict(scaled_prescaling_bertweet_hatebert_olid_test_embeddings.cpu())"
   ]
  },
  {
   "cell_type": "code",
   "execution_count": null,
   "metadata": {},
   "outputs": [],
   "source": [
    "computeAllScores(train_preds, dev_preds, test_preds, olid_labels_train, olid_labels_dev, olid_labels_test)"
   ]
  },
  {
   "cell_type": "markdown",
   "metadata": {},
   "source": [
    "##### Normalized concatenated embeddings"
   ]
  },
  {
   "cell_type": "code",
   "execution_count": null,
   "metadata": {},
   "outputs": [],
   "source": [
    "grid_results = gridsearch.fit(postscaling_bertweet_hatebert_olid_train_embeddings.cpu(), olid_labels_train)"
>>>>>>> ab8b5785fb4e277dabcfbb15e75613ec856f49ef
   ]
  },
  {
   "cell_type": "code",
   "execution_count": null,
   "metadata": {},
   "outputs": [],
   "source": [
    "bert_bertweet_hatebert_concat_olid_train_dev = np.concatenate((bert_hatebert_bertweet_concat_olid_train, bert_hatebert_bertweet_concat_olid_dev))\n",
    "bert_bertweet_hatebert_concat_olid_labels_train_dev = np.concatenate((olid_labels_train, olid_labels_dev))\n",
    "\n",
    "grid_results = gridsearch.fit(bert_bertweet_hatebert_concat_olid_train_dev, bert_bertweet_hatebert_concat_olid_labels_train_dev)\n",
    "\n",
    "best_params = grid_results.best_params_\n",
    "mlp = grid_results.best_estimator_\n",
    "\n",
    "print(\"Best params: \", best_params)\n",
    "\n",
    "train_dev_preds = mlp.predict(bert_bertweet_hatebert_concat_olid_train_dev)\n",
    "test_preds = mlp.predict(bert_hatebert_bertweet_concat_olid_test)\n",
    "\n",
    "computeAllScores(train_dev_preds, test_preds, olid_labels_train, olid_labels_dev, olid_labels_test)\n",
    "\n",
    "save_model(mlp, \"Saves/bert_bertweet_hatebert_concat_olid\")\n",
    "\n"
   ]
  }
 ],
 "metadata": {
  "kernelspec": {
   "display_name": "Python 3",
   "language": "python",
   "name": "python3"
  },
  "language_info": {
   "codemirror_mode": {
    "name": "ipython",
    "version": 3
   },
   "file_extension": ".py",
   "mimetype": "text/x-python",
   "name": "python",
   "nbconvert_exporter": "python",
   "pygments_lexer": "ipython3",
   "version": "3.9.13"
  },
  "orig_nbformat": 4,
  "vscode": {
   "interpreter": {
    "hash": "a5a87ee616be0254e3f1af9223138e3faeac65b2c9d91bc22a9fc5a4a8bd8eb0"
   }
  }
 },
 "nbformat": 4,
 "nbformat_minor": 2
}
